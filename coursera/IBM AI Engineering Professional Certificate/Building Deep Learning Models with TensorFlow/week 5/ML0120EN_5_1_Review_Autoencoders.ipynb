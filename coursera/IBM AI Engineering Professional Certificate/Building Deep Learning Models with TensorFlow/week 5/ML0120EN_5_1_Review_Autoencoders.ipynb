{
  "nbformat": 4,
  "nbformat_minor": 0,
  "metadata": {
    "kernelspec": {
      "display_name": "Python",
      "language": "python",
      "name": "conda-env-python-py"
    },
    "language_info": {
      "codemirror_mode": {
        "name": "ipython",
        "version": 3
      },
      "file_extension": ".py",
      "mimetype": "text/x-python",
      "name": "python",
      "nbconvert_exporter": "python",
      "pygments_lexer": "ipython3",
      "version": "3.6.7"
    },
    "colab": {
      "name": "ML0120EN-5.1-Review-Autoencoders.ipynb",
      "provenance": []
    }
  },
  "cells": [
    {
      "cell_type": "markdown",
      "metadata": {
        "id": "cXmV6uswX2nV",
        "colab_type": "text"
      },
      "source": [
        "<a href=\"https://www.bigdatauniversity.com\"><img src=\"https://ibm.box.com/shared/static/qo20b88v1hbjztubt06609ovs85q8fau.png\" width=\"400px\" align=\"center\"></a>\n",
        "\n",
        "<h1 align=\"center\"><font size=\"5\">AUTOENCODERS</font></h1>"
      ]
    },
    {
      "cell_type": "markdown",
      "metadata": {
        "id": "eq0Bdh9BX2nX",
        "colab_type": "text"
      },
      "source": [
        "<div class=\"alert alert-block alert-info\" style=\"margin-top: 20px\">\n",
        "Welcome to this notebook about autoencoders.\n",
        "<font size=\"3\"><strong>In this notebook you will find an explanation of what is an autoencoder, how it works, and see an implementation of an autoencoder in TensorFlow.</strong></font>\n",
        "<br>\n",
        "<br>\n",
        "<h2>Table of Contents</h2>\n",
        "<ol>\n",
        " <li><a href=\"#ref1\">Introduction</a></li>\n",
        " <li><a href=\"#ref2\">Feature Extraction and Dimensionality Reduction</a></li>\n",
        " <li><a href=\"#ref3\">Autoencoder Structure</a></li>\n",
        " <li><a href=\"#ref4\">Performance</a></li>\n",
        " <li><a href=\"#ref5\">Training: Loss Function</a></li>\n",
        " <li><a href=\"#ref6\">Code</a></li>\n",
        "</ol>\n",
        "</div>\n",
        "<br>\n",
        "By the end of this notebook, you should be able to create simple autoencoders and how to apply them to problems that involves unsupervised learning.\n",
        "<br>\n",
        "<p></p>\n",
        "<hr>"
      ]
    },
    {
      "cell_type": "markdown",
      "metadata": {
        "id": "7EukufiDX2nY",
        "colab_type": "text"
      },
      "source": [
        "<a id=\"ref1\"></a>\n",
        "<h2>Introduction</h2>\n",
        "An autoencoder, also known as autoassociator or Diabolo networks, is an artificial neural network employed to recreate the given input.\n",
        "It takes a set of <b>unlabeled</b> inputs, encodes them and then tries to extract the most valuable information from them.\n",
        "They are used for feature extraction, learning generative models of data, dimensionality reduction and can be used for compression. \n",
        "\n",
        "A 2006 paper named <b><a href=\"https://www.cs.toronto.edu/~hinton/science.pdf\">Reducing the Dimensionality of Data with Neural Networks</a>, done by G. E. Hinton and R. R. Salakhutdinov</b>, showed better results than years of refining other types of network, and was a breakthrough in the field of Neural Networks, a field that was \"stagnant\" for 10 years.\n",
        "\n",
        "Now, autoencoders, based on Restricted Boltzmann Machines, are employed in some of the largest deep learning applications. They are the building blocks of Deep Belief Networks (DBN).\n",
        "\n",
        "<center><img src=\"https://ibm.box.com/shared/static/xlkv9v7xzxhjww681dq3h1pydxcm4ktp.png\" style=\"width: 350px;\"></center>"
      ]
    },
    {
      "cell_type": "markdown",
      "metadata": {
        "id": "4Cvewu7lX2nZ",
        "colab_type": "text"
      },
      "source": [
        "<hr>"
      ]
    },
    {
      "cell_type": "markdown",
      "metadata": {
        "id": "OVMZTnOUX2na",
        "colab_type": "text"
      },
      "source": [
        "<a id=\"ref2\"></a>\n",
        "<h2>Feature Extraction and Dimensionality Reduction</h2>\n",
        "\n",
        "An example given by Nikhil Buduma in KdNuggets (<a href=\"http://www.kdnuggets.com/2015/03/deep-learning-curse-dimensionality-autoencoders.html\">link</a>) which gave an excellent explanation of the utility of this type of Neural Network.\n",
        "\n",
        "Say that you want to extract what emotion the person in a photography is feeling. Using the following 256x256 pixel grayscale picture as an example:\n",
        "\n",
        "<img src=\"https://ibm.box.com/shared/static/r5knpow4bk2farlvxia71e9jp2f2u126.png\">\n",
        "\n",
        "But when use this picture we start running into a bottleneck! Because this image being 256x256 pixels in size correspond with an input vector of 65536 dimensions! If we used an image produced with conventional cellphone cameras, that generates images of 4000 x 3000 pixels, we would have 12 million dimensions to analyze.\n",
        "\n",
        "\n",
        "This bottleneck is further problematized as the difficulty of a machine learning problem is increased as more dimensions are involved. According to a 1982 study by C.J. Stone (<a href=\"http://www-personal.umich.edu/~jizhu/jizhu/wuke/Stone-AoS82.pdf\">link</a>), the time to fit a model, is optimal if:\n",
        "\n",
        "<br><br>\n",
        "<div class=\"alert alert-block alert-info\" style=\"margin-top: 20px\">\n",
        "<h3><strong>$$m^{-p/(2p+d)}$$</strong></h3>\n",
        "<br>\n",
        "Where:\n",
        "<br>\n",
        "m: Number of data points\n",
        "<br>\n",
        "d: Dimensionality of the data\n",
        "<br>\n",
        "p: Parameter that depends on the model\n",
        "</div>\n",
        "\n",
        "As you can see, it increases exponentially!\n",
        "Returning to our example, we don't need to use all of the 65,536 dimensions to classify an emotion. A human identify emotions according to some specific facial expression, some <b>key features</b>, like the shape of the mouth and eyebrows.\n",
        "\n",
        "<center><img src=\"https://ibm.box.com/shared/static/m8urvuqujkt2vt1ru1fnslzh24pv7hn4.png\" height=\"256\" width=\"256\"></center>"
      ]
    },
    {
      "cell_type": "markdown",
      "metadata": {
        "id": "jvJxXImqX2na",
        "colab_type": "text"
      },
      "source": [
        "<hr>"
      ]
    },
    {
      "cell_type": "markdown",
      "metadata": {
        "id": "_Izdz1fPX2nb",
        "colab_type": "text"
      },
      "source": [
        "<a id=\"ref3\"></a>\n",
        "<h2>Autoencoder Structure</h2>\n",
        "\n",
        "<img src=\"https://ibm.box.com/shared/static/no7omt2jhqvv7uuls7ihnzikyl9ysnfp.png\" style=\"width: 400px;\">\n",
        "\n",
        "An autoencoder can be divided in two parts, the <b>encoder</b> and the <b>decoder</b>.\n",
        "\n",
        "The encoder needs to compress the representation of an input. In this case we are going to reduce the dimension the face of our actor, from 2000 dimensions to only 30 dimensions, by running the data through layers of our encoder.\n",
        "\n",
        "The decoder works like encoder network in reverse. It works to recreate the input, as closely as possible. This plays an important role during training, because it forces the autoencoder to select the most important features in the compressed representation.\n"
      ]
    },
    {
      "cell_type": "markdown",
      "metadata": {
        "id": "UimWSKsVX2nd",
        "colab_type": "text"
      },
      "source": [
        "<hr>"
      ]
    },
    {
      "cell_type": "markdown",
      "metadata": {
        "id": "MT0HTuw1X2nd",
        "colab_type": "text"
      },
      "source": [
        "<a id=\"ref4\"></a>\n",
        "<h2>Performance</h2>\n",
        "\n",
        "After the training has been done, you can use the encoded data as a reliable dimensionally-reduced data, applying it to any problems where dimensionality reduction seems appropriate.\n",
        "\n",
        "<img src=\"https://ibm.box.com/shared/static/yt3xyon4g2jyw1w9qup1mvx7cgh28l64.png\">\n",
        "\n",
        "This image was extracted from the G. E. Hinton and R. R. Salakhutdinovcomparing's <a href=\"https://www.cs.toronto.edu/~hinton/science.pdf\">paper</a>, on the two-dimensional reduction for 500 digits of the MNIST, with PCA on the left and autoencoder on the right. We can see that the autoencoder provided us with a better separation of data."
      ]
    },
    {
      "cell_type": "markdown",
      "metadata": {
        "id": "4lRXG757X2ne",
        "colab_type": "text"
      },
      "source": [
        "<hr>"
      ]
    },
    {
      "cell_type": "markdown",
      "metadata": {
        "id": "YeZWOrMtX2ne",
        "colab_type": "text"
      },
      "source": [
        "<a id=\"ref5\"></a>\n",
        "<h2>Training: Loss function</h2>\n",
        "\n",
        "An autoencoder uses the Loss function to properly train the network. The Loss function will calculate the differences between our output and the expected results. After that, we can minimize this error with gradient descent. There are more than one type of Loss function, it depends on the type of data."
      ]
    },
    {
      "cell_type": "markdown",
      "metadata": {
        "id": "7BwOiF8tX2nf",
        "colab_type": "text"
      },
      "source": [
        "<h3>Binary Values:</h3>\n",
        "$$l(f(x)) = - \\sum_{k} (x_k log(\\hat{x}_k) + (1 - x_k) \\log (1 - \\hat{x}_k) \\ )$$"
      ]
    },
    {
      "cell_type": "markdown",
      "metadata": {
        "id": "hMI01tqUX2ng",
        "colab_type": "text"
      },
      "source": [
        "For binary values, we can use an equation based on the sum of Bernoulli's cross-entropy. \n",
        "\n",
        "$x_k$ is one of our inputs and $\\hat{x}_k$ is the respective output.\n",
        "\n",
        "We use this function so that if $x_k$ equals to one, we want to push $\\hat{x}_k$ as close as possible to one. The same if $x_k$ equals to zero.\n",
        "\n",
        "If the value is one, we just need to calculate the first part of the formula, that is, $- x_k log(\\hat{x}_k)$. Which, turns out to just calculate $- log(\\hat{x}_k)$.\n",
        "\n",
        "And if the value is zero, we need to calculate just the second part, $(1 - x_k) \\log (1 - \\hat{x}_k) \\ )$ - which turns out to be $log (1 - \\hat{x}_k) $.\n",
        "\n"
      ]
    },
    {
      "cell_type": "markdown",
      "metadata": {
        "id": "tofFcd-0X2ng",
        "colab_type": "text"
      },
      "source": [
        "<h3>Real values:</h3>\n",
        "$$l(f(x)) = - \\frac{1}{2}\\sum_{k} (\\hat{x}_k- x_k \\ )^2$$"
      ]
    },
    {
      "cell_type": "markdown",
      "metadata": {
        "id": "2Ma3Ur-lX2nh",
        "colab_type": "text"
      },
      "source": [
        "As the above function would behave badly with inputs that are not 0 or 1, we can use the sum of squared differences for our Loss function. If you use this loss function, it's necessary that you use a linear activation function for the output layer.\n",
        "\n",
        "As it was with the above example, $x_k$ is one of our inputs and $\\hat{x}_k$ is the respective output, and we want to make our output as similar as possible to our input."
      ]
    },
    {
      "cell_type": "markdown",
      "metadata": {
        "id": "rIj8okZ2X2nk",
        "colab_type": "text"
      },
      "source": [
        "<h3>Loss Gradient:</h3>\n",
        "\n",
        "$$\\nabla_{\\hat{a}(x^{(t)})} \\ l( \\ f(x^{(t)}))  = \\hat{x}^{(t)} - x^{(t)} $$"
      ]
    },
    {
      "cell_type": "markdown",
      "metadata": {
        "id": "lzMUf-HVX2nm",
        "colab_type": "text"
      },
      "source": [
        "We use the gradient descent to reach the local minimum of our function $l( \\ f(x^{(t)})$, taking steps towards the negative of the gradient of the function in the current point.\n",
        "\n",
        "Our function about the gradient $(\\nabla_{\\hat{a}(x^{(t)})})$ of the loss of $l( \\ f(x^{(t)})$ in the preactivation of the output layer.\n",
        "\n",
        "It's actually a simple formula, it is done by calculating the difference between our output $\\hat{x}^{(t)}$ and our input $x^{(t)}$.\n",
        "\n",
        "Then our network backpropagates our gradient $\\nabla_{\\hat{a}(x^{(t)})} \\ l( \\ f(x^{(t)}))$ through the network using <b>backpropagation</b>."
      ]
    },
    {
      "cell_type": "markdown",
      "metadata": {
        "id": "DjVBL3C5X2nm",
        "colab_type": "text"
      },
      "source": [
        "<hr>"
      ]
    },
    {
      "cell_type": "markdown",
      "metadata": {
        "id": "sCIVBChXX2nn",
        "colab_type": "text"
      },
      "source": [
        "<a id=\"ref6\"></a>\n",
        "<h2>Code</h2>\n",
        "\n",
        "For this part, we walk through a lot of Python 2.7.11 code. We are going to use the MNIST dataset for our example.\n",
        "The following code was created by Aymeric Damien. You can find some of his code in <a href=\"https://github.com/aymericdamien\">here</a>. We made some modifications for us to import the datasets to Jupyter Notebooks."
      ]
    },
    {
      "cell_type": "markdown",
      "metadata": {
        "id": "QYThpEFkX2no",
        "colab_type": "text"
      },
      "source": [
        "Let's call our imports and make the MNIST data available to use."
      ]
    },
    {
      "cell_type": "code",
      "metadata": {
        "id": "7Wi-7IFAX2no",
        "colab_type": "code",
        "colab": {},
        "outputId": "0b56b9cd-6733-40d6-9290-22b95698142a"
      },
      "source": [
        "#from __future__ import division, print_function, absolute_import\n",
        "\n",
        "import tensorflow as tf\n",
        "import numpy as np\n",
        "import matplotlib.pyplot as plt\n",
        "%matplotlib inline\n",
        "\n",
        "# Import MINST data\n",
        "from tensorflow.examples.tutorials.mnist import input_data\n",
        "mnist = input_data.read_data_sets(\"/tmp/data/\", one_hot=True)"
      ],
      "execution_count": 0,
      "outputs": [
        {
          "output_type": "stream",
          "text": [
            "WARNING:tensorflow:From <ipython-input-1-aeda475fcce4>:10: read_data_sets (from tensorflow.contrib.learn.python.learn.datasets.mnist) is deprecated and will be removed in a future version.\n",
            "Instructions for updating:\n",
            "Please use alternatives such as official/mnist/dataset.py from tensorflow/models.\n",
            "WARNING:tensorflow:From /home/jupyterlab/conda/envs/python/lib/python3.6/site-packages/tensorflow/contrib/learn/python/learn/datasets/mnist.py:260: maybe_download (from tensorflow.contrib.learn.python.learn.datasets.base) is deprecated and will be removed in a future version.\n",
            "Instructions for updating:\n",
            "Please write your own downloading logic.\n",
            "WARNING:tensorflow:From /home/jupyterlab/conda/envs/python/lib/python3.6/site-packages/tensorflow/contrib/learn/python/learn/datasets/base.py:252: _internal_retry.<locals>.wrap.<locals>.wrapped_fn (from tensorflow.contrib.learn.python.learn.datasets.base) is deprecated and will be removed in a future version.\n",
            "Instructions for updating:\n",
            "Please use urllib or similar directly.\n",
            "Successfully downloaded train-images-idx3-ubyte.gz 9912422 bytes.\n",
            "WARNING:tensorflow:From /home/jupyterlab/conda/envs/python/lib/python3.6/site-packages/tensorflow/contrib/learn/python/learn/datasets/mnist.py:262: extract_images (from tensorflow.contrib.learn.python.learn.datasets.mnist) is deprecated and will be removed in a future version.\n",
            "Instructions for updating:\n",
            "Please use tf.data to implement this functionality.\n",
            "Extracting /tmp/data/train-images-idx3-ubyte.gz\n",
            "Successfully downloaded train-labels-idx1-ubyte.gz 28881 bytes.\n",
            "WARNING:tensorflow:From /home/jupyterlab/conda/envs/python/lib/python3.6/site-packages/tensorflow/contrib/learn/python/learn/datasets/mnist.py:267: extract_labels (from tensorflow.contrib.learn.python.learn.datasets.mnist) is deprecated and will be removed in a future version.\n",
            "Instructions for updating:\n",
            "Please use tf.data to implement this functionality.\n",
            "Extracting /tmp/data/train-labels-idx1-ubyte.gz\n",
            "WARNING:tensorflow:From /home/jupyterlab/conda/envs/python/lib/python3.6/site-packages/tensorflow/contrib/learn/python/learn/datasets/mnist.py:110: dense_to_one_hot (from tensorflow.contrib.learn.python.learn.datasets.mnist) is deprecated and will be removed in a future version.\n",
            "Instructions for updating:\n",
            "Please use tf.one_hot on tensors.\n",
            "Successfully downloaded t10k-images-idx3-ubyte.gz 1648877 bytes.\n",
            "Extracting /tmp/data/t10k-images-idx3-ubyte.gz\n",
            "Successfully downloaded t10k-labels-idx1-ubyte.gz 4542 bytes.\n",
            "Extracting /tmp/data/t10k-labels-idx1-ubyte.gz\n",
            "WARNING:tensorflow:From /home/jupyterlab/conda/envs/python/lib/python3.6/site-packages/tensorflow/contrib/learn/python/learn/datasets/mnist.py:290: DataSet.__init__ (from tensorflow.contrib.learn.python.learn.datasets.mnist) is deprecated and will be removed in a future version.\n",
            "Instructions for updating:\n",
            "Please use alternatives such as official/mnist/dataset.py from tensorflow/models.\n"
          ],
          "name": "stdout"
        }
      ]
    },
    {
      "cell_type": "markdown",
      "metadata": {
        "id": "E2NEnzcLX2nw",
        "colab_type": "text"
      },
      "source": [
        "Now, let's give the parameters that are going to be used by our NN."
      ]
    },
    {
      "cell_type": "code",
      "metadata": {
        "id": "x-WDErCzX2ny",
        "colab_type": "code",
        "colab": {}
      },
      "source": [
        "learning_rate = 0.01\n",
        "training_epochs = 20\n",
        "batch_size = 256\n",
        "display_step = 1\n",
        "examples_to_show = 10\n",
        "\n",
        "# Network Parameters\n",
        "n_hidden_1 = 256 # 1st layer num features\n",
        "n_hidden_2 = 128 # 2nd layer num features\n",
        "n_input = 784 # MNIST data input (img shape: 28*28)\n",
        "\n",
        "# tf Graph input (only pictures)\n",
        "X = tf.placeholder(\"float\", [None, n_input])\n",
        "\n",
        "weights = {\n",
        "    'encoder_h1': tf.Variable(tf.random_normal([n_input, n_hidden_1])),\n",
        "    'encoder_h2': tf.Variable(tf.random_normal([n_hidden_1, n_hidden_2])),\n",
        "    'decoder_h1': tf.Variable(tf.random_normal([n_hidden_2, n_hidden_1])),\n",
        "    'decoder_h2': tf.Variable(tf.random_normal([n_hidden_1, n_input])),\n",
        "}\n",
        "biases = {\n",
        "    'encoder_b1': tf.Variable(tf.random_normal([n_hidden_1])),\n",
        "    'encoder_b2': tf.Variable(tf.random_normal([n_hidden_2])),\n",
        "    'decoder_b1': tf.Variable(tf.random_normal([n_hidden_1])),\n",
        "    'decoder_b2': tf.Variable(tf.random_normal([n_input])),\n",
        "}"
      ],
      "execution_count": 0,
      "outputs": []
    },
    {
      "cell_type": "markdown",
      "metadata": {
        "id": "z82uPo8MX2n5",
        "colab_type": "text"
      },
      "source": [
        "Now we need to create our encoder. For this, we are going to use sigmoidal functions. Sigmoidal functions delivers great results with this type of network. This is due to having a good derivative that is well-suited to backpropagation. We can create our encoder using the sigmoidal function like this:"
      ]
    },
    {
      "cell_type": "code",
      "metadata": {
        "id": "5c1oP2Q3X2n6",
        "colab_type": "code",
        "colab": {}
      },
      "source": [
        "# Building the encoder\n",
        "def encoder(x):\n",
        "    # Encoder first layer with sigmoid activation #1\n",
        "    layer_1 = tf.nn.sigmoid(tf.add(tf.matmul(x, weights['encoder_h1']), biases['encoder_b1']))\n",
        "    # Encoder second layer with sigmoid activation #2\n",
        "    layer_2 = tf.nn.sigmoid(tf.add(tf.matmul(layer_1, weights['encoder_h2']), biases['encoder_b2']))\n",
        "    return layer_2"
      ],
      "execution_count": 0,
      "outputs": []
    },
    {
      "cell_type": "markdown",
      "metadata": {
        "id": "uXwBOuobX2n-",
        "colab_type": "text"
      },
      "source": [
        "And the decoder:\n",
        "\n",
        "You can see that the layer_1 in the encoder is the layer_2 in the decoder and vice-versa."
      ]
    },
    {
      "cell_type": "code",
      "metadata": {
        "id": "Hzch9Z9LX2n-",
        "colab_type": "code",
        "colab": {}
      },
      "source": [
        "# Building the decoder\n",
        "def decoder(x):\n",
        "    # Decoder first layer with sigmoid activation #1\n",
        "    layer_1 = tf.nn.sigmoid(tf.add(tf.matmul(x, weights['decoder_h1']),biases['decoder_b1']))\n",
        "    # Decoder second layer with sigmoid activation #2\n",
        "    layer_2 = tf.nn.sigmoid(tf.add(tf.matmul(layer_1, weights['decoder_h2']), biases['decoder_b2']))\n",
        "    return layer_2"
      ],
      "execution_count": 0,
      "outputs": []
    },
    {
      "cell_type": "markdown",
      "metadata": {
        "id": "T4JMswfdX2oC",
        "colab_type": "text"
      },
      "source": [
        "Let's construct our model.\n",
        "In the variable <code>cost</code> we have the loss function and in the <code>optimizer</code> variable we have our gradient used for backpropagation."
      ]
    },
    {
      "cell_type": "code",
      "metadata": {
        "id": "iTTvQr-WX2oD",
        "colab_type": "code",
        "colab": {}
      },
      "source": [
        "# Construct model\n",
        "encoder_op = encoder(X)\n",
        "decoder_op = decoder(encoder_op)\n",
        "\n",
        "# Reconstructed Images\n",
        "y_pred = decoder_op\n",
        "# Targets (Labels) are the input data.\n",
        "y_true = X\n",
        "\n",
        "# Define loss and optimizer, minimize the squared error\n",
        "cost = tf.reduce_mean(tf.pow(y_true - y_pred, 2))\n",
        "optimizer = tf.train.RMSPropOptimizer(learning_rate).minimize(cost)\n",
        "\n",
        "# Initializing the variables\n",
        "init = tf.global_variables_initializer()"
      ],
      "execution_count": 0,
      "outputs": []
    },
    {
      "cell_type": "markdown",
      "metadata": {
        "id": "2y73uvQbX2oL",
        "colab_type": "text"
      },
      "source": [
        "For training we will run for 20 epochs."
      ]
    },
    {
      "cell_type": "code",
      "metadata": {
        "id": "V5ESSvqdX2oM",
        "colab_type": "code",
        "colab": {},
        "outputId": "4c88e2df-6699-4460-99ec-52289ad89777"
      },
      "source": [
        "# Launch the graph\n",
        "# Using InteractiveSession (more convenient while using Notebooks)\n",
        "sess = tf.InteractiveSession()\n",
        "sess.run(init)\n",
        "\n",
        "total_batch = int(mnist.train.num_examples / batch_size)\n",
        "# Training cycle\n",
        "for epoch in range(training_epochs):\n",
        "    # Loop over all batches\n",
        "    for i in range(total_batch):\n",
        "        batch_xs, batch_ys = mnist.train.next_batch(batch_size)\n",
        "        # Run optimization op (backprop) and cost op (to get loss value)\n",
        "        _, c = sess.run([optimizer, cost], feed_dict={X: batch_xs})\n",
        "    # Display logs per epoch step\n",
        "    if epoch % display_step == 0:\n",
        "        print(\"Epoch:\", '%04d' % (epoch+1),\n",
        "              \"cost=\", \"{:.9f}\".format(c))\n",
        "\n",
        "print(\"Optimization Finished!\")"
      ],
      "execution_count": 0,
      "outputs": [
        {
          "output_type": "stream",
          "text": [
            "Epoch: 0001 cost= 0.185191408\n",
            "Epoch: 0002 cost= 0.154153392\n",
            "Epoch: 0003 cost= 0.140178740\n",
            "Epoch: 0004 cost= 0.130817935\n",
            "Epoch: 0005 cost= 0.122703224\n",
            "Epoch: 0006 cost= 0.115355432\n",
            "Epoch: 0007 cost= 0.107457861\n",
            "Epoch: 0008 cost= 0.104232289\n",
            "Epoch: 0009 cost= 0.102399185\n",
            "Epoch: 0010 cost= 0.100463964\n",
            "Epoch: 0011 cost= 0.101170056\n",
            "Epoch: 0012 cost= 0.097952232\n",
            "Epoch: 0013 cost= 0.097911254\n",
            "Epoch: 0014 cost= 0.097734936\n",
            "Epoch: 0015 cost= 0.096549563\n",
            "Epoch: 0016 cost= 0.092314407\n",
            "Epoch: 0017 cost= 0.093430676\n",
            "Epoch: 0018 cost= 0.092730775\n",
            "Epoch: 0019 cost= 0.091348290\n",
            "Epoch: 0020 cost= 0.087179624\n",
            "Optimization Finished!\n"
          ],
          "name": "stdout"
        }
      ]
    },
    {
      "cell_type": "markdown",
      "metadata": {
        "id": "fBRuoLVTX2oY",
        "colab_type": "text"
      },
      "source": [
        "Now, let's apply encoder and decoder for our tests."
      ]
    },
    {
      "cell_type": "code",
      "metadata": {
        "id": "LqJTsthNX2oZ",
        "colab_type": "code",
        "colab": {}
      },
      "source": [
        "# Applying encode and decode over test set\n",
        "encode_decode = sess.run(\n",
        "    y_pred, feed_dict={X: mnist.test.images[:examples_to_show]})"
      ],
      "execution_count": 0,
      "outputs": []
    },
    {
      "cell_type": "markdown",
      "metadata": {
        "id": "cIBRjdOtX2og",
        "colab_type": "text"
      },
      "source": [
        "Let's simply visualize our graphs!"
      ]
    },
    {
      "cell_type": "code",
      "metadata": {
        "id": "2qCiKMYlX2oh",
        "colab_type": "code",
        "colab": {},
        "outputId": "50d1945f-164f-49b7-c90d-8564e6026061"
      },
      "source": [
        "# Compare original images with their reconstructions\n",
        "f, a = plt.subplots(2, 10, figsize=(10, 2))\n",
        "for i in range(examples_to_show):\n",
        "    a[0][i].imshow(np.reshape(mnist.test.images[i], (28, 28)))\n",
        "    a[1][i].imshow(np.reshape(encode_decode[i], (28, 28)))"
      ],
      "execution_count": 0,
      "outputs": [
        {
          "output_type": "display_data",
          "data": {
            "image/png": "[encoded data removed]",
            "text/plain": [
              "<Figure size 720x144 with 20 Axes>"
            ]
          },
          "metadata": {
            "tags": [],
            "needs_background": "light"
          }
        }
      ]
    },
    {
      "cell_type": "markdown",
      "metadata": {
        "id": "K6W3-b4xX2ok",
        "colab_type": "text"
      },
      "source": [
        "As you can see, the reconstructions were successful. It can be seen that some noise were added to the image."
      ]
    },
    {
      "cell_type": "markdown",
      "metadata": {
        "id": "mrtNyWatX2ok",
        "colab_type": "text"
      },
      "source": [
        "<hr>"
      ]
    },
    {
      "cell_type": "markdown",
      "metadata": {
        "id": "Ebl5zIiGX2ol",
        "colab_type": "text"
      },
      "source": [
        "## Want to learn more?\n",
        "\n",
        "Running deep learning programs usually needs a high performance platform. __PowerAI__ speeds up deep learning and AI. Built on IBM’s Power Systems, __PowerAI__ is a scalable software platform that accelerates deep learning and AI with blazing performance for individual users or enterprises. The __PowerAI__ platform supports popular machine learning libraries and dependencies including TensorFlow, Caffe, Torch, and Theano. You can use [PowerAI on IMB Cloud](https://cocl.us/ML0120EN_PAI).\n",
        "\n",
        "Also, you can use __Watson Studio__ to run these notebooks faster with bigger datasets.__Watson Studio__ is IBM’s leading cloud solution for data scientists, built by data scientists. With Jupyter notebooks, RStudio, Apache Spark and popular libraries pre-packaged in the cloud, __Watson Studio__ enables data scientists to collaborate on their projects without having to install anything. Join the fast-growing community of __Watson Studio__ users today with a free account at [Watson Studio](https://cocl.us/ML0120EN_DSX).This is the end of this lesson. Thank you for reading this notebook, and good luck on your studies."
      ]
    },
    {
      "cell_type": "markdown",
      "metadata": {
        "id": "AsgJqn53X2oo",
        "colab_type": "text"
      },
      "source": [
        "### Thanks for completing this lesson!"
      ]
    },
    {
      "cell_type": "markdown",
      "metadata": {
        "id": "ubeRAGVdX2oq",
        "colab_type": "text"
      },
      "source": [
        "Created by <a href=\"https://www.linkedin.com/in/franciscomagioli\">Francisco Magioli</a>, <a href=\"https://ca.linkedin.com/in/erich-natsubori-sato\">Erich Natsubori Sato</a>, <a href=\"https://ca.linkedin.com/in/saeedaghabozorgi\">Saeed Aghabozorgi</a>"
      ]
    },
    {
      "cell_type": "markdown",
      "metadata": {
        "id": "iv_On_t5X2or",
        "colab_type": "text"
      },
      "source": [
        "### References:\n",
        "- https://en.wikipedia.org/wiki/Autoencoder\n",
        "- http://ufldl.stanford.edu/tutorial/unsupervised/Autoencoders/\n",
        "- http://www.slideshare.net/billlangjun/simple-introduction-to-autoencoder\n",
        "- http://www.slideshare.net/danieljohnlewis/piotr-mirowski-review-autoencoders-deep-learning-ciuuk14\n",
        "- https://cs.stanford.edu/~quocle/tutorial2.pdf\n",
        "- https://gist.github.com/hussius/1534135a419bb0b957b9\n",
        "- http://www.deeplearningbook.org/contents/autoencoders.html\n",
        "- http://www.kdnuggets.com/2015/03/deep-learning-curse-dimensionality-autoencoders.html/\n",
        "- https://www.youtube.com/watch?v=xTU79Zs4XKY\n",
        "- http://www-personal.umich.edu/~jizhu/jizhu/wuke/Stone-AoS82.pdf"
      ]
    },
    {
      "cell_type": "markdown",
      "metadata": {
        "id": "QcUiJBQEX2os",
        "colab_type": "text"
      },
      "source": [
        "<hr>\n",
        "\n",
        "Copyright &copy; 2018 [Cognitive Class](https://cocl.us/DX0108EN_CC). This notebook and its source code are released under the terms of the [MIT License](https://bigdatauniversity.com/mit-license/)."
      ]
    }
  ]
}