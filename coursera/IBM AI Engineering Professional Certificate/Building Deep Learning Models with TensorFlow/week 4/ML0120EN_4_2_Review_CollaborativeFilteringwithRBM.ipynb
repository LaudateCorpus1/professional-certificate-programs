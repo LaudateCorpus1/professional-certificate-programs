{
  "nbformat": 4,
  "nbformat_minor": 0,
  "metadata": {
    "kernelspec": {
      "display_name": "Python",
      "language": "python",
      "name": "conda-env-python-py"
    },
    "language_info": {
      "codemirror_mode": {
        "name": "ipython",
        "version": 3
      },
      "file_extension": ".py",
      "mimetype": "text/x-python",
      "name": "python",
      "nbconvert_exporter": "python",
      "pygments_lexer": "ipython3",
      "version": "3.6.7"
    },
    "colab": {
      "name": "ML0120EN-4.2-Review-CollaborativeFilteringwithRBM.ipynb",
      "provenance": []
    }
  },
  "cells": [
    {
      "cell_type": "markdown",
      "metadata": {
        "id": "6xtZ7aW1NU7I",
        "colab_type": "text"
      },
      "source": [
        "<a href=\"https://www.bigdatauniversity.com\"><img src=\"https://ibm.box.com/shared/static/qo20b88v1hbjztubt06609ovs85q8fau.png\" width=\"400px\" align=\"center\"></a>\n",
        "\n",
        "<h1 align=\"center\"><font size=\"5\">RECOMMENDATION SYSTEM WITH A RESTRICTED BOLTZMANN MACHINE</font></h1>"
      ]
    },
    {
      "cell_type": "markdown",
      "metadata": {
        "id": "orAX-sUdNU7K",
        "colab_type": "text"
      },
      "source": [
        "Welcome to the <b>Recommendation System with a Restricted Boltzmann Machine</b> notebook. In this notebook, we study and go over the usage of a Restricted Boltzmann Machine (RBM) in a Collaborative Filtering based recommendation system. This system is an algorithm that recommends items by trying to find users that are similar to each other based on their item ratings. By the end of this notebook, you should have a deeper understanding of how Restricted Boltzmann Machines are applied, and how to build one using TensorFlow."
      ]
    },
    {
      "cell_type": "markdown",
      "metadata": {
        "id": "G8sGAuy1NU7L",
        "colab_type": "text"
      },
      "source": [
        "<h2>Table of Contents</h2>\n",
        "\n",
        "<ol>\n",
        "    <li><a href=\"#ref1\">Acquiring the Data</a></li>\n",
        "    <li><a href=\"#ref2\">Loading in the Data</a></li>\n",
        "    <li><a href=\"#ref3\">The Restricted Boltzmann Machine model</a></li>\n",
        "    <li><a href=\"#ref4\">Setting the Model's Parameters</a></li>\n",
        "    <li><a href=\"#ref5\">Recommendation</a></li>\n",
        "</ol>\n",
        "<br>\n",
        "<br>\n",
        "<hr>"
      ]
    },
    {
      "cell_type": "markdown",
      "metadata": {
        "id": "_T_Aup-lNU7L",
        "colab_type": "text"
      },
      "source": [
        "<a id=\"ref1\"></a>\n",
        "<h2>Acquiring the Data</h2>"
      ]
    },
    {
      "cell_type": "markdown",
      "metadata": {
        "id": "LoZ_0VptNU7O",
        "colab_type": "text"
      },
      "source": [
        "To start, we need to download the data we are going to use for our system. The datasets we are going to use were acquired by <a href=\"http://grouplens.org/datasets/movielens/\">GroupLens</a> and contain movies, users and movie ratings by these users.\n",
        "\n",
        "After downloading the data, we will extract the datasets to a directory that is easily accessible."
      ]
    },
    {
      "cell_type": "code",
      "metadata": {
        "id": "rd2bd7r6NU7Q",
        "colab_type": "code",
        "colab": {},
        "outputId": "c1b76025-0416-4feb-9435-86796a817ca8"
      },
      "source": [
        "!wget -O ./data/moviedataset.zip http://files.grouplens.org/datasets/movielens/ml-1m.zip\n",
        "!unzip -o ./data/moviedataset.zip -d ./data"
      ],
      "execution_count": 0,
      "outputs": [
        {
          "output_type": "stream",
          "text": [
            "--2020-03-07 11:59:02--  http://files.grouplens.org/datasets/movielens/ml-1m.zip\n",
            "Resolving files.grouplens.org (files.grouplens.org)... 128.101.65.152\n",
            "Connecting to files.grouplens.org (files.grouplens.org)|128.101.65.152|:80... connected.\n",
            "HTTP request sent, awaiting response... 200 OK\n",
            "Length: 5917549 (5.6M) [application/zip]\n",
            "Saving to: ‘./data/moviedataset.zip’\n",
            "\n",
            "./data/moviedataset 100%[===================>]   5.64M  13.8MB/s    in 0.4s    \n",
            "\n",
            "2020-03-07 11:59:03 (13.8 MB/s) - ‘./data/moviedataset.zip’ saved [5917549/5917549]\n",
            "\n",
            "Archive:  ./data/moviedataset.zip\n",
            "   creating: ./data/ml-1m/\n",
            "  inflating: ./data/ml-1m/movies.dat  \n",
            "  inflating: ./data/ml-1m/ratings.dat  \n",
            "  inflating: ./data/ml-1m/README     \n",
            "  inflating: ./data/ml-1m/users.dat  \n"
          ],
          "name": "stdout"
        }
      ]
    },
    {
      "cell_type": "markdown",
      "metadata": {
        "id": "H2QU0d3JNU7Y",
        "colab_type": "text"
      },
      "source": [
        "With the datasets in place, let's now import the necessary libraries. We will be using <a href=\"https://www.tensorflow.org/\">Tensorflow</a> and <a href=\"http://www.numpy.org/\">Numpy</a> together to model and initialize our Restricted Boltzmann Machine and <a href=\"http://pandas.pydata.org/pandas-docs/stable/\">Pandas</a> to manipulate our datasets. To import these libraries, run the code cell below."
      ]
    },
    {
      "cell_type": "code",
      "metadata": {
        "id": "MzP7msaWNU7Z",
        "colab_type": "code",
        "colab": {}
      },
      "source": [
        "#Tensorflow library. Used to implement machine learning models\n",
        "import tensorflow as tf\n",
        "#Numpy contains helpful functions for efficient mathematical calculations\n",
        "import numpy as np\n",
        "#Dataframe manipulation library\n",
        "import pandas as pd\n",
        "#Graph plotting library\n",
        "import matplotlib.pyplot as plt\n",
        "%matplotlib inline"
      ],
      "execution_count": 0,
      "outputs": []
    },
    {
      "cell_type": "markdown",
      "metadata": {
        "id": "SfTJlw_sNU7c",
        "colab_type": "text"
      },
      "source": [
        "<hr>"
      ]
    },
    {
      "cell_type": "markdown",
      "metadata": {
        "id": "ADkrQCf8NU7d",
        "colab_type": "text"
      },
      "source": [
        "<a id=\"ref2\"></a>\n",
        "<h2>Loading in the Data</h2>\n",
        "\n",
        "Let's begin by loading in our data with Pandas. The .dat files containing our data are similar to CSV files, but instead of using the ',' (comma) character to separate entries, it uses '::' (two colons) characters instead. To let Pandas know that it should separate data points at every '::', we have to specify the <code>sep='::'</code> parameter when calling the function.\n",
        "\n",
        "Additionally, we also pass it the <code>header=None</code> parameter due to the fact that our files don't contain any headers.\n",
        "\n",
        "Let's start with the movies.dat file and take a look at its structure:"
      ]
    },
    {
      "cell_type": "code",
      "metadata": {
        "scrolled": true,
        "id": "21QYV0CrNU7e",
        "colab_type": "code",
        "colab": {},
        "outputId": "9ee2ee19-77b3-408c-f7ee-130261dee50b"
      },
      "source": [
        "#Loading in the movies dataset\n",
        "movies_df = pd.read_csv('./data/ml-1m/movies.dat', sep='::', header=None, engine='python')\n",
        "movies_df.head()"
      ],
      "execution_count": 0,
      "outputs": [
        {
          "output_type": "execute_result",
          "data": {
            "text/html": [
              "<div>\n",
              "<style scoped>\n",
              "    .dataframe tbody tr th:only-of-type {\n",
              "        vertical-align: middle;\n",
              "    }\n",
              "\n",
              "    .dataframe tbody tr th {\n",
              "        vertical-align: top;\n",
              "    }\n",
              "\n",
              "    .dataframe thead th {\n",
              "        text-align: right;\n",
              "    }\n",
              "</style>\n",
              "<table border=\"1\" class=\"dataframe\">\n",
              "  <thead>\n",
              "    <tr style=\"text-align: right;\">\n",
              "      <th></th>\n",
              "      <th>0</th>\n",
              "      <th>1</th>\n",
              "      <th>2</th>\n",
              "    </tr>\n",
              "  </thead>\n",
              "  <tbody>\n",
              "    <tr>\n",
              "      <th>0</th>\n",
              "      <td>1</td>\n",
              "      <td>Toy Story (1995)</td>\n",
              "      <td>Animation|Children's|Comedy</td>\n",
              "    </tr>\n",
              "    <tr>\n",
              "      <th>1</th>\n",
              "      <td>2</td>\n",
              "      <td>Jumanji (1995)</td>\n",
              "      <td>Adventure|Children's|Fantasy</td>\n",
              "    </tr>\n",
              "    <tr>\n",
              "      <th>2</th>\n",
              "      <td>3</td>\n",
              "      <td>Grumpier Old Men (1995)</td>\n",
              "      <td>Comedy|Romance</td>\n",
              "    </tr>\n",
              "    <tr>\n",
              "      <th>3</th>\n",
              "      <td>4</td>\n",
              "      <td>Waiting to Exhale (1995)</td>\n",
              "      <td>Comedy|Drama</td>\n",
              "    </tr>\n",
              "    <tr>\n",
              "      <th>4</th>\n",
              "      <td>5</td>\n",
              "      <td>Father of the Bride Part II (1995)</td>\n",
              "      <td>Comedy</td>\n",
              "    </tr>\n",
              "  </tbody>\n",
              "</table>\n",
              "</div>"
            ],
            "text/plain": [
              "   0                                   1                             2\n",
              "0  1                    Toy Story (1995)   Animation|Children's|Comedy\n",
              "1  2                      Jumanji (1995)  Adventure|Children's|Fantasy\n",
              "2  3             Grumpier Old Men (1995)                Comedy|Romance\n",
              "3  4            Waiting to Exhale (1995)                  Comedy|Drama\n",
              "4  5  Father of the Bride Part II (1995)                        Comedy"
            ]
          },
          "metadata": {
            "tags": []
          },
          "execution_count": 3
        }
      ]
    },
    {
      "cell_type": "markdown",
      "metadata": {
        "id": "9tdr0bjqNU7i",
        "colab_type": "text"
      },
      "source": [
        "We can do the same for the ratings.dat file:"
      ]
    },
    {
      "cell_type": "code",
      "metadata": {
        "id": "9ifrMR8RNU7j",
        "colab_type": "code",
        "colab": {},
        "outputId": "ee8e27a3-6c0d-4039-ea14-c5a2b8174ec3"
      },
      "source": [
        "#Loading in the ratings dataset\n",
        "ratings_df = pd.read_csv('./data/ml-1m/ratings.dat', sep='::', header=None, engine='python')\n",
        "ratings_df.head()"
      ],
      "execution_count": 0,
      "outputs": [
        {
          "output_type": "execute_result",
          "data": {
            "text/html": [
              "<div>\n",
              "<style scoped>\n",
              "    .dataframe tbody tr th:only-of-type {\n",
              "        vertical-align: middle;\n",
              "    }\n",
              "\n",
              "    .dataframe tbody tr th {\n",
              "        vertical-align: top;\n",
              "    }\n",
              "\n",
              "    .dataframe thead th {\n",
              "        text-align: right;\n",
              "    }\n",
              "</style>\n",
              "<table border=\"1\" class=\"dataframe\">\n",
              "  <thead>\n",
              "    <tr style=\"text-align: right;\">\n",
              "      <th></th>\n",
              "      <th>0</th>\n",
              "      <th>1</th>\n",
              "      <th>2</th>\n",
              "      <th>3</th>\n",
              "    </tr>\n",
              "  </thead>\n",
              "  <tbody>\n",
              "    <tr>\n",
              "      <th>0</th>\n",
              "      <td>1</td>\n",
              "      <td>1193</td>\n",
              "      <td>5</td>\n",
              "      <td>978300760</td>\n",
              "    </tr>\n",
              "    <tr>\n",
              "      <th>1</th>\n",
              "      <td>1</td>\n",
              "      <td>661</td>\n",
              "      <td>3</td>\n",
              "      <td>978302109</td>\n",
              "    </tr>\n",
              "    <tr>\n",
              "      <th>2</th>\n",
              "      <td>1</td>\n",
              "      <td>914</td>\n",
              "      <td>3</td>\n",
              "      <td>978301968</td>\n",
              "    </tr>\n",
              "    <tr>\n",
              "      <th>3</th>\n",
              "      <td>1</td>\n",
              "      <td>3408</td>\n",
              "      <td>4</td>\n",
              "      <td>978300275</td>\n",
              "    </tr>\n",
              "    <tr>\n",
              "      <th>4</th>\n",
              "      <td>1</td>\n",
              "      <td>2355</td>\n",
              "      <td>5</td>\n",
              "      <td>978824291</td>\n",
              "    </tr>\n",
              "  </tbody>\n",
              "</table>\n",
              "</div>"
            ],
            "text/plain": [
              "   0     1  2          3\n",
              "0  1  1193  5  978300760\n",
              "1  1   661  3  978302109\n",
              "2  1   914  3  978301968\n",
              "3  1  3408  4  978300275\n",
              "4  1  2355  5  978824291"
            ]
          },
          "metadata": {
            "tags": []
          },
          "execution_count": 4
        }
      ]
    },
    {
      "cell_type": "markdown",
      "metadata": {
        "id": "xOw3RhSHNU7m",
        "colab_type": "text"
      },
      "source": [
        "So our <b>movies_df</b> variable contains a dataframe that stores a movie's unique ID number, title and genres, while our <b>ratings_df</b> variable stores a unique User ID number, a movie's ID that the user has watched, the user's rating to said movie and when the user rated that movie.\n",
        "\n",
        "Let's now rename the columns in these dataframes so we can better convey their data more intuitively:"
      ]
    },
    {
      "cell_type": "code",
      "metadata": {
        "id": "8ZJI_8dxNU7n",
        "colab_type": "code",
        "colab": {},
        "outputId": "9aa32b6e-1161-443a-dd82-333000d2eab2"
      },
      "source": [
        "movies_df.columns = ['MovieID', 'Title', 'Genres']\n",
        "movies_df.head()"
      ],
      "execution_count": 0,
      "outputs": [
        {
          "output_type": "execute_result",
          "data": {
            "text/html": [
              "<div>\n",
              "<style scoped>\n",
              "    .dataframe tbody tr th:only-of-type {\n",
              "        vertical-align: middle;\n",
              "    }\n",
              "\n",
              "    .dataframe tbody tr th {\n",
              "        vertical-align: top;\n",
              "    }\n",
              "\n",
              "    .dataframe thead th {\n",
              "        text-align: right;\n",
              "    }\n",
              "</style>\n",
              "<table border=\"1\" class=\"dataframe\">\n",
              "  <thead>\n",
              "    <tr style=\"text-align: right;\">\n",
              "      <th></th>\n",
              "      <th>MovieID</th>\n",
              "      <th>Title</th>\n",
              "      <th>Genres</th>\n",
              "    </tr>\n",
              "  </thead>\n",
              "  <tbody>\n",
              "    <tr>\n",
              "      <th>0</th>\n",
              "      <td>1</td>\n",
              "      <td>Toy Story (1995)</td>\n",
              "      <td>Animation|Children's|Comedy</td>\n",
              "    </tr>\n",
              "    <tr>\n",
              "      <th>1</th>\n",
              "      <td>2</td>\n",
              "      <td>Jumanji (1995)</td>\n",
              "      <td>Adventure|Children's|Fantasy</td>\n",
              "    </tr>\n",
              "    <tr>\n",
              "      <th>2</th>\n",
              "      <td>3</td>\n",
              "      <td>Grumpier Old Men (1995)</td>\n",
              "      <td>Comedy|Romance</td>\n",
              "    </tr>\n",
              "    <tr>\n",
              "      <th>3</th>\n",
              "      <td>4</td>\n",
              "      <td>Waiting to Exhale (1995)</td>\n",
              "      <td>Comedy|Drama</td>\n",
              "    </tr>\n",
              "    <tr>\n",
              "      <th>4</th>\n",
              "      <td>5</td>\n",
              "      <td>Father of the Bride Part II (1995)</td>\n",
              "      <td>Comedy</td>\n",
              "    </tr>\n",
              "  </tbody>\n",
              "</table>\n",
              "</div>"
            ],
            "text/plain": [
              "   MovieID                               Title                        Genres\n",
              "0        1                    Toy Story (1995)   Animation|Children's|Comedy\n",
              "1        2                      Jumanji (1995)  Adventure|Children's|Fantasy\n",
              "2        3             Grumpier Old Men (1995)                Comedy|Romance\n",
              "3        4            Waiting to Exhale (1995)                  Comedy|Drama\n",
              "4        5  Father of the Bride Part II (1995)                        Comedy"
            ]
          },
          "metadata": {
            "tags": []
          },
          "execution_count": 5
        }
      ]
    },
    {
      "cell_type": "markdown",
      "metadata": {
        "id": "I4MMvr9yNU7t",
        "colab_type": "text"
      },
      "source": [
        "And our final ratings_df:"
      ]
    },
    {
      "cell_type": "code",
      "metadata": {
        "scrolled": true,
        "id": "_Jpu6odbNU7v",
        "colab_type": "code",
        "colab": {},
        "outputId": "22bd3639-40ce-47f6-c616-fa0a8b2dc5a6"
      },
      "source": [
        "ratings_df.columns = ['UserID', 'MovieID', 'Rating', 'Timestamp']\n",
        "ratings_df.head()"
      ],
      "execution_count": 0,
      "outputs": [
        {
          "output_type": "execute_result",
          "data": {
            "text/html": [
              "<div>\n",
              "<style scoped>\n",
              "    .dataframe tbody tr th:only-of-type {\n",
              "        vertical-align: middle;\n",
              "    }\n",
              "\n",
              "    .dataframe tbody tr th {\n",
              "        vertical-align: top;\n",
              "    }\n",
              "\n",
              "    .dataframe thead th {\n",
              "        text-align: right;\n",
              "    }\n",
              "</style>\n",
              "<table border=\"1\" class=\"dataframe\">\n",
              "  <thead>\n",
              "    <tr style=\"text-align: right;\">\n",
              "      <th></th>\n",
              "      <th>UserID</th>\n",
              "      <th>MovieID</th>\n",
              "      <th>Rating</th>\n",
              "      <th>Timestamp</th>\n",
              "    </tr>\n",
              "  </thead>\n",
              "  <tbody>\n",
              "    <tr>\n",
              "      <th>0</th>\n",
              "      <td>1</td>\n",
              "      <td>1193</td>\n",
              "      <td>5</td>\n",
              "      <td>978300760</td>\n",
              "    </tr>\n",
              "    <tr>\n",
              "      <th>1</th>\n",
              "      <td>1</td>\n",
              "      <td>661</td>\n",
              "      <td>3</td>\n",
              "      <td>978302109</td>\n",
              "    </tr>\n",
              "    <tr>\n",
              "      <th>2</th>\n",
              "      <td>1</td>\n",
              "      <td>914</td>\n",
              "      <td>3</td>\n",
              "      <td>978301968</td>\n",
              "    </tr>\n",
              "    <tr>\n",
              "      <th>3</th>\n",
              "      <td>1</td>\n",
              "      <td>3408</td>\n",
              "      <td>4</td>\n",
              "      <td>978300275</td>\n",
              "    </tr>\n",
              "    <tr>\n",
              "      <th>4</th>\n",
              "      <td>1</td>\n",
              "      <td>2355</td>\n",
              "      <td>5</td>\n",
              "      <td>978824291</td>\n",
              "    </tr>\n",
              "  </tbody>\n",
              "</table>\n",
              "</div>"
            ],
            "text/plain": [
              "   UserID  MovieID  Rating  Timestamp\n",
              "0       1     1193       5  978300760\n",
              "1       1      661       3  978302109\n",
              "2       1      914       3  978301968\n",
              "3       1     3408       4  978300275\n",
              "4       1     2355       5  978824291"
            ]
          },
          "metadata": {
            "tags": []
          },
          "execution_count": 6
        }
      ]
    },
    {
      "cell_type": "markdown",
      "metadata": {
        "id": "dNS2j_oqNU7z",
        "colab_type": "text"
      },
      "source": [
        "<hr>"
      ]
    },
    {
      "cell_type": "markdown",
      "metadata": {
        "id": "lDU-NFaJNU70",
        "colab_type": "text"
      },
      "source": [
        "<a id=\"ref3\"></a>\n",
        "<h2>The Restricted Boltzmann Machine model</h2>"
      ]
    },
    {
      "cell_type": "markdown",
      "metadata": {
        "id": "Z57YGb9gNU70",
        "colab_type": "text"
      },
      "source": [
        "<img src=\"https://ibm.box.com/shared/static/o049tx0dsllpbj3b546vuba25qqlzelq.png\"  width=\"300\">\n",
        "<br>\n",
        "The Restricted Boltzmann Machine model has two layers of neurons, one of which is what we call a visible input layer and the other is called a hidden layer. The hidden layer is used to learn features from the information fed through the input layer. For our model, the input is going to contain X neurons, where X is the amount of movies in our dataset. Each of these neurons will possess a normalized rating value varying from 0 to 1, where 0 meaning that a user has not watched that movie and the closer the value is to 1, the more the user likes the movie that neuron's representing. These normalized values, of course, will be extracted and normalized from the ratings dataset.\n",
        "\n",
        "After passing in the input, we train the RBM on it and have the hidden layer learn its features. These features are what we use to reconstruct the input, which in our case, will predict the ratings for movies that user hasn't watched, which is exactly what we can use to recommend movies!\n",
        "\n",
        "We will now begin to format our dataset to follow the model's expected input."
      ]
    },
    {
      "cell_type": "markdown",
      "metadata": {
        "id": "xqrsqwIJNU71",
        "colab_type": "text"
      },
      "source": [
        "<h3>Formatting the Data</h3>"
      ]
    },
    {
      "cell_type": "markdown",
      "metadata": {
        "id": "iXdJEBB7NU72",
        "colab_type": "text"
      },
      "source": [
        "First let's see how many movies we have and see if the movie ID's correspond with that value:"
      ]
    },
    {
      "cell_type": "code",
      "metadata": {
        "id": "3lpLJQq0NU72",
        "colab_type": "code",
        "colab": {},
        "outputId": "fcdd8e54-739d-4552-deeb-710efc9261d1"
      },
      "source": [
        "len(movies_df)"
      ],
      "execution_count": 0,
      "outputs": [
        {
          "output_type": "execute_result",
          "data": {
            "text/plain": [
              "3883"
            ]
          },
          "metadata": {
            "tags": []
          },
          "execution_count": 7
        }
      ]
    },
    {
      "cell_type": "markdown",
      "metadata": {
        "id": "PbGRPmrjNU75",
        "colab_type": "text"
      },
      "source": [
        "Now, we can start formatting the data into input for the RBM. We're going to store the normalized users ratings into as a matrix of user-rating called trX, and normalize the values."
      ]
    },
    {
      "cell_type": "code",
      "metadata": {
        "id": "ovQDVe8TNU76",
        "colab_type": "code",
        "colab": {},
        "outputId": "b3195319-7622-4691-9ced-bbfa94d2d46f"
      },
      "source": [
        "user_rating_df = ratings_df.pivot(index='UserID', columns='MovieID', values='Rating')\n",
        "user_rating_df.head()"
      ],
      "execution_count": 0,
      "outputs": [
        {
          "output_type": "execute_result",
          "data": {
            "text/html": [
              "<div>\n",
              "<style scoped>\n",
              "    .dataframe tbody tr th:only-of-type {\n",
              "        vertical-align: middle;\n",
              "    }\n",
              "\n",
              "    .dataframe tbody tr th {\n",
              "        vertical-align: top;\n",
              "    }\n",
              "\n",
              "    .dataframe thead th {\n",
              "        text-align: right;\n",
              "    }\n",
              "</style>\n",
              "<table border=\"1\" class=\"dataframe\">\n",
              "  <thead>\n",
              "    <tr style=\"text-align: right;\">\n",
              "      <th>MovieID</th>\n",
              "      <th>1</th>\n",
              "      <th>2</th>\n",
              "      <th>3</th>\n",
              "      <th>4</th>\n",
              "      <th>5</th>\n",
              "      <th>6</th>\n",
              "      <th>7</th>\n",
              "      <th>8</th>\n",
              "      <th>9</th>\n",
              "      <th>10</th>\n",
              "      <th>...</th>\n",
              "      <th>3943</th>\n",
              "      <th>3944</th>\n",
              "      <th>3945</th>\n",
              "      <th>3946</th>\n",
              "      <th>3947</th>\n",
              "      <th>3948</th>\n",
              "      <th>3949</th>\n",
              "      <th>3950</th>\n",
              "      <th>3951</th>\n",
              "      <th>3952</th>\n",
              "    </tr>\n",
              "    <tr>\n",
              "      <th>UserID</th>\n",
              "      <th></th>\n",
              "      <th></th>\n",
              "      <th></th>\n",
              "      <th></th>\n",
              "      <th></th>\n",
              "      <th></th>\n",
              "      <th></th>\n",
              "      <th></th>\n",
              "      <th></th>\n",
              "      <th></th>\n",
              "      <th></th>\n",
              "      <th></th>\n",
              "      <th></th>\n",
              "      <th></th>\n",
              "      <th></th>\n",
              "      <th></th>\n",
              "      <th></th>\n",
              "      <th></th>\n",
              "      <th></th>\n",
              "      <th></th>\n",
              "      <th></th>\n",
              "    </tr>\n",
              "  </thead>\n",
              "  <tbody>\n",
              "    <tr>\n",
              "      <th>1</th>\n",
              "      <td>5.0</td>\n",
              "      <td>NaN</td>\n",
              "      <td>NaN</td>\n",
              "      <td>NaN</td>\n",
              "      <td>NaN</td>\n",
              "      <td>NaN</td>\n",
              "      <td>NaN</td>\n",
              "      <td>NaN</td>\n",
              "      <td>NaN</td>\n",
              "      <td>NaN</td>\n",
              "      <td>...</td>\n",
              "      <td>NaN</td>\n",
              "      <td>NaN</td>\n",
              "      <td>NaN</td>\n",
              "      <td>NaN</td>\n",
              "      <td>NaN</td>\n",
              "      <td>NaN</td>\n",
              "      <td>NaN</td>\n",
              "      <td>NaN</td>\n",
              "      <td>NaN</td>\n",
              "      <td>NaN</td>\n",
              "    </tr>\n",
              "    <tr>\n",
              "      <th>2</th>\n",
              "      <td>NaN</td>\n",
              "      <td>NaN</td>\n",
              "      <td>NaN</td>\n",
              "      <td>NaN</td>\n",
              "      <td>NaN</td>\n",
              "      <td>NaN</td>\n",
              "      <td>NaN</td>\n",
              "      <td>NaN</td>\n",
              "      <td>NaN</td>\n",
              "      <td>NaN</td>\n",
              "      <td>...</td>\n",
              "      <td>NaN</td>\n",
              "      <td>NaN</td>\n",
              "      <td>NaN</td>\n",
              "      <td>NaN</td>\n",
              "      <td>NaN</td>\n",
              "      <td>NaN</td>\n",
              "      <td>NaN</td>\n",
              "      <td>NaN</td>\n",
              "      <td>NaN</td>\n",
              "      <td>NaN</td>\n",
              "    </tr>\n",
              "    <tr>\n",
              "      <th>3</th>\n",
              "      <td>NaN</td>\n",
              "      <td>NaN</td>\n",
              "      <td>NaN</td>\n",
              "      <td>NaN</td>\n",
              "      <td>NaN</td>\n",
              "      <td>NaN</td>\n",
              "      <td>NaN</td>\n",
              "      <td>NaN</td>\n",
              "      <td>NaN</td>\n",
              "      <td>NaN</td>\n",
              "      <td>...</td>\n",
              "      <td>NaN</td>\n",
              "      <td>NaN</td>\n",
              "      <td>NaN</td>\n",
              "      <td>NaN</td>\n",
              "      <td>NaN</td>\n",
              "      <td>NaN</td>\n",
              "      <td>NaN</td>\n",
              "      <td>NaN</td>\n",
              "      <td>NaN</td>\n",
              "      <td>NaN</td>\n",
              "    </tr>\n",
              "    <tr>\n",
              "      <th>4</th>\n",
              "      <td>NaN</td>\n",
              "      <td>NaN</td>\n",
              "      <td>NaN</td>\n",
              "      <td>NaN</td>\n",
              "      <td>NaN</td>\n",
              "      <td>NaN</td>\n",
              "      <td>NaN</td>\n",
              "      <td>NaN</td>\n",
              "      <td>NaN</td>\n",
              "      <td>NaN</td>\n",
              "      <td>...</td>\n",
              "      <td>NaN</td>\n",
              "      <td>NaN</td>\n",
              "      <td>NaN</td>\n",
              "      <td>NaN</td>\n",
              "      <td>NaN</td>\n",
              "      <td>NaN</td>\n",
              "      <td>NaN</td>\n",
              "      <td>NaN</td>\n",
              "      <td>NaN</td>\n",
              "      <td>NaN</td>\n",
              "    </tr>\n",
              "    <tr>\n",
              "      <th>5</th>\n",
              "      <td>NaN</td>\n",
              "      <td>NaN</td>\n",
              "      <td>NaN</td>\n",
              "      <td>NaN</td>\n",
              "      <td>NaN</td>\n",
              "      <td>2.0</td>\n",
              "      <td>NaN</td>\n",
              "      <td>NaN</td>\n",
              "      <td>NaN</td>\n",
              "      <td>NaN</td>\n",
              "      <td>...</td>\n",
              "      <td>NaN</td>\n",
              "      <td>NaN</td>\n",
              "      <td>NaN</td>\n",
              "      <td>NaN</td>\n",
              "      <td>NaN</td>\n",
              "      <td>NaN</td>\n",
              "      <td>NaN</td>\n",
              "      <td>NaN</td>\n",
              "      <td>NaN</td>\n",
              "      <td>NaN</td>\n",
              "    </tr>\n",
              "  </tbody>\n",
              "</table>\n",
              "<p>5 rows × 3706 columns</p>\n",
              "</div>"
            ],
            "text/plain": [
              "MovieID  1     2     3     4     5     6     7     8     9     10    ...  \\\n",
              "UserID                                                               ...   \n",
              "1         5.0   NaN   NaN   NaN   NaN   NaN   NaN   NaN   NaN   NaN  ...   \n",
              "2         NaN   NaN   NaN   NaN   NaN   NaN   NaN   NaN   NaN   NaN  ...   \n",
              "3         NaN   NaN   NaN   NaN   NaN   NaN   NaN   NaN   NaN   NaN  ...   \n",
              "4         NaN   NaN   NaN   NaN   NaN   NaN   NaN   NaN   NaN   NaN  ...   \n",
              "5         NaN   NaN   NaN   NaN   NaN   2.0   NaN   NaN   NaN   NaN  ...   \n",
              "\n",
              "MovieID  3943  3944  3945  3946  3947  3948  3949  3950  3951  3952  \n",
              "UserID                                                               \n",
              "1         NaN   NaN   NaN   NaN   NaN   NaN   NaN   NaN   NaN   NaN  \n",
              "2         NaN   NaN   NaN   NaN   NaN   NaN   NaN   NaN   NaN   NaN  \n",
              "3         NaN   NaN   NaN   NaN   NaN   NaN   NaN   NaN   NaN   NaN  \n",
              "4         NaN   NaN   NaN   NaN   NaN   NaN   NaN   NaN   NaN   NaN  \n",
              "5         NaN   NaN   NaN   NaN   NaN   NaN   NaN   NaN   NaN   NaN  \n",
              "\n",
              "[5 rows x 3706 columns]"
            ]
          },
          "metadata": {
            "tags": []
          },
          "execution_count": 8
        }
      ]
    },
    {
      "cell_type": "markdown",
      "metadata": {
        "id": "J-P4WREuNU8A",
        "colab_type": "text"
      },
      "source": [
        "Lets normalize it now:"
      ]
    },
    {
      "cell_type": "code",
      "metadata": {
        "id": "tlG8Bwy_NU8B",
        "colab_type": "code",
        "colab": {},
        "outputId": "77844e82-1114-4af8-a119-7389b822a125"
      },
      "source": [
        "norm_user_rating_df = user_rating_df.fillna(0) / 5.0\n",
        "trX = norm_user_rating_df.values\n",
        "trX[0:5]"
      ],
      "execution_count": 0,
      "outputs": [
        {
          "output_type": "execute_result",
          "data": {
            "text/plain": [
              "array([[1., 0., 0., ..., 0., 0., 0.],\n",
              "       [0., 0., 0., ..., 0., 0., 0.],\n",
              "       [0., 0., 0., ..., 0., 0., 0.],\n",
              "       [0., 0., 0., ..., 0., 0., 0.],\n",
              "       [0., 0., 0., ..., 0., 0., 0.]])"
            ]
          },
          "metadata": {
            "tags": []
          },
          "execution_count": 9
        }
      ]
    },
    {
      "cell_type": "markdown",
      "metadata": {
        "id": "oFuYMg28NU8E",
        "colab_type": "text"
      },
      "source": [
        "<hr>"
      ]
    },
    {
      "cell_type": "markdown",
      "metadata": {
        "id": "_vfnzMgwNU8E",
        "colab_type": "text"
      },
      "source": [
        "<a id=\"ref4\"></a>\n",
        "<h2>Setting the Model's Parameters</h2>"
      ]
    },
    {
      "cell_type": "markdown",
      "metadata": {
        "id": "71gorf42NU8F",
        "colab_type": "text"
      },
      "source": [
        "Next, let's start building our RBM with TensorFlow. We'll begin by first determining the number of neurons in the hidden layers and then creating placeholder variables for storing our visible layer biases, hidden layer biases and weights that connects the hidden layer with the visible layer. We will be arbitrarily setting the number of neurons in the hidden layers to 20. You can freely set this value to any number you want since each neuron in the hidden layer will end up learning a feature."
      ]
    },
    {
      "cell_type": "code",
      "metadata": {
        "id": "UfaceQs6NU8F",
        "colab_type": "code",
        "colab": {}
      },
      "source": [
        "hiddenUnits = 20\n",
        "visibleUnits =  len(user_rating_df.columns)\n",
        "vb = tf.placeholder(\"float\", [visibleUnits]) #Number of unique movies\n",
        "hb = tf.placeholder(\"float\", [hiddenUnits]) #Number of features we're going to learn\n",
        "W = tf.placeholder(\"float\", [visibleUnits, hiddenUnits])"
      ],
      "execution_count": 0,
      "outputs": []
    },
    {
      "cell_type": "markdown",
      "metadata": {
        "id": "C0kIhu93NU8I",
        "colab_type": "text"
      },
      "source": [
        "We then move on to creating the visible and hidden layer units and setting their activation functions. In this case, we will be using the <code>tf.sigmoid</code> and <code>tf.relu</code> functions as nonlinear activations since it is commonly used in RBM's."
      ]
    },
    {
      "cell_type": "code",
      "metadata": {
        "id": "fTdCDRvdNU8J",
        "colab_type": "code",
        "colab": {}
      },
      "source": [
        "#Phase 1: Input Processing\n",
        "v0 = tf.placeholder(\"float\", [None, visibleUnits])\n",
        "_h0 = tf.nn.sigmoid(tf.matmul(v0, W) + hb)\n",
        "h0 = tf.nn.relu(tf.sign(_h0 - tf.random_uniform(tf.shape(_h0))))\n",
        "#Phase 2: Reconstruction\n",
        "_v1 = tf.nn.sigmoid(tf.matmul(h0, tf.transpose(W)) + vb) \n",
        "v1 = tf.nn.relu(tf.sign(_v1 - tf.random_uniform(tf.shape(_v1))))\n",
        "h1 = tf.nn.sigmoid(tf.matmul(v1, W) + hb)"
      ],
      "execution_count": 0,
      "outputs": []
    },
    {
      "cell_type": "markdown",
      "metadata": {
        "id": "L8REhbZmNU8M",
        "colab_type": "text"
      },
      "source": [
        "Now we set the RBM training parameters and functions."
      ]
    },
    {
      "cell_type": "code",
      "metadata": {
        "id": "Kbd-gtJsNU8M",
        "colab_type": "code",
        "colab": {}
      },
      "source": [
        "#Learning rate\n",
        "alpha = 1.0\n",
        "#Create the gradients\n",
        "w_pos_grad = tf.matmul(tf.transpose(v0), h0)\n",
        "w_neg_grad = tf.matmul(tf.transpose(v1), h1)\n",
        "#Calculate the Contrastive Divergence to maximize\n",
        "CD = (w_pos_grad - w_neg_grad) / tf.to_float(tf.shape(v0)[0])\n",
        "#Create methods to update the weights and biases\n",
        "update_w = W + alpha * CD\n",
        "update_vb = vb + alpha * tf.reduce_mean(v0 - v1, 0)\n",
        "update_hb = hb + alpha * tf.reduce_mean(h0 - h1, 0)"
      ],
      "execution_count": 0,
      "outputs": []
    },
    {
      "cell_type": "markdown",
      "metadata": {
        "id": "u-bvllykNU8Q",
        "colab_type": "text"
      },
      "source": [
        "And set the error function, which in this case will be the Mean Absolute Error Function."
      ]
    },
    {
      "cell_type": "code",
      "metadata": {
        "id": "9GGA21opNU8R",
        "colab_type": "code",
        "colab": {}
      },
      "source": [
        "err = v0 - v1\n",
        "err_sum = tf.reduce_mean(err * err)"
      ],
      "execution_count": 0,
      "outputs": []
    },
    {
      "cell_type": "markdown",
      "metadata": {
        "id": "qlIvVkPcNU8X",
        "colab_type": "text"
      },
      "source": [
        "We also have to initialize our variables. Thankfully, NumPy has a handy ,code>zeros</code> function for this. We use it like so:"
      ]
    },
    {
      "cell_type": "code",
      "metadata": {
        "id": "uJy6KVXsNU8Y",
        "colab_type": "code",
        "colab": {}
      },
      "source": [
        "#Current weight\n",
        "cur_w = np.zeros([visibleUnits, hiddenUnits], np.float32)\n",
        "#Current visible unit biases\n",
        "cur_vb = np.zeros([visibleUnits], np.float32)\n",
        "#Current hidden unit biases\n",
        "cur_hb = np.zeros([hiddenUnits], np.float32)\n",
        "#Previous weight\n",
        "prv_w = np.zeros([visibleUnits, hiddenUnits], np.float32)\n",
        "#Previous visible unit biases\n",
        "prv_vb = np.zeros([visibleUnits], np.float32)\n",
        "#Previous hidden unit biases\n",
        "prv_hb = np.zeros([hiddenUnits], np.float32)\n",
        "sess = tf.Session()\n",
        "sess.run(tf.global_variables_initializer())"
      ],
      "execution_count": 0,
      "outputs": []
    },
    {
      "cell_type": "markdown",
      "metadata": {
        "id": "ySOfjNlZNU8d",
        "colab_type": "text"
      },
      "source": [
        "Now we train the RBM with 15 epochs with each epoch using 10 batches with size 100. After training, we print out a graph with the error by epoch."
      ]
    },
    {
      "cell_type": "code",
      "metadata": {
        "id": "4cBAM0RHNU8d",
        "colab_type": "code",
        "colab": {},
        "outputId": "0db4e69c-fb54-4016-b3a8-bb94455fcbba"
      },
      "source": [
        "epochs = 15\n",
        "batchsize = 100\n",
        "errors = []\n",
        "for i in range(epochs):\n",
        "    for start, end in zip( range(0, len(trX), batchsize), range(batchsize, len(trX), batchsize)):\n",
        "        batch = trX[start:end]\n",
        "        cur_w = sess.run(update_w, feed_dict={v0: batch, W: prv_w, vb: prv_vb, hb: prv_hb})\n",
        "        cur_vb = sess.run(update_vb, feed_dict={v0: batch, W: prv_w, vb: prv_vb, hb: prv_hb})\n",
        "        cur_nb = sess.run(update_hb, feed_dict={v0: batch, W: prv_w, vb: prv_vb, hb: prv_hb})\n",
        "        prv_w = cur_w\n",
        "        prv_vb = cur_vb\n",
        "        prv_hb = cur_hb\n",
        "    errors.append(sess.run(err_sum, feed_dict={v0: trX, W: cur_w, vb: cur_vb, hb: cur_hb}))\n",
        "    print (errors[-1])\n",
        "plt.plot(errors)\n",
        "plt.ylabel('Error')\n",
        "plt.xlabel('Epoch')\n",
        "plt.show()"
      ],
      "execution_count": 0,
      "outputs": [
        {
          "output_type": "stream",
          "text": [
            "0.05931296\n",
            "0.050751537\n",
            "0.04921893\n",
            "0.047580115\n",
            "0.04675439\n",
            "0.04630061\n",
            "0.04620338\n",
            "0.045892887\n",
            "0.045679417\n",
            "0.045681894\n",
            "0.045452036\n",
            "0.045291826\n",
            "0.045240562\n",
            "0.04505899\n",
            "0.04518949\n"
          ],
          "name": "stdout"
        },
        {
          "output_type": "display_data",
          "data": {
            "image/png": "[encoded data removed]",
            "text/plain": [
              "<Figure size 432x288 with 1 Axes>"
            ]
          },
          "metadata": {
            "tags": [],
            "needs_background": "light"
          }
        }
      ]
    },
    {
      "cell_type": "markdown",
      "metadata": {
        "id": "RNevVjepNU8h",
        "colab_type": "text"
      },
      "source": [
        "<hr>"
      ]
    },
    {
      "cell_type": "markdown",
      "metadata": {
        "id": "q6pkMZS0NU8i",
        "colab_type": "text"
      },
      "source": [
        "<a id=\"ref5\"></a>\n",
        "<h2>Recommendation</h2>"
      ]
    },
    {
      "cell_type": "markdown",
      "metadata": {
        "id": "kkUf3eAFNU8j",
        "colab_type": "text"
      },
      "source": [
        "We can now predict movies that an arbitrarily selected user might like. This can be accomplished by feeding in the user's watched movie preferences into the RBM and then reconstructing the input. The values that the RBM gives us will attempt to estimate the user's preferences for movies that he hasn't watched based on the preferences of the users that the RBM was trained on."
      ]
    },
    {
      "cell_type": "markdown",
      "metadata": {
        "id": "S27mnQ0tNU8j",
        "colab_type": "text"
      },
      "source": [
        "Lets first select a <b>User ID</b> of our mock user:"
      ]
    },
    {
      "cell_type": "code",
      "metadata": {
        "id": "IS8r2EmqNU8k",
        "colab_type": "code",
        "colab": {}
      },
      "source": [
        "mock_user_id = 215"
      ],
      "execution_count": 0,
      "outputs": []
    },
    {
      "cell_type": "code",
      "metadata": {
        "id": "CWTIKkF5NU8m",
        "colab_type": "code",
        "colab": {},
        "outputId": "28f468c9-5ece-4897-b36e-99387ebd69d6"
      },
      "source": [
        "#Selecting the input user\n",
        "inputUser = trX[mock_user_id-1].reshape(1, -1)\n",
        "inputUser[0:5]"
      ],
      "execution_count": 0,
      "outputs": [
        {
          "output_type": "execute_result",
          "data": {
            "text/plain": [
              "array([[0.8, 0. , 0. , ..., 0. , 0. , 0. ]])"
            ]
          },
          "metadata": {
            "tags": []
          },
          "execution_count": 17
        }
      ]
    },
    {
      "cell_type": "code",
      "metadata": {
        "id": "7YUIzHhcNU8q",
        "colab_type": "code",
        "colab": {},
        "outputId": "cfe9e28f-a7d2-4273-e40c-b45717688e3c"
      },
      "source": [
        "#Feeding in the user and reconstructing the input\n",
        "hh0 = tf.nn.sigmoid(tf.matmul(v0, W) + hb)\n",
        "vv1 = tf.nn.sigmoid(tf.matmul(hh0, tf.transpose(W)) + vb)\n",
        "feed = sess.run(hh0, feed_dict={ v0: inputUser, W: prv_w, hb: prv_hb})\n",
        "rec = sess.run(vv1, feed_dict={ hh0: feed, W: prv_w, vb: prv_vb})\n",
        "print(rec)"
      ],
      "execution_count": 0,
      "outputs": [
        {
          "output_type": "stream",
          "text": [
            "[[0.37452787 0.15078346 0.03600001 ... 0.00129826 0.00157345 0.00769668]]\n"
          ],
          "name": "stdout"
        }
      ]
    },
    {
      "cell_type": "markdown",
      "metadata": {
        "id": "R1vc07zaNU8u",
        "colab_type": "text"
      },
      "source": [
        "We can then list the 20 most recommended movies for our mock user by sorting it by their scores given by our model."
      ]
    },
    {
      "cell_type": "code",
      "metadata": {
        "id": "gxREVKvwNU8v",
        "colab_type": "code",
        "colab": {},
        "outputId": "005f91c5-7738-43d0-e29f-688e626f22a7"
      },
      "source": [
        "scored_movies_df_mock = movies_df[movies_df['MovieID'].isin(user_rating_df.columns)]\n",
        "scored_movies_df_mock = scored_movies_df_mock.assign(RecommendationScore = rec[0])\n",
        "scored_movies_df_mock.sort_values([\"RecommendationScore\"], ascending=False).head(20)"
      ],
      "execution_count": 0,
      "outputs": [
        {
          "output_type": "execute_result",
          "data": {
            "text/html": [
              "<div>\n",
              "<style scoped>\n",
              "    .dataframe tbody tr th:only-of-type {\n",
              "        vertical-align: middle;\n",
              "    }\n",
              "\n",
              "    .dataframe tbody tr th {\n",
              "        vertical-align: top;\n",
              "    }\n",
              "\n",
              "    .dataframe thead th {\n",
              "        text-align: right;\n",
              "    }\n",
              "</style>\n",
              "<table border=\"1\" class=\"dataframe\">\n",
              "  <thead>\n",
              "    <tr style=\"text-align: right;\">\n",
              "      <th></th>\n",
              "      <th>MovieID</th>\n",
              "      <th>Title</th>\n",
              "      <th>Genres</th>\n",
              "      <th>RecommendationScore</th>\n",
              "    </tr>\n",
              "  </thead>\n",
              "  <tbody>\n",
              "    <tr>\n",
              "      <th>257</th>\n",
              "      <td>260</td>\n",
              "      <td>Star Wars: Episode IV - A New Hope (1977)</td>\n",
              "      <td>Action|Adventure|Fantasy|Sci-Fi</td>\n",
              "      <td>0.999974</td>\n",
              "    </tr>\n",
              "    <tr>\n",
              "      <th>1178</th>\n",
              "      <td>1196</td>\n",
              "      <td>Star Wars: Episode V - The Empire Strikes Back...</td>\n",
              "      <td>Action|Adventure|Drama|Sci-Fi|War</td>\n",
              "      <td>0.975419</td>\n",
              "    </tr>\n",
              "    <tr>\n",
              "      <th>1192</th>\n",
              "      <td>1210</td>\n",
              "      <td>Star Wars: Episode VI - Return of the Jedi (1983)</td>\n",
              "      <td>Action|Adventure|Romance|Sci-Fi|War</td>\n",
              "      <td>0.925193</td>\n",
              "    </tr>\n",
              "    <tr>\n",
              "      <th>1250</th>\n",
              "      <td>1270</td>\n",
              "      <td>Back to the Future (1985)</td>\n",
              "      <td>Comedy|Sci-Fi</td>\n",
              "      <td>0.876394</td>\n",
              "    </tr>\n",
              "    <tr>\n",
              "      <th>2559</th>\n",
              "      <td>2628</td>\n",
              "      <td>Star Wars: Episode I - The Phantom Menace (1999)</td>\n",
              "      <td>Action|Adventure|Fantasy|Sci-Fi</td>\n",
              "      <td>0.858821</td>\n",
              "    </tr>\n",
              "    <tr>\n",
              "      <th>1081</th>\n",
              "      <td>1097</td>\n",
              "      <td>E.T. the Extra-Terrestrial (1982)</td>\n",
              "      <td>Children's|Drama|Fantasy|Sci-Fi</td>\n",
              "      <td>0.798336</td>\n",
              "    </tr>\n",
              "    <tr>\n",
              "      <th>1180</th>\n",
              "      <td>1198</td>\n",
              "      <td>Raiders of the Lost Ark (1981)</td>\n",
              "      <td>Action|Adventure</td>\n",
              "      <td>0.736735</td>\n",
              "    </tr>\n",
              "    <tr>\n",
              "      <th>585</th>\n",
              "      <td>589</td>\n",
              "      <td>Terminator 2: Judgment Day (1991)</td>\n",
              "      <td>Action|Sci-Fi|Thriller</td>\n",
              "      <td>0.734500</td>\n",
              "    </tr>\n",
              "    <tr>\n",
              "      <th>2502</th>\n",
              "      <td>2571</td>\n",
              "      <td>Matrix, The (1999)</td>\n",
              "      <td>Action|Sci-Fi|Thriller</td>\n",
              "      <td>0.729498</td>\n",
              "    </tr>\n",
              "    <tr>\n",
              "      <th>1539</th>\n",
              "      <td>1580</td>\n",
              "      <td>Men in Black (1997)</td>\n",
              "      <td>Action|Adventure|Comedy|Sci-Fi</td>\n",
              "      <td>0.719394</td>\n",
              "    </tr>\n",
              "    <tr>\n",
              "      <th>476</th>\n",
              "      <td>480</td>\n",
              "      <td>Jurassic Park (1993)</td>\n",
              "      <td>Action|Adventure|Sci-Fi</td>\n",
              "      <td>0.711310</td>\n",
              "    </tr>\n",
              "    <tr>\n",
              "      <th>1220</th>\n",
              "      <td>1240</td>\n",
              "      <td>Terminator, The (1984)</td>\n",
              "      <td>Action|Sci-Fi|Thriller</td>\n",
              "      <td>0.689192</td>\n",
              "    </tr>\n",
              "    <tr>\n",
              "      <th>770</th>\n",
              "      <td>780</td>\n",
              "      <td>Independence Day (ID4) (1996)</td>\n",
              "      <td>Action|Sci-Fi|War</td>\n",
              "      <td>0.677831</td>\n",
              "    </tr>\n",
              "    <tr>\n",
              "      <th>352</th>\n",
              "      <td>356</td>\n",
              "      <td>Forrest Gump (1994)</td>\n",
              "      <td>Comedy|Romance|War</td>\n",
              "      <td>0.561002</td>\n",
              "    </tr>\n",
              "    <tr>\n",
              "      <th>1182</th>\n",
              "      <td>1200</td>\n",
              "      <td>Aliens (1986)</td>\n",
              "      <td>Action|Sci-Fi|Thriller|War</td>\n",
              "      <td>0.556560</td>\n",
              "    </tr>\n",
              "    <tr>\n",
              "      <th>2647</th>\n",
              "      <td>2716</td>\n",
              "      <td>Ghostbusters (1984)</td>\n",
              "      <td>Comedy|Horror</td>\n",
              "      <td>0.551746</td>\n",
              "    </tr>\n",
              "    <tr>\n",
              "      <th>1335</th>\n",
              "      <td>1356</td>\n",
              "      <td>Star Trek: First Contact (1996)</td>\n",
              "      <td>Action|Adventure|Sci-Fi</td>\n",
              "      <td>0.546353</td>\n",
              "    </tr>\n",
              "    <tr>\n",
              "      <th>313</th>\n",
              "      <td>316</td>\n",
              "      <td>Stargate (1994)</td>\n",
              "      <td>Action|Adventure|Sci-Fi</td>\n",
              "      <td>0.540068</td>\n",
              "    </tr>\n",
              "    <tr>\n",
              "      <th>2847</th>\n",
              "      <td>2916</td>\n",
              "      <td>Total Recall (1990)</td>\n",
              "      <td>Action|Adventure|Sci-Fi|Thriller</td>\n",
              "      <td>0.516069</td>\n",
              "    </tr>\n",
              "    <tr>\n",
              "      <th>2728</th>\n",
              "      <td>2797</td>\n",
              "      <td>Big (1988)</td>\n",
              "      <td>Comedy|Fantasy</td>\n",
              "      <td>0.513642</td>\n",
              "    </tr>\n",
              "  </tbody>\n",
              "</table>\n",
              "</div>"
            ],
            "text/plain": [
              "      MovieID                                              Title  \\\n",
              "257       260          Star Wars: Episode IV - A New Hope (1977)   \n",
              "1178     1196  Star Wars: Episode V - The Empire Strikes Back...   \n",
              "1192     1210  Star Wars: Episode VI - Return of the Jedi (1983)   \n",
              "1250     1270                          Back to the Future (1985)   \n",
              "2559     2628   Star Wars: Episode I - The Phantom Menace (1999)   \n",
              "1081     1097                  E.T. the Extra-Terrestrial (1982)   \n",
              "1180     1198                     Raiders of the Lost Ark (1981)   \n",
              "585       589                  Terminator 2: Judgment Day (1991)   \n",
              "2502     2571                                 Matrix, The (1999)   \n",
              "1539     1580                                Men in Black (1997)   \n",
              "476       480                               Jurassic Park (1993)   \n",
              "1220     1240                             Terminator, The (1984)   \n",
              "770       780                      Independence Day (ID4) (1996)   \n",
              "352       356                                Forrest Gump (1994)   \n",
              "1182     1200                                      Aliens (1986)   \n",
              "2647     2716                                Ghostbusters (1984)   \n",
              "1335     1356                    Star Trek: First Contact (1996)   \n",
              "313       316                                    Stargate (1994)   \n",
              "2847     2916                                Total Recall (1990)   \n",
              "2728     2797                                         Big (1988)   \n",
              "\n",
              "                                   Genres  RecommendationScore  \n",
              "257       Action|Adventure|Fantasy|Sci-Fi             0.999974  \n",
              "1178    Action|Adventure|Drama|Sci-Fi|War             0.975419  \n",
              "1192  Action|Adventure|Romance|Sci-Fi|War             0.925193  \n",
              "1250                        Comedy|Sci-Fi             0.876394  \n",
              "2559      Action|Adventure|Fantasy|Sci-Fi             0.858821  \n",
              "1081      Children's|Drama|Fantasy|Sci-Fi             0.798336  \n",
              "1180                     Action|Adventure             0.736735  \n",
              "585                Action|Sci-Fi|Thriller             0.734500  \n",
              "2502               Action|Sci-Fi|Thriller             0.729498  \n",
              "1539       Action|Adventure|Comedy|Sci-Fi             0.719394  \n",
              "476               Action|Adventure|Sci-Fi             0.711310  \n",
              "1220               Action|Sci-Fi|Thriller             0.689192  \n",
              "770                     Action|Sci-Fi|War             0.677831  \n",
              "352                    Comedy|Romance|War             0.561002  \n",
              "1182           Action|Sci-Fi|Thriller|War             0.556560  \n",
              "2647                        Comedy|Horror             0.551746  \n",
              "1335              Action|Adventure|Sci-Fi             0.546353  \n",
              "313               Action|Adventure|Sci-Fi             0.540068  \n",
              "2847     Action|Adventure|Sci-Fi|Thriller             0.516069  \n",
              "2728                       Comedy|Fantasy             0.513642  "
            ]
          },
          "metadata": {
            "tags": []
          },
          "execution_count": 19
        }
      ]
    },
    {
      "cell_type": "markdown",
      "metadata": {
        "id": "ooQmQIhKNU82",
        "colab_type": "text"
      },
      "source": [
        "So, how to recommend the movies that the user has not watched yet? "
      ]
    },
    {
      "cell_type": "markdown",
      "metadata": {
        "id": "51SW79GQNU83",
        "colab_type": "text"
      },
      "source": [
        "Now, we can find all the movies that our mock user has watched before:"
      ]
    },
    {
      "cell_type": "code",
      "metadata": {
        "id": "-O8DTtAyNU84",
        "colab_type": "code",
        "colab": {},
        "outputId": "f1873b22-3c82-447e-a4d4-dbe1a9ca85fc"
      },
      "source": [
        "movies_df_mock = ratings_df[ratings_df['UserID'] == mock_user_id]\n",
        "movies_df_mock.head()"
      ],
      "execution_count": 0,
      "outputs": [
        {
          "output_type": "execute_result",
          "data": {
            "text/html": [
              "<div>\n",
              "<style scoped>\n",
              "    .dataframe tbody tr th:only-of-type {\n",
              "        vertical-align: middle;\n",
              "    }\n",
              "\n",
              "    .dataframe tbody tr th {\n",
              "        vertical-align: top;\n",
              "    }\n",
              "\n",
              "    .dataframe thead th {\n",
              "        text-align: right;\n",
              "    }\n",
              "</style>\n",
              "<table border=\"1\" class=\"dataframe\">\n",
              "  <thead>\n",
              "    <tr style=\"text-align: right;\">\n",
              "      <th></th>\n",
              "      <th>UserID</th>\n",
              "      <th>MovieID</th>\n",
              "      <th>Rating</th>\n",
              "      <th>Timestamp</th>\n",
              "    </tr>\n",
              "  </thead>\n",
              "  <tbody>\n",
              "    <tr>\n",
              "      <th>31603</th>\n",
              "      <td>215</td>\n",
              "      <td>3793</td>\n",
              "      <td>5</td>\n",
              "      <td>977099259</td>\n",
              "    </tr>\n",
              "    <tr>\n",
              "      <th>31604</th>\n",
              "      <td>215</td>\n",
              "      <td>1</td>\n",
              "      <td>4</td>\n",
              "      <td>979174987</td>\n",
              "    </tr>\n",
              "    <tr>\n",
              "      <th>31605</th>\n",
              "      <td>215</td>\n",
              "      <td>1197</td>\n",
              "      <td>5</td>\n",
              "      <td>976899663</td>\n",
              "    </tr>\n",
              "    <tr>\n",
              "      <th>31606</th>\n",
              "      <td>215</td>\n",
              "      <td>2302</td>\n",
              "      <td>5</td>\n",
              "      <td>976899718</td>\n",
              "    </tr>\n",
              "    <tr>\n",
              "      <th>31607</th>\n",
              "      <td>215</td>\n",
              "      <td>2167</td>\n",
              "      <td>5</td>\n",
              "      <td>976899770</td>\n",
              "    </tr>\n",
              "  </tbody>\n",
              "</table>\n",
              "</div>"
            ],
            "text/plain": [
              "       UserID  MovieID  Rating  Timestamp\n",
              "31603     215     3793       5  977099259\n",
              "31604     215        1       4  979174987\n",
              "31605     215     1197       5  976899663\n",
              "31606     215     2302       5  976899718\n",
              "31607     215     2167       5  976899770"
            ]
          },
          "metadata": {
            "tags": []
          },
          "execution_count": 20
        }
      ]
    },
    {
      "cell_type": "markdown",
      "metadata": {
        "id": "6YPq57DMNU87",
        "colab_type": "text"
      },
      "source": [
        "In the next cell, we merge all the movies that our mock users has watched with the predicted scores based on his historical data:"
      ]
    },
    {
      "cell_type": "code",
      "metadata": {
        "id": "occERK8TNU88",
        "colab_type": "code",
        "colab": {}
      },
      "source": [
        "#Merging movies_df with ratings_df by MovieID\n",
        "merged_df_mock = scored_movies_df_mock.merge(movies_df_mock, on='MovieID', how='outer')"
      ],
      "execution_count": 0,
      "outputs": []
    },
    {
      "cell_type": "markdown",
      "metadata": {
        "id": "d3Rek54_NU8-",
        "colab_type": "text"
      },
      "source": [
        "lets sort it and take a look at the first 20 rows:"
      ]
    },
    {
      "cell_type": "code",
      "metadata": {
        "id": "kQhLhxw7NU8_",
        "colab_type": "code",
        "colab": {},
        "outputId": "ffba17ed-315c-4899-eaf4-e622cf02ff1c"
      },
      "source": [
        "merged_df_mock.sort_values([\"RecommendationScore\"], ascending=False).head(20)"
      ],
      "execution_count": 0,
      "outputs": [
        {
          "output_type": "execute_result",
          "data": {
            "text/html": [
              "<div>\n",
              "<style scoped>\n",
              "    .dataframe tbody tr th:only-of-type {\n",
              "        vertical-align: middle;\n",
              "    }\n",
              "\n",
              "    .dataframe tbody tr th {\n",
              "        vertical-align: top;\n",
              "    }\n",
              "\n",
              "    .dataframe thead th {\n",
              "        text-align: right;\n",
              "    }\n",
              "</style>\n",
              "<table border=\"1\" class=\"dataframe\">\n",
              "  <thead>\n",
              "    <tr style=\"text-align: right;\">\n",
              "      <th></th>\n",
              "      <th>MovieID</th>\n",
              "      <th>Title</th>\n",
              "      <th>Genres</th>\n",
              "      <th>RecommendationScore</th>\n",
              "      <th>UserID</th>\n",
              "      <th>Rating</th>\n",
              "      <th>Timestamp</th>\n",
              "    </tr>\n",
              "  </thead>\n",
              "  <tbody>\n",
              "    <tr>\n",
              "      <th>253</th>\n",
              "      <td>260</td>\n",
              "      <td>Star Wars: Episode IV - A New Hope (1977)</td>\n",
              "      <td>Action|Adventure|Fantasy|Sci-Fi</td>\n",
              "      <td>0.999974</td>\n",
              "      <td>215.0</td>\n",
              "      <td>5.0</td>\n",
              "      <td>976899190.0</td>\n",
              "    </tr>\n",
              "    <tr>\n",
              "      <th>1106</th>\n",
              "      <td>1196</td>\n",
              "      <td>Star Wars: Episode V - The Empire Strikes Back...</td>\n",
              "      <td>Action|Adventure|Drama|Sci-Fi|War</td>\n",
              "      <td>0.975419</td>\n",
              "      <td>NaN</td>\n",
              "      <td>NaN</td>\n",
              "      <td>NaN</td>\n",
              "    </tr>\n",
              "    <tr>\n",
              "      <th>1120</th>\n",
              "      <td>1210</td>\n",
              "      <td>Star Wars: Episode VI - Return of the Jedi (1983)</td>\n",
              "      <td>Action|Adventure|Romance|Sci-Fi|War</td>\n",
              "      <td>0.925193</td>\n",
              "      <td>215.0</td>\n",
              "      <td>5.0</td>\n",
              "      <td>976899689.0</td>\n",
              "    </tr>\n",
              "    <tr>\n",
              "      <th>1178</th>\n",
              "      <td>1270</td>\n",
              "      <td>Back to the Future (1985)</td>\n",
              "      <td>Comedy|Sci-Fi</td>\n",
              "      <td>0.876394</td>\n",
              "      <td>NaN</td>\n",
              "      <td>NaN</td>\n",
              "      <td>NaN</td>\n",
              "    </tr>\n",
              "    <tr>\n",
              "      <th>2426</th>\n",
              "      <td>2628</td>\n",
              "      <td>Star Wars: Episode I - The Phantom Menace (1999)</td>\n",
              "      <td>Action|Adventure|Fantasy|Sci-Fi</td>\n",
              "      <td>0.858821</td>\n",
              "      <td>215.0</td>\n",
              "      <td>5.0</td>\n",
              "      <td>976908635.0</td>\n",
              "    </tr>\n",
              "    <tr>\n",
              "      <th>1025</th>\n",
              "      <td>1097</td>\n",
              "      <td>E.T. the Extra-Terrestrial (1982)</td>\n",
              "      <td>Children's|Drama|Fantasy|Sci-Fi</td>\n",
              "      <td>0.798336</td>\n",
              "      <td>215.0</td>\n",
              "      <td>5.0</td>\n",
              "      <td>976908468.0</td>\n",
              "    </tr>\n",
              "    <tr>\n",
              "      <th>1108</th>\n",
              "      <td>1198</td>\n",
              "      <td>Raiders of the Lost Ark (1981)</td>\n",
              "      <td>Action|Adventure</td>\n",
              "      <td>0.736735</td>\n",
              "      <td>NaN</td>\n",
              "      <td>NaN</td>\n",
              "      <td>NaN</td>\n",
              "    </tr>\n",
              "    <tr>\n",
              "      <th>575</th>\n",
              "      <td>589</td>\n",
              "      <td>Terminator 2: Judgment Day (1991)</td>\n",
              "      <td>Action|Sci-Fi|Thriller</td>\n",
              "      <td>0.734500</td>\n",
              "      <td>NaN</td>\n",
              "      <td>NaN</td>\n",
              "      <td>NaN</td>\n",
              "    </tr>\n",
              "    <tr>\n",
              "      <th>2374</th>\n",
              "      <td>2571</td>\n",
              "      <td>Matrix, The (1999)</td>\n",
              "      <td>Action|Sci-Fi|Thriller</td>\n",
              "      <td>0.729498</td>\n",
              "      <td>NaN</td>\n",
              "      <td>NaN</td>\n",
              "      <td>NaN</td>\n",
              "    </tr>\n",
              "    <tr>\n",
              "      <th>1449</th>\n",
              "      <td>1580</td>\n",
              "      <td>Men in Black (1997)</td>\n",
              "      <td>Action|Adventure|Comedy|Sci-Fi</td>\n",
              "      <td>0.719394</td>\n",
              "      <td>NaN</td>\n",
              "      <td>NaN</td>\n",
              "      <td>NaN</td>\n",
              "    </tr>\n",
              "    <tr>\n",
              "      <th>466</th>\n",
              "      <td>480</td>\n",
              "      <td>Jurassic Park (1993)</td>\n",
              "      <td>Action|Adventure|Sci-Fi</td>\n",
              "      <td>0.711310</td>\n",
              "      <td>215.0</td>\n",
              "      <td>5.0</td>\n",
              "      <td>976899784.0</td>\n",
              "    </tr>\n",
              "    <tr>\n",
              "      <th>1148</th>\n",
              "      <td>1240</td>\n",
              "      <td>Terminator, The (1984)</td>\n",
              "      <td>Action|Sci-Fi|Thriller</td>\n",
              "      <td>0.689192</td>\n",
              "      <td>NaN</td>\n",
              "      <td>NaN</td>\n",
              "      <td>NaN</td>\n",
              "    </tr>\n",
              "    <tr>\n",
              "      <th>737</th>\n",
              "      <td>780</td>\n",
              "      <td>Independence Day (ID4) (1996)</td>\n",
              "      <td>Action|Sci-Fi|War</td>\n",
              "      <td>0.677831</td>\n",
              "      <td>NaN</td>\n",
              "      <td>NaN</td>\n",
              "      <td>NaN</td>\n",
              "    </tr>\n",
              "    <tr>\n",
              "      <th>346</th>\n",
              "      <td>356</td>\n",
              "      <td>Forrest Gump (1994)</td>\n",
              "      <td>Comedy|Romance|War</td>\n",
              "      <td>0.561002</td>\n",
              "      <td>215.0</td>\n",
              "      <td>5.0</td>\n",
              "      <td>979174998.0</td>\n",
              "    </tr>\n",
              "    <tr>\n",
              "      <th>1110</th>\n",
              "      <td>1200</td>\n",
              "      <td>Aliens (1986)</td>\n",
              "      <td>Action|Sci-Fi|Thriller|War</td>\n",
              "      <td>0.556560</td>\n",
              "      <td>NaN</td>\n",
              "      <td>NaN</td>\n",
              "      <td>NaN</td>\n",
              "    </tr>\n",
              "    <tr>\n",
              "      <th>2511</th>\n",
              "      <td>2716</td>\n",
              "      <td>Ghostbusters (1984)</td>\n",
              "      <td>Comedy|Horror</td>\n",
              "      <td>0.551746</td>\n",
              "      <td>NaN</td>\n",
              "      <td>NaN</td>\n",
              "      <td>NaN</td>\n",
              "    </tr>\n",
              "    <tr>\n",
              "      <th>1258</th>\n",
              "      <td>1356</td>\n",
              "      <td>Star Trek: First Contact (1996)</td>\n",
              "      <td>Action|Adventure|Sci-Fi</td>\n",
              "      <td>0.546353</td>\n",
              "      <td>NaN</td>\n",
              "      <td>NaN</td>\n",
              "      <td>NaN</td>\n",
              "    </tr>\n",
              "    <tr>\n",
              "      <th>307</th>\n",
              "      <td>316</td>\n",
              "      <td>Stargate (1994)</td>\n",
              "      <td>Action|Adventure|Sci-Fi</td>\n",
              "      <td>0.540068</td>\n",
              "      <td>215.0</td>\n",
              "      <td>4.0</td>\n",
              "      <td>976908635.0</td>\n",
              "    </tr>\n",
              "    <tr>\n",
              "      <th>2708</th>\n",
              "      <td>2916</td>\n",
              "      <td>Total Recall (1990)</td>\n",
              "      <td>Action|Adventure|Sci-Fi|Thriller</td>\n",
              "      <td>0.516069</td>\n",
              "      <td>215.0</td>\n",
              "      <td>4.0</td>\n",
              "      <td>976908547.0</td>\n",
              "    </tr>\n",
              "    <tr>\n",
              "      <th>2592</th>\n",
              "      <td>2797</td>\n",
              "      <td>Big (1988)</td>\n",
              "      <td>Comedy|Fantasy</td>\n",
              "      <td>0.513642</td>\n",
              "      <td>NaN</td>\n",
              "      <td>NaN</td>\n",
              "      <td>NaN</td>\n",
              "    </tr>\n",
              "  </tbody>\n",
              "</table>\n",
              "</div>"
            ],
            "text/plain": [
              "      MovieID                                              Title  \\\n",
              "253       260          Star Wars: Episode IV - A New Hope (1977)   \n",
              "1106     1196  Star Wars: Episode V - The Empire Strikes Back...   \n",
              "1120     1210  Star Wars: Episode VI - Return of the Jedi (1983)   \n",
              "1178     1270                          Back to the Future (1985)   \n",
              "2426     2628   Star Wars: Episode I - The Phantom Menace (1999)   \n",
              "1025     1097                  E.T. the Extra-Terrestrial (1982)   \n",
              "1108     1198                     Raiders of the Lost Ark (1981)   \n",
              "575       589                  Terminator 2: Judgment Day (1991)   \n",
              "2374     2571                                 Matrix, The (1999)   \n",
              "1449     1580                                Men in Black (1997)   \n",
              "466       480                               Jurassic Park (1993)   \n",
              "1148     1240                             Terminator, The (1984)   \n",
              "737       780                      Independence Day (ID4) (1996)   \n",
              "346       356                                Forrest Gump (1994)   \n",
              "1110     1200                                      Aliens (1986)   \n",
              "2511     2716                                Ghostbusters (1984)   \n",
              "1258     1356                    Star Trek: First Contact (1996)   \n",
              "307       316                                    Stargate (1994)   \n",
              "2708     2916                                Total Recall (1990)   \n",
              "2592     2797                                         Big (1988)   \n",
              "\n",
              "                                   Genres  RecommendationScore  UserID  \\\n",
              "253       Action|Adventure|Fantasy|Sci-Fi             0.999974   215.0   \n",
              "1106    Action|Adventure|Drama|Sci-Fi|War             0.975419     NaN   \n",
              "1120  Action|Adventure|Romance|Sci-Fi|War             0.925193   215.0   \n",
              "1178                        Comedy|Sci-Fi             0.876394     NaN   \n",
              "2426      Action|Adventure|Fantasy|Sci-Fi             0.858821   215.0   \n",
              "1025      Children's|Drama|Fantasy|Sci-Fi             0.798336   215.0   \n",
              "1108                     Action|Adventure             0.736735     NaN   \n",
              "575                Action|Sci-Fi|Thriller             0.734500     NaN   \n",
              "2374               Action|Sci-Fi|Thriller             0.729498     NaN   \n",
              "1449       Action|Adventure|Comedy|Sci-Fi             0.719394     NaN   \n",
              "466               Action|Adventure|Sci-Fi             0.711310   215.0   \n",
              "1148               Action|Sci-Fi|Thriller             0.689192     NaN   \n",
              "737                     Action|Sci-Fi|War             0.677831     NaN   \n",
              "346                    Comedy|Romance|War             0.561002   215.0   \n",
              "1110           Action|Sci-Fi|Thriller|War             0.556560     NaN   \n",
              "2511                        Comedy|Horror             0.551746     NaN   \n",
              "1258              Action|Adventure|Sci-Fi             0.546353     NaN   \n",
              "307               Action|Adventure|Sci-Fi             0.540068   215.0   \n",
              "2708     Action|Adventure|Sci-Fi|Thriller             0.516069   215.0   \n",
              "2592                       Comedy|Fantasy             0.513642     NaN   \n",
              "\n",
              "      Rating    Timestamp  \n",
              "253      5.0  976899190.0  \n",
              "1106     NaN          NaN  \n",
              "1120     5.0  976899689.0  \n",
              "1178     NaN          NaN  \n",
              "2426     5.0  976908635.0  \n",
              "1025     5.0  976908468.0  \n",
              "1108     NaN          NaN  \n",
              "575      NaN          NaN  \n",
              "2374     NaN          NaN  \n",
              "1449     NaN          NaN  \n",
              "466      5.0  976899784.0  \n",
              "1148     NaN          NaN  \n",
              "737      NaN          NaN  \n",
              "346      5.0  979174998.0  \n",
              "1110     NaN          NaN  \n",
              "2511     NaN          NaN  \n",
              "1258     NaN          NaN  \n",
              "307      4.0  976908635.0  \n",
              "2708     4.0  976908547.0  \n",
              "2592     NaN          NaN  "
            ]
          },
          "metadata": {
            "tags": []
          },
          "execution_count": 22
        }
      ]
    },
    {
      "cell_type": "markdown",
      "metadata": {
        "id": "zF6Rm-VJNU9C",
        "colab_type": "text"
      },
      "source": [
        "As you can see, there are some movies that user has not watched yet and has high score based on our model. So, we can recommend them to the user."
      ]
    },
    {
      "cell_type": "markdown",
      "metadata": {
        "id": "QjSaW3WWNU9D",
        "colab_type": "text"
      },
      "source": [
        "This is the end of the module. If you want, you can try to change the parameters in the code -- adding more units to the hidden layer, changing the loss functions or maybe something else to see if it changes anything. Does the model perform better? Does it take longer to compute?\n",
        "\n",
        "Thank you for reading this notebook. Hopefully, you now have a little more understanding of the RBM model, its applications and how it works with TensorFlow."
      ]
    },
    {
      "cell_type": "markdown",
      "metadata": {
        "id": "lGeNUXlkNU9D",
        "colab_type": "text"
      },
      "source": [
        "<hr>"
      ]
    },
    {
      "cell_type": "markdown",
      "metadata": {
        "id": "N6DRpAmfNU9E",
        "colab_type": "text"
      },
      "source": [
        "## Want to learn more?\n",
        "\n",
        "Running deep learning programs usually needs a high performance platform. __PowerAI__ speeds up deep learning and AI. Built on IBM’s Power Systems, __PowerAI__ is a scalable software platform that accelerates deep learning and AI with blazing performance for individual users or enterprises. The __PowerAI__ platform supports popular machine learning libraries and dependencies including TensorFlow, Caffe, Torch, and Theano. You can use [PowerAI on IMB Cloud](https://cocl.us/ML0120EN_PAI).\n",
        "\n",
        "Also, you can use __Watson Studio__ to run these notebooks faster with bigger datasets.__Watson Studio__ is IBM’s leading cloud solution for data scientists, built by data scientists. With Jupyter notebooks, RStudio, Apache Spark and popular libraries pre-packaged in the cloud, __Watson Studio__ enables data scientists to collaborate on their projects without having to install anything. Join the fast-growing community of __Watson Studio__ users today with a free account at [Watson Studio](https://cocl.us/ML0120EN_DSX).This is the end of this lesson. Thank you for reading this notebook, and good luck on your studies."
      ]
    },
    {
      "cell_type": "markdown",
      "metadata": {
        "id": "QXqj-zS8NU9F",
        "colab_type": "text"
      },
      "source": [
        "### Thank you for completing this exercise!\n",
        "\n",
        "Notebook created by: <a href = \"https://ca.linkedin.com/in/saeedaghabozorgi\">Saeed Aghabozorgi</a>, Gabriel Garcez Barros Sousa"
      ]
    },
    {
      "cell_type": "markdown",
      "metadata": {
        "id": "dy6zzdkdNU9I",
        "colab_type": "text"
      },
      "source": [
        "<hr>\n",
        "\n",
        "Copyright &copy; 2018 [Cognitive Class](https://cocl.us/DX0108EN_CC). This notebook and its source code are released under the terms of the [MIT License](https://bigdatauniversity.com/mit-license/)."
      ]
    }
  ]
}