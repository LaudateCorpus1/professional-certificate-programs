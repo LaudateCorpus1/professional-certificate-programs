{
  "nbformat": 4,
  "nbformat_minor": 0,
  "metadata": {
    "kernelspec": {
      "display_name": "Python",
      "language": "python",
      "name": "conda-env-python-py"
    },
    "language_info": {
      "codemirror_mode": {
        "name": "ipython",
        "version": 3
      },
      "file_extension": ".py",
      "mimetype": "text/x-python",
      "name": "python",
      "nbconvert_exporter": "python",
      "pygments_lexer": "ipython3",
      "version": "3.6.7"
    },
    "colab": {
      "name": "ML0120EN-4.1-Review-RBMMNIST.ipynb",
      "provenance": [],
      "collapsed_sections": [
        "MNWQBhX-erFO",
        "GkpdiwxKerFO",
        "kKrcI1T8erFO"
      ]
    }
  },
  "cells": [
    {
      "cell_type": "markdown",
      "metadata": {
        "id": "Uz0viN0qerDG",
        "colab_type": "text"
      },
      "source": [
        "<a href=\"https://www.bigdatauniversity.com\"><img src=\"https://ibm.box.com/shared/static/qo20b88v1hbjztubt06609ovs85q8fau.png\" width=\"400px\" align=\"center\"></a>\n",
        "\n",
        "<h1 align=\"center\"><font size=\"5\">RESTRICTED BOLTZMANN MACHINES</font></h1>"
      ]
    },
    {
      "cell_type": "markdown",
      "metadata": {
        "id": "GoUeYgsxerDI",
        "colab_type": "text"
      },
      "source": [
        "<h3>Introduction</h3>\n",
        "<b>Restricted Boltzmann Machine (RBM):</b>  RBMs are shallow neural nets that learn to reconstruct data by themselves in an unsupervised fashion.  \n",
        "\n",
        "\n",
        "<h4>Why are RBMs important?</h4>\n",
        "It can automatically extract <b>meaningful</b> features from a given input.\n",
        "\n",
        "\n",
        "<h4>How does it work?</h4>\n",
        "RBM is a 2 layer neural network. Simply, RBM takes the inputs and translates those into a set of binary values that represents them in the hidden layer. Then, these numbers can be translated back to reconstruct the inputs. Through several forward and backward passes, the RBM will be trained, and a trained RBM can reveal which features are the most important ones when detecting patterns.   \n",
        "\n",
        "\n",
        "<h4>What are the applications of RBM?</h4>\n",
        "RBM is useful for <a href='http://www.cs.utoronto.ca/~hinton/absps/netflixICML.pdf'>  Collaborative Filtering</a>, dimensionality reduction, classification, regression, feature learning, topic modeling and even <b>Deep Belief Networks</b>.\n",
        "\n",
        "\n",
        "\n",
        "<h4>Is RBM a generative or Discriminative model?</h4>\n",
        "RBM is a generative model. Let me explain it by first, see what is different between discriminative and generative models: \n",
        "\n",
        "<b>Discriminative:</b> Consider a classification problem in which we want to learn to distinguish between Sedan cars (y = 1) and SUV cars (y = 0), based on some features of cars. Given a training set, an algorithm like logistic regression tries to find a straight line—that is, a decision boundary—that separates the suv and sedan.  \n",
        "<b>Generative:</b> looking at cars, we can build a model of what Sedan cars look like. Then, looking at SUVs, we can build a separate model of what SUV cars look like. Finally, to classify a new car, we can match the new car against the Sedan model, and match it against the SUV model, to see whether the new car looks more like the SUV or Sedan. \n",
        "\n",
        "Generative Models specify a probability distribution over a dataset of input vectors. We can do both supervise and unsupervised tasks with generative models:\n",
        "<ul>\n",
        "    <li>In an unsupervised task, we try to form a model for P(x), where P is the probability given x as an input vector.</li>\n",
        "    <li>In the supervised task, we first form a model for P(x|y), where P is the probability of x given y(the label for x). For example, if y = 0 indicates whether a car is a SUV or y = 1 indicates indicate a car is a Sedan, then p(x|y = 0) models the distribution of SUVs’ features, and p(x|y = 1) models the distribution of Sedans’ features. If we manage to find P(x|y) and P(y), then we can use <code>Bayes rule</code> to estimate P(y|x), because: $$p(y|x) = \\frac{p(x|y)p(y)}{p(x)}$$</li>\n",
        "</ul>\n",
        "Now the question is, can we build a generative model, and then use it to create synthetic data by directly sampling from the modeled probability distributions? Lets see. "
      ]
    },
    {
      "cell_type": "markdown",
      "metadata": {
        "id": "usVDLVg7erDJ",
        "colab_type": "text"
      },
      "source": [
        "<h2>Table of Contents</h2>\n",
        "<ol>\n",
        "    <li><a href=\"#ref1\">Initialization</a></li>\n",
        "    <li><a href=\"#ref2\">RBM layers</a></li>\n",
        "    <li><a href=\"#ref3\">What RBM can do after training?</a></li>\n",
        "    <li><a href=\"#ref4\">How to train the model?</a></li>\n",
        "    <li><a href=\"#ref5\">Learned features</a></li>\n",
        "</ol>\n",
        "<p></p>\n",
        "</div>\n",
        "<br>\n",
        "\n",
        "<hr>"
      ]
    },
    {
      "cell_type": "markdown",
      "metadata": {
        "id": "YwDBxm1gerDJ",
        "colab_type": "text"
      },
      "source": [
        "<a id=\"ref1\"></a>\n",
        "<h3>Initialization</h3>\n",
        "\n",
        "First we have to load the utility file which contains different utility functions that are not connected\n",
        "in any way to the networks presented in the tutorials, but rather help in\n",
        "processing the outputs into a more understandable way."
      ]
    },
    {
      "cell_type": "code",
      "metadata": {
        "id": "abWNXhoyerDK",
        "colab_type": "code",
        "colab": {}
      },
      "source": [
        "import urllib.request\n",
        "with urllib.request.urlopen(\"http://deeplearning.net/tutorial/code/utils.py\") as url:\n",
        "    response = url.read()\n",
        "target = open('utils.py', 'w')\n",
        "target.write(response.decode('utf-8'))\n",
        "target.close()"
      ],
      "execution_count": 0,
      "outputs": []
    },
    {
      "cell_type": "markdown",
      "metadata": {
        "id": "J7E3QPecerDQ",
        "colab_type": "text"
      },
      "source": [
        "Now, we load in all the packages that we use to create the net including the TensorFlow package:"
      ]
    },
    {
      "cell_type": "code",
      "metadata": {
        "id": "a4_8OXZjerDQ",
        "colab_type": "code",
        "colab": {
          "base_uri": "https://localhost:8080/",
          "height": 35
        },
        "outputId": "953cd98f-a9ca-4646-aa10-37646f8354ab"
      },
      "source": [
        "%tensorflow_version 1.x\n",
        "import tensorflow as tf\n",
        "import numpy as np\n",
        "from tensorflow.examples.tutorials.mnist import input_data\n",
        "#!pip install pillow\n",
        "from PIL import Image\n",
        "from utils import tile_raster_images\n",
        "import matplotlib.pyplot as plt\n",
        "%matplotlib inline"
      ],
      "execution_count": 4,
      "outputs": [
        {
          "output_type": "stream",
          "text": [
            "TensorFlow is already loaded. Please restart the runtime to change versions.\n"
          ],
          "name": "stdout"
        }
      ]
    },
    {
      "cell_type": "markdown",
      "metadata": {
        "id": "DszZaspzerDU",
        "colab_type": "text"
      },
      "source": [
        "<hr>"
      ]
    },
    {
      "cell_type": "markdown",
      "metadata": {
        "id": "Ed1xtw8gerDV",
        "colab_type": "text"
      },
      "source": [
        "<a id=\"ref2\"></a>\n",
        "<h3>RBM layers</h3>\n",
        "\n",
        "An RBM has two layers. The first layer of the RBM is called the <b>visible</b> (or input layer). Imagine that our toy example, has only vectors with 7 values, so the visible layer must have j=7 input nodes. \n",
        "The second layer is the <b>hidden</b> layer, which possesses i neurons in our case. Each hidden node can have either 0 or 1 values (i.e., si = 1 or si = 0) with a probability that is a logistic function of the inputs it receives from the other j visible units, called for example, p(si = 1). For our toy sample, we'll use 2 nodes in the hidden layer, so i = 2.\n",
        "\n",
        "<center><img src=\"https://ibm.box.com/shared/static/eu26opvcefgls6vnwuo29uwp0nudmokh.png\" alt=\"RBM Model\" style=\"width: 400px;\"></center>"
      ]
    },
    {
      "cell_type": "markdown",
      "metadata": {
        "id": "Nk9GZgfJerDW",
        "colab_type": "text"
      },
      "source": [
        "     \n",
        "\n",
        "Each node in the first layer also has a <b>bias</b>. We will denote the bias as “v_bias” for the visible units. The <b>v_bias</b> is shared among all visible units.\n",
        "\n",
        "Here we define the <b>bias</b> of second layer as well. We will denote the bias as “h_bias” for the hidden units. The <b>h_bias</b> is shared among all hidden units"
      ]
    },
    {
      "cell_type": "code",
      "metadata": {
        "id": "kOHaF6YcerDW",
        "colab_type": "code",
        "colab": {}
      },
      "source": [
        "v_bias = tf.placeholder(\"float\", [7])\n",
        "h_bias = tf.placeholder(\"float\", [2])"
      ],
      "execution_count": 0,
      "outputs": []
    },
    {
      "cell_type": "markdown",
      "metadata": {
        "id": "wF1Kf9IkerDa",
        "colab_type": "text"
      },
      "source": [
        "We have to define weights among the input layer and hidden layer nodes. In the weight matrix, the number of rows are equal to the input nodes, and the number of columns are equal to the output nodes. Let <b>W</b> be the Tensor of 7x2 (7 - number of visible neurons, 2 - number of hidden neurons) that represents weights between neurons. "
      ]
    },
    {
      "cell_type": "code",
      "metadata": {
        "id": "mGVKb18uerDa",
        "colab_type": "code",
        "colab": {}
      },
      "source": [
        "W = tf.constant(np.random.normal(loc=0.0, scale=1.0, size=(7, 2)).astype(np.float32))"
      ],
      "execution_count": 0,
      "outputs": []
    },
    {
      "cell_type": "markdown",
      "metadata": {
        "id": "fWxiRzkjerDe",
        "colab_type": "text"
      },
      "source": [
        "<hr>"
      ]
    },
    {
      "cell_type": "markdown",
      "metadata": {
        "id": "SguOd1KterDe",
        "colab_type": "text"
      },
      "source": [
        "<a id=\"ref3\"></a>\n",
        "<h3>What RBM can do after training?</h3>\n",
        "Think RBM as a model that has been trained based on images of a dataset of many SUV and Sedan cars. Also, imagine that the RBM network has only two hidden nodes, one for the weight and, and one for the size of cars, which in a sense, their different configurations represent different cars, one represent SUV cars and one for Sedan. In a training process, through many forward and backward passes, RBM adjust its weights to send a stronger signal to either the SUV node (0, 1) or the Sedan node (1, 0) in the hidden layer, given the pixels of images. Now, given a SUV in hidden layer, which distribution of pixels should we expect? RBM can give you 2 things. First, it encodes your images in hidden layer. Second, it gives you the probability of observing a case, given some hidden values.\n",
        "\n",
        "\n",
        "<h3>How to inference?</h3>\n",
        "\n",
        "RBM has two phases:\n",
        "<ul>\n",
        "    <li>Forward Pass</li>  \n",
        "    <li>Backward Pass or Reconstruction</li>\n",
        "</ul>\n",
        "\n",
        "<b>Phase 1) Forward pass:</b>  Input one training sample (one image) <b>X</b> through all visible nodes, and pass it to all hidden nodes. Processing happens in each node in the hidden layer. This computation begins by making stochastic decisions about whether to transmit that input or not (i.e. to determine the state of each hidden layer). At the hidden layer's nodes, <b>X</b> is multiplied by a <b>$W_{ij}$</b> and added to <b>h_bias</b>. The result of those two operations is fed into the sigmoid function, which produces the node’s output, $p({h_j})$, where j is the unit number. \n",
        "\n",
        "\n",
        "$p({h_j})= \\sigma(\\sum_i w_{ij} x_i)$, where $\\sigma()$ is the logistic function.\n",
        "\n",
        "\n",
        "Now lets see what $p({h_j})$ represents. In fact, it is the probabilities of the hidden units. And, all values together are called <b>probability distribution</b>. That is, RBM uses inputs x to make predictions about hidden node activations. For example, imagine that the values of $h_p$ for the first training item is [0.51 0.84]. It tells you what is the conditional probability for each hidden neuron to be at Phase 1): \n",
        "<ul>\n",
        "    <li>p($h_{1}$ = 1|V) = 0.51</li>\n",
        "    <li>($h_{2}$ = 1|V) = 0.84</li>  \n",
        "</ul>\n",
        "\n",
        "As a result, for each row in the training set, <b>a vector/tensor</b> is generated, which in our case it is of size [1x2], and totally n vectors ($p({h})$=[nx2]). \n",
        "\n",
        "We then turn unit $h_j$ on with probability $p(h_{j}|V)$, and turn it off with probability $1 - p(h_{j}|V)$.\n",
        "\n",
        "Therefore, the conditional probability of a configuration of h given v (for a training sample) is:\n",
        "\n",
        "$$p(\\mathbf{h} \\mid \\mathbf{v}) = \\prod_{j=0}^H p(h_j \\mid \\mathbf{v})$$"
      ]
    },
    {
      "cell_type": "markdown",
      "metadata": {
        "id": "1LFRYLxRerDf",
        "colab_type": "text"
      },
      "source": [
        "Now, sample a hidden activation vector <b>h</b> from this probability distribution $p({h_j})$. That is, we sample the activation vector from the probability distribution of hidden layer values. "
      ]
    },
    {
      "cell_type": "markdown",
      "metadata": {
        "id": "Z44I523CerDg",
        "colab_type": "text"
      },
      "source": [
        "Before we go further, let's look at a toy example for one case out of all input. Assume that we have a trained RBM, and a very simple input vector such as [1.0, 0.0, 0.0, 1.0, 0.0, 0.0, 0.0], lets see what would be the output of forward pass:"
      ]
    },
    {
      "cell_type": "code",
      "metadata": {
        "id": "YDB6unuAerDh",
        "colab_type": "code",
        "outputId": "6595f015-2e18-40ec-8a72-b2df057bc494",
        "colab": {
          "base_uri": "https://localhost:8080/",
          "height": 208
        }
      },
      "source": [
        "sess = tf.Session()\n",
        "X = tf.constant([[1.0, 0.0, 0.0, 1.0, 0.0, 0.0, 0.0]])\n",
        "v_state = X\n",
        "print (\"Input: \", sess.run(v_state))\n",
        "\n",
        "h_bias = tf.constant([0.1, 0.1])\n",
        "print (\"hb: \", sess.run(h_bias))\n",
        "print (\"w: \", sess.run(W))\n",
        "\n",
        "# Calculate the probabilities of turning the hidden units on:\n",
        "h_prob = tf.nn.sigmoid(tf.matmul(v_state, W) + h_bias)  #probabilities of the hidden units\n",
        "print (\"p(h|v): \", sess.run(h_prob))\n",
        "\n",
        "# Draw samples from the distribution:\n",
        "h_state = tf.nn.relu(tf.sign(h_prob - tf.random_uniform(tf.shape(h_prob)))) #states\n",
        "print (\"h0 states:\", sess.run(h_state))"
      ],
      "execution_count": 7,
      "outputs": [
        {
          "output_type": "stream",
          "text": [
            "Input:  [[1. 0. 0. 1. 0. 0. 0.]]\n",
            "hb:  [0.1 0.1]\n",
            "w:  [[ 0.292458    1.7715887 ]\n",
            " [ 0.2554326   1.8865097 ]\n",
            " [ 0.28172845  0.02549515]\n",
            " [ 1.2373635   0.92837894]\n",
            " [ 0.9035462   0.12942615]\n",
            " [ 0.417777   -0.03898898]\n",
            " [ 0.37241784  0.7450747 ]]\n",
            "p(h|v):  [[0.83614516 0.9426741 ]]\n",
            "h0 states: [[1. 1.]]\n"
          ],
          "name": "stdout"
        }
      ]
    },
    {
      "cell_type": "markdown",
      "metadata": {
        "id": "sLuaJ2A9erDq",
        "colab_type": "text"
      },
      "source": [
        "<b>Phase 2) Backward Pass (Reconstruction):</b>\n",
        "The RBM reconstructs data by making several forward and backward passes between the visible and hidden layers.\n",
        "\n",
        "So, in the second phase (i.e. reconstruction phase), the samples from the hidden layer (i.e. h) play the role of input. That is, <b>h</b> becomes the input in the backward pass. The same weight matrix and visible layer biases are used to go through the sigmoid function. The produced output is a reconstruction which is an approximation of the original input."
      ]
    },
    {
      "cell_type": "code",
      "metadata": {
        "id": "AcMR8neXerDq",
        "colab_type": "code",
        "outputId": "85a751fb-c0db-4a14-9a3c-4de85bd84b9f",
        "colab": {
          "base_uri": "https://localhost:8080/",
          "height": 87
        }
      },
      "source": [
        "vb = tf.constant([0.1, 0.2, 0.1, 0.1, 0.1, 0.2, 0.1])\n",
        "print (\"b: \", sess.run(vb))\n",
        "v_prob = sess.run(tf.nn.sigmoid(tf.matmul(h_state, tf.transpose(W)) + vb))\n",
        "print (\"p(vi∣h): \", v_prob)\n",
        "v_state = tf.nn.relu(tf.sign(v_prob - tf.random_uniform(tf.shape(v_prob))))\n",
        "print (\"v probability states: \", sess.run(v_state))"
      ],
      "execution_count": 8,
      "outputs": [
        {
          "output_type": "stream",
          "text": [
            "b:  [0.1 0.2 0.1 0.1 0.1 0.2 0.1]\n",
            "p(vi∣h):  [[0.89697415 0.9122916  0.60042197 0.90599984 0.756387   0.6407885\n",
            "  0.77162194]]\n",
            "v probability states:  [[1. 1. 0. 1. 1. 1. 1.]]\n"
          ],
          "name": "stdout"
        }
      ]
    },
    {
      "cell_type": "markdown",
      "metadata": {
        "id": "VdkYoeMKerDu",
        "colab_type": "text"
      },
      "source": [
        "RBM learns a probability distribution over the input, and then, after being trained, the RBM can generate new samples from the learned probability distribution. As you know, <b>probability distribution</b>, is a mathematical function that provides the probabilities of occurrence of different possible outcomes in an experiment.\n",
        "\n",
        "The (conditional) probability distribution over the visible units v is given by\n",
        "\n",
        "$p(\\mathbf{v} \\mid \\mathbf{h}) = \\prod_{i=0}^V p(v_i \\mid \\mathbf{h}),$\n",
        "\n",
        "\n",
        "where,\n",
        "\n",
        "$p(v_i \\mid \\mathbf{h}) = \\sigma\\left( a_i + \\sum_{j=0}^H w_{ji} h_j \\right)$\n",
        "\n",
        "so, given current state of hidden units and weights, what is the probability of generating [1. 0. 0. 1. 0. 0. 0.] in reconstruction phase, based on the above <b>probability distribution</b> function?"
      ]
    },
    {
      "cell_type": "code",
      "metadata": {
        "id": "l3JxUCLRerDv",
        "colab_type": "code",
        "outputId": "338a0ce0-498d-40ed-ead4-7e4ee0f2101a",
        "colab": {
          "base_uri": "https://localhost:8080/",
          "height": 87
        }
      },
      "source": [
        "inp = sess.run(X)\n",
        "print(inp)\n",
        "print(v_prob[0])\n",
        "v_probability = 1\n",
        "for elm, p in zip(inp[0],v_prob[0]) :\n",
        "    if elm ==1:\n",
        "        v_probability *= p\n",
        "    else:\n",
        "        v_probability *= (1-p)\n",
        "v_probability"
      ],
      "execution_count": 9,
      "outputs": [
        {
          "output_type": "stream",
          "text": [
            "[[1. 0. 0. 1. 0. 0. 0.]]\n",
            "[0.89697415 0.9122916  0.60042197 0.90599984 0.756387   0.6407885\n",
            " 0.77162194]\n"
          ],
          "name": "stdout"
        },
        {
          "output_type": "execute_result",
          "data": {
            "text/plain": [
              "0.0005691883324335426"
            ]
          },
          "metadata": {
            "tags": []
          },
          "execution_count": 9
        }
      ]
    },
    {
      "cell_type": "markdown",
      "metadata": {
        "id": "RFJi4xe3erDy",
        "colab_type": "text"
      },
      "source": [
        "How similar X and V vectors are? Of course, the reconstructed values most likely will not look anything like the input vector because our network has not trained yet. Our objective is to train the model in such a way that the input vector and reconstructed vector to be same. Therefore, based on how different the input values look to the ones that we just reconstructed, the weights are adjusted. "
      ]
    },
    {
      "cell_type": "markdown",
      "metadata": {
        "id": "MPemZh_lerDz",
        "colab_type": "text"
      },
      "source": [
        "<hr>"
      ]
    },
    {
      "cell_type": "markdown",
      "metadata": {
        "id": "9mdETkgterDz",
        "colab_type": "text"
      },
      "source": [
        "\n",
        "<h2>MNIST</h2>\n"
      ]
    },
    {
      "cell_type": "markdown",
      "metadata": {
        "id": "qj9PyUkwerD0",
        "colab_type": "text"
      },
      "source": [
        "We will be using the MNIST dataset to practice the usage of RBMs. The following cell loads the MNIST dataset."
      ]
    },
    {
      "cell_type": "code",
      "metadata": {
        "id": "xtv6JHw6erD1",
        "colab_type": "code",
        "outputId": "800c0e1b-3bb5-450d-b17e-b579e3a69355",
        "colab": {
          "base_uri": "https://localhost:8080/",
          "height": 540
        }
      },
      "source": [
        "mnist = input_data.read_data_sets(\"MNIST_data/\", one_hot=True)\n",
        "trX, trY, teX, teY = mnist.train.images, mnist.train.labels, mnist.test.images, mnist.test.labels"
      ],
      "execution_count": 10,
      "outputs": [
        {
          "output_type": "stream",
          "text": [
            "WARNING:tensorflow:From <ipython-input-10-a0c1bc5755ed>:1: read_data_sets (from tensorflow.contrib.learn.python.learn.datasets.mnist) is deprecated and will be removed in a future version.\n",
            "Instructions for updating:\n",
            "Please use alternatives such as official/mnist/dataset.py from tensorflow/models.\n",
            "WARNING:tensorflow:From /tensorflow-1.15.2/python3.6/tensorflow_core/contrib/learn/python/learn/datasets/mnist.py:260: maybe_download (from tensorflow.contrib.learn.python.learn.datasets.base) is deprecated and will be removed in a future version.\n",
            "Instructions for updating:\n",
            "Please write your own downloading logic.\n",
            "WARNING:tensorflow:From /tensorflow-1.15.2/python3.6/tensorflow_core/contrib/learn/python/learn/datasets/base.py:252: _internal_retry.<locals>.wrap.<locals>.wrapped_fn (from tensorflow.contrib.learn.python.learn.datasets.base) is deprecated and will be removed in a future version.\n",
            "Instructions for updating:\n",
            "Please use urllib or similar directly.\n",
            "Successfully downloaded train-images-idx3-ubyte.gz 9912422 bytes.\n",
            "WARNING:tensorflow:From /tensorflow-1.15.2/python3.6/tensorflow_core/contrib/learn/python/learn/datasets/mnist.py:262: extract_images (from tensorflow.contrib.learn.python.learn.datasets.mnist) is deprecated and will be removed in a future version.\n",
            "Instructions for updating:\n",
            "Please use tf.data to implement this functionality.\n",
            "Extracting MNIST_data/train-images-idx3-ubyte.gz\n",
            "Successfully downloaded train-labels-idx1-ubyte.gz 28881 bytes.\n",
            "WARNING:tensorflow:From /tensorflow-1.15.2/python3.6/tensorflow_core/contrib/learn/python/learn/datasets/mnist.py:267: extract_labels (from tensorflow.contrib.learn.python.learn.datasets.mnist) is deprecated and will be removed in a future version.\n",
            "Instructions for updating:\n",
            "Please use tf.data to implement this functionality.\n",
            "Extracting MNIST_data/train-labels-idx1-ubyte.gz\n",
            "WARNING:tensorflow:From /tensorflow-1.15.2/python3.6/tensorflow_core/contrib/learn/python/learn/datasets/mnist.py:110: dense_to_one_hot (from tensorflow.contrib.learn.python.learn.datasets.mnist) is deprecated and will be removed in a future version.\n",
            "Instructions for updating:\n",
            "Please use tf.one_hot on tensors.\n",
            "Successfully downloaded t10k-images-idx3-ubyte.gz 1648877 bytes.\n",
            "Extracting MNIST_data/t10k-images-idx3-ubyte.gz\n",
            "Successfully downloaded t10k-labels-idx1-ubyte.gz 4542 bytes.\n",
            "Extracting MNIST_data/t10k-labels-idx1-ubyte.gz\n",
            "WARNING:tensorflow:From /tensorflow-1.15.2/python3.6/tensorflow_core/contrib/learn/python/learn/datasets/mnist.py:290: DataSet.__init__ (from tensorflow.contrib.learn.python.learn.datasets.mnist) is deprecated and will be removed in a future version.\n",
            "Instructions for updating:\n",
            "Please use alternatives such as official/mnist/dataset.py from tensorflow/models.\n"
          ],
          "name": "stdout"
        }
      ]
    },
    {
      "cell_type": "markdown",
      "metadata": {
        "id": "R_oNqOUzerD9",
        "colab_type": "text"
      },
      "source": [
        "Lets look at the dimension of the images."
      ]
    },
    {
      "cell_type": "code",
      "metadata": {
        "id": "M5TrasVAerD-",
        "colab_type": "code",
        "outputId": "41ebb7c7-8b2f-4793-a2f2-243216f10cfd",
        "colab": {
          "base_uri": "https://localhost:8080/",
          "height": 35
        }
      },
      "source": [
        "trX[1].shape"
      ],
      "execution_count": 11,
      "outputs": [
        {
          "output_type": "execute_result",
          "data": {
            "text/plain": [
              "(784,)"
            ]
          },
          "metadata": {
            "tags": []
          },
          "execution_count": 11
        }
      ]
    },
    {
      "cell_type": "markdown",
      "metadata": {
        "id": "dPKh_ph0erEB",
        "colab_type": "text"
      },
      "source": [
        "MNIST images have 784 pixels, so the visible layer must have 784 input nodes.  For our case, we'll use 50 nodes in the hidden layer, so i = 50."
      ]
    },
    {
      "cell_type": "code",
      "metadata": {
        "id": "OMWoiUkQerEB",
        "colab_type": "code",
        "colab": {}
      },
      "source": [
        "vb = tf.placeholder(\"float\", [784])\n",
        "hb = tf.placeholder(\"float\", [50])"
      ],
      "execution_count": 0,
      "outputs": []
    },
    {
      "cell_type": "markdown",
      "metadata": {
        "id": "tMHzyX10erEE",
        "colab_type": "text"
      },
      "source": [
        "Let <b>W</b> be the Tensor of 784x50 (784 - number of visible neurons, 50 - number of hidden neurons) that represents weights between the neurons. "
      ]
    },
    {
      "cell_type": "code",
      "metadata": {
        "id": "ad2qGH8jerEE",
        "colab_type": "code",
        "colab": {}
      },
      "source": [
        "W = tf.placeholder(\"float\", [784, 50])"
      ],
      "execution_count": 0,
      "outputs": []
    },
    {
      "cell_type": "markdown",
      "metadata": {
        "id": "3t034GSKerEK",
        "colab_type": "text"
      },
      "source": [
        "Lets define the visible layer:"
      ]
    },
    {
      "cell_type": "code",
      "metadata": {
        "id": "bBh4UsjjerEL",
        "colab_type": "code",
        "colab": {}
      },
      "source": [
        "v0_state = tf.placeholder(\"float\", [None, 784])"
      ],
      "execution_count": 0,
      "outputs": []
    },
    {
      "cell_type": "markdown",
      "metadata": {
        "id": "qexdTYFSerEO",
        "colab_type": "text"
      },
      "source": [
        "Now, we can define hidden layer:"
      ]
    },
    {
      "cell_type": "code",
      "metadata": {
        "id": "Ndyd5onLerEO",
        "colab_type": "code",
        "colab": {}
      },
      "source": [
        "h0_prob = tf.nn.sigmoid(tf.matmul(v0_state, W) + hb)  #probabilities of the hidden units\n",
        "h0_state = tf.nn.relu(tf.sign(h0_prob - tf.random_uniform(tf.shape(h0_prob)))) #sample_h_given_X"
      ],
      "execution_count": 0,
      "outputs": []
    },
    {
      "cell_type": "markdown",
      "metadata": {
        "id": "RBrhbD7EerER",
        "colab_type": "text"
      },
      "source": [
        "Now, we define reconstruction part:"
      ]
    },
    {
      "cell_type": "code",
      "metadata": {
        "id": "KxDHSYrLerES",
        "colab_type": "code",
        "colab": {}
      },
      "source": [
        "v1_prob = tf.nn.sigmoid(tf.matmul(h0_state, tf.transpose(W)) + vb) \n",
        "v1_state = tf.nn.relu(tf.sign(v1_prob - tf.random_uniform(tf.shape(v1_prob)))) #sample_v_given_h"
      ],
      "execution_count": 0,
      "outputs": []
    },
    {
      "cell_type": "markdown",
      "metadata": {
        "id": "12b358aJerEW",
        "colab_type": "text"
      },
      "source": [
        "<h3>What is objective function?</h3>\n",
        "\n",
        "<b>Goal</b>: Maximize the likelihood of our data being drawn from that distribution\n",
        "\n",
        "<b>Calculate error:</b>  \n",
        "In each epoch, we compute the \"error\" as a sum of the squared difference between step 1 and step n,\n",
        "e.g the error shows the difference between the data and its reconstruction.\n",
        "\n",
        "<b>Note:</b> tf.reduce_mean computes the mean of elements across dimensions of a tensor."
      ]
    },
    {
      "cell_type": "code",
      "metadata": {
        "id": "cuoVXkRgerEY",
        "colab_type": "code",
        "colab": {}
      },
      "source": [
        "err = tf.reduce_mean(tf.square(v0_state - v1_state))"
      ],
      "execution_count": 0,
      "outputs": []
    },
    {
      "cell_type": "markdown",
      "metadata": {
        "id": "5NLnQxB_erEb",
        "colab_type": "text"
      },
      "source": [
        "<a id=\"ref4\"></a>\n",
        "<h3>How to train the model?</h3>\n",
        "<b>Warning!!</b> The following part discuss how to train the model which needs some algebra background. Still, you can skip this part and run the next cells.\n",
        "\n",
        "As mentioned, we want to give a high probability to the input data we train on. So, in order to train an RBM, we have to maximize the product of probabilities assigned to all rows v (images) in the training set V (a matrix, where each row of it is treated as a visible vector v):\n",
        "\n",
        "<img src=\"https://wikimedia.org/api/rest_v1/media/math/render/svg/d42e9f5aad5e1a62b11b119c9315236383c1864a\">\n",
        "\n",
        "\n",
        "Which is equivalent, maximizing the expected log probability of V:\n",
        "\n",
        "\n",
        "<img src=\"https://wikimedia.org/api/rest_v1/media/math/render/svg/ba0ceed99dca5ff1d21e5ace23f5f2223f19efc0\">\n",
        "\n",
        "\n",
        "So, we have to update the weights wij  to increase p(v) for all v in our training data during training. So we have to calculate the derivative:\n",
        "\n",
        "\n",
        "$$\\frac{\\partial \\log p(\\mathbf v)}{\\partial w_{ij}}$$\n",
        "\n",
        "This cannot be easily done by typical <b>gradient descent (SGD)</b>, so we can use another approach, which has 2 steps:\n",
        "<ol>\n",
        "    <li>Gibbs Sampling</li>\n",
        "    <li>Contrastive Divergence</li>\n",
        "</ol>    \n",
        "    \n",
        "<h3>Gibbs Sampling</h3>   \n",
        "First, given an input vector v we are using p(h|v) for prediction of the hidden values h. \n",
        "<ul>\n",
        "    <li>$p(h|v) = sigmoid(X \\otimes W + hb)$</li>\n",
        "    <li>h0 = sampleProb(h0)</li>\n",
        "</ul>\n",
        "    \n",
        "Then, knowing the hidden values, we use p(v|h) for reconstructing of new input values v. \n",
        "<ul>\n",
        "    <li>$p(v|h) = sigmoid(h0 \\otimes transpose(W) + vb)$</li>\n",
        "    <li>$v1 = sampleProb(v1)$  (Sample v given h)</li>\n",
        "</ul>\n",
        "        \n",
        "This process is repeated k times. After k iterations we obtain an other input vector vk which was recreated from original input values v0 or X.\n",
        "\n",
        "Reconstruction steps:\n",
        "<ul>\n",
        "    <li> Get one data point from data set, like <i>x</i>, and pass it through the net</li>\n",
        "    <li>Pass 0: (x)  $\\Rightarrow$ (h0) $\\Rightarrow$  (v1)   (v1 is reconstruction of the first pass)</li>\n",
        "    <li>Pass 1: (v1) $\\Rightarrow$  (h1) $\\Rightarrow$  (v2)   (v2 is reconstruction of the second pass)</li>\n",
        "    <li>Pass 2: (v2) $\\Rightarrow$  (h2) $\\Rightarrow$  (v3)   (v3 is reconstruction of the third pass)</li>\n",
        "    <li>Pass n: (vk) $\\Rightarrow$  (hk+1) $\\Rightarrow$  (vk+1)(vk is reconstruction of the nth pass)</li>\n",
        "</ul>\n",
        "        \n",
        "<h4>What is sampling here (sampleProb)?</h4>\n",
        "\n",
        "In forward pass: We randomly set the values of each hi to be 1 with probability $sigmoid(v \\otimes W + hb)$.  \n",
        "- To sample h given v means to sample from the conditional probability distribution P(h|v). It means that you are asking what are the probabilities of getting a specific set of values for the hidden neurons, given the values v for the visible neurons, and sampling from this probability distribution. \n",
        "In reconstruction: We randomly set the values of each vi to be 1 with probability $ sigmoid(h \\otimes transpose(W) + vb)$.\n",
        "\n",
        "<h3>contrastive divergence (CD-k)</h3>\n",
        "The update of the weight matrix is done during the Contrastive Divergence step. \n",
        "\n",
        "Vectors v0 and vk are used to calculate the activation probabilities for hidden values h0 and hk. The difference between the outer products of those probabilities with input vectors v0 and vk results in the update matrix:\n",
        "\n",
        "\n",
        "$\\Delta W =v0 \\otimes h0 - vk \\otimes hk$ \n",
        "\n",
        "Contrastive Divergence is actually matrix of values that is computed and used to adjust values of the W matrix. Changing W incrementally leads to training of W values. Then on each step (epoch), W is updated to a new value W' through the equation below:\n",
        "\n",
        "$W' = W + alpha * \\Delta W$ \n",
        "\n",
        " \n",
        "<b>What is Alpha?</b>  \n",
        "Here, alpha is some small step rate and is also known as the \"learning rate\".\n",
        "\n",
        "\n"
      ]
    },
    {
      "cell_type": "markdown",
      "metadata": {
        "id": "Rv_mPhsherEc",
        "colab_type": "text"
      },
      "source": [
        "Ok, lets assume that k=1, that is we just get one more step:"
      ]
    },
    {
      "cell_type": "code",
      "metadata": {
        "id": "QwhMDzWoerEc",
        "colab_type": "code",
        "colab": {}
      },
      "source": [
        "h1_prob = tf.nn.sigmoid(tf.matmul(v1_state, W) + hb)\n",
        "h1_state = tf.nn.relu(tf.sign(h1_prob - tf.random_uniform(tf.shape(h1_prob)))) #sample_h_given_X"
      ],
      "execution_count": 0,
      "outputs": []
    },
    {
      "cell_type": "code",
      "metadata": {
        "id": "n-jsQ4jBerEf",
        "colab_type": "code",
        "colab": {}
      },
      "source": [
        "alpha = 0.01\n",
        "W_Delta = tf.matmul(tf.transpose(v0_state), h0_prob) - tf.matmul(tf.transpose(v1_state), h1_prob)\n",
        "update_w = W + alpha * W_Delta\n",
        "update_vb = vb + alpha * tf.reduce_mean(v0_state - v1_state, 0)\n",
        "update_hb = hb + alpha * tf.reduce_mean(h0_state - h1_state, 0)"
      ],
      "execution_count": 0,
      "outputs": []
    },
    {
      "cell_type": "markdown",
      "metadata": {
        "id": "kdCML5fTerEi",
        "colab_type": "text"
      },
      "source": [
        "Let's start a session and initialize the variables:"
      ]
    },
    {
      "cell_type": "code",
      "metadata": {
        "id": "7v_CgMmoerEi",
        "colab_type": "code",
        "colab": {}
      },
      "source": [
        "cur_w = np.zeros([784, 50], np.float32)\n",
        "cur_vb = np.zeros([784], np.float32)\n",
        "cur_hb = np.zeros([50], np.float32)\n",
        "prv_w = np.zeros([784, 50], np.float32)\n",
        "prv_vb = np.zeros([784], np.float32)\n",
        "prv_hb = np.zeros([50], np.float32)\n",
        "sess = tf.Session()\n",
        "init = tf.global_variables_initializer()\n",
        "sess.run(init)"
      ],
      "execution_count": 0,
      "outputs": []
    },
    {
      "cell_type": "markdown",
      "metadata": {
        "id": "2w058PQCerEl",
        "colab_type": "text"
      },
      "source": [
        "Lets look at the error of the first run:"
      ]
    },
    {
      "cell_type": "code",
      "metadata": {
        "id": "vg9GyWEuerEl",
        "colab_type": "code",
        "outputId": "2ba6ae9e-75ae-4dd2-f0cd-d67af9152530",
        "colab": {
          "base_uri": "https://localhost:8080/",
          "height": 35
        }
      },
      "source": [
        "sess.run(err, feed_dict={v0_state: trX, W: prv_w, vb: prv_vb, hb: prv_hb})"
      ],
      "execution_count": 21,
      "outputs": [
        {
          "output_type": "execute_result",
          "data": {
            "text/plain": [
              "0.48138487"
            ]
          },
          "metadata": {
            "tags": []
          },
          "execution_count": 21
        }
      ]
    },
    {
      "cell_type": "code",
      "metadata": {
        "id": "PAxdyyO6erEs",
        "colab_type": "code",
        "outputId": "d74b505b-1e3d-4068-9355-bdad65ee8ef6",
        "colab": {
          "base_uri": "https://localhost:8080/",
          "height": 366
        }
      },
      "source": [
        "#Parameters\n",
        "epochs = 5\n",
        "batchsize = 100\n",
        "weights = []\n",
        "errors = []\n",
        "\n",
        "for epoch in range(epochs):\n",
        "    for start, end in zip( range(0, len(trX), batchsize), range(batchsize, len(trX), batchsize)):\n",
        "        batch = trX[start:end]\n",
        "        cur_w = sess.run(update_w, feed_dict={ v0_state: batch, W: prv_w, vb: prv_vb, hb: prv_hb})\n",
        "        cur_vb = sess.run(update_vb, feed_dict={v0_state: batch, W: prv_w, vb: prv_vb, hb: prv_hb})\n",
        "        cur_hb = sess.run(update_hb, feed_dict={ v0_state: batch, W: prv_w, vb: prv_vb, hb: prv_hb})\n",
        "        prv_w = cur_w\n",
        "        prv_vb = cur_vb\n",
        "        prv_hb = cur_hb\n",
        "        if start % 10000 == 0:\n",
        "            errors.append(sess.run(err, feed_dict={v0_state: trX, W: cur_w, vb: cur_vb, hb: cur_hb}))\n",
        "            weights.append(cur_w)\n",
        "    print ('Epoch: %d' % epoch,'reconstruction error: %f' % errors[-1])\n",
        "plt.plot(errors)\n",
        "plt.xlabel(\"Batch Number\")\n",
        "plt.ylabel(\"Error\")\n",
        "plt.show()"
      ],
      "execution_count": 22,
      "outputs": [
        {
          "output_type": "stream",
          "text": [
            "Epoch: 0 reconstruction error: 0.087732\n",
            "Epoch: 1 reconstruction error: 0.084020\n",
            "Epoch: 2 reconstruction error: 0.082702\n",
            "Epoch: 3 reconstruction error: 0.081665\n",
            "Epoch: 4 reconstruction error: 0.081357\n"
          ],
          "name": "stdout"
        },
        {
          "output_type": "display_data",
          "data": {
            "image/png": "[encoded data removed]",
            "text/plain": [
              "<Figure size 432x288 with 1 Axes>"
            ]
          },
          "metadata": {
            "tags": []
          }
        }
      ]
    },
    {
      "cell_type": "markdown",
      "metadata": {
        "id": "xIaJJ0ZTerEv",
        "colab_type": "text"
      },
      "source": [
        "What is the final weight after training?"
      ]
    },
    {
      "cell_type": "code",
      "metadata": {
        "id": "ys4kUPtnerEw",
        "colab_type": "code",
        "outputId": "29aa907e-41a8-4647-c337-0963abb46030",
        "colab": {
          "base_uri": "https://localhost:8080/",
          "height": 243
        }
      },
      "source": [
        "uw = weights[-1].T\n",
        "print (uw) # a weight matrix of shape (50,784)"
      ],
      "execution_count": 23,
      "outputs": [
        {
          "output_type": "stream",
          "text": [
            "[[-0.7111587  -0.6730545  -0.8143276  ... -0.7313025  -0.73494226\n",
            "  -0.68167466]\n",
            " [-0.7520413  -0.73807395 -0.74651355 ... -0.73675144 -0.6824352\n",
            "  -0.7007343 ]\n",
            " [-0.46190855 -0.48031396 -0.52422345 ... -0.54650867 -0.53346014\n",
            "  -0.55770713]\n",
            " ...\n",
            " [-1.0362569  -1.1496168  -1.0681452  ... -1.023251   -1.0283868\n",
            "  -1.0343196 ]\n",
            " [-1.3917111  -1.2920109  -1.3855865  ... -1.3326638  -1.3430458\n",
            "  -1.4199018 ]\n",
            " [-1.4038429  -1.4897693  -1.3518949  ... -1.4986112  -1.4252808\n",
            "  -1.3911232 ]]\n"
          ],
          "name": "stdout"
        }
      ]
    },
    {
      "cell_type": "markdown",
      "metadata": {
        "id": "65SCWJ03erEz",
        "colab_type": "text"
      },
      "source": [
        "<a id=\"ref5\"></a>\n",
        "<h3>Learned features</h3> "
      ]
    },
    {
      "cell_type": "markdown",
      "metadata": {
        "id": "zP0ObfTMerEz",
        "colab_type": "text"
      },
      "source": [
        "We can take each hidden unit and visualize the connections between that hidden unit and each element in the input vector. In our case, we have 50 hidden units. Lets visualize those."
      ]
    },
    {
      "cell_type": "markdown",
      "metadata": {
        "id": "6g31OcvserE0",
        "colab_type": "text"
      },
      "source": [
        "Let's plot the current weights:\n",
        "<b>tile_raster_images</b> helps in generating an easy to grasp image from a set of samples or weights. It transform the <b>uw</b> (with one flattened image per row of size 784), into an array (of size $25\\times20$) in which images are reshaped and laid out like tiles on a floor."
      ]
    },
    {
      "cell_type": "code",
      "metadata": {
        "id": "pQOP4k9FerE0",
        "colab_type": "code",
        "outputId": "855e9f93-37dd-4c8f-eb6e-e109b92bf516",
        "colab": {
          "base_uri": "https://localhost:8080/",
          "height": 551
        }
      },
      "source": [
        "tile_raster_images(X=cur_w.T, img_shape=(28, 28), tile_shape=(5, 10), tile_spacing=(1, 1))\n",
        "import matplotlib.pyplot as plt\n",
        "from PIL import Image\n",
        "%matplotlib inline\n",
        "image = Image.fromarray(tile_raster_images(X=cur_w.T, img_shape=(28, 28) ,tile_shape=(5, 10), tile_spacing=(1, 1)))\n",
        "### Plot image\n",
        "plt.rcParams['figure.figsize'] = (18.0, 18.0)\n",
        "imgplot = plt.imshow(image)\n",
        "imgplot.set_cmap('gray')  "
      ],
      "execution_count": 24,
      "outputs": [
        {
          "output_type": "display_data",
          "data": {
            "image/png": "[encoded data removed]",
            "text/plain": [
              "<Figure size 1296x1296 with 1 Axes>"
            ]
          },
          "metadata": {
            "tags": []
          }
        }
      ]
    },
    {
      "cell_type": "markdown",
      "metadata": {
        "id": "rYeV9IflerE3",
        "colab_type": "text"
      },
      "source": [
        "Each tile in the above visualization corresponds to a vector of connections between a hidden unit and visible layer's units. "
      ]
    },
    {
      "cell_type": "markdown",
      "metadata": {
        "id": "8wBRWjPXerE3",
        "colab_type": "text"
      },
      "source": [
        "Let's look at one of the learned weights corresponding to one of hidden units for example. In this particular square, the gray color represents weight = 0, and the whiter it is, the more positive the weights are (closer to 1). Conversely, the darker pixels are, the more negative the weights. The positive pixels will increase the probability of activation in hidden units (after multiplying by input/visible pixels), and negative pixels will decrease the probability of a unit hidden to be 1 (activated). So, why is this important?  So we can see that this specific square (hidden unit) can detect a feature (e.g. a \"/\" shape) and if it exists in the input."
      ]
    },
    {
      "cell_type": "code",
      "metadata": {
        "id": "M5ZsJKW4erE4",
        "colab_type": "code",
        "outputId": "3951a635-8bdd-42c3-fa7d-40864fd2c9fa",
        "colab": {
          "base_uri": "https://localhost:8080/",
          "height": 265
        }
      },
      "source": [
        "from PIL import Image\n",
        "image = Image.fromarray(tile_raster_images(X =cur_w.T[10:11], img_shape=(28, 28),tile_shape=(1, 1), tile_spacing=(1, 1)))\n",
        "### Plot image\n",
        "plt.rcParams['figure.figsize'] = (4.0, 4.0)\n",
        "imgplot = plt.imshow(image)\n",
        "imgplot.set_cmap('gray')  "
      ],
      "execution_count": 25,
      "outputs": [
        {
          "output_type": "display_data",
          "data": {
            "image/png": "[encoded data removed]",
            "text/plain": [
              "<Figure size 288x288 with 1 Axes>"
            ]
          },
          "metadata": {
            "tags": []
          }
        }
      ]
    },
    {
      "cell_type": "markdown",
      "metadata": {
        "id": "YfIIYfIAerE_",
        "colab_type": "text"
      },
      "source": [
        "Let's look at the reconstruction of an image now. Imagine that we have a destructed image of figure 3. Lets see if our trained network can fix it:\n",
        "\n",
        "First we plot the image:"
      ]
    },
    {
      "cell_type": "code",
      "metadata": {
        "id": "FyDfK26IerE_",
        "colab_type": "code",
        "outputId": "87b96d00-130e-4110-da84-3f2b1537c7f8",
        "colab": {
          "base_uri": "https://localhost:8080/",
          "height": 651
        }
      },
      "source": [
        "!wget -O destructed3.jpg  https://ibm.box.com/shared/static/vvm1b63uvuxq88vbw9znpwu5ol380mco.jpg\n",
        "img = Image.open('destructed3.jpg')\n",
        "img"
      ],
      "execution_count": 26,
      "outputs": [
        {
          "output_type": "stream",
          "text": [
            "--2020-03-31 05:53:59--  https://ibm.box.com/shared/static/vvm1b63uvuxq88vbw9znpwu5ol380mco.jpg\n",
            "Resolving ibm.box.com (ibm.box.com)... 107.152.24.197, 107.152.25.197\n",
            "Connecting to ibm.box.com (ibm.box.com)|107.152.24.197|:443... connected.\n",
            "HTTP request sent, awaiting response... 301 Moved Permanently\n",
            "Location: /public/static/vvm1b63uvuxq88vbw9znpwu5ol380mco.jpg [following]\n",
            "--2020-03-31 05:53:59--  https://ibm.box.com/public/static/vvm1b63uvuxq88vbw9znpwu5ol380mco.jpg\n",
            "Reusing existing connection to ibm.box.com:443.\n",
            "HTTP request sent, awaiting response... 301 Moved Permanently\n",
            "Location: https://ibm.ent.box.com/public/static/vvm1b63uvuxq88vbw9znpwu5ol380mco.jpg [following]\n",
            "--2020-03-31 05:54:00--  https://ibm.ent.box.com/public/static/vvm1b63uvuxq88vbw9znpwu5ol380mco.jpg\n",
            "Resolving ibm.ent.box.com (ibm.ent.box.com)... 107.152.26.211, 107.152.27.211\n",
            "Connecting to ibm.ent.box.com (ibm.ent.box.com)|107.152.26.211|:443... connected.\n",
            "HTTP request sent, awaiting response... 302 Found\n",
            "Location: https://public.boxcloud.com/d/1/b1!69apsrMaMCzXLjTJz8CslCMVdkJn85Ddvdm93O47zkR8AIVDp9zW_9iaMPpJNQ02RgT_TTPkvUtNPArLEozs7bxyBHvW12Mt0Px6wn_WfjX-YU4fhSc_H2kb9iEO0SJKMS3Kt_hp4EFJbMdycoVkO-J74nLX6nE6ctziXEg8-yJ-lPiffFyeBmG3-bMUmAsWLy5Cop1L4pehpO0oed1967pVBVOMBEwwYRSHxZdb_HpEIa5UuLf7VSNfZTFrpfm0dire7PP_4aW-qU81kqncr9z96u0y0gwhmzJMlbeMt7viwzCBBJvtqxW5b8If7gi5EEz19KU0175Ms4-uMoBavw_kdMSKvZ8dyELZGC0XQhU5XsuwcYEcrXseSypgVuyr9gcg9fHLjsUQ7e6H3I1QWfwDu096_C7wYgBgqbgJ22eZAPJ4z7C8HOjqPsxvRBztk4LXUvQhTw_XEZaAF9PwWjFuVtSBTz74c_Xay_6vYlm84m0dMDOmoi4B5TooKA8VSyW4hFmHfFBjAhtvR1S0ub4-z-3916m4CnJGpJQoBAu1gUNiv6oDPIafmA3-Gh6NqWrrxvQUR-wc7BjfzEf5ItRx0ADzCE_oALYXl0cx8JllMsbu6kOAEgixecIgDm3gHj9_ewoktj4vXE56FadWYHxoPsVlcvLPJbkOheEff048R7TCjPelw3c1P90BHDOqqxxXFR1vRWAGNFnU4jqlzdi9ovEEwfZ9jN93vxegsgtHLB8ZaBBNecHB-G1134sq-gU-HI-tA_Q75S-E9y0TUbyx4GGsbBGFBRr__b1xYE7sGwgQVJxtaBK1ces19oBgSZPhQNJQ5YEkTBM4ZUzJi_FD2-CGHHWTHUhdtpBc4rLxAsUhHrGlS04uSx4o_JlyNfX5cumIDqOkrXL18HCGRbpLtrcH715yYZU64-qjhBEL9C7sjq3Z_k_vROiPeZKNd5HE4cNDF0bsQGv0Z8nUOmfZQQ4j9jsTxmlr8vw2hB2TlW7Bqdi2vCGk97X1dEdOefGu28LOgnHbALFvQnJVl2r09vcAfoLl9joejzuAU9ioEe17BUO4Ov2zZ3n4LbI7emKGccQgW6YSoJdWKYugouiVJofZv-ua2LIzaCI8w2lVL0YQVvDWd9Roc32X18bLaF5ZRVbi6xJmsyuf2Jwu2iwPa0FKMcoGp5Zx6HYPcnUMJPHXxAG63UBCgAVFUO88jcvNExGaQtVdbQWjJcmTEJh6Ka5n8DtoioZWSPVZrMrdFTg60MCFXYjNHvuJ3f3BIYcekvSqTv_xNyeRQHlKyfXSDt_Jjjc1R4wyR0qjOc506KqLKgE5kUmwteMgZTgbCbh5jK2vrpSik0TTO0wHtP8KHQYXwgmUlDmQLTN_ryX_ftQBX_IohmRKa4eyY4-fkCdBVQyyXDRycxmPprORuLARPzoJ/download [following]\n",
            "--2020-03-31 05:54:01--  https://public.boxcloud.com/d/1/b1!69apsrMaMCzXLjTJz8CslCMVdkJn85Ddvdm93O47zkR8AIVDp9zW_9iaMPpJNQ02RgT_TTPkvUtNPArLEozs7bxyBHvW12Mt0Px6wn_WfjX-YU4fhSc_H2kb9iEO0SJKMS3Kt_hp4EFJbMdycoVkO-J74nLX6nE6ctziXEg8-yJ-lPiffFyeBmG3-bMUmAsWLy5Cop1L4pehpO0oed1967pVBVOMBEwwYRSHxZdb_HpEIa5UuLf7VSNfZTFrpfm0dire7PP_4aW-qU81kqncr9z96u0y0gwhmzJMlbeMt7viwzCBBJvtqxW5b8If7gi5EEz19KU0175Ms4-uMoBavw_kdMSKvZ8dyELZGC0XQhU5XsuwcYEcrXseSypgVuyr9gcg9fHLjsUQ7e6H3I1QWfwDu096_C7wYgBgqbgJ22eZAPJ4z7C8HOjqPsxvRBztk4LXUvQhTw_XEZaAF9PwWjFuVtSBTz74c_Xay_6vYlm84m0dMDOmoi4B5TooKA8VSyW4hFmHfFBjAhtvR1S0ub4-z-3916m4CnJGpJQoBAu1gUNiv6oDPIafmA3-Gh6NqWrrxvQUR-wc7BjfzEf5ItRx0ADzCE_oALYXl0cx8JllMsbu6kOAEgixecIgDm3gHj9_ewoktj4vXE56FadWYHxoPsVlcvLPJbkOheEff048R7TCjPelw3c1P90BHDOqqxxXFR1vRWAGNFnU4jqlzdi9ovEEwfZ9jN93vxegsgtHLB8ZaBBNecHB-G1134sq-gU-HI-tA_Q75S-E9y0TUbyx4GGsbBGFBRr__b1xYE7sGwgQVJxtaBK1ces19oBgSZPhQNJQ5YEkTBM4ZUzJi_FD2-CGHHWTHUhdtpBc4rLxAsUhHrGlS04uSx4o_JlyNfX5cumIDqOkrXL18HCGRbpLtrcH715yYZU64-qjhBEL9C7sjq3Z_k_vROiPeZKNd5HE4cNDF0bsQGv0Z8nUOmfZQQ4j9jsTxmlr8vw2hB2TlW7Bqdi2vCGk97X1dEdOefGu28LOgnHbALFvQnJVl2r09vcAfoLl9joejzuAU9ioEe17BUO4Ov2zZ3n4LbI7emKGccQgW6YSoJdWKYugouiVJofZv-ua2LIzaCI8w2lVL0YQVvDWd9Roc32X18bLaF5ZRVbi6xJmsyuf2Jwu2iwPa0FKMcoGp5Zx6HYPcnUMJPHXxAG63UBCgAVFUO88jcvNExGaQtVdbQWjJcmTEJh6Ka5n8DtoioZWSPVZrMrdFTg60MCFXYjNHvuJ3f3BIYcekvSqTv_xNyeRQHlKyfXSDt_Jjjc1R4wyR0qjOc506KqLKgE5kUmwteMgZTgbCbh5jK2vrpSik0TTO0wHtP8KHQYXwgmUlDmQLTN_ryX_ftQBX_IohmRKa4eyY4-fkCdBVQyyXDRycxmPprORuLARPzoJ/download\n",
            "Resolving public.boxcloud.com (public.boxcloud.com)... 107.152.24.200\n",
            "Connecting to public.boxcloud.com (public.boxcloud.com)|107.152.24.200|:443... connected.\n",
            "HTTP request sent, awaiting response... 200 OK\n",
            "Length: 24383 (24K) [image/jpeg]\n",
            "Saving to: ‘destructed3.jpg’\n",
            "\n",
            "\rdestructed3.jpg       0%[                    ]       0  --.-KB/s               \rdestructed3.jpg     100%[===================>]  23.81K  --.-KB/s    in 0.02s   \n",
            "\n",
            "2020-03-31 05:54:01 (1.10 MB/s) - ‘destructed3.jpg’ saved [24383/24383]\n",
            "\n"
          ],
          "name": "stdout"
        },
        {
          "output_type": "execute_result",
          "data": {
            "image/png": "[encoded data removed]",
            "text/plain": [
              "<PIL.JpegImagePlugin.JpegImageFile image mode=RGB size=181x181 at 0x7FC377AB1E48>"
            ]
          },
          "metadata": {
            "tags": []
          },
          "execution_count": 26
        }
      ]
    },
    {
      "cell_type": "markdown",
      "metadata": {
        "id": "3-FtfEYXerFC",
        "colab_type": "text"
      },
      "source": [
        "Now let's pass this image through the net:"
      ]
    },
    {
      "cell_type": "code",
      "metadata": {
        "id": "IiAqiU_5erFD",
        "colab_type": "code",
        "colab": {}
      },
      "source": [
        "# convert the image to a 1d numpy array\n",
        "sample_case = np.array(img.convert('I').resize((28,28))).ravel().reshape((1, -1))/255.0"
      ],
      "execution_count": 0,
      "outputs": []
    },
    {
      "cell_type": "markdown",
      "metadata": {
        "id": "TkzytO-yerFH",
        "colab_type": "text"
      },
      "source": [
        "Feed the sample case into the network and reconstruct the output:"
      ]
    },
    {
      "cell_type": "code",
      "metadata": {
        "id": "H2wVvn4WerFH",
        "colab_type": "code",
        "outputId": "4fe984da-3eee-46b8-9462-5ef222eeaf85",
        "colab": {
          "base_uri": "https://localhost:8080/",
          "height": 243
        }
      },
      "source": [
        "hh0_p = tf.nn.sigmoid(tf.matmul(v0_state, W) + hb)\n",
        "#hh0_s = tf.nn.relu(tf.sign(hh0_p - tf.random_uniform(tf.shape(hh0_p)))) \n",
        "hh0_s = tf.round(hh0_p)\n",
        "hh0_p_val,hh0_s_val  = sess.run((hh0_p, hh0_s), feed_dict={ v0_state: sample_case, W: prv_w, hb: prv_hb})\n",
        "print(\"Probability nodes in hidden layer:\" ,hh0_p_val)\n",
        "print(\"activated nodes in hidden layer:\" ,hh0_s_val)\n",
        "\n",
        "# reconstruct\n",
        "vv1_p = tf.nn.sigmoid(tf.matmul(hh0_s_val, tf.transpose(W)) + vb)\n",
        "rec_prob = sess.run(vv1_p, feed_dict={ hh0_s: hh0_s_val, W: prv_w, vb: prv_vb})"
      ],
      "execution_count": 28,
      "outputs": [
        {
          "output_type": "stream",
          "text": [
            "Probability nodes in hidden layer: [[0.0000000e+00 0.0000000e+00 1.1920929e-07 0.0000000e+00 1.4426708e-03\n",
            "  0.0000000e+00 0.0000000e+00 0.0000000e+00 1.0000000e+00 0.0000000e+00\n",
            "  5.9604645e-08 9.9437648e-01 0.0000000e+00 9.8347664e-06 0.0000000e+00\n",
            "  0.0000000e+00 9.8830116e-01 0.0000000e+00 2.0173460e-02 0.0000000e+00\n",
            "  0.0000000e+00 1.3916433e-02 1.0000000e+00 0.0000000e+00 0.0000000e+00\n",
            "  0.0000000e+00 0.0000000e+00 0.0000000e+00 0.0000000e+00 0.0000000e+00\n",
            "  6.0296059e-03 0.0000000e+00 0.0000000e+00 0.0000000e+00 0.0000000e+00\n",
            "  9.9946368e-01 0.0000000e+00 0.0000000e+00 0.0000000e+00 7.4505806e-07\n",
            "  0.0000000e+00 0.0000000e+00 4.9334764e-04 0.0000000e+00 9.9998379e-01\n",
            "  0.0000000e+00 9.6370339e-01 0.0000000e+00 0.0000000e+00 0.0000000e+00]]\n",
            "activated nodes in hidden layer: [[0. 0. 0. 0. 0. 0. 0. 0. 1. 0. 0. 1. 0. 0. 0. 0. 1. 0. 0. 0. 0. 0. 1. 0.\n",
            "  0. 0. 0. 0. 0. 0. 0. 0. 0. 0. 0. 1. 0. 0. 0. 0. 0. 0. 0. 0. 1. 0. 1. 0.\n",
            "  0. 0.]]\n"
          ],
          "name": "stdout"
        }
      ]
    },
    {
      "cell_type": "markdown",
      "metadata": {
        "id": "gScBbWjYerFK",
        "colab_type": "text"
      },
      "source": [
        "Here we plot the reconstructed image:"
      ]
    },
    {
      "cell_type": "code",
      "metadata": {
        "id": "69TxUn-MerFL",
        "colab_type": "code",
        "outputId": "ec294019-8099-408e-dd76-a291bc604e3f",
        "colab": {
          "base_uri": "https://localhost:8080/",
          "height": 265
        }
      },
      "source": [
        "img = Image.fromarray(tile_raster_images(X=rec_prob, img_shape=(28, 28),tile_shape=(1, 1), tile_spacing=(1, 1)))\n",
        "plt.rcParams['figure.figsize'] = (4.0, 4.0)\n",
        "imgplot = plt.imshow(img)\n",
        "imgplot.set_cmap('gray') "
      ],
      "execution_count": 29,
      "outputs": [
        {
          "output_type": "display_data",
          "data": {
            "image/png": "[encoded data removed]",
            "text/plain": [
              "<Figure size 288x288 with 1 Axes>"
            ]
          },
          "metadata": {
            "tags": []
          }
        }
      ]
    },
    {
      "cell_type": "markdown",
      "metadata": {
        "id": "MNWQBhX-erFO",
        "colab_type": "text"
      },
      "source": [
        "<hr>\n",
        "\n",
        "## Want to learn more?\n",
        "\n",
        "Running deep learning programs usually needs a high performance platform. __PowerAI__ speeds up deep learning and AI. Built on IBM’s Power Systems, __PowerAI__ is a scalable software platform that accelerates deep learning and AI with blazing performance for individual users or enterprises. The __PowerAI__ platform supports popular machine learning libraries and dependencies including TensorFlow, Caffe, Torch, and Theano. You can use [PowerAI on IMB Cloud](https://cocl.us/ML0120EN_PAI).\n",
        "\n",
        "Also, you can use __Watson Studio__ to run these notebooks faster with bigger datasets.__Watson Studio__ is IBM’s leading cloud solution for data scientists, built by data scientists. With Jupyter notebooks, RStudio, Apache Spark and popular libraries pre-packaged in the cloud, __Watson Studio__ enables data scientists to collaborate on their projects without having to install anything. Join the fast-growing community of __Watson Studio__ users today with a free account at [Watson Studio](https://cocl.us/ML0120EN_DSX).This is the end of this lesson. Thank you for reading this notebook, and good luck on your studies."
      ]
    },
    {
      "cell_type": "markdown",
      "metadata": {
        "id": "GkpdiwxKerFO",
        "colab_type": "text"
      },
      "source": [
        "### Thanks for completing this lesson!\n",
        "\n",
        "Notebook created by: <a href = \"https://ca.linkedin.com/in/saeedaghabozorgi\">Saeed Aghabozorgi</a>"
      ]
    },
    {
      "cell_type": "markdown",
      "metadata": {
        "id": "kKrcI1T8erFO",
        "colab_type": "text"
      },
      "source": [
        "### References:\n",
        "https://en.wikipedia.org/wiki/Restricted_Boltzmann_machine  \n",
        "http://deeplearning.net/tutorial/rbm.html  \n",
        "http://www.cs.utoronto.ca/~hinton/absps/netflixICML.pdf<br>\n",
        "http://imonad.com/rbm/restricted-boltzmann-machine/  \n"
      ]
    },
    {
      "cell_type": "markdown",
      "metadata": {
        "id": "2JjJSoRKerFP",
        "colab_type": "text"
      },
      "source": [
        "<hr>\n",
        "\n",
        "Copyright &copy; 2018 [Cognitive Class](https://cocl.us/DX0108EN_CC). This notebook and its source code are released under the terms of the [MIT License](https://bigdatauniversity.com/mit-license/)."
      ]
    }
  ]
}