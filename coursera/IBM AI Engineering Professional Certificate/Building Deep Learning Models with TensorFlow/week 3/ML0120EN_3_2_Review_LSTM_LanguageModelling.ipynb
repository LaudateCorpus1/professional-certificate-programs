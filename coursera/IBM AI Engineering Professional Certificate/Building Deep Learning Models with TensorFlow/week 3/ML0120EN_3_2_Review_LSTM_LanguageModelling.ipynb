{
  "nbformat": 4,
  "nbformat_minor": 0,
  "metadata": {
    "anaconda-cloud": {},
    "kernelspec": {
      "display_name": "Python",
      "language": "python",
      "name": "conda-env-python-py"
    },
    "language_info": {
      "codemirror_mode": {
        "name": "ipython",
        "version": 3
      },
      "file_extension": ".py",
      "mimetype": "text/x-python",
      "name": "python",
      "nbconvert_exporter": "python",
      "pygments_lexer": "ipython3",
      "version": "3.6.7"
    },
    "colab": {
      "name": "ML0120EN-3.2-Review-LSTM-LanguageModelling.ipynb",
      "provenance": [],
      "collapsed_sections": [
        "1_FpK6WSkOjr",
        "2IZhgSE5kOjs"
      ]
    }
  },
  "cells": [
    {
      "cell_type": "markdown",
      "metadata": {
        "id": "-LkPjEUikOfs",
        "colab_type": "text"
      },
      "source": [
        "<a href=\"https://www.bigdatauniversity.com\"><img src=\"https://ibm.box.com/shared/static/qo20b88v1hbjztubt06609ovs85q8fau.png\" width=\"400px\" align=\"center\"></a>\n",
        "\n",
        "<h1 align=\"center\"><font size=\"5\">RECURRENT NETWORKS and LSTM IN DEEP LEARNING</font></h1>"
      ]
    },
    {
      "cell_type": "markdown",
      "metadata": {
        "id": "oha3PCnOkOfu",
        "colab_type": "text"
      },
      "source": [
        "<h2>Applying Recurrent Neural Networks/LSTM for Language Modeling</h2>\n",
        "Hello and welcome to this part. In this notebook, we will go over the topic of Language Modelling, and create a Recurrent Neural Network model based on the Long Short-Term Memory unit to train and benchmark on the Penn Treebank dataset. By the end of this notebook, you should be able to understand how TensorFlow builds and executes a RNN model for Language Modelling."
      ]
    },
    {
      "cell_type": "markdown",
      "metadata": {
        "id": "-dU2PHj1kOfu",
        "colab_type": "text"
      },
      "source": [
        "<h2>The Objective</h2>\n",
        "By now, you should have an understanding of how Recurrent Networks work -- a specialized model to process sequential data by keeping track of the \"state\" or context. In this notebook, we go over a TensorFlow code snippet for creating a model focused on <b>Language Modelling</b> -- a very relevant task that is the cornerstone of many different linguistic problems such as <b>Speech Recognition, Machine Translation and Image Captioning</b>. For this, we will be using the Penn Treebank dataset, which is an often-used dataset for benchmarking Language Modelling models."
      ]
    },
    {
      "cell_type": "markdown",
      "metadata": {
        "id": "tv_an4KQkOfv",
        "colab_type": "text"
      },
      "source": [
        "\n",
        "<h2>Table of Contents</h2>\n",
        "<ol>\n",
        "    <li><a href=\"#language_modelling\">What exactly is Language Modelling?</a></li>\n",
        "    <li><a href=\"#treebank_dataset\">The Penn Treebank dataset</a></li>\n",
        "    <li><a href=\"#word_embedding\">Work Embedding</a></li>\n",
        "    <li><a href=\"#building_lstm_model\">Building the LSTM model for Language Modeling</a></li>\n",
        "    <li><a href=\"#ltsm\">LTSM</a></li>\n",
        "</ol>\n",
        "<p></p>\n",
        "</div>\n",
        "<br>"
      ]
    },
    {
      "cell_type": "markdown",
      "metadata": {
        "button": false,
        "deletable": true,
        "new_sheet": false,
        "run_control": {
          "read_only": false
        },
        "id": "Zqh71qYjkOfw",
        "colab_type": "text"
      },
      "source": [
        "--------"
      ]
    },
    {
      "cell_type": "markdown",
      "metadata": {
        "button": false,
        "deletable": true,
        "new_sheet": false,
        "run_control": {
          "read_only": false
        },
        "id": "mhKy9zwhkOfx",
        "colab_type": "text"
      },
      "source": [
        "<a id=\"language_modelling\"></a>\n",
        "<h2>What exactly is Language Modelling?</h2>\n",
        "Language Modelling, to put it simply, <b>is the task of assigning probabilities to sequences of words</b>. This means that, given a context of one or a sequence of words in the language the model was trained on, the model should provide the next most probable words or sequence of words that follows from the given sequence of words the sentence. Language Modelling is one of the most important tasks in Natural Language Processing.\n",
        "\n",
        "<img src=\"https://ibm.box.com/shared/static/1d1i5gub6wljby2vani2vzxp0xsph702.png\" width=\"1080\">\n",
        "<center><i>Example of a sentence being predicted</i></center>\n",
        "<br><br>\n",
        "In this example, one can see the predictions for the next word of a sentence, given the context \"This is an\". As you can see, this boils down to a sequential data analysis task -- you are given a word or a sequence of words (the input data), and, given the context (the state), you need to find out what is the next word (the prediction). This kind of analysis is very important for language-related tasks such as <b>Speech Recognition, Machine Translation, Image Captioning, Text Correction</b> and many other very relevant problems. \n",
        "\n",
        "<img src=\"https://ibm.box.com/shared/static/az39idf9ipfdpc5ugifpgxnydelhyf3i.png\" width=\"1080\">\n",
        "<center><i>The above example is a schema of an RNN in execution</i></center>\n",
        "<br><br>\n",
        "As the above image shows, Recurrent Network models fit this problem like a glove. Alongside LSTM and its capacity to maintain the model's state for over one thousand time steps, we have all the tools we need to undertake this problem. The goal for this notebook is to create a model that can reach <b>low levels of perplexity</b> on our desired dataset.\n",
        "\n",
        "For Language Modelling problems, <b>perplexity</b> is the way to gauge efficiency. Perplexity is simply a measure of how well a probabilistic model is able to predict its sample. A higher-level way to explain this would be saying that <b>low perplexity means a higher degree of trust in the predictions the model makes</b>. Therefore, the lower perplexity is, the better."
      ]
    },
    {
      "cell_type": "markdown",
      "metadata": {
        "id": "lG4HJ26zkOfy",
        "colab_type": "text"
      },
      "source": [
        "<a id=\"treebank_dataset\"></a>\n",
        "<h2>The Penn Treebank dataset</h2>\n",
        "Historically, datasets big enough for Natural Language Processing are hard to come by. This is in part due to the necessity of the sentences to be broken down and tagged with a certain degree of correctness -- or else the models trained on it won't be able to be correct at all. This means that we need a <b>large amount of data, annotated by or at least corrected by humans</b>. This is, of course, not an easy task at all.\n",
        "\n",
        "The Penn Treebank, or PTB for short, is a dataset maintained by the University of Pennsylvania. It is <i>huge</i> -- there are over <b>four million and eight hundred thousand</b> annotated words in it, all corrected by humans. It is composed of many different sources, from abstracts of Department of Energy papers to texts from the Library of America. Since it is verifiably correct and of such a huge size, the Penn Treebank is commonly used as a benchmark dataset for Language Modelling.\n",
        "\n",
        "The dataset is divided in different kinds of annotations, such as Piece-of-Speech, Syntactic and Semantic skeletons. For this example, we will simply use a sample of clean, non-annotated words (with the exception of one tag --<code>&lt;unk&gt;</code>\n",
        ", which is used for rare words such as uncommon proper nouns) for our model. This means that we just want to predict what the next words would be, not what they mean in context or their classes on a given sentence.\n",
        "\n",
        "<center>Example of text from the dataset we are going to use, <b>ptb.train</b></center>\n",
        "<br><br>\n",
        "\n",
        "<div class=\"alert alert-block alert-info\" style=\"margin-top: 20px\">\n",
        "    <center>the percentage of lung cancer deaths among the workers at the west <code>&lt;unk&gt;</code> mass. paper factory appears to be the highest for any asbestos workers studied in western industrialized countries he said \n",
        " the plant which is owned by <code>&lt;unk&gt;</code> & <code>&lt;unk&gt;</code> co. was under contract with <code>&lt;unk&gt;</code> to make the cigarette filters \n",
        " the finding probably will support those who argue that the U.S. should regulate the class of asbestos including <code>&lt;unk&gt;</code> more <code>&lt;unk&gt;</code> than the common kind of asbestos <code>&lt;unk&gt;</code> found in most schools and other buildings dr. <code>&lt;unk&gt;</code> said</center>\n",
        "</div>"
      ]
    },
    {
      "cell_type": "markdown",
      "metadata": {
        "button": false,
        "deletable": true,
        "new_sheet": false,
        "run_control": {
          "read_only": false
        },
        "id": "ZbbEBy0pkOfy",
        "colab_type": "text"
      },
      "source": [
        "<a id=\"word_embedding\"></a>\n",
        "<h2>Word Embeddings</h2><br/>\n",
        "\n",
        "For better processing, in this example, we will make use of <a href=\"https://www.tensorflow.org/tutorials/word2vec/\"><b>word embeddings</b></a>, which is <b>a way of representing sentence structures or words as n-dimensional vectors (where n is a reasonably high number, such as 200 or 500) of real numbers</b>. Basically, we will assign each word a randomly-initialized vector, and input those into the network to be processed. After a number of iterations, these vectors are expected to assume values that help the network to correctly predict what it needs to -- in our case, the probable next word in the sentence. This is shown to be a very effective task in Natural Language Processing, and is a commonplace practice.\n",
        "<br><br>\n",
        "<font size=\"4\"><strong>\n",
        "$$Vec(\"Example\") = [0.02, 0.00, 0.00, 0.92, 0.30, \\ldots]$$\n",
        "</strong></font>\n",
        "<br>\n",
        "Word Embedding tends to group up similarly used words <i>reasonably</i> close together in the vectorial space. For example, if we use T-SNE (a dimensional reduction visualization algorithm) to flatten the dimensions of our vectors into a 2-dimensional space and plot these words in a 2-dimensional space, we might see something like this:\n",
        "\n",
        "<img src=\"https://ibm.box.com/shared/static/bqhc5dg879gcoabzhxra1w8rkg3od1cu.png\" width=\"800\">\n",
        "<center><i>T-SNE Mockup with clusters marked for easier visualization</i></center>\n",
        "<br><br>\n",
        "As you can see, words that are frequently used together, in place of each other, or in the same places as them tend to be grouped together -- being closer together the higher they are correlated. For example, \"None\" is pretty semantically close to \"Zero\", while a phrase that uses \"Italy\", you could probably also fit \"Germany\" in it, with little damage to the sentence structure. The vectorial \"closeness\" for similar words like this is a great indicator of a well-built model.\n",
        "\n",
        "<hr>\n",
        " "
      ]
    },
    {
      "cell_type": "markdown",
      "metadata": {
        "button": false,
        "deletable": true,
        "new_sheet": false,
        "run_control": {
          "read_only": false
        },
        "id": "rDIiS0IykOfz",
        "colab_type": "text"
      },
      "source": [
        "We need to import the necessary modules for our code. We need <b><code>numpy</code></b> and <b><code>tensorflow</code></b>, obviously. Additionally, we can import directly the <b><code>tensorflow.models.rnn</code></b> model, which includes the function for building RNNs, and <b><code>tensorflow.models.rnn.ptb.reader</code></b> which is the helper module for getting the input data from the dataset we just downloaded.\n",
        "\n",
        "If you want to learn more take a look at https://github.com/tensorflow/models/blob/master/tutorials/rnn/ptb/reader.py"
      ]
    },
    {
      "cell_type": "code",
      "metadata": {
        "button": false,
        "deletable": true,
        "new_sheet": false,
        "run_control": {
          "read_only": false
        },
        "id": "5_FtYRnukOf0",
        "colab_type": "code",
        "colab": {
          "base_uri": "https://localhost:8080/",
          "height": 35
        },
        "outputId": "635c5382-e1aa-4c17-f907-7166bb8799e2"
      },
      "source": [
        "import time\n",
        "import numpy as np\n",
        "%tensorflow_version 1.x\n",
        "import tensorflow as tf"
      ],
      "execution_count": 1,
      "outputs": [
        {
          "output_type": "stream",
          "text": [
            "TensorFlow 1.x selected.\n"
          ],
          "name": "stdout"
        }
      ]
    },
    {
      "cell_type": "code",
      "metadata": {
        "button": false,
        "deletable": true,
        "new_sheet": false,
        "run_control": {
          "read_only": false
        },
        "id": "TqvmofROkOf5",
        "colab_type": "code",
        "colab": {
          "base_uri": "https://localhost:8080/",
          "height": 139
        },
        "outputId": "4a55b3fb-ad5d-40b9-81d0-27c3ec93be6e"
      },
      "source": [
        "!mkdir data\n",
        "!wget -q -O data/ptb.zip https://ibm.box.com/shared/static/z2yvmhbskc45xd2a9a4kkn6hg4g4kj5r.zip\n",
        "!unzip -o data/ptb.zip -d data\n",
        "!cp data/ptb/reader.py .\n",
        "\n",
        "import reader"
      ],
      "execution_count": 2,
      "outputs": [
        {
          "output_type": "stream",
          "text": [
            "Archive:  data/ptb.zip\n",
            "   creating: data/ptb/\n",
            "  inflating: data/ptb/reader.py      \n",
            "   creating: data/__MACOSX/\n",
            "   creating: data/__MACOSX/ptb/\n",
            "  inflating: data/__MACOSX/ptb/._reader.py  \n",
            "  inflating: data/__MACOSX/._ptb     \n"
          ],
          "name": "stdout"
        }
      ]
    },
    {
      "cell_type": "markdown",
      "metadata": {
        "button": false,
        "deletable": true,
        "new_sheet": false,
        "run_control": {
          "read_only": false
        },
        "id": "mEphLumFkOf-",
        "colab_type": "text"
      },
      "source": [
        "<a id=\"building_lstm_model\"></a>\n",
        "<h2>Building the LSTM model for Language Modeling</h2>\n",
        "Now that we know exactly what we are doing, we can start building our model using TensorFlow. The very first thing we need to do is download and extract the <code>simple-examples</code> dataset, which can be done by executing the code cell below."
      ]
    },
    {
      "cell_type": "code",
      "metadata": {
        "button": false,
        "deletable": true,
        "new_sheet": false,
        "run_control": {
          "read_only": false
        },
        "id": "u5eRFAbekOf_",
        "colab_type": "code",
        "colab": {
          "base_uri": "https://localhost:8080/",
          "height": 208
        },
        "outputId": "9228ee22-4c21-4eb4-d482-63215bd93dd9"
      },
      "source": [
        "!wget http://www.fit.vutbr.cz/~imikolov/rnnlm/simple-examples.tgz \n",
        "!tar xzf simple-examples.tgz -C data/"
      ],
      "execution_count": 3,
      "outputs": [
        {
          "output_type": "stream",
          "text": [
            "--2020-03-30 09:19:43--  http://www.fit.vutbr.cz/~imikolov/rnnlm/simple-examples.tgz\n",
            "Resolving www.fit.vutbr.cz (www.fit.vutbr.cz)... 147.229.9.23, 2001:67c:1220:809::93e5:917\n",
            "Connecting to www.fit.vutbr.cz (www.fit.vutbr.cz)|147.229.9.23|:80... connected.\n",
            "HTTP request sent, awaiting response... 200 OK\n",
            "Length: 34869662 (33M) [application/x-gtar]\n",
            "Saving to: ‘simple-examples.tgz’\n",
            "\n",
            "simple-examples.tgz 100%[===================>]  33.25M  1.71MB/s    in 22s     \n",
            "\n",
            "2020-03-30 09:20:07 (1.53 MB/s) - ‘simple-examples.tgz’ saved [34869662/34869662]\n",
            "\n"
          ],
          "name": "stdout"
        }
      ]
    },
    {
      "cell_type": "markdown",
      "metadata": {
        "button": false,
        "deletable": true,
        "new_sheet": false,
        "run_control": {
          "read_only": false
        },
        "id": "7eBNjuq4kOgD",
        "colab_type": "text"
      },
      "source": [
        "Additionally, for the sake of making it easy to play around with the model's hyperparameters, we can declare them beforehand. Feel free to change these -- you will see a difference in performance each time you change those!  \n"
      ]
    },
    {
      "cell_type": "code",
      "metadata": {
        "button": false,
        "deletable": true,
        "new_sheet": false,
        "run_control": {
          "read_only": false
        },
        "id": "-4h_BQyBkOgE",
        "colab_type": "code",
        "colab": {}
      },
      "source": [
        "#Initial weight scale\n",
        "init_scale = 0.1\n",
        "#Initial learning rate\n",
        "learning_rate = 1.0\n",
        "#Maximum permissible norm for the gradient (For gradient clipping -- another measure against Exploding Gradients)\n",
        "max_grad_norm = 5\n",
        "#The number of layers in our model\n",
        "num_layers = 2\n",
        "#The total number of recurrence steps, also known as the number of layers when our RNN is \"unfolded\"\n",
        "num_steps = 20\n",
        "#The number of processing units (neurons) in the hidden layers\n",
        "hidden_size_l1 = 256\n",
        "hidden_size_l2 = 128\n",
        "#The maximum number of epochs trained with the initial learning rate\n",
        "max_epoch_decay_lr = 4\n",
        "#The total number of epochs in training\n",
        "max_epoch = 15\n",
        "#The probability for keeping data in the Dropout Layer (This is an optimization, but is outside our scope for this notebook!)\n",
        "#At 1, we ignore the Dropout Layer wrapping.\n",
        "keep_prob = 1\n",
        "#The decay for the learning rate\n",
        "decay = 0.5\n",
        "#The size for each batch of data\n",
        "batch_size = 60\n",
        "#The size of our vocabulary\n",
        "vocab_size = 10000\n",
        "embeding_vector_size = 200\n",
        "#Training flag to separate training from testing\n",
        "is_training = 1\n",
        "#Data directory for our dataset\n",
        "data_dir = \"data/simple-examples/data/\""
      ],
      "execution_count": 0,
      "outputs": []
    },
    {
      "cell_type": "markdown",
      "metadata": {
        "button": false,
        "deletable": true,
        "new_sheet": false,
        "run_control": {
          "read_only": false
        },
        "id": "CeUmQVOtkOgJ",
        "colab_type": "text"
      },
      "source": [
        "Some clarifications for LSTM architecture based on the arguments:\n",
        "\n",
        "Network structure:\n",
        "<ul>\n",
        "    <li>In this network, the number of LSTM cells are 2. To give the model more expressive power, we can add multiple layers of LSTMs to process the data. The output of the first layer will become the input of the second and so on.\n",
        "    </li>\n",
        "    <li>The recurrence steps is 20, that is, when our RNN is \"Unfolded\", the recurrence step is 20.</li>   \n",
        "    <li>the structure is like:\n",
        "        <ul>\n",
        "            <li>200 input units -> [200x200] Weight -> 200 Hidden units (first layer) -> [200x200] Weight matrix  -> 200 Hidden units (second layer) ->  [200] weight Matrix -> 200 unit output</li>\n",
        "        </ul>\n",
        "    </li>\n",
        "</ul>\n",
        "<br>\n",
        "\n",
        "Input layer: \n",
        "<ul>\n",
        "    <li>The network has 200 input units.</li>\n",
        "    <li>Suppose each word is represented by an embedding vector of dimensionality e=200. The input layer of each cell will have 200 linear units. These e=200 linear units are connected to each of the h=200 LSTM units in the hidden layer (assuming there is only one hidden layer, though our case has 2 layers).\n",
        "    </li>\n",
        "    <li>The input shape is [batch_size, num_steps], that is [30x20]. It will turn into [30x20x200] after embedding, and then 20x[30x200]\n",
        "    </li>\n",
        "</ul>\n",
        "<br>\n",
        "\n",
        "Hidden layer:\n",
        "<ul>\n",
        "    <li>Each LSTM has 200 hidden units which is equivalent to the dimensionality of the embedding words and output.</li>\n",
        "</ul>\n",
        "<br>"
      ]
    },
    {
      "cell_type": "markdown",
      "metadata": {
        "button": false,
        "deletable": true,
        "new_sheet": false,
        "run_control": {
          "read_only": false
        },
        "id": "q581Yg_YkOgK",
        "colab_type": "text"
      },
      "source": [
        "There is a lot to be done and a ton of information to process at the same time, so go over this code slowly. It may seem complex at first, but if you try to apply what you just learned about language modelling to the code you see, you should be able to understand it.\n",
        "\n",
        "This code is adapted from the <a href=\"https://github.com/tensorflow/models\">PTBModel</a> example bundled with the TensorFlow source code.\n",
        "\n",
        "\n",
        "<h4>Train data</h4>\n",
        "The story starts from data:\n",
        "<ul>\n",
        "    <li>Train data is a list of words, of size 929589, represented by numbers, e.g. [9971, 9972, 9974, 9975,...]</li>\n",
        "    <li>We read data as mini-batch of size b=30. Assume the size of each sentence is 20 words (num_steps = 20). Then it will take $$floor(\\frac{N}{b \\times h})+1=1548$$ iterations for the learner to go through all sentences once. Where N is the size of the list of words, b is batch size, andh is size of each sentence. So, the number of iterators is 1548\n",
        "    </li>\n",
        "    <li>Each batch data is read from train dataset of size 600, and shape of [30x20]</li>\n",
        "</ul>"
      ]
    },
    {
      "cell_type": "markdown",
      "metadata": {
        "button": false,
        "deletable": true,
        "new_sheet": false,
        "run_control": {
          "read_only": false
        },
        "id": "90619qN3kOgL",
        "colab_type": "text"
      },
      "source": [
        "First we start an interactive session:"
      ]
    },
    {
      "cell_type": "code",
      "metadata": {
        "button": false,
        "deletable": true,
        "new_sheet": false,
        "run_control": {
          "read_only": false
        },
        "id": "wXbD-ha-kOgN",
        "colab_type": "code",
        "colab": {}
      },
      "source": [
        "session = tf.InteractiveSession()"
      ],
      "execution_count": 0,
      "outputs": []
    },
    {
      "cell_type": "code",
      "metadata": {
        "button": false,
        "deletable": true,
        "new_sheet": false,
        "run_control": {
          "read_only": false
        },
        "id": "CANJCZiDkOgQ",
        "colab_type": "code",
        "colab": {
          "base_uri": "https://localhost:8080/",
          "height": 52
        },
        "outputId": "685bc180-b572-4001-bd60-4e1f2fc2e9fe"
      },
      "source": [
        "# Reads the data and separates it into training data, validation data and testing data\n",
        "raw_data = reader.ptb_raw_data(data_dir)\n",
        "train_data, valid_data, test_data, vocab, word_to_id = raw_data"
      ],
      "execution_count": 6,
      "outputs": [
        {
          "output_type": "stream",
          "text": [
            "WARNING:tensorflow:From /content/reader.py:30: The name tf.gfile.GFile is deprecated. Please use tf.io.gfile.GFile instead.\n",
            "\n"
          ],
          "name": "stdout"
        }
      ]
    },
    {
      "cell_type": "code",
      "metadata": {
        "id": "pnto1fChkOgT",
        "colab_type": "code",
        "colab": {
          "base_uri": "https://localhost:8080/",
          "height": 35
        },
        "outputId": "440bdf3e-be3d-4331-ac3c-33f6a8dd2fcb"
      },
      "source": [
        "len(train_data)"
      ],
      "execution_count": 7,
      "outputs": [
        {
          "output_type": "execute_result",
          "data": {
            "text/plain": [
              "929589"
            ]
          },
          "metadata": {
            "tags": []
          },
          "execution_count": 7
        }
      ]
    },
    {
      "cell_type": "code",
      "metadata": {
        "id": "JruXGWCXkOgZ",
        "colab_type": "code",
        "colab": {
          "base_uri": "https://localhost:8080/",
          "height": 55
        },
        "outputId": "08bc0603-823d-47d3-ecd7-1269a5fb5677"
      },
      "source": [
        "def id_to_word(id_list):\n",
        "    line = []\n",
        "    for w in id_list:\n",
        "        for word, wid in word_to_id.items():\n",
        "            if wid == w:\n",
        "                line.append(word)\n",
        "    return line            \n",
        "                \n",
        "\n",
        "print(id_to_word(train_data[0:100]))"
      ],
      "execution_count": 8,
      "outputs": [
        {
          "output_type": "stream",
          "text": [
            "['aer', 'banknote', 'berlitz', 'calloway', 'centrust', 'cluett', 'fromstein', 'gitano', 'guterman', 'hydro-quebec', 'ipo', 'kia', 'memotec', 'mlx', 'nahb', 'punts', 'rake', 'regatta', 'rubens', 'sim', 'snack-food', 'ssangyong', 'swapo', 'wachter', '<eos>', 'pierre', '<unk>', 'N', 'years', 'old', 'will', 'join', 'the', 'board', 'as', 'a', 'nonexecutive', 'director', 'nov.', 'N', '<eos>', 'mr.', '<unk>', 'is', 'chairman', 'of', '<unk>', 'n.v.', 'the', 'dutch', 'publishing', 'group', '<eos>', 'rudolph', '<unk>', 'N', 'years', 'old', 'and', 'former', 'chairman', 'of', 'consolidated', 'gold', 'fields', 'plc', 'was', 'named', 'a', 'nonexecutive', 'director', 'of', 'this', 'british', 'industrial', 'conglomerate', '<eos>', 'a', 'form', 'of', 'asbestos', 'once', 'used', 'to', 'make', 'kent', 'cigarette', 'filters', 'has', 'caused', 'a', 'high', 'percentage', 'of', 'cancer', 'deaths', 'among', 'a', 'group', 'of']\n"
          ],
          "name": "stdout"
        }
      ]
    },
    {
      "cell_type": "markdown",
      "metadata": {
        "button": false,
        "deletable": true,
        "new_sheet": false,
        "run_control": {
          "read_only": false
        },
        "id": "X5W70LPOkOge",
        "colab_type": "text"
      },
      "source": [
        "Lets just read one mini-batch now and feed our network:"
      ]
    },
    {
      "cell_type": "code",
      "metadata": {
        "button": false,
        "deletable": true,
        "new_sheet": false,
        "run_control": {
          "read_only": false
        },
        "id": "tM_LqsQ1kOgi",
        "colab_type": "code",
        "colab": {}
      },
      "source": [
        "itera = reader.ptb_iterator(train_data, batch_size, num_steps)\n",
        "first_touple = itera.__next__()\n",
        "x = first_touple[0]\n",
        "y = first_touple[1]"
      ],
      "execution_count": 0,
      "outputs": []
    },
    {
      "cell_type": "code",
      "metadata": {
        "button": false,
        "deletable": true,
        "new_sheet": false,
        "run_control": {
          "read_only": false
        },
        "id": "T8YIDkOwkOgl",
        "colab_type": "code",
        "colab": {
          "base_uri": "https://localhost:8080/",
          "height": 35
        },
        "outputId": "ebc55676-110a-44c0-a5d8-918568821222"
      },
      "source": [
        "x.shape"
      ],
      "execution_count": 10,
      "outputs": [
        {
          "output_type": "execute_result",
          "data": {
            "text/plain": [
              "(60, 20)"
            ]
          },
          "metadata": {
            "tags": []
          },
          "execution_count": 10
        }
      ]
    },
    {
      "cell_type": "markdown",
      "metadata": {
        "button": false,
        "deletable": true,
        "new_sheet": false,
        "run_control": {
          "read_only": false
        },
        "id": "g8HNFhqRkOgp",
        "colab_type": "text"
      },
      "source": [
        "Lets look at 3 sentences of our input x:"
      ]
    },
    {
      "cell_type": "code",
      "metadata": {
        "button": false,
        "deletable": true,
        "new_sheet": false,
        "run_control": {
          "read_only": false
        },
        "id": "BnbWSGU8kOgq",
        "colab_type": "code",
        "colab": {
          "base_uri": "https://localhost:8080/",
          "height": 139
        },
        "outputId": "50ad7d95-338a-4168-afd1-2234e65cd990"
      },
      "source": [
        "x[0:3]"
      ],
      "execution_count": 11,
      "outputs": [
        {
          "output_type": "execute_result",
          "data": {
            "text/plain": [
              "array([[9970, 9971, 9972, 9974, 9975, 9976, 9980, 9981, 9982, 9983, 9984,\n",
              "        9986, 9987, 9988, 9989, 9991, 9992, 9993, 9994, 9995],\n",
              "       [ 901,   33, 3361,    8, 1279,  437,  597,    6,  261, 4276, 1089,\n",
              "           8, 2836,    2,  269,    4, 5526,  241,   13, 2420],\n",
              "       [2654,    6,  334, 2886,    4,    1,  233,  711,  834,   11,  130,\n",
              "         123,    7,  514,    2,   63,   10,  514,    8,  605]],\n",
              "      dtype=int32)"
            ]
          },
          "metadata": {
            "tags": []
          },
          "execution_count": 11
        }
      ]
    },
    {
      "cell_type": "markdown",
      "metadata": {
        "button": false,
        "deletable": true,
        "new_sheet": false,
        "run_control": {
          "read_only": false
        },
        "id": "04lhmbUVkOgt",
        "colab_type": "text"
      },
      "source": [
        "we define 2 place holders to feed them with mini-batchs, that is x and y:"
      ]
    },
    {
      "cell_type": "code",
      "metadata": {
        "button": false,
        "deletable": true,
        "new_sheet": false,
        "run_control": {
          "read_only": false
        },
        "id": "gEm9550BkOgu",
        "colab_type": "code",
        "colab": {}
      },
      "source": [
        "_input_data = tf.placeholder(tf.int32, [batch_size, num_steps]) #[30#20]\n",
        "_targets = tf.placeholder(tf.int32, [batch_size, num_steps]) #[30#20]"
      ],
      "execution_count": 0,
      "outputs": []
    },
    {
      "cell_type": "markdown",
      "metadata": {
        "button": false,
        "deletable": true,
        "new_sheet": false,
        "run_control": {
          "read_only": false
        },
        "id": "fwErxdxEkOgx",
        "colab_type": "text"
      },
      "source": [
        "Lets define a dictionary, and use it later to feed the placeholders with our first mini-batch:"
      ]
    },
    {
      "cell_type": "code",
      "metadata": {
        "button": false,
        "deletable": true,
        "new_sheet": false,
        "run_control": {
          "read_only": false
        },
        "id": "RjPg0kBEkOgy",
        "colab_type": "code",
        "colab": {}
      },
      "source": [
        "feed_dict = {_input_data:x, _targets:y}"
      ],
      "execution_count": 0,
      "outputs": []
    },
    {
      "cell_type": "markdown",
      "metadata": {
        "button": false,
        "deletable": true,
        "new_sheet": false,
        "run_control": {
          "read_only": false
        },
        "id": "AGxgHp66kOg1",
        "colab_type": "text"
      },
      "source": [
        "For example, we can use it to feed <code>\\_input\\_data</code>:"
      ]
    },
    {
      "cell_type": "code",
      "metadata": {
        "button": false,
        "deletable": true,
        "new_sheet": false,
        "run_control": {
          "read_only": false
        },
        "id": "xi9MZVDKkOg2",
        "colab_type": "code",
        "colab": {
          "base_uri": "https://localhost:8080/",
          "height": 139
        },
        "outputId": "d32bed5a-cbb0-41f0-ea39-afc90b9ff740"
      },
      "source": [
        "session.run(_input_data, feed_dict)"
      ],
      "execution_count": 14,
      "outputs": [
        {
          "output_type": "execute_result",
          "data": {
            "text/plain": [
              "array([[9970, 9971, 9972, ..., 9993, 9994, 9995],\n",
              "       [ 901,   33, 3361, ...,  241,   13, 2420],\n",
              "       [2654,    6,  334, ...,  514,    8,  605],\n",
              "       ...,\n",
              "       [7831,   36, 1678, ...,    4, 4558,  157],\n",
              "       [  59, 2070, 2433, ...,  400,    1, 1173],\n",
              "       [2097,    3,    2, ..., 2043,   23,    1]], dtype=int32)"
            ]
          },
          "metadata": {
            "tags": []
          },
          "execution_count": 14
        }
      ]
    },
    {
      "cell_type": "markdown",
      "metadata": {
        "button": false,
        "deletable": true,
        "new_sheet": false,
        "run_control": {
          "read_only": false
        },
        "id": "ZWOdfAk6kOg6",
        "colab_type": "text"
      },
      "source": [
        "In this step, we create the stacked LSTM, which is a 2 layer LSTM network:"
      ]
    },
    {
      "cell_type": "code",
      "metadata": {
        "button": false,
        "deletable": true,
        "new_sheet": false,
        "run_control": {
          "read_only": false
        },
        "id": "BgTBoqn_kOg7",
        "colab_type": "code",
        "colab": {
          "base_uri": "https://localhost:8080/",
          "height": 280
        },
        "outputId": "a06c4e5c-54e1-4682-a0bf-e3abb027e78c"
      },
      "source": [
        "lstm_cell_l1 = tf.contrib.rnn.BasicLSTMCell(hidden_size_l1, forget_bias=0.0)\n",
        "lstm_cell_l2 = tf.contrib.rnn.BasicLSTMCell(hidden_size_l2, forget_bias=0.0)\n",
        "stacked_lstm = tf.contrib.rnn.MultiRNNCell([lstm_cell_l1, lstm_cell_l2])"
      ],
      "execution_count": 15,
      "outputs": [
        {
          "output_type": "stream",
          "text": [
            "WARNING:tensorflow:\n",
            "The TensorFlow contrib module will not be included in TensorFlow 2.0.\n",
            "For more information, please see:\n",
            "  * https://github.com/tensorflow/community/blob/master/rfcs/20180907-contrib-sunset.md\n",
            "  * https://github.com/tensorflow/addons\n",
            "  * https://github.com/tensorflow/io (for I/O related ops)\n",
            "If you depend on functionality not listed there, please file an issue.\n",
            "\n",
            "WARNING:tensorflow:From <ipython-input-15-ddf565d0e753>:1: BasicLSTMCell.__init__ (from tensorflow.python.ops.rnn_cell_impl) is deprecated and will be removed in a future version.\n",
            "Instructions for updating:\n",
            "This class is equivalent as tf.keras.layers.LSTMCell, and will be replaced by that in Tensorflow 2.0.\n",
            "WARNING:tensorflow:From <ipython-input-15-ddf565d0e753>:3: MultiRNNCell.__init__ (from tensorflow.python.ops.rnn_cell_impl) is deprecated and will be removed in a future version.\n",
            "Instructions for updating:\n",
            "This class is equivalent as tf.keras.layers.StackedRNNCells, and will be replaced by that in Tensorflow 2.0.\n"
          ],
          "name": "stdout"
        }
      ]
    },
    {
      "cell_type": "markdown",
      "metadata": {
        "button": false,
        "deletable": true,
        "new_sheet": false,
        "run_control": {
          "read_only": false
        },
        "id": "WdM2xOflkOg_",
        "colab_type": "text"
      },
      "source": [
        "Also, we initialize the states of the nework:\n",
        "\n",
        "<h4>_initial_state</h4>\n",
        "\n",
        "For each LCTM, there are 2 state matrices, c\\_state and m\\_state.  c_state and m_state represent \"Memory State\" and \"Cell State\". Each hidden layer, has a vector of size 30, which keeps the states. so, for 200 hidden units in each LSTM, we have a matrix of size [30x200]"
      ]
    },
    {
      "cell_type": "code",
      "metadata": {
        "button": false,
        "deletable": true,
        "new_sheet": false,
        "run_control": {
          "read_only": false
        },
        "id": "7DEMCVXDkOhA",
        "colab_type": "code",
        "colab": {
          "base_uri": "https://localhost:8080/",
          "height": 72
        },
        "outputId": "59731b1f-72fa-4f02-c217-d17c079456c3"
      },
      "source": [
        "_initial_state = stacked_lstm.zero_state(batch_size, tf.float32)\n",
        "_initial_state"
      ],
      "execution_count": 16,
      "outputs": [
        {
          "output_type": "execute_result",
          "data": {
            "text/plain": [
              "(LSTMStateTuple(c=<tf.Tensor 'MultiRNNCellZeroState/BasicLSTMCellZeroState/zeros:0' shape=(60, 256) dtype=float32>, h=<tf.Tensor 'MultiRNNCellZeroState/BasicLSTMCellZeroState/zeros_1:0' shape=(60, 256) dtype=float32>),\n",
              " LSTMStateTuple(c=<tf.Tensor 'MultiRNNCellZeroState/BasicLSTMCellZeroState_1/zeros:0' shape=(60, 128) dtype=float32>, h=<tf.Tensor 'MultiRNNCellZeroState/BasicLSTMCellZeroState_1/zeros_1:0' shape=(60, 128) dtype=float32>))"
            ]
          },
          "metadata": {
            "tags": []
          },
          "execution_count": 16
        }
      ]
    },
    {
      "cell_type": "markdown",
      "metadata": {
        "button": false,
        "deletable": true,
        "new_sheet": false,
        "run_control": {
          "read_only": false
        },
        "id": "c0N5v_QYkOhD",
        "colab_type": "text"
      },
      "source": [
        "Lets look at the states, though they are all zero for now:"
      ]
    },
    {
      "cell_type": "code",
      "metadata": {
        "button": false,
        "deletable": true,
        "new_sheet": false,
        "run_control": {
          "read_only": false
        },
        "id": "IjLQTevUkOhD",
        "colab_type": "code",
        "colab": {
          "base_uri": "https://localhost:8080/",
          "height": 468
        },
        "outputId": "fdda055a-1e8c-4953-8af0-7a63026f19ec"
      },
      "source": [
        "session.run(_initial_state, feed_dict)"
      ],
      "execution_count": 17,
      "outputs": [
        {
          "output_type": "execute_result",
          "data": {
            "text/plain": [
              "(LSTMStateTuple(c=array([[0., 0., 0., ..., 0., 0., 0.],\n",
              "       [0., 0., 0., ..., 0., 0., 0.],\n",
              "       [0., 0., 0., ..., 0., 0., 0.],\n",
              "       ...,\n",
              "       [0., 0., 0., ..., 0., 0., 0.],\n",
              "       [0., 0., 0., ..., 0., 0., 0.],\n",
              "       [0., 0., 0., ..., 0., 0., 0.]], dtype=float32), h=array([[0., 0., 0., ..., 0., 0., 0.],\n",
              "       [0., 0., 0., ..., 0., 0., 0.],\n",
              "       [0., 0., 0., ..., 0., 0., 0.],\n",
              "       ...,\n",
              "       [0., 0., 0., ..., 0., 0., 0.],\n",
              "       [0., 0., 0., ..., 0., 0., 0.],\n",
              "       [0., 0., 0., ..., 0., 0., 0.]], dtype=float32)),\n",
              " LSTMStateTuple(c=array([[0., 0., 0., ..., 0., 0., 0.],\n",
              "       [0., 0., 0., ..., 0., 0., 0.],\n",
              "       [0., 0., 0., ..., 0., 0., 0.],\n",
              "       ...,\n",
              "       [0., 0., 0., ..., 0., 0., 0.],\n",
              "       [0., 0., 0., ..., 0., 0., 0.],\n",
              "       [0., 0., 0., ..., 0., 0., 0.]], dtype=float32), h=array([[0., 0., 0., ..., 0., 0., 0.],\n",
              "       [0., 0., 0., ..., 0., 0., 0.],\n",
              "       [0., 0., 0., ..., 0., 0., 0.],\n",
              "       ...,\n",
              "       [0., 0., 0., ..., 0., 0., 0.],\n",
              "       [0., 0., 0., ..., 0., 0., 0.],\n",
              "       [0., 0., 0., ..., 0., 0., 0.]], dtype=float32)))"
            ]
          },
          "metadata": {
            "tags": []
          },
          "execution_count": 17
        }
      ]
    },
    {
      "cell_type": "markdown",
      "metadata": {
        "button": false,
        "deletable": true,
        "new_sheet": false,
        "run_control": {
          "read_only": false
        },
        "id": "sSlLkUP2kOhG",
        "colab_type": "text"
      },
      "source": [
        "<h3>Embeddings</h3>\n",
        "We have to convert the words in our dataset to vectors of numbers. The traditional approach is to use one-hot encoding method that is usually used for converting categorical values to numerical values. However, One-hot encoded vectors are high-dimensional, sparse and in a big dataset, computationally inefficient. So, we use word2vec approach. It is, in fact, a layer in our LSTM network, where the word IDs will be represented as a dense representation before feeding to the LSTM. \n",
        "\n",
        "The embedded vectors also get updated during the training process of the deep neural network.\n",
        "We create the embeddings for our input data. <b>embedding_vocab</b> is matrix of [10000x200] for all 10000 unique words."
      ]
    },
    {
      "cell_type": "code",
      "metadata": {
        "button": false,
        "deletable": true,
        "new_sheet": false,
        "run_control": {
          "read_only": false
        },
        "id": "RaJknajzkOhH",
        "colab_type": "code",
        "colab": {}
      },
      "source": [
        "embedding_vocab = tf.get_variable(\"embedding_vocab\", [vocab_size, embeding_vector_size])  #[10000x200]"
      ],
      "execution_count": 0,
      "outputs": []
    },
    {
      "cell_type": "markdown",
      "metadata": {
        "id": "ZGNL5kY8kOhK",
        "colab_type": "text"
      },
      "source": [
        "Lets initialize the <code>embedding_words</code> variable with random values."
      ]
    },
    {
      "cell_type": "code",
      "metadata": {
        "button": false,
        "deletable": true,
        "new_sheet": false,
        "run_control": {
          "read_only": false
        },
        "id": "vRy1WwVXkOhK",
        "colab_type": "code",
        "colab": {
          "base_uri": "https://localhost:8080/",
          "height": 243
        },
        "outputId": "499b6b08-5ca5-4447-d65e-f1f5a07946de"
      },
      "source": [
        "session.run(tf.global_variables_initializer())\n",
        "session.run(embedding_vocab)"
      ],
      "execution_count": 19,
      "outputs": [
        {
          "output_type": "execute_result",
          "data": {
            "text/plain": [
              "array([[-0.02150161,  0.00175858,  0.00856468, ...,  0.00850603,\n",
              "         0.0046972 ,  0.00968639],\n",
              "       [-0.01995635, -0.00354788,  0.00729568, ...,  0.00573805,\n",
              "        -0.00358229,  0.01448616],\n",
              "       [-0.00080387, -0.00383983, -0.00647395, ..., -0.01286141,\n",
              "         0.01669539, -0.02238661],\n",
              "       ...,\n",
              "       [ 0.00106996, -0.02036009,  0.00644605, ...,  0.01206089,\n",
              "         0.02304349,  0.00534477],\n",
              "       [-0.00299311, -0.01972886, -0.02318714, ...,  0.00300813,\n",
              "         0.0120105 , -0.00733894],\n",
              "       [-0.01662911,  0.0111587 , -0.0060304 , ...,  0.02081529,\n",
              "         0.01042933,  0.01712044]], dtype=float32)"
            ]
          },
          "metadata": {
            "tags": []
          },
          "execution_count": 19
        }
      ]
    },
    {
      "cell_type": "markdown",
      "metadata": {
        "button": false,
        "deletable": true,
        "new_sheet": false,
        "run_control": {
          "read_only": false
        },
        "id": "cp145635kOhP",
        "colab_type": "text"
      },
      "source": [
        "<b>embedding_lookup()</b> finds the embedded values for our batch of 30x20 words. It  goes to each row of <code>input_data</code>, and for each word in the row/sentence, finds the correspond vector in <code>embedding_dic<code>. <br>\n",
        "It creates a [30x20x200] tensor, so, the first element of <b>inputs</b> (the first sentence), is a matrix of 20x200, which each row of it, is vector representing a word in the sentence."
      ]
    },
    {
      "cell_type": "code",
      "metadata": {
        "button": false,
        "deletable": true,
        "new_sheet": false,
        "run_control": {
          "read_only": false
        },
        "id": "8b1RKliNkOhP",
        "colab_type": "code",
        "colab": {
          "base_uri": "https://localhost:8080/",
          "height": 35
        },
        "outputId": "4d34f41d-5628-4c6a-c306-82fd63b5327b"
      },
      "source": [
        "# Define where to get the data for our embeddings from\n",
        "inputs = tf.nn.embedding_lookup(embedding_vocab, _input_data)  #shape=(30, 20, 200) \n",
        "inputs"
      ],
      "execution_count": 20,
      "outputs": [
        {
          "output_type": "execute_result",
          "data": {
            "text/plain": [
              "<tf.Tensor 'embedding_lookup/Identity:0' shape=(60, 20, 200) dtype=float32>"
            ]
          },
          "metadata": {
            "tags": []
          },
          "execution_count": 20
        }
      ]
    },
    {
      "cell_type": "code",
      "metadata": {
        "button": false,
        "deletable": true,
        "new_sheet": false,
        "run_control": {
          "read_only": false
        },
        "id": "P50hNdQVkOhU",
        "colab_type": "code",
        "colab": {
          "base_uri": "https://localhost:8080/",
          "height": 243
        },
        "outputId": "8415eaa9-f4d8-4b5c-b9e1-3e4bd806c5dd"
      },
      "source": [
        "session.run(inputs[0], feed_dict)"
      ],
      "execution_count": 21,
      "outputs": [
        {
          "output_type": "execute_result",
          "data": {
            "text/plain": [
              "array([[-0.00791904,  0.00171627, -0.00602071, ...,  0.01065696,\n",
              "        -0.01710245,  0.00511689],\n",
              "       [ 0.00099963, -0.00833875, -0.00427989, ...,  0.01892532,\n",
              "         0.00146783, -0.00307225],\n",
              "       [ 0.00953427, -0.00467051, -0.00141612, ..., -0.007651  ,\n",
              "         0.01196047, -0.00767957],\n",
              "       ...,\n",
              "       [-0.006356  , -0.00744696, -0.0157089 , ..., -0.00740731,\n",
              "        -0.00786381,  0.01821034],\n",
              "       [-0.01963921, -0.0212221 , -0.01950793, ..., -0.00648979,\n",
              "         0.00722249,  0.02116681],\n",
              "       [ 0.01187147, -0.00049022,  0.01693109, ..., -0.00491842,\n",
              "        -0.01366326, -0.02056243]], dtype=float32)"
            ]
          },
          "metadata": {
            "tags": []
          },
          "execution_count": 21
        }
      ]
    },
    {
      "cell_type": "markdown",
      "metadata": {
        "button": false,
        "deletable": true,
        "new_sheet": false,
        "run_control": {
          "read_only": false
        },
        "id": "XFYVyFd_kOhY",
        "colab_type": "text"
      },
      "source": [
        "<h3>Constructing Recurrent Neural Networks</h3>\n",
        "<b>tf.nn.dynamic_rnn()</b> creates a recurrent neural network using <b>stacked_lstm</b>. \n",
        "\n",
        "The input should be a Tensor of shape: [batch_size, max_time, embedding_vector_size], in our case it would be (30, 20, 200)\n",
        "\n",
        "This method, returns a pair (outputs, new_state) where:\n",
        "<ul>\n",
        "    <li><b>outputs</b>: is a length T list of outputs (one for each input), or a nested tuple of such elements.</li>\n",
        "    <li><b>new_state</b>: is the final state.</li>\n",
        "</ul>"
      ]
    },
    {
      "cell_type": "code",
      "metadata": {
        "button": false,
        "deletable": true,
        "new_sheet": false,
        "run_control": {
          "read_only": false
        },
        "scrolled": true,
        "id": "S8T7BJqNkOhZ",
        "colab_type": "code",
        "colab": {
          "base_uri": "https://localhost:8080/",
          "height": 193
        },
        "outputId": "81e33345-7897-4f35-d91e-3e0315409b18"
      },
      "source": [
        "outputs, new_state =  tf.nn.dynamic_rnn(stacked_lstm, inputs, initial_state=_initial_state)"
      ],
      "execution_count": 22,
      "outputs": [
        {
          "output_type": "stream",
          "text": [
            "WARNING:tensorflow:From <ipython-input-22-f5b68f99f9ac>:1: dynamic_rnn (from tensorflow.python.ops.rnn) is deprecated and will be removed in a future version.\n",
            "Instructions for updating:\n",
            "Please use `keras.layers.RNN(cell)`, which is equivalent to this API\n",
            "WARNING:tensorflow:From /tensorflow-1.15.2/python3.6/tensorflow_core/python/ops/rnn_cell_impl.py:735: Layer.add_variable (from tensorflow.python.keras.engine.base_layer) is deprecated and will be removed in a future version.\n",
            "Instructions for updating:\n",
            "Please use `layer.add_weight` method instead.\n",
            "WARNING:tensorflow:From /tensorflow-1.15.2/python3.6/tensorflow_core/python/ops/rnn_cell_impl.py:739: calling Zeros.__init__ (from tensorflow.python.ops.init_ops) with dtype is deprecated and will be removed in a future version.\n",
            "Instructions for updating:\n",
            "Call initializer instance with the dtype argument instead of passing it to the constructor\n"
          ],
          "name": "stdout"
        }
      ]
    },
    {
      "cell_type": "markdown",
      "metadata": {
        "button": false,
        "deletable": true,
        "new_sheet": false,
        "run_control": {
          "read_only": false
        },
        "id": "PhL1q0AokOhc",
        "colab_type": "text"
      },
      "source": [
        "so, lets look at the outputs. The output of the stackedLSTM comes from 200 hidden_layer, and in each time step(=20), one of them get activated. we use the linear activation to map the 200 hidden layer to a [?x10 matrix]"
      ]
    },
    {
      "cell_type": "code",
      "metadata": {
        "button": false,
        "deletable": true,
        "new_sheet": false,
        "run_control": {
          "read_only": false
        },
        "id": "h8J841IBkOhd",
        "colab_type": "code",
        "colab": {
          "base_uri": "https://localhost:8080/",
          "height": 35
        },
        "outputId": "89cf216e-f985-4087-a777-958bd53a9691"
      },
      "source": [
        "outputs"
      ],
      "execution_count": 23,
      "outputs": [
        {
          "output_type": "execute_result",
          "data": {
            "text/plain": [
              "<tf.Tensor 'rnn/transpose_1:0' shape=(60, 20, 128) dtype=float32>"
            ]
          },
          "metadata": {
            "tags": []
          },
          "execution_count": 23
        }
      ]
    },
    {
      "cell_type": "code",
      "metadata": {
        "button": false,
        "deletable": true,
        "new_sheet": false,
        "run_control": {
          "read_only": false
        },
        "id": "xicBSsx_kOhg",
        "colab_type": "code",
        "colab": {
          "base_uri": "https://localhost:8080/",
          "height": 243
        },
        "outputId": "15a04fb8-e97c-481e-b1cf-13ba3f8f1603"
      },
      "source": [
        "session.run(tf.global_variables_initializer())\n",
        "session.run(outputs[0], feed_dict)"
      ],
      "execution_count": 24,
      "outputs": [
        {
          "output_type": "execute_result",
          "data": {
            "text/plain": [
              "array([[ 2.1889212e-04, -3.7956226e-04,  2.4736661e-04, ...,\n",
              "        -1.4535376e-04,  4.4326900e-04,  4.7257770e-04],\n",
              "       [ 5.0424394e-04, -3.4843539e-04, -1.7497157e-04, ...,\n",
              "         1.7666130e-04,  1.1033414e-04,  6.4770505e-04],\n",
              "       [ 6.9511501e-04, -2.9801234e-04,  5.4636777e-05, ...,\n",
              "         5.1954361e-05, -2.5137188e-04,  9.5344527e-04],\n",
              "       ...,\n",
              "       [-1.4044241e-05,  8.3685263e-05, -2.9884157e-04, ...,\n",
              "         2.1458024e-04,  1.3045344e-04,  5.8241433e-04],\n",
              "       [ 9.7025657e-04,  3.1930723e-04, -5.2032637e-04, ...,\n",
              "         6.4970380e-05, -5.0187530e-04,  2.4831895e-04],\n",
              "       [ 1.1129484e-03,  3.5406818e-05, -3.0404472e-04, ...,\n",
              "        -3.9948957e-04, -5.4400793e-04, -3.3426436e-04]], dtype=float32)"
            ]
          },
          "metadata": {
            "tags": []
          },
          "execution_count": 24
        }
      ]
    },
    {
      "cell_type": "markdown",
      "metadata": {
        "button": false,
        "deletable": true,
        "new_sheet": false,
        "run_control": {
          "read_only": false
        },
        "id": "aKsN7rYkkOhl",
        "colab_type": "text"
      },
      "source": [
        "we need to flatten the outputs to be able to connect it softmax layer. Lets reshape the output tensor from  [30 x 20 x 200] to [600 x 200].\n",
        "\n",
        "<b>Notice:</b> Imagine our output is 3-d tensor as following (of course each <code>sen_x_word_y</code> is a an embedded vector by itself): \n",
        "<ul>\n",
        "    <li>sentence 1: [[sen1word1], [sen1word2], [sen1word3], ..., [sen1word20]]</li> \n",
        "    <li>sentence 2: [[sen2word1], [sen2word2], [sen2word3], ..., [sen2word20]]</li>   \n",
        "    <li>sentence 3: [[sen3word1], [sen3word2], [sen3word3], ..., [sen3word20]]</li>  \n",
        "    <li>...  </li>\n",
        "    <li>sentence 30: [[sen30word1], [sen30word2], [sen30word3], ..., [sen30word20]]</li>   \n",
        "</ul>\n",
        "Now, the flatten would convert this 3-dim tensor to:\n",
        "\n",
        "[ [sen1word1], [sen1word2], [sen1word3], ..., [sen1word20],[sen2word1], [sen2word2], [sen2word3], ..., [sen2word20], ..., [sen30word20] ]\n"
      ]
    },
    {
      "cell_type": "code",
      "metadata": {
        "button": false,
        "deletable": true,
        "new_sheet": false,
        "run_control": {
          "read_only": false
        },
        "id": "6iAA8SZRkOhm",
        "colab_type": "code",
        "colab": {
          "base_uri": "https://localhost:8080/",
          "height": 35
        },
        "outputId": "d1789109-3904-4581-bd49-eb99afe9f153"
      },
      "source": [
        "output = tf.reshape(outputs, [-1, hidden_size_l2])\n",
        "output"
      ],
      "execution_count": 25,
      "outputs": [
        {
          "output_type": "execute_result",
          "data": {
            "text/plain": [
              "<tf.Tensor 'Reshape:0' shape=(1200, 128) dtype=float32>"
            ]
          },
          "metadata": {
            "tags": []
          },
          "execution_count": 25
        }
      ]
    },
    {
      "cell_type": "markdown",
      "metadata": {
        "button": false,
        "deletable": true,
        "new_sheet": false,
        "run_control": {
          "read_only": false
        },
        "id": "AbOBXF29kOhs",
        "colab_type": "text"
      },
      "source": [
        "<h3>logistic unit</h3>\n",
        "Now, we create a logistic unit to return the probability of the output word in our vocabulary with 1000 words. \n",
        "\n",
        "$$Softmax = [600 \\times 200] * [200 \\times 1000] + [1 \\times 1000] \\Longrightarrow [600 \\times 1000]$$"
      ]
    },
    {
      "cell_type": "code",
      "metadata": {
        "button": false,
        "deletable": true,
        "new_sheet": false,
        "run_control": {
          "read_only": false
        },
        "id": "8oVZFlg0kOhs",
        "colab_type": "code",
        "colab": {}
      },
      "source": [
        "softmax_w = tf.get_variable(\"softmax_w\", [hidden_size_l2, vocab_size]) #[200x1000]\n",
        "softmax_b = tf.get_variable(\"softmax_b\", [vocab_size]) #[1x1000]\n",
        "logits = tf.matmul(output, softmax_w) + softmax_b\n",
        "prob = tf.nn.softmax(logits)"
      ],
      "execution_count": 0,
      "outputs": []
    },
    {
      "cell_type": "markdown",
      "metadata": {
        "id": "gg7bY6zukOhv",
        "colab_type": "text"
      },
      "source": [
        "Lets look at the probability of observing words for t=0 to t=20:"
      ]
    },
    {
      "cell_type": "code",
      "metadata": {
        "button": false,
        "deletable": true,
        "new_sheet": false,
        "run_control": {
          "read_only": false
        },
        "id": "Dhq_mC1qkOhw",
        "colab_type": "code",
        "colab": {
          "base_uri": "https://localhost:8080/",
          "height": 260
        },
        "outputId": "2b52d390-d8a3-4e7e-fce7-f11168469f92"
      },
      "source": [
        "session.run(tf.global_variables_initializer())\n",
        "output_words_prob = session.run(prob, feed_dict)\n",
        "print(\"shape of the output: \", output_words_prob.shape)\n",
        "print(\"The probability of observing words in t=0 to t=20\", output_words_prob[0:20])"
      ],
      "execution_count": 27,
      "outputs": [
        {
          "output_type": "stream",
          "text": [
            "shape of the output:  (1200, 10000)\n",
            "The probability of observing words in t=0 to t=20 [[9.91822526e-05 9.93068097e-05 1.01032558e-04 ... 1.01426544e-04\n",
            "  1.00414953e-04 1.01391328e-04]\n",
            " [9.91819470e-05 9.93106078e-05 1.01025209e-04 ... 1.01432677e-04\n",
            "  1.00400714e-04 1.01394005e-04]\n",
            " [9.91775523e-05 9.93038557e-05 1.01040387e-04 ... 1.01428632e-04\n",
            "  1.00395664e-04 1.01391161e-04]\n",
            " ...\n",
            " [9.91798224e-05 9.93271824e-05 1.01031415e-04 ... 1.01430087e-04\n",
            "  1.00402605e-04 1.01402635e-04]\n",
            " [9.91762645e-05 9.93191570e-05 1.01035730e-04 ... 1.01440630e-04\n",
            "  1.00412028e-04 1.01403981e-04]\n",
            " [9.91809429e-05 9.93073918e-05 1.01047073e-04 ... 1.01440564e-04\n",
            "  1.00417536e-04 1.01397789e-04]]\n"
          ],
          "name": "stdout"
        }
      ]
    },
    {
      "cell_type": "markdown",
      "metadata": {
        "button": false,
        "deletable": true,
        "new_sheet": false,
        "run_control": {
          "read_only": false
        },
        "id": "CRY3iBixkOhy",
        "colab_type": "text"
      },
      "source": [
        "<h3>Prediction</h3>\n",
        "What is the word correspond to the probability output? Lets use the maximum probability:"
      ]
    },
    {
      "cell_type": "code",
      "metadata": {
        "button": false,
        "deletable": true,
        "new_sheet": false,
        "run_control": {
          "read_only": false
        },
        "id": "TYSJAyETkOhz",
        "colab_type": "code",
        "colab": {
          "base_uri": "https://localhost:8080/",
          "height": 52
        },
        "outputId": "370cd42b-f292-4cc3-acc0-eb55d7f4b8ac"
      },
      "source": [
        "np.argmax(output_words_prob[0:20], axis=1)"
      ],
      "execution_count": 28,
      "outputs": [
        {
          "output_type": "execute_result",
          "data": {
            "text/plain": [
              "array([1038, 1038, 8904, 8904, 8904,  811, 8104, 8104,   93,   93,   93,\n",
              "        811, 8835, 8835, 4973, 4973, 4973, 4973, 8307, 8307])"
            ]
          },
          "metadata": {
            "tags": []
          },
          "execution_count": 28
        }
      ]
    },
    {
      "cell_type": "markdown",
      "metadata": {
        "button": false,
        "deletable": true,
        "new_sheet": false,
        "run_control": {
          "read_only": false
        },
        "id": "cGXDA1IQkOh1",
        "colab_type": "text"
      },
      "source": [
        "So, what is the ground truth for the first word of first sentence? "
      ]
    },
    {
      "cell_type": "code",
      "metadata": {
        "button": false,
        "deletable": true,
        "new_sheet": false,
        "run_control": {
          "read_only": false
        },
        "id": "9jUmrPxQkOh2",
        "colab_type": "code",
        "colab": {
          "base_uri": "https://localhost:8080/",
          "height": 52
        },
        "outputId": "a21e66c4-14f8-4fee-d58d-4ed92e949c6f"
      },
      "source": [
        "y[0]"
      ],
      "execution_count": 29,
      "outputs": [
        {
          "output_type": "execute_result",
          "data": {
            "text/plain": [
              "array([9971, 9972, 9974, 9975, 9976, 9980, 9981, 9982, 9983, 9984, 9986,\n",
              "       9987, 9988, 9989, 9991, 9992, 9993, 9994, 9995, 9996], dtype=int32)"
            ]
          },
          "metadata": {
            "tags": []
          },
          "execution_count": 29
        }
      ]
    },
    {
      "cell_type": "markdown",
      "metadata": {
        "button": false,
        "deletable": true,
        "new_sheet": false,
        "run_control": {
          "read_only": false
        },
        "id": "zze5TRmBkOh4",
        "colab_type": "text"
      },
      "source": [
        "Also, you can get it from target tensor, if you want to find the embedding vector:"
      ]
    },
    {
      "cell_type": "code",
      "metadata": {
        "button": false,
        "deletable": true,
        "new_sheet": false,
        "run_control": {
          "read_only": false
        },
        "id": "SPOcZMITkOh4",
        "colab_type": "code",
        "colab": {
          "base_uri": "https://localhost:8080/",
          "height": 52
        },
        "outputId": "70c632bc-e6f1-4e6e-a613-fc268a4c6313"
      },
      "source": [
        "targ = session.run(_targets, feed_dict) \n",
        "targ[0]"
      ],
      "execution_count": 30,
      "outputs": [
        {
          "output_type": "execute_result",
          "data": {
            "text/plain": [
              "array([9971, 9972, 9974, 9975, 9976, 9980, 9981, 9982, 9983, 9984, 9986,\n",
              "       9987, 9988, 9989, 9991, 9992, 9993, 9994, 9995, 9996], dtype=int32)"
            ]
          },
          "metadata": {
            "tags": []
          },
          "execution_count": 30
        }
      ]
    },
    {
      "cell_type": "markdown",
      "metadata": {
        "id": "w84rG478kOh8",
        "colab_type": "text"
      },
      "source": [
        "How similar the predicted words are to the target words?"
      ]
    },
    {
      "cell_type": "markdown",
      "metadata": {
        "button": false,
        "deletable": true,
        "new_sheet": false,
        "run_control": {
          "read_only": false
        },
        "id": "Xs62caIfkOh8",
        "colab_type": "text"
      },
      "source": [
        "<h4>Objective function</h4>\n",
        "\n",
        "Now we have to define our objective function, to calculate the similarity of predicted values to ground truth, and then, penalize the model with the error. Our objective is to minimize loss function, that is, to minimize the average negative log probability of the target words:\n",
        "\n",
        "$$\\text{loss} = -\\frac{1}{N}\\sum_{i=1}^{N} \\ln p_{\\text{target}_i}$$\n",
        "\n",
        "This function is already implemented and available in TensorFlow through <b>sequence_loss_by_example</b>. It calculates the weighted cross-entropy loss for <b>logits</b> and the <b>target</b> sequence.  \n",
        "\n",
        "The arguments of this function are:  \n",
        "<ul>\n",
        "    <li>logits: List of 2D Tensors of shape [batch_size x num_decoder_symbols].</li>  \n",
        "    <li>targets: List of 1D batch-sized int32 Tensors of the same length as logits.</li>   \n",
        "    <li>weights: List of 1D batch-sized float-Tensors of the same length as logits.</li> \n",
        "</ul>"
      ]
    },
    {
      "cell_type": "code",
      "metadata": {
        "button": false,
        "deletable": true,
        "new_sheet": false,
        "run_control": {
          "read_only": false
        },
        "id": "uB4LdfEjkOh9",
        "colab_type": "code",
        "colab": {}
      },
      "source": [
        "loss = tf.contrib.legacy_seq2seq.sequence_loss_by_example([logits], [tf.reshape(_targets, [-1])],[tf.ones([batch_size * num_steps])])"
      ],
      "execution_count": 0,
      "outputs": []
    },
    {
      "cell_type": "markdown",
      "metadata": {
        "button": false,
        "deletable": true,
        "new_sheet": false,
        "run_control": {
          "read_only": false
        },
        "id": "VILm6a84kOh_",
        "colab_type": "text"
      },
      "source": [
        "loss is a 1D batch-sized float Tensor [600x1]: The log-perplexity for each sequence. Lets look at the first 10 values of loss:"
      ]
    },
    {
      "cell_type": "code",
      "metadata": {
        "button": false,
        "deletable": true,
        "new_sheet": false,
        "run_control": {
          "read_only": false
        },
        "id": "oYSw1yockOiA",
        "colab_type": "code",
        "colab": {
          "base_uri": "https://localhost:8080/",
          "height": 52
        },
        "outputId": "683c814d-1536-43c5-9606-2de4f4a9b1ee"
      },
      "source": [
        "session.run(loss, feed_dict)[:10]"
      ],
      "execution_count": 32,
      "outputs": [
        {
          "output_type": "execute_result",
          "data": {
            "text/plain": [
              "array([9.216748, 9.223385, 9.215723, 9.218636, 9.214252, 9.223497,\n",
              "       9.200273, 9.2002  , 9.207651, 9.201709], dtype=float32)"
            ]
          },
          "metadata": {
            "tags": []
          },
          "execution_count": 32
        }
      ]
    },
    {
      "cell_type": "markdown",
      "metadata": {
        "id": "0xoi6CfwkOiE",
        "colab_type": "text"
      },
      "source": [
        "Now, we define loss as average of the losses:"
      ]
    },
    {
      "cell_type": "code",
      "metadata": {
        "button": false,
        "deletable": true,
        "new_sheet": false,
        "run_control": {
          "read_only": false
        },
        "id": "FFBaxWKBkOiF",
        "colab_type": "code",
        "colab": {
          "base_uri": "https://localhost:8080/",
          "height": 35
        },
        "outputId": "104cd4c7-d29f-45b8-a0a6-a33896acb62b"
      },
      "source": [
        "cost = tf.reduce_sum(loss) / batch_size\n",
        "session.run(tf.global_variables_initializer())\n",
        "session.run(cost, feed_dict)\n"
      ],
      "execution_count": 33,
      "outputs": [
        {
          "output_type": "execute_result",
          "data": {
            "text/plain": [
              "184.23471"
            ]
          },
          "metadata": {
            "tags": []
          },
          "execution_count": 33
        }
      ]
    },
    {
      "cell_type": "markdown",
      "metadata": {
        "button": false,
        "deletable": true,
        "new_sheet": false,
        "run_control": {
          "read_only": false
        },
        "id": "taJ993XMkOiN",
        "colab_type": "text"
      },
      "source": [
        "<h3>Training</h3>\n",
        "\n",
        "To do training for our network, we have to take the following steps:\n",
        "<ol>\n",
        "    <li>Define the optimizer.</li>\n",
        "    <li>Extract variables that are trainable.</li>\n",
        "    <li>Calculate the gradients based on the loss function.</li>\n",
        "    <li>Apply the optimizer to the variables/gradients tuple.</li>\n",
        "</ol>"
      ]
    },
    {
      "cell_type": "markdown",
      "metadata": {
        "button": false,
        "deletable": true,
        "new_sheet": false,
        "run_control": {
          "read_only": false
        },
        "id": "5_m7xW0vkOiP",
        "colab_type": "text"
      },
      "source": [
        "<h4>1. Define Optimizer</h4>\n",
        "\n",
        "<b>GradientDescentOptimizer</b> constructs a new gradient descent optimizer. Later, we use constructed <b>optimizer</b> to compute gradients for a loss and apply gradients to variables."
      ]
    },
    {
      "cell_type": "code",
      "metadata": {
        "button": false,
        "deletable": true,
        "new_sheet": false,
        "run_control": {
          "read_only": false
        },
        "id": "O-sSTy1QkOiQ",
        "colab_type": "code",
        "colab": {}
      },
      "source": [
        "# Create a variable for the learning rate\n",
        "lr = tf.Variable(0.0, trainable=False)\n",
        "# Create the gradient descent optimizer with our learning rate\n",
        "optimizer = tf.train.GradientDescentOptimizer(lr)"
      ],
      "execution_count": 0,
      "outputs": []
    },
    {
      "cell_type": "markdown",
      "metadata": {
        "button": false,
        "deletable": true,
        "new_sheet": false,
        "run_control": {
          "read_only": false
        },
        "id": "SrrWLYG7kOiU",
        "colab_type": "text"
      },
      "source": [
        "\n",
        "<h4>2. Trainable Variables</h4>"
      ]
    },
    {
      "cell_type": "markdown",
      "metadata": {
        "button": false,
        "deletable": true,
        "new_sheet": false,
        "run_control": {
          "read_only": false
        },
        "id": "OodIMtLzkOiV",
        "colab_type": "text"
      },
      "source": [
        "Defining a variable, if you passed <i>trainable=True</i>, the variable constructor automatically adds new variables to the graph collection <b>GraphKeys.TRAINABLE_VARIABLES</b>. Now, using <i>tf.trainable_variables()</i> you can get all variables created with <b>trainable=True</b>."
      ]
    },
    {
      "cell_type": "code",
      "metadata": {
        "button": false,
        "deletable": true,
        "new_sheet": false,
        "run_control": {
          "read_only": false
        },
        "id": "qclkLpj3kOiV",
        "colab_type": "code",
        "colab": {
          "base_uri": "https://localhost:8080/",
          "height": 139
        },
        "outputId": "4f7a622d-ddbe-4801-b7bb-c12fc581b9f5"
      },
      "source": [
        "# Get all TensorFlow variables marked as \"trainable\" (i.e. all of them except _lr, which we just created)\n",
        "tvars = tf.trainable_variables()\n",
        "tvars"
      ],
      "execution_count": 36,
      "outputs": [
        {
          "output_type": "execute_result",
          "data": {
            "text/plain": [
              "[<tf.Variable 'embedding_vocab:0' shape=(10000, 200) dtype=float32_ref>,\n",
              " <tf.Variable 'rnn/multi_rnn_cell/cell_0/basic_lstm_cell/kernel:0' shape=(456, 1024) dtype=float32_ref>,\n",
              " <tf.Variable 'rnn/multi_rnn_cell/cell_0/basic_lstm_cell/bias:0' shape=(1024,) dtype=float32_ref>,\n",
              " <tf.Variable 'rnn/multi_rnn_cell/cell_1/basic_lstm_cell/kernel:0' shape=(384, 512) dtype=float32_ref>,\n",
              " <tf.Variable 'rnn/multi_rnn_cell/cell_1/basic_lstm_cell/bias:0' shape=(512,) dtype=float32_ref>,\n",
              " <tf.Variable 'softmax_w:0' shape=(128, 10000) dtype=float32_ref>,\n",
              " <tf.Variable 'softmax_b:0' shape=(10000,) dtype=float32_ref>]"
            ]
          },
          "metadata": {
            "tags": []
          },
          "execution_count": 36
        }
      ]
    },
    {
      "cell_type": "markdown",
      "metadata": {
        "button": false,
        "deletable": true,
        "new_sheet": false,
        "run_control": {
          "read_only": false
        },
        "id": "mjkrMAnDkOib",
        "colab_type": "text"
      },
      "source": [
        "Note: we can find the name and scope of all variables:"
      ]
    },
    {
      "cell_type": "code",
      "metadata": {
        "button": false,
        "deletable": true,
        "new_sheet": false,
        "run_control": {
          "read_only": false
        },
        "id": "Hu2xp-dYkOic",
        "colab_type": "code",
        "colab": {
          "base_uri": "https://localhost:8080/",
          "height": 139
        },
        "outputId": "a4b73f2b-eb18-4b24-e192-4296b87c524f"
      },
      "source": [
        "[v.name for v in tvars]"
      ],
      "execution_count": 37,
      "outputs": [
        {
          "output_type": "execute_result",
          "data": {
            "text/plain": [
              "['embedding_vocab:0',\n",
              " 'rnn/multi_rnn_cell/cell_0/basic_lstm_cell/kernel:0',\n",
              " 'rnn/multi_rnn_cell/cell_0/basic_lstm_cell/bias:0',\n",
              " 'rnn/multi_rnn_cell/cell_1/basic_lstm_cell/kernel:0',\n",
              " 'rnn/multi_rnn_cell/cell_1/basic_lstm_cell/bias:0',\n",
              " 'softmax_w:0',\n",
              " 'softmax_b:0']"
            ]
          },
          "metadata": {
            "tags": []
          },
          "execution_count": 37
        }
      ]
    },
    {
      "cell_type": "markdown",
      "metadata": {
        "button": false,
        "deletable": true,
        "new_sheet": false,
        "run_control": {
          "read_only": false
        },
        "id": "ge6jvt0JkOig",
        "colab_type": "text"
      },
      "source": [
        "<h4>3. Calculate the gradients based on the loss function</h4>"
      ]
    },
    {
      "cell_type": "markdown",
      "metadata": {
        "button": false,
        "deletable": true,
        "new_sheet": false,
        "run_control": {
          "read_only": false
        },
        "id": "FSwDBKE_kOih",
        "colab_type": "text"
      },
      "source": [
        "<h4>Gradient</h4>:\n",
        "The gradient of a function is the slope of its derivative (line), or in other words, the rate of change of a function. It's a vector (a direction to move) that points in the direction of greatest increase of the function, and calculated by the <b>derivative</b> operation.\n",
        "\n",
        "First lets recall the gradient function using an toy example:\n",
        "$$ z = \\left(2x^2 + 3xy\\right)$$"
      ]
    },
    {
      "cell_type": "code",
      "metadata": {
        "button": false,
        "deletable": true,
        "new_sheet": false,
        "run_control": {
          "read_only": false
        },
        "id": "YWSYfuL9kOii",
        "colab_type": "code",
        "colab": {
          "base_uri": "https://localhost:8080/",
          "height": 35
        },
        "outputId": "02de5b87-39db-4e45-e204-327db99b6cf5"
      },
      "source": [
        "var_x = tf.placeholder(tf.float32)\n",
        "var_y = tf.placeholder(tf.float32) \n",
        "func_test = 2.0 * var_x * var_x + 3.0 * var_x * var_y\n",
        "session.run(tf.global_variables_initializer())\n",
        "session.run(func_test, {var_x:1.0,var_y:2.0})"
      ],
      "execution_count": 38,
      "outputs": [
        {
          "output_type": "execute_result",
          "data": {
            "text/plain": [
              "8.0"
            ]
          },
          "metadata": {
            "tags": []
          },
          "execution_count": 38
        }
      ]
    },
    {
      "cell_type": "markdown",
      "metadata": {
        "button": false,
        "deletable": true,
        "new_sheet": false,
        "run_control": {
          "read_only": false
        },
        "id": "qvZNUQ80kOil",
        "colab_type": "text"
      },
      "source": [
        "The <b>tf.gradients()</b> function allows you to compute the symbolic gradient of one tensor with respect to one or more other tensors—including variables. <b>tf.gradients(func, xs)</b> constructs symbolic partial derivatives of sum of <b>func</b> w.r.t. <i>x</i> in <b>xs</b>. \n",
        "\n",
        "Now, lets look at the derivitive w.r.t. <b>var_x</b>:\n",
        "$$ \\frac{\\partial \\:}{\\partial \\:x}\\left(2x^2 + 3xy\\right) = 4x + 3y $$\n"
      ]
    },
    {
      "cell_type": "code",
      "metadata": {
        "button": false,
        "deletable": true,
        "new_sheet": false,
        "run_control": {
          "read_only": false
        },
        "id": "RV0MrhUIkOim",
        "colab_type": "code",
        "colab": {
          "base_uri": "https://localhost:8080/",
          "height": 35
        },
        "outputId": "1d6b63d7-3adc-4f1c-e741-1b308ea1d9eb"
      },
      "source": [
        "var_grad = tf.gradients(func_test, [var_x])\n",
        "session.run(var_grad, {var_x:1.0,var_y:2.0})"
      ],
      "execution_count": 39,
      "outputs": [
        {
          "output_type": "execute_result",
          "data": {
            "text/plain": [
              "[10.0]"
            ]
          },
          "metadata": {
            "tags": []
          },
          "execution_count": 39
        }
      ]
    },
    {
      "cell_type": "markdown",
      "metadata": {
        "button": false,
        "deletable": true,
        "new_sheet": false,
        "run_control": {
          "read_only": false
        },
        "id": "cF3Gx4X8kOis",
        "colab_type": "text"
      },
      "source": [
        "the derivative w.r.t. <b>var_y</b>:\n",
        "$$ \\frac{\\partial \\:}{\\partial \\:x}\\left(2x^2 + 3xy\\right) = 3x $$"
      ]
    },
    {
      "cell_type": "code",
      "metadata": {
        "button": false,
        "deletable": true,
        "new_sheet": false,
        "run_control": {
          "read_only": false
        },
        "id": "PRnu-mZukOit",
        "colab_type": "code",
        "colab": {
          "base_uri": "https://localhost:8080/",
          "height": 35
        },
        "outputId": "857e7f1a-e51c-4277-c788-337cfa692707"
      },
      "source": [
        "var_grad = tf.gradients(func_test, [var_y])\n",
        "session.run(var_grad, {var_x:1.0, var_y:2.0})"
      ],
      "execution_count": 40,
      "outputs": [
        {
          "output_type": "execute_result",
          "data": {
            "text/plain": [
              "[3.0]"
            ]
          },
          "metadata": {
            "tags": []
          },
          "execution_count": 40
        }
      ]
    },
    {
      "cell_type": "markdown",
      "metadata": {
        "button": false,
        "deletable": true,
        "new_sheet": false,
        "run_control": {
          "read_only": false
        },
        "id": "50AJe2BDkOix",
        "colab_type": "text"
      },
      "source": [
        "Now, we can look at gradients w.r.t all variables:"
      ]
    },
    {
      "cell_type": "code",
      "metadata": {
        "button": false,
        "deletable": true,
        "new_sheet": false,
        "run_control": {
          "read_only": false
        },
        "id": "-BjJ0R62kOix",
        "colab_type": "code",
        "colab": {
          "base_uri": "https://localhost:8080/",
          "height": 139
        },
        "outputId": "f8dcc71e-d4ef-4748-c58e-81eaaf237d6c"
      },
      "source": [
        "tf.gradients(cost, tvars)"
      ],
      "execution_count": 41,
      "outputs": [
        {
          "output_type": "execute_result",
          "data": {
            "text/plain": [
              "[<tensorflow.python.framework.indexed_slices.IndexedSlices at 0x7fc492de3320>,\n",
              " <tf.Tensor 'gradients_2/rnn/while/rnn/multi_rnn_cell/cell_0/basic_lstm_cell/MatMul/Enter_grad/b_acc_3:0' shape=(456, 1024) dtype=float32>,\n",
              " <tf.Tensor 'gradients_2/rnn/while/rnn/multi_rnn_cell/cell_0/basic_lstm_cell/BiasAdd/Enter_grad/b_acc_3:0' shape=(1024,) dtype=float32>,\n",
              " <tf.Tensor 'gradients_2/rnn/while/rnn/multi_rnn_cell/cell_1/basic_lstm_cell/MatMul/Enter_grad/b_acc_3:0' shape=(384, 512) dtype=float32>,\n",
              " <tf.Tensor 'gradients_2/rnn/while/rnn/multi_rnn_cell/cell_1/basic_lstm_cell/BiasAdd/Enter_grad/b_acc_3:0' shape=(512,) dtype=float32>,\n",
              " <tf.Tensor 'gradients_2/MatMul_grad/MatMul_1:0' shape=(128, 10000) dtype=float32>,\n",
              " <tf.Tensor 'gradients_2/add_grad/Reshape:0' shape=(10000,) dtype=float32>]"
            ]
          },
          "metadata": {
            "tags": []
          },
          "execution_count": 41
        }
      ]
    },
    {
      "cell_type": "code",
      "metadata": {
        "button": false,
        "deletable": true,
        "new_sheet": false,
        "run_control": {
          "read_only": false
        },
        "scrolled": true,
        "id": "THn5KYTrkOi0",
        "colab_type": "code",
        "colab": {}
      },
      "source": [
        "grad_t_list = tf.gradients(cost, tvars)\n",
        "#sess.run(grad_t_list,feed_dict)"
      ],
      "execution_count": 0,
      "outputs": []
    },
    {
      "cell_type": "markdown",
      "metadata": {
        "button": false,
        "deletable": true,
        "new_sheet": false,
        "run_control": {
          "read_only": false
        },
        "id": "P8IYThjvkOi2",
        "colab_type": "text"
      },
      "source": [
        "\n",
        "\n",
        "\n",
        "now, we have a list of tensors, t-list. We can use it to find clipped tensors. <b>clip_by_global_norm</b> clips values of multiple tensors by the ratio of the sum of their norms.\n",
        "\n",
        "<b>clip_by_global_norm</b> get <i>t-list</i> as input and returns 2 things:\n",
        "<ul>\n",
        "    <li>a list of clipped tensors, so called <i>list_clipped</i></li> \n",
        "    <li>the global norm (global_norm) of all tensors in t_list</li> \n",
        "</ul>"
      ]
    },
    {
      "cell_type": "code",
      "metadata": {
        "button": false,
        "deletable": true,
        "new_sheet": false,
        "run_control": {
          "read_only": false
        },
        "id": "OtR2Yo0WkOi3",
        "colab_type": "code",
        "colab": {
          "base_uri": "https://localhost:8080/",
          "height": 211
        },
        "outputId": "363d6f91-6e81-4197-ad6d-151429ef01cf"
      },
      "source": [
        "# Define the gradient clipping threshold\n",
        "grads, _ = tf.clip_by_global_norm(grad_t_list, max_grad_norm)\n",
        "grads"
      ],
      "execution_count": 43,
      "outputs": [
        {
          "output_type": "stream",
          "text": [
            "WARNING:tensorflow:From /tensorflow-1.15.2/python3.6/tensorflow_core/python/ops/clip_ops.py:301: where (from tensorflow.python.ops.array_ops) is deprecated and will be removed in a future version.\n",
            "Instructions for updating:\n",
            "Use tf.where in 2.0, which has the same broadcast rule as np.where\n"
          ],
          "name": "stdout"
        },
        {
          "output_type": "execute_result",
          "data": {
            "text/plain": [
              "[<tensorflow.python.framework.indexed_slices.IndexedSlices at 0x7fc450f21d30>,\n",
              " <tf.Tensor 'clip_by_global_norm/clip_by_global_norm/_1:0' shape=(456, 1024) dtype=float32>,\n",
              " <tf.Tensor 'clip_by_global_norm/clip_by_global_norm/_2:0' shape=(1024,) dtype=float32>,\n",
              " <tf.Tensor 'clip_by_global_norm/clip_by_global_norm/_3:0' shape=(384, 512) dtype=float32>,\n",
              " <tf.Tensor 'clip_by_global_norm/clip_by_global_norm/_4:0' shape=(512,) dtype=float32>,\n",
              " <tf.Tensor 'clip_by_global_norm/clip_by_global_norm/_5:0' shape=(128, 10000) dtype=float32>,\n",
              " <tf.Tensor 'clip_by_global_norm/clip_by_global_norm/_6:0' shape=(10000,) dtype=float32>]"
            ]
          },
          "metadata": {
            "tags": []
          },
          "execution_count": 43
        }
      ]
    },
    {
      "cell_type": "code",
      "metadata": {
        "button": false,
        "deletable": true,
        "new_sheet": false,
        "run_control": {
          "read_only": false
        },
        "id": "R8sCU2CKkOi6",
        "colab_type": "code",
        "colab": {
          "base_uri": "https://localhost:8080/",
          "height": 1000
        },
        "outputId": "c6b37c31-8d74-40bb-e346-fa06eea69910"
      },
      "source": [
        "session.run(grads, feed_dict)"
      ],
      "execution_count": 44,
      "outputs": [
        {
          "output_type": "execute_result",
          "data": {
            "text/plain": [
              "[IndexedSlicesValue(values=array([[-3.1361089e-06,  1.5042488e-05, -1.0764468e-06, ...,\n",
              "         4.2361310e-07, -9.5289442e-07,  1.2603389e-05],\n",
              "       [-3.6744141e-06,  1.4856938e-05, -3.8668935e-07, ...,\n",
              "        -6.4484279e-06,  1.0099338e-06,  1.6891981e-06],\n",
              "       [-2.7889450e-06,  6.7714082e-06,  3.1290911e-06, ...,\n",
              "        -6.0775033e-06, -3.9697265e-06,  1.2418615e-05],\n",
              "       ...,\n",
              "       [-6.1118121e-06,  1.5188518e-05,  2.6784235e-06, ...,\n",
              "         6.5867582e-08, -4.3729606e-06, -1.0818299e-05],\n",
              "       [-5.4898132e-06,  9.8499095e-06,  4.4783587e-06, ...,\n",
              "         9.5056048e-06, -7.7362956e-06,  7.6138247e-07],\n",
              "       [-6.4576684e-06,  4.9937735e-06,  5.8289646e-07, ...,\n",
              "         3.7019872e-06, -5.5613154e-06, -5.0717681e-06]], dtype=float32), indices=array([9970, 9971, 9972, ..., 2043,   23,    1], dtype=int32), dense_shape=array([10000,   200], dtype=int32)),\n",
              " array([[ 5.5291749e-09, -1.2449393e-08, -2.0996584e-08, ...,\n",
              "          1.0404352e-08, -8.2435729e-09,  1.8611216e-08],\n",
              "        [ 3.7607575e-09, -2.8453844e-08,  6.8809847e-08, ...,\n",
              "          2.7424354e-08, -1.8409052e-08,  3.2738601e-08],\n",
              "        [-8.6033509e-09, -2.6700386e-08, -4.4000444e-08, ...,\n",
              "         -1.1417183e-09, -1.7442892e-08, -2.5731048e-08],\n",
              "        ...,\n",
              "        [-4.3240769e-10, -1.1938588e-09, -3.9545514e-09, ...,\n",
              "         -8.9118268e-09, -1.5424280e-09, -9.2430352e-10],\n",
              "        [ 3.0292060e-09,  4.2173331e-09,  2.0639179e-09, ...,\n",
              "         -2.3477276e-09,  4.9694355e-09, -5.7782890e-09],\n",
              "        [-2.0527460e-09,  8.7570334e-10,  8.7308951e-09, ...,\n",
              "         -2.4356182e-09,  2.4952815e-09,  1.0715182e-08]], dtype=float32),\n",
              " array([ 3.1457428e-06,  8.3203383e-07,  4.5827045e-07, ...,\n",
              "         2.2022043e-06,  9.0838614e-07, -5.5882351e-06], dtype=float32),\n",
              " array([[ 2.9870950e-10,  1.8362201e-10, -8.1991951e-09, ...,\n",
              "         -9.5159947e-10,  7.4737070e-09, -6.7828854e-09],\n",
              "        [ 3.6344232e-09,  3.4201888e-09,  5.7420324e-10, ...,\n",
              "          4.2810746e-09,  1.1316666e-08,  6.0583920e-09],\n",
              "        [ 2.0862558e-09, -2.6771840e-09,  1.0171068e-08, ...,\n",
              "          5.1280620e-09,  3.5068499e-09,  2.7532041e-09],\n",
              "        ...,\n",
              "        [-2.9795649e-10,  2.3383602e-09, -3.3683933e-10, ...,\n",
              "         -3.9507042e-09,  5.8440613e-10,  6.8463735e-10],\n",
              "        [-4.3280926e-09, -1.0178522e-09,  1.0959997e-09, ...,\n",
              "          1.2196324e-09, -2.4231681e-09, -1.1834240e-09],\n",
              "        [ 5.2289133e-09, -1.7377862e-09,  3.1230997e-11, ...,\n",
              "          2.7553813e-09,  4.0868614e-10, -5.9174243e-10]], dtype=float32),\n",
              " array([-1.02237300e-05,  3.01533692e-06,  1.19486049e-06,  3.94547243e-07,\n",
              "         1.36675510e-06, -2.41002567e-06, -3.19509627e-06,  3.73091984e-06,\n",
              "        -1.92364200e-06,  3.14845420e-06, -5.65164919e-06,  1.41800444e-06,\n",
              "         1.22713618e-06, -1.04442813e-06, -1.87131013e-06, -1.87814305e-06,\n",
              "         2.35556718e-06,  4.22382254e-06,  4.25733788e-06,  2.22036874e-06,\n",
              "         1.50487449e-06,  1.34428467e-06,  4.26859424e-06, -1.83519182e-06,\n",
              "        -1.94152406e-07,  1.24267694e-06,  6.28211183e-07, -1.03876175e-06,\n",
              "         5.37895266e-06, -1.15433113e-06,  3.43915258e-06, -3.78261848e-06,\n",
              "        -4.59523835e-06, -2.71768181e-06, -6.43420708e-06,  1.02110221e-06,\n",
              "        -1.57557326e-06,  2.20065522e-06,  3.73513649e-06, -7.59532099e-08,\n",
              "         2.20099901e-06,  2.58043747e-06, -4.30515411e-06,  3.93253458e-06,\n",
              "        -1.76905826e-06, -1.78392042e-06,  4.22033236e-06,  1.41538919e-06,\n",
              "         2.91695528e-06,  1.01386411e-06,  4.15519162e-06, -8.49028368e-08,\n",
              "         2.27123701e-06, -2.38563916e-06, -7.41263102e-06, -1.40487998e-06,\n",
              "         1.08313122e-06, -2.58401514e-07,  2.70747682e-06,  1.12760290e-06,\n",
              "        -2.51925394e-06,  7.18989486e-06,  2.50578205e-06, -1.08956624e-06,\n",
              "         3.18576781e-07,  2.30689989e-06,  1.53090377e-06,  1.83468239e-06,\n",
              "         4.86087629e-07, -1.51468248e-06, -2.45159981e-06, -6.49139054e-08,\n",
              "        -2.19650906e-06, -4.26001577e-07,  1.10074677e-06, -2.80715858e-06,\n",
              "        -4.99367889e-06,  1.61306502e-06, -4.42985083e-06, -3.39326789e-06,\n",
              "         6.28331782e-06,  4.32043316e-06, -7.84957774e-06, -1.45094793e-06,\n",
              "        -6.20946048e-06,  2.90102867e-06, -2.85525357e-06, -1.69941131e-06,\n",
              "         4.83969507e-06,  2.03916147e-06, -3.54471263e-06,  3.94277822e-06,\n",
              "         2.24530550e-06, -4.75317984e-06,  1.25809180e-07, -1.27068336e-06,\n",
              "         4.10971643e-06,  6.03055582e-07, -2.09494920e-06,  1.47272351e-06,\n",
              "         2.26373072e-06,  4.04398816e-06,  4.76222340e-06,  5.36787979e-07,\n",
              "         6.90249544e-06, -6.08803202e-06,  2.65785985e-07, -1.42450381e-06,\n",
              "        -8.93349352e-07, -2.05566357e-06,  1.16230956e-06,  2.82008682e-06,\n",
              "         3.98199109e-06, -1.54972872e-06,  2.51944425e-06,  1.34002494e-06,\n",
              "         4.03508864e-07,  1.02677245e-06, -1.52565553e-06,  4.12269310e-06,\n",
              "         5.26807526e-07, -1.40503005e-06, -7.70378210e-06,  1.56447970e-06,\n",
              "         1.30303761e-07, -4.49196386e-06, -2.76339483e-06, -5.35488653e-07,\n",
              "         1.91179588e-02, -1.10618700e-03,  2.01762728e-02, -6.91976398e-04,\n",
              "        -4.19429410e-03,  3.45598161e-03, -2.86536291e-03, -5.78373810e-03,\n",
              "         6.62613520e-03, -7.28566386e-03, -2.93654520e-02,  1.48924915e-02,\n",
              "        -2.72568152e-03,  5.53296972e-03, -9.95728886e-04, -2.99590221e-03,\n",
              "        -3.49513302e-03,  1.39391907e-02,  1.43194366e-02, -4.20126645e-03,\n",
              "         1.75619200e-02,  1.26446579e-02,  5.14093228e-03, -2.91499239e-03,\n",
              "         1.82610117e-02, -7.11437431e-04, -5.79473656e-03,  4.37588012e-03,\n",
              "         5.50213549e-03,  1.74512677e-02,  2.94410600e-03, -3.48456837e-02,\n",
              "         1.75798107e-02,  1.43037215e-02, -1.11757834e-02,  1.01977643e-02,\n",
              "        -2.04762872e-02,  4.12977207e-03, -4.37803008e-02,  6.74221804e-03,\n",
              "        -3.71371931e-03,  1.49201741e-03, -1.78917330e-02,  1.85154770e-02,\n",
              "         1.68062691e-02,  4.66298033e-03, -6.68839971e-03, -6.90931780e-03,\n",
              "         1.92332324e-02,  2.96038371e-02, -1.59741528e-02,  8.88718199e-03,\n",
              "         8.69095325e-03, -2.78052054e-02,  1.30679021e-02,  4.29771654e-03,\n",
              "        -1.09009137e-02,  1.19187403e-02, -1.60232745e-02,  5.20097837e-03,\n",
              "        -1.97592452e-02, -5.04527846e-03, -2.08709016e-02,  9.13338363e-03,\n",
              "         2.30928492e-02, -4.83600423e-03,  1.89808961e-02, -9.70090274e-04,\n",
              "        -2.26802174e-02, -2.50394475e-02, -3.86014627e-03, -8.11935496e-03,\n",
              "        -4.90558567e-03,  1.38342893e-03,  3.18535641e-02, -1.00840931e-04,\n",
              "         2.63453703e-02,  1.34726185e-02,  1.08819921e-03,  9.31671262e-03,\n",
              "        -1.59222540e-02,  7.92855804e-04,  3.92507054e-02, -1.24988211e-02,\n",
              "        -1.27211278e-02, -9.75212920e-03,  4.82204231e-03,  1.57989608e-03,\n",
              "        -1.44779333e-03,  2.68096942e-02,  6.19321223e-03,  1.03300437e-02,\n",
              "        -6.00414537e-03,  9.58890747e-03, -1.77846104e-02,  1.63242202e-02,\n",
              "         2.96058040e-03, -1.64040420e-02, -2.38471609e-02, -9.94300656e-03,\n",
              "         3.89290089e-03, -2.39239860e-04, -1.11193387e-02, -8.50789435e-03,\n",
              "         3.29422136e-03, -2.57168375e-02, -8.97932053e-03, -2.34031789e-02,\n",
              "        -6.19661389e-03, -9.25786328e-03,  8.77852086e-03, -2.56664157e-02,\n",
              "        -6.54196320e-03, -1.05513278e-02, -1.12417135e-02, -9.52571537e-03,\n",
              "        -2.04107780e-02, -1.50350975e-02, -7.96458800e-04, -3.67778614e-02,\n",
              "        -9.87322419e-04, -2.08675284e-02, -1.72855388e-02,  9.77680832e-03,\n",
              "        -2.35871281e-02, -1.57988463e-02, -4.34511947e-03,  5.82019938e-03,\n",
              "        -4.11085011e-06,  1.14500858e-06,  3.61063400e-07, -1.64406151e-06,\n",
              "         1.02960382e-06, -3.04055987e-07, -1.94295558e-06,  2.62730737e-06,\n",
              "        -9.49874789e-07,  2.63007405e-06, -1.03193315e-06,  6.04081720e-07,\n",
              "         2.01576904e-06, -1.04053049e-06,  3.20616641e-06, -1.91345021e-06,\n",
              "         4.19202888e-06,  3.65260485e-06,  1.89423224e-06,  1.23261600e-06,\n",
              "         3.37314736e-06, -1.16254637e-06,  2.42898818e-06, -3.08259723e-06,\n",
              "        -4.01569196e-07,  2.35010839e-06, -1.22101403e-06, -1.18413971e-06,\n",
              "        -9.64853598e-07,  2.67096516e-06, -6.26268843e-07, -7.61439537e-07,\n",
              "        -4.02129399e-06, -2.91304696e-06, -3.80150914e-06,  8.22241134e-07,\n",
              "         1.14348734e-06,  1.85161480e-06,  1.56570786e-06,  6.82435370e-08,\n",
              "         2.42971760e-06,  3.34323795e-06, -3.32480772e-06,  8.31160946e-07,\n",
              "        -1.80397160e-06, -1.33524429e-06,  2.73921637e-06, -3.03815511e-07,\n",
              "         1.60385980e-06,  1.43566228e-06,  6.70953750e-06, -5.11018015e-07,\n",
              "         2.98199416e-06, -2.59011972e-06, -3.12895509e-06, -2.55427926e-06,\n",
              "        -1.52285139e-07, -2.57925967e-06,  4.55026566e-06, -1.32342029e-06,\n",
              "        -2.70284431e-06,  5.19306604e-06,  4.53869490e-07, -5.56533166e-07,\n",
              "         1.36332449e-06,  2.36693472e-06,  1.41859584e-06,  4.14205761e-06,\n",
              "        -2.81975713e-06, -1.94465201e-06, -1.88204262e-06,  1.39781127e-06,\n",
              "        -1.32099132e-07,  3.70673575e-07,  8.76469869e-07, -1.26661610e-06,\n",
              "        -6.73596014e-06, -2.63331572e-07, -2.95768223e-06, -4.41964494e-06,\n",
              "         3.45105877e-06,  3.67956341e-06, -5.40370547e-06,  5.87577489e-08,\n",
              "        -1.82714291e-06,  3.30068588e-06, -1.73386479e-06, -1.29772309e-06,\n",
              "         4.58121713e-06,  8.93304161e-07, -1.69344128e-06,  4.90934235e-06,\n",
              "         2.05029392e-06, -1.59375554e-06, -1.13250724e-06, -3.26493455e-06,\n",
              "         2.85067563e-06,  8.66290350e-07, -2.72737270e-06, -1.01469220e-06,\n",
              "         2.21814139e-06,  1.41887062e-06,  2.43231307e-06,  1.48811955e-06,\n",
              "         4.27342366e-06, -4.60123601e-07,  7.43453199e-07,  9.50472213e-07,\n",
              "        -1.60372292e-06, -2.24663654e-06,  1.45623630e-06,  5.43450369e-06,\n",
              "         1.65195479e-06, -1.43009527e-06,  6.03282558e-07,  3.62782157e-06,\n",
              "         4.19446360e-06,  1.19063577e-06, -4.86468025e-07,  3.89770821e-06,\n",
              "         1.00857903e-06, -1.71689294e-06, -2.92406639e-06,  9.07131493e-07,\n",
              "         2.00571958e-06, -3.93383471e-06,  7.24485403e-07, -7.74886985e-07,\n",
              "        -1.02262511e-05,  3.01172781e-06,  1.19067556e-06,  3.92331174e-07,\n",
              "         1.36442372e-06, -2.41008456e-06, -3.19392439e-06,  3.72903173e-06,\n",
              "        -1.91740855e-06,  3.15047555e-06, -5.65099890e-06,  1.41702469e-06,\n",
              "         1.23276686e-06, -1.04173853e-06, -1.87221167e-06, -1.88385434e-06,\n",
              "         2.35469929e-06,  4.23311758e-06,  4.25635881e-06,  2.22258473e-06,\n",
              "         1.50291260e-06,  1.34942820e-06,  4.27045052e-06, -1.83304167e-06,\n",
              "        -1.94115472e-07,  1.23854841e-06,  6.29105330e-07, -1.04061041e-06,\n",
              "         5.38038648e-06, -1.15603916e-06,  3.43747001e-06, -3.78494656e-06,\n",
              "        -4.59918192e-06, -2.71563817e-06, -6.42619807e-06,  1.01757757e-06,\n",
              "        -1.57406885e-06,  2.19803974e-06,  3.73737339e-06, -7.87584753e-08,\n",
              "         2.19913500e-06,  2.58367095e-06, -4.30999262e-06,  3.94051813e-06,\n",
              "        -1.77470906e-06, -1.78652306e-06,  4.21965433e-06,  1.41468979e-06,\n",
              "         2.90887988e-06,  1.00068712e-06,  4.15080513e-06, -8.58758966e-08,\n",
              "         2.27477653e-06, -2.38424400e-06, -7.40983432e-06, -1.40157192e-06,\n",
              "         1.08185793e-06, -2.59219178e-07,  2.71064914e-06,  1.12568375e-06,\n",
              "        -2.51433471e-06,  7.19822219e-06,  2.51446636e-06, -1.08683957e-06,\n",
              "         3.20385993e-07,  2.30457181e-06,  1.52791381e-06,  1.83706948e-06,\n",
              "         4.86079102e-07, -1.51196514e-06, -2.44654098e-06, -5.88342601e-08,\n",
              "        -2.19865910e-06, -4.25363595e-07,  1.09341545e-06, -2.80718314e-06,\n",
              "        -4.99292082e-06,  1.61565299e-06, -4.43110184e-06, -3.38948712e-06,\n",
              "         6.28599400e-06,  4.32072966e-06, -7.85009524e-06, -1.44961666e-06,\n",
              "        -6.20765195e-06,  2.90410048e-06, -2.85763008e-06, -1.70002932e-06,\n",
              "         4.83856547e-06,  2.03812056e-06, -3.54182907e-06,  3.93938080e-06,\n",
              "         2.24537871e-06, -4.75157549e-06,  1.25438220e-07, -1.26796829e-06,\n",
              "         4.11665224e-06,  6.02288708e-07, -2.09224891e-06,  1.46659102e-06,\n",
              "         2.26526890e-06,  4.04832508e-06,  4.76137438e-06,  5.29775321e-07,\n",
              "         6.90864454e-06, -6.08750270e-06,  2.62294805e-07, -1.42442525e-06,\n",
              "        -8.90264118e-07, -2.05195170e-06,  1.15996568e-06,  2.82160408e-06,\n",
              "         3.98357952e-06, -1.55079829e-06,  2.52399468e-06,  1.34031893e-06,\n",
              "         4.00895971e-07,  1.02503782e-06, -1.52897599e-06,  4.11795554e-06,\n",
              "         5.26007284e-07, -1.41052601e-06, -7.70895804e-06,  1.57253623e-06,\n",
              "         1.36383036e-07, -4.49429353e-06, -2.76543437e-06, -5.34147773e-07],\n",
              "       dtype=float32),\n",
              " array([[-2.99309795e-06,  3.24519526e-04,  7.58999377e-05, ...,\n",
              "         -7.69831985e-08, -7.73502720e-08, -7.90710786e-08],\n",
              "        [-1.17661612e-05, -3.95138370e-04, -1.18045682e-05, ...,\n",
              "          1.40407636e-07,  1.41004094e-07,  1.44175772e-07],\n",
              "        [ 1.19712233e-04,  1.38366449e-04,  8.04182200e-05, ...,\n",
              "         -1.00582469e-07, -1.00938628e-07, -1.03229084e-07],\n",
              "        ...,\n",
              "        [-5.74938858e-05, -6.78947108e-05, -2.21066613e-04, ...,\n",
              "          9.91431861e-08,  9.94542333e-08,  1.01758552e-07],\n",
              "        [-6.97880023e-06, -6.10954739e-05, -1.59853807e-04, ...,\n",
              "          1.44855719e-07,  1.45414134e-07,  1.48755717e-07],\n",
              "        [ 3.32259136e-04,  4.08542954e-04,  3.61768878e-04, ...,\n",
              "         -3.93874330e-07, -3.95403077e-07, -4.04401931e-07]], dtype=float32),\n",
              " array([-0.78135026, -1.0980002 , -0.9813247 , ...,  0.00196988,\n",
              "         0.00197698,  0.00202216], dtype=float32)]"
            ]
          },
          "metadata": {
            "tags": []
          },
          "execution_count": 44
        }
      ]
    },
    {
      "cell_type": "markdown",
      "metadata": {
        "button": false,
        "deletable": true,
        "new_sheet": false,
        "run_control": {
          "read_only": false
        },
        "id": "Riq7ge4DkOjE",
        "colab_type": "text"
      },
      "source": [
        "<h4>4. Apply the optimizer to the variables / gradients tuple.</h4>"
      ]
    },
    {
      "cell_type": "code",
      "metadata": {
        "button": false,
        "deletable": true,
        "new_sheet": false,
        "run_control": {
          "read_only": false
        },
        "id": "gWdxCA7wkOjF",
        "colab_type": "code",
        "colab": {}
      },
      "source": [
        "# Create the training TensorFlow Operation through our optimizer\n",
        "train_op = optimizer.apply_gradients(zip(grads, tvars))"
      ],
      "execution_count": 0,
      "outputs": []
    },
    {
      "cell_type": "code",
      "metadata": {
        "button": false,
        "deletable": true,
        "new_sheet": false,
        "run_control": {
          "read_only": false
        },
        "id": "5Isty4l0kOjI",
        "colab_type": "code",
        "colab": {}
      },
      "source": [
        "session.run(tf.global_variables_initializer())\n",
        "session.run(train_op, feed_dict)"
      ],
      "execution_count": 0,
      "outputs": []
    },
    {
      "cell_type": "markdown",
      "metadata": {
        "id": "tg0EG3F9kOjM",
        "colab_type": "text"
      },
      "source": [
        "<a id=\"ltsm\"></a>\n",
        "<h2>LSTM</h2>"
      ]
    },
    {
      "cell_type": "markdown",
      "metadata": {
        "button": false,
        "deletable": true,
        "new_sheet": false,
        "run_control": {
          "read_only": false
        },
        "id": "ye_kPKQTkOjN",
        "colab_type": "text"
      },
      "source": [
        "We learned how the model is build step by step. Noe, let's then create a Class that represents our model. This class needs a few things:\n",
        "<ul>\n",
        "    <li>We have to create the model in accordance with our defined hyperparameters</li>\n",
        "    <li>We have to create the placeholders for our input data and expected outputs (the real data)</li>\n",
        "    <li>We have to create the LSTM cell structure and connect them with our RNN structure</li>\n",
        "    <li>We have to create the word embeddings and point them to the input data</li>\n",
        "    <li>We have to create the input structure for our RNN</li>\n",
        "    <li>We have to instantiate our RNN model and retrieve the variable in which we should expect our outputs to appear</li>\n",
        "    <li>We need to create a logistic structure to return the probability of our words</li>\n",
        "    <li>We need to create the loss and cost functions for our optimizer to work, and then create the optimizer</li>\n",
        "    <li>And finally, we need to create a training operation that can be run to actually train our model</li>\n",
        "</ul>"
      ]
    },
    {
      "cell_type": "code",
      "metadata": {
        "id": "w4CGGvwekOjS",
        "colab_type": "code",
        "colab": {
          "base_uri": "https://localhost:8080/",
          "height": 35
        },
        "outputId": "1b1a590d-b0a6-48c0-efec-d1f1fe6a551b"
      },
      "source": [
        "hidden_size_l1"
      ],
      "execution_count": 47,
      "outputs": [
        {
          "output_type": "execute_result",
          "data": {
            "text/plain": [
              "256"
            ]
          },
          "metadata": {
            "tags": []
          },
          "execution_count": 47
        }
      ]
    },
    {
      "cell_type": "code",
      "metadata": {
        "button": false,
        "deletable": true,
        "new_sheet": false,
        "run_control": {
          "read_only": false
        },
        "id": "9AbascTIkOjX",
        "colab_type": "code",
        "colab": {}
      },
      "source": [
        "class PTBModel(object):\n",
        "\n",
        "    def __init__(self, action_type):\n",
        "        ######################################\n",
        "        # Setting parameters for ease of use #\n",
        "        ######################################\n",
        "        self.batch_size = batch_size\n",
        "        self.num_steps = num_steps\n",
        "        self.hidden_size_l1 = hidden_size_l1\n",
        "        self.hidden_size_l2 = hidden_size_l2\n",
        "        self.vocab_size = vocab_size\n",
        "        self.embeding_vector_size = embeding_vector_size\n",
        "        ###############################################################################\n",
        "        # Creating placeholders for our input data and expected outputs (target data) #\n",
        "        ###############################################################################\n",
        "        self._input_data = tf.placeholder(tf.int32, [batch_size, num_steps]) #[30#20]\n",
        "        self._targets = tf.placeholder(tf.int32, [batch_size, num_steps]) #[30#20]\n",
        "\n",
        "        ##########################################################################\n",
        "        # Creating the LSTM cell structure and connect it with the RNN structure #\n",
        "        ##########################################################################\n",
        "        # Create the LSTM unit. \n",
        "        # This creates only the structure for the LSTM and has to be associated with a RNN unit still.\n",
        "        # The argument n_hidden(size=200) of BasicLSTMCell is size of hidden layer, that is, the number of hidden units of the LSTM (inside A).\n",
        "        # Size is the same as the size of our hidden layer, and no bias is added to the Forget Gate. \n",
        "        # LSTM cell processes one word at a time and computes probabilities of the possible continuations of the sentence.\n",
        "        lstm_cell_l1 = tf.contrib.rnn.BasicLSTMCell(self.hidden_size_l1, forget_bias=0.0)\n",
        "        lstm_cell_l2 = tf.contrib.rnn.BasicLSTMCell(self.hidden_size_l2, forget_bias=0.0)\n",
        "        \n",
        "        # Unless you changed keep_prob, this won't actually execute -- this is a dropout wrapper for our LSTM unit\n",
        "        # This is an optimization of the LSTM output, but is not needed at all\n",
        "        if action_type == \"is_training\" and keep_prob < 1:\n",
        "            lstm_cell_l1 = tf.contrib.rnn.DropoutWrapper(lstm_cell_l1, output_keep_prob=keep_prob)\n",
        "            lstm_cell_l2 = tf.contrib.rnn.DropoutWrapper(lstm_cell_l2, output_keep_prob=keep_prob)\n",
        "        \n",
        "        # By taking in the LSTM cells as parameters, the MultiRNNCell function junctions the LSTM units to the RNN units.\n",
        "        # RNN cell composed sequentially of multiple simple cells.\n",
        "        stacked_lstm = tf.contrib.rnn.MultiRNNCell([lstm_cell_l1, lstm_cell_l2])\n",
        "\n",
        "        # Define the initial state, i.e., the model state for the very first data point\n",
        "        # It initialize the state of the LSTM memory. The memory state of the network is initialized with a vector of zeros and gets updated after reading each word.\n",
        "        self._initial_state = stacked_lstm.zero_state(batch_size, tf.float32)\n",
        "\n",
        "        ####################################################################\n",
        "        # Creating the word embeddings and pointing them to the input data #\n",
        "        ####################################################################\n",
        "        with tf.device(\"/cpu:0\"):\n",
        "            # Create the embeddings for our input data. Size is hidden size.\n",
        "            embedding = tf.get_variable(\"embedding\", [vocab_size, self.embeding_vector_size])  #[10000x200]\n",
        "            # Define where to get the data for our embeddings from\n",
        "            inputs = tf.nn.embedding_lookup(embedding, self._input_data)\n",
        "\n",
        "        # Unless you changed keep_prob, this won't actually execute -- this is a dropout addition for our inputs\n",
        "        # This is an optimization of the input processing and is not needed at all\n",
        "        if action_type == \"is_training\" and keep_prob < 1:\n",
        "            inputs = tf.nn.dropout(inputs, keep_prob)\n",
        "\n",
        "        ############################################\n",
        "        # Creating the input structure for our RNN #\n",
        "        ############################################\n",
        "        # Input structure is 20x[30x200]\n",
        "        # Considering each word is represended by a 200 dimentional vector, and we have 30 batchs, we create 30 word-vectors of size [30xx2000]\n",
        "        # inputs = [tf.squeeze(input_, [1]) for input_ in tf.split(1, num_steps, inputs)]\n",
        "        # The input structure is fed from the embeddings, which are filled in by the input data\n",
        "        # Feeding a batch of b sentences to a RNN:\n",
        "        # In step 1,  first word of each of the b sentences (in a batch) is input in parallel.  \n",
        "        # In step 2,  second word of each of the b sentences is input in parallel. \n",
        "        # The parallelism is only for efficiency.  \n",
        "        # Each sentence in a batch is handled in parallel, but the network sees one word of a sentence at a time and does the computations accordingly. \n",
        "        # All the computations involving the words of all sentences in a batch at a given time step are done in parallel. \n",
        "\n",
        "        ####################################################################################################\n",
        "        # Instantiating our RNN model and retrieving the structure for returning the outputs and the state #\n",
        "        ####################################################################################################\n",
        "        \n",
        "        outputs, state = tf.nn.dynamic_rnn(stacked_lstm, inputs, initial_state=self._initial_state)\n",
        "        #########################################################################\n",
        "        # Creating a logistic unit to return the probability of the output word #\n",
        "        #########################################################################\n",
        "        output = tf.reshape(outputs, [-1, self.hidden_size_l2])\n",
        "        softmax_w = tf.get_variable(\"softmax_w\", [self.hidden_size_l2, vocab_size]) #[200x1000]\n",
        "        softmax_b = tf.get_variable(\"softmax_b\", [vocab_size]) #[1x1000]\n",
        "        logits = tf.matmul(output, softmax_w) + softmax_b\n",
        "        logits = tf.reshape(logits, [self.batch_size, self.num_steps, vocab_size])\n",
        "        prob = tf.nn.softmax(logits)\n",
        "        out_words = tf.argmax(prob, axis=2)\n",
        "        self._output_words = out_words\n",
        "        #########################################################################\n",
        "        # Defining the loss and cost functions for the model's learning to work #\n",
        "        #########################################################################\n",
        "            \n",
        "\n",
        "        # Use the contrib sequence loss and average over the batches\n",
        "        loss = tf.contrib.seq2seq.sequence_loss(\n",
        "            logits,\n",
        "            self.targets,\n",
        "            tf.ones([batch_size, num_steps], dtype=tf.float32),\n",
        "            average_across_timesteps=False,\n",
        "            average_across_batch=True)\n",
        "    \n",
        "#         loss = tf.contrib.legacy_seq2seq.sequence_loss_by_example([logits], [tf.reshape(self._targets, [-1])],\n",
        "#                                                       [tf.ones([batch_size * num_steps])])\n",
        "        self._cost = tf.reduce_sum(loss)\n",
        "\n",
        "        # Store the final state\n",
        "        self._final_state = state\n",
        "\n",
        "        #Everything after this point is relevant only for training\n",
        "        if action_type != \"is_training\":\n",
        "            return\n",
        "\n",
        "        #################################################\n",
        "        # Creating the Training Operation for our Model #\n",
        "        #################################################\n",
        "        # Create a variable for the learning rate\n",
        "        self._lr = tf.Variable(0.0, trainable=False)\n",
        "        # Get all TensorFlow variables marked as \"trainable\" (i.e. all of them except _lr, which we just created)\n",
        "        tvars = tf.trainable_variables()\n",
        "        # Define the gradient clipping threshold\n",
        "        grads, _ = tf.clip_by_global_norm(tf.gradients(self._cost, tvars), max_grad_norm)\n",
        "        # Create the gradient descent optimizer with our learning rate\n",
        "        optimizer = tf.train.GradientDescentOptimizer(self.lr)\n",
        "        # Create the training TensorFlow Operation through our optimizer\n",
        "        self._train_op = optimizer.apply_gradients(zip(grads, tvars))\n",
        "\n",
        "    # Helper functions for our LSTM RNN class\n",
        "\n",
        "    # Assign the learning rate for this model\n",
        "    def assign_lr(self, session, lr_value):\n",
        "        session.run(tf.assign(self.lr, lr_value))\n",
        "\n",
        "    # Returns the input data for this model at a point in time\n",
        "    @property\n",
        "    def input_data(self):\n",
        "        return self._input_data\n",
        "\n",
        "\n",
        "    \n",
        "    # Returns the targets for this model at a point in time\n",
        "    @property\n",
        "    def targets(self):\n",
        "        return self._targets\n",
        "\n",
        "    # Returns the initial state for this model\n",
        "    @property\n",
        "    def initial_state(self):\n",
        "        return self._initial_state\n",
        "\n",
        "    # Returns the defined Cost\n",
        "    @property\n",
        "    def cost(self):\n",
        "        return self._cost\n",
        "\n",
        "    # Returns the final state for this model\n",
        "    @property\n",
        "    def final_state(self):\n",
        "        return self._final_state\n",
        "    \n",
        "    # Returns the final output words for this model\n",
        "    @property\n",
        "    def final_output_words(self):\n",
        "        return self._output_words\n",
        "    \n",
        "    # Returns the current learning rate for this model\n",
        "    @property\n",
        "    def lr(self):\n",
        "        return self._lr\n",
        "\n",
        "    # Returns the training operation defined for this model\n",
        "    @property\n",
        "    def train_op(self):\n",
        "        return self._train_op"
      ],
      "execution_count": 0,
      "outputs": []
    },
    {
      "cell_type": "markdown",
      "metadata": {
        "button": false,
        "deletable": true,
        "new_sheet": false,
        "run_control": {
          "read_only": false
        },
        "id": "lfhTq-dbkOja",
        "colab_type": "text"
      },
      "source": [
        "With that, the actual structure of our Recurrent Neural Network with Long Short-Term Memory is finished. What remains for us to do is to actually create the methods to run through time -- that is, the <code>run_epoch</code> method to be run at each epoch and a <code>main</code> script which ties all of this together.\n",
        "\n",
        "What our <code>run_epoch</code> method should do is take our input data and feed it to the relevant operations. This will return at the very least the current result for the cost function."
      ]
    },
    {
      "cell_type": "code",
      "metadata": {
        "button": false,
        "deletable": true,
        "new_sheet": false,
        "run_control": {
          "read_only": false
        },
        "id": "8iWVcu0nkOjb",
        "colab_type": "code",
        "colab": {}
      },
      "source": [
        "##########################################################################################################################\n",
        "# run_one_epoch takes as parameters the current session, the model instance, the data to be fed, and the operation to be run #\n",
        "##########################################################################################################################\n",
        "def run_one_epoch(session, m, data, eval_op, verbose=False):\n",
        "\n",
        "    #Define the epoch size based on the length of the data, batch size and the number of steps\n",
        "    epoch_size = ((len(data) // m.batch_size) - 1) // m.num_steps\n",
        "    start_time = time.time()\n",
        "    costs = 0.0\n",
        "    iters = 0\n",
        "\n",
        "    state = session.run(m.initial_state)\n",
        "    \n",
        "    #For each step and data point\n",
        "    for step, (x, y) in enumerate(reader.ptb_iterator(data, m.batch_size, m.num_steps)):\n",
        "        \n",
        "        #Evaluate and return cost, state by running cost, final_state and the function passed as parameter\n",
        "        cost, state, out_words, _ = session.run([m.cost, m.final_state, m.final_output_words, eval_op],\n",
        "                                     {m.input_data: x,\n",
        "                                      m.targets: y,\n",
        "                                      m.initial_state: state})\n",
        "\n",
        "        #Add returned cost to costs (which keeps track of the total costs for this epoch)\n",
        "        costs += cost\n",
        "        \n",
        "        #Add number of steps to iteration counter\n",
        "        iters += m.num_steps\n",
        "\n",
        "        if verbose and step % (epoch_size // 10) == 10:\n",
        "            print(\"Itr %d of %d, perplexity: %.3f speed: %.0f wps\" % (step , epoch_size, np.exp(costs / iters), iters * m.batch_size / (time.time() - start_time)))\n",
        "\n",
        "    # Returns the Perplexity rating for us to keep track of how the model is evolving\n",
        "    return np.exp(costs / iters)\n"
      ],
      "execution_count": 0,
      "outputs": []
    },
    {
      "cell_type": "markdown",
      "metadata": {
        "button": false,
        "deletable": true,
        "new_sheet": false,
        "run_control": {
          "read_only": false
        },
        "id": "Pnhr1IFRkOje",
        "colab_type": "text"
      },
      "source": [
        "Now, we create the <code>main</code> method to tie everything together. The code here reads the data from the directory, using the <code>reader</code> helper module, and then trains and evaluates the model on both a testing and a validating subset of data."
      ]
    },
    {
      "cell_type": "code",
      "metadata": {
        "button": false,
        "deletable": true,
        "new_sheet": false,
        "run_control": {
          "read_only": false
        },
        "id": "LCLHRzKkkOjf",
        "colab_type": "code",
        "colab": {}
      },
      "source": [
        "# Reads the data and separates it into training data, validation data and testing data\n",
        "raw_data = reader.ptb_raw_data(data_dir)\n",
        "train_data, valid_data, test_data, _, _ = raw_data"
      ],
      "execution_count": 0,
      "outputs": []
    },
    {
      "cell_type": "code",
      "metadata": {
        "button": false,
        "deletable": true,
        "new_sheet": false,
        "run_control": {
          "read_only": false
        },
        "id": "0uohiLmukOjk",
        "colab_type": "code",
        "colab": {
          "base_uri": "https://localhost:8080/",
          "height": 1000
        },
        "outputId": "a0f4d449-0860-4460-cf1d-5567c0cf4d28"
      },
      "source": [
        "# Initializes the Execution Graph and the Session\n",
        "with tf.Graph().as_default(), tf.Session() as session:\n",
        "    initializer = tf.random_uniform_initializer(-init_scale, init_scale)\n",
        "    \n",
        "    # Instantiates the model for training\n",
        "    # tf.variable_scope add a prefix to the variables created with tf.get_variable\n",
        "    with tf.variable_scope(\"model\", reuse=None, initializer=initializer):\n",
        "        m = PTBModel(\"is_training\")\n",
        "        \n",
        "    # Reuses the trained parameters for the validation and testing models\n",
        "    # They are different instances but use the same variables for weights and biases, they just don't change when data is input\n",
        "    with tf.variable_scope(\"model\", reuse=True, initializer=initializer):\n",
        "        mvalid = PTBModel(\"is_validating\")\n",
        "        mtest = PTBModel(\"is_testing\")\n",
        "\n",
        "    #Initialize all variables\n",
        "    tf.global_variables_initializer().run()\n",
        "\n",
        "    for i in range(max_epoch):\n",
        "        # Define the decay for this epoch\n",
        "        lr_decay = decay ** max(i - max_epoch_decay_lr, 0.0)\n",
        "        \n",
        "        # Set the decayed learning rate as the learning rate for this epoch\n",
        "        m.assign_lr(session, learning_rate * lr_decay)\n",
        "\n",
        "        print(\"Epoch %d : Learning rate: %.3f\" % (i + 1, session.run(m.lr)))\n",
        "        \n",
        "        # Run the loop for this epoch in the training model\n",
        "        train_perplexity = run_one_epoch(session, m, train_data, m.train_op, verbose=True)\n",
        "        print(\"Epoch %d : Train Perplexity: %.3f\" % (i + 1, train_perplexity))\n",
        "        \n",
        "        # Run the loop for this epoch in the validation model\n",
        "        valid_perplexity = run_one_epoch(session, mvalid, valid_data, tf.no_op())\n",
        "        print(\"Epoch %d : Valid Perplexity: %.3f\" % (i + 1, valid_perplexity))\n",
        "    \n",
        "    # Run the loop in the testing model to see how effective was our training\n",
        "    test_perplexity = run_one_epoch(session, mtest, test_data, tf.no_op())\n",
        "    \n",
        "    print(\"Test Perplexity: %.3f\" % test_perplexity)"
      ],
      "execution_count": 51,
      "outputs": [
        {
          "output_type": "stream",
          "text": [
            "Epoch 1 : Learning rate: 1.000\n",
            "Itr 10 of 774, perplexity: 4143.910 speed: 2451 wps\n",
            "Itr 87 of 774, perplexity: 1265.769 speed: 2537 wps\n",
            "Itr 164 of 774, perplexity: 969.321 speed: 2542 wps\n",
            "Itr 241 of 774, perplexity: 808.533 speed: 2532 wps\n",
            "Itr 318 of 774, perplexity: 716.783 speed: 2534 wps\n",
            "Itr 395 of 774, perplexity: 641.215 speed: 2539 wps\n",
            "Itr 472 of 774, perplexity: 582.874 speed: 2542 wps\n",
            "Itr 549 of 774, perplexity: 529.381 speed: 2543 wps\n",
            "Itr 626 of 774, perplexity: 486.018 speed: 2545 wps\n",
            "Itr 703 of 774, perplexity: 452.105 speed: 2544 wps\n",
            "Epoch 1 : Train Perplexity: 427.955\n",
            "Epoch 1 : Valid Perplexity: 254.083\n",
            "Epoch 2 : Learning rate: 1.000\n",
            "Itr 10 of 774, perplexity: 274.075 speed: 2516 wps\n",
            "Itr 87 of 774, perplexity: 236.497 speed: 2524 wps\n",
            "Itr 164 of 774, perplexity: 226.619 speed: 2539 wps\n",
            "Itr 241 of 774, perplexity: 217.345 speed: 2547 wps\n",
            "Itr 318 of 774, perplexity: 214.389 speed: 2543 wps\n",
            "Itr 395 of 774, perplexity: 208.546 speed: 2546 wps\n",
            "Itr 472 of 774, perplexity: 204.089 speed: 2548 wps\n",
            "Itr 549 of 774, perplexity: 197.376 speed: 2550 wps\n",
            "Itr 626 of 774, perplexity: 191.831 speed: 2556 wps\n",
            "Itr 703 of 774, perplexity: 187.699 speed: 2556 wps\n",
            "Epoch 2 : Train Perplexity: 184.987\n",
            "Epoch 2 : Valid Perplexity: 179.472\n",
            "Epoch 3 : Learning rate: 1.000\n",
            "Itr 10 of 774, perplexity: 185.065 speed: 2450 wps\n",
            "Itr 87 of 774, perplexity: 158.755 speed: 2541 wps\n",
            "Itr 164 of 774, perplexity: 154.600 speed: 2553 wps\n",
            "Itr 241 of 774, perplexity: 149.911 speed: 2556 wps\n",
            "Itr 318 of 774, perplexity: 149.945 speed: 2558 wps\n",
            "Itr 395 of 774, perplexity: 147.200 speed: 2561 wps\n",
            "Itr 472 of 774, perplexity: 145.549 speed: 2560 wps\n",
            "Itr 549 of 774, perplexity: 141.858 speed: 2562 wps\n",
            "Itr 626 of 774, perplexity: 139.076 speed: 2563 wps\n",
            "Itr 703 of 774, perplexity: 137.297 speed: 2564 wps\n",
            "Epoch 3 : Train Perplexity: 136.308\n",
            "Epoch 3 : Valid Perplexity: 154.889\n",
            "Epoch 4 : Learning rate: 1.000\n",
            "Itr 10 of 774, perplexity: 147.517 speed: 2532 wps\n",
            "Itr 87 of 774, perplexity: 126.633 speed: 2545 wps\n",
            "Itr 164 of 774, perplexity: 124.342 speed: 2548 wps\n",
            "Itr 241 of 774, perplexity: 121.108 speed: 2554 wps\n",
            "Itr 318 of 774, perplexity: 121.682 speed: 2558 wps\n",
            "Itr 395 of 774, perplexity: 119.890 speed: 2553 wps\n",
            "Itr 472 of 774, perplexity: 118.911 speed: 2556 wps\n",
            "Itr 549 of 774, perplexity: 116.121 speed: 2567 wps\n",
            "Itr 626 of 774, perplexity: 114.270 speed: 2566 wps\n",
            "Itr 703 of 774, perplexity: 113.209 speed: 2570 wps\n",
            "Epoch 4 : Train Perplexity: 112.710\n",
            "Epoch 4 : Valid Perplexity: 144.401\n",
            "Epoch 5 : Learning rate: 1.000\n",
            "Itr 10 of 774, perplexity: 126.021 speed: 2539 wps\n",
            "Itr 87 of 774, perplexity: 107.714 speed: 2573 wps\n",
            "Itr 164 of 774, perplexity: 106.485 speed: 2588 wps\n",
            "Itr 241 of 774, perplexity: 103.963 speed: 2573 wps\n",
            "Itr 318 of 774, perplexity: 104.694 speed: 2576 wps\n",
            "Itr 395 of 774, perplexity: 103.275 speed: 2587 wps\n",
            "Itr 472 of 774, perplexity: 102.646 speed: 2589 wps\n",
            "Itr 549 of 774, perplexity: 100.358 speed: 2595 wps\n",
            "Itr 626 of 774, perplexity: 98.954 speed: 2591 wps\n",
            "Itr 703 of 774, perplexity: 98.210 speed: 2588 wps\n",
            "Epoch 5 : Train Perplexity: 97.926\n",
            "Epoch 5 : Valid Perplexity: 138.127\n",
            "Epoch 6 : Learning rate: 0.500\n",
            "Itr 10 of 774, perplexity: 107.574 speed: 2514 wps\n",
            "Itr 87 of 774, perplexity: 92.238 speed: 2538 wps\n",
            "Itr 164 of 774, perplexity: 90.454 speed: 2552 wps\n",
            "Itr 241 of 774, perplexity: 87.599 speed: 2573 wps\n",
            "Itr 318 of 774, perplexity: 87.733 speed: 2578 wps\n",
            "Itr 395 of 774, perplexity: 86.011 speed: 2586 wps\n",
            "Itr 472 of 774, perplexity: 85.103 speed: 2586 wps\n",
            "Itr 549 of 774, perplexity: 82.728 speed: 2589 wps\n",
            "Itr 626 of 774, perplexity: 81.108 speed: 2593 wps\n",
            "Itr 703 of 774, perplexity: 80.111 speed: 2589 wps\n",
            "Epoch 6 : Train Perplexity: 79.541\n",
            "Epoch 6 : Valid Perplexity: 126.817\n",
            "Epoch 7 : Learning rate: 0.250\n",
            "Itr 10 of 774, perplexity: 93.935 speed: 2570 wps\n",
            "Itr 87 of 774, perplexity: 81.345 speed: 2638 wps\n",
            "Itr 164 of 774, perplexity: 79.938 speed: 2632 wps\n",
            "Itr 241 of 774, perplexity: 77.405 speed: 2634 wps\n",
            "Itr 318 of 774, perplexity: 77.483 speed: 2634 wps\n",
            "Itr 395 of 774, perplexity: 75.885 speed: 2628 wps\n",
            "Itr 472 of 774, perplexity: 75.005 speed: 2629 wps\n",
            "Itr 549 of 774, perplexity: 72.797 speed: 2621 wps\n",
            "Itr 626 of 774, perplexity: 71.248 speed: 2621 wps\n",
            "Itr 703 of 774, perplexity: 70.212 speed: 2620 wps\n",
            "Epoch 7 : Train Perplexity: 69.582\n",
            "Epoch 7 : Valid Perplexity: 124.327\n",
            "Epoch 8 : Learning rate: 0.125\n",
            "Itr 10 of 774, perplexity: 86.169 speed: 2664 wps\n",
            "Itr 87 of 774, perplexity: 75.323 speed: 2653 wps\n",
            "Itr 164 of 774, perplexity: 74.039 speed: 2640 wps\n",
            "Itr 241 of 774, perplexity: 71.692 speed: 2624 wps\n",
            "Itr 318 of 774, perplexity: 71.781 speed: 2631 wps\n",
            "Itr 395 of 774, perplexity: 70.277 speed: 2622 wps\n",
            "Itr 472 of 774, perplexity: 69.440 speed: 2623 wps\n",
            "Itr 549 of 774, perplexity: 67.349 speed: 2622 wps\n",
            "Itr 626 of 774, perplexity: 65.859 speed: 2621 wps\n",
            "Itr 703 of 774, perplexity: 64.840 speed: 2621 wps\n",
            "Epoch 8 : Train Perplexity: 64.197\n",
            "Epoch 8 : Valid Perplexity: 123.202\n",
            "Epoch 9 : Learning rate: 0.062\n",
            "Itr 10 of 774, perplexity: 81.883 speed: 2627 wps\n",
            "Itr 87 of 774, perplexity: 71.924 speed: 2605 wps\n",
            "Itr 164 of 774, perplexity: 70.735 speed: 2605 wps\n",
            "Itr 241 of 774, perplexity: 68.515 speed: 2600 wps\n",
            "Itr 318 of 774, perplexity: 68.624 speed: 2603 wps\n",
            "Itr 395 of 774, perplexity: 67.175 speed: 2610 wps\n",
            "Itr 472 of 774, perplexity: 66.375 speed: 2622 wps\n",
            "Itr 549 of 774, perplexity: 64.356 speed: 2627 wps\n",
            "Itr 626 of 774, perplexity: 62.904 speed: 2631 wps\n",
            "Itr 703 of 774, perplexity: 61.908 speed: 2633 wps\n",
            "Epoch 9 : Train Perplexity: 61.273\n",
            "Epoch 9 : Valid Perplexity: 122.523\n",
            "Epoch 10 : Learning rate: 0.031\n",
            "Itr 10 of 774, perplexity: 79.664 speed: 2640 wps\n",
            "Itr 87 of 774, perplexity: 70.064 speed: 2623 wps\n",
            "Itr 164 of 774, perplexity: 68.912 speed: 2620 wps\n",
            "Itr 241 of 774, perplexity: 66.762 speed: 2612 wps\n",
            "Itr 318 of 774, perplexity: 66.889 speed: 2619 wps\n",
            "Itr 395 of 774, perplexity: 65.472 speed: 2615 wps\n",
            "Itr 472 of 774, perplexity: 64.700 speed: 2613 wps\n",
            "Itr 549 of 774, perplexity: 62.723 speed: 2612 wps\n",
            "Itr 626 of 774, perplexity: 61.290 speed: 2609 wps\n",
            "Itr 703 of 774, perplexity: 60.308 speed: 2610 wps\n",
            "Epoch 10 : Train Perplexity: 59.683\n",
            "Epoch 10 : Valid Perplexity: 122.143\n",
            "Epoch 11 : Learning rate: 0.016\n",
            "Itr 10 of 774, perplexity: 78.513 speed: 2560 wps\n",
            "Itr 87 of 774, perplexity: 69.062 speed: 2600 wps\n",
            "Itr 164 of 774, perplexity: 67.926 speed: 2626 wps\n",
            "Itr 241 of 774, perplexity: 65.809 speed: 2627 wps\n",
            "Itr 318 of 774, perplexity: 65.942 speed: 2629 wps\n",
            "Itr 395 of 774, perplexity: 64.544 speed: 2633 wps\n",
            "Itr 472 of 774, perplexity: 63.787 speed: 2631 wps\n",
            "Itr 549 of 774, perplexity: 61.836 speed: 2630 wps\n",
            "Itr 626 of 774, perplexity: 60.413 speed: 2623 wps\n",
            "Itr 703 of 774, perplexity: 59.437 speed: 2624 wps\n",
            "Epoch 11 : Train Perplexity: 58.816\n",
            "Epoch 11 : Valid Perplexity: 121.963\n",
            "Epoch 12 : Learning rate: 0.008\n",
            "Itr 10 of 774, perplexity: 77.874 speed: 2578 wps\n",
            "Itr 87 of 774, perplexity: 68.516 speed: 2625 wps\n",
            "Itr 164 of 774, perplexity: 67.394 speed: 2644 wps\n",
            "Itr 241 of 774, perplexity: 65.294 speed: 2652 wps\n",
            "Itr 318 of 774, perplexity: 65.426 speed: 2646 wps\n",
            "Itr 395 of 774, perplexity: 64.039 speed: 2653 wps\n",
            "Itr 472 of 774, perplexity: 63.290 speed: 2638 wps\n",
            "Itr 549 of 774, perplexity: 61.353 speed: 2639 wps\n",
            "Itr 626 of 774, perplexity: 59.935 speed: 2639 wps\n",
            "Itr 703 of 774, perplexity: 58.961 speed: 2644 wps\n",
            "Epoch 12 : Train Perplexity: 58.343\n",
            "Epoch 12 : Valid Perplexity: 121.868\n",
            "Epoch 13 : Learning rate: 0.004\n",
            "Itr 10 of 774, perplexity: 77.507 speed: 2654 wps\n",
            "Itr 87 of 774, perplexity: 68.212 speed: 2722 wps\n",
            "Itr 164 of 774, perplexity: 67.103 speed: 2726 wps\n",
            "Itr 241 of 774, perplexity: 65.014 speed: 2731 wps\n",
            "Itr 318 of 774, perplexity: 65.145 speed: 2685 wps\n",
            "Itr 395 of 774, perplexity: 63.764 speed: 2670 wps\n",
            "Itr 472 of 774, perplexity: 63.018 speed: 2664 wps\n",
            "Itr 549 of 774, perplexity: 61.090 speed: 2665 wps\n",
            "Itr 626 of 774, perplexity: 59.676 speed: 2662 wps\n",
            "Itr 703 of 774, perplexity: 58.703 speed: 2661 wps\n",
            "Epoch 13 : Train Perplexity: 58.087\n",
            "Epoch 13 : Valid Perplexity: 121.772\n",
            "Epoch 14 : Learning rate: 0.002\n",
            "Itr 10 of 774, perplexity: 77.298 speed: 2508 wps\n",
            "Itr 87 of 774, perplexity: 68.043 speed: 2612 wps\n",
            "Itr 164 of 774, perplexity: 66.941 speed: 2601 wps\n",
            "Itr 241 of 774, perplexity: 64.863 speed: 2602 wps\n",
            "Itr 318 of 774, perplexity: 64.994 speed: 2600 wps\n",
            "Itr 395 of 774, perplexity: 63.616 speed: 2607 wps\n",
            "Itr 472 of 774, perplexity: 62.873 speed: 2609 wps\n",
            "Itr 549 of 774, perplexity: 60.950 speed: 2608 wps\n",
            "Itr 626 of 774, perplexity: 59.538 speed: 2615 wps\n",
            "Itr 703 of 774, perplexity: 58.566 speed: 2615 wps\n",
            "Epoch 14 : Train Perplexity: 57.951\n",
            "Epoch 14 : Valid Perplexity: 121.669\n",
            "Epoch 15 : Learning rate: 0.001\n",
            "Itr 10 of 774, perplexity: 77.171 speed: 2589 wps\n",
            "Itr 87 of 774, perplexity: 67.941 speed: 2604 wps\n",
            "Itr 164 of 774, perplexity: 66.847 speed: 2625 wps\n",
            "Itr 241 of 774, perplexity: 64.776 speed: 2646 wps\n",
            "Itr 318 of 774, perplexity: 64.911 speed: 2651 wps\n",
            "Itr 395 of 774, perplexity: 63.536 speed: 2657 wps\n",
            "Itr 472 of 774, perplexity: 62.794 speed: 2660 wps\n",
            "Itr 549 of 774, perplexity: 60.874 speed: 2661 wps\n",
            "Itr 626 of 774, perplexity: 59.463 speed: 2666 wps\n",
            "Itr 703 of 774, perplexity: 58.492 speed: 2659 wps\n",
            "Epoch 15 : Train Perplexity: 57.878\n",
            "Epoch 15 : Valid Perplexity: 121.598\n",
            "Test Perplexity: 117.515\n"
          ],
          "name": "stdout"
        }
      ]
    },
    {
      "cell_type": "markdown",
      "metadata": {
        "button": false,
        "deletable": true,
        "new_sheet": false,
        "run_control": {
          "read_only": false
        },
        "id": "loPgZ31fkOjq",
        "colab_type": "text"
      },
      "source": [
        "As you can see, the model's perplexity rating drops very quickly after a few iterations. As was elaborated before, <b>lower Perplexity means that the model is more certain about its prediction</b>. As such, we can be sure that this model is performing well!"
      ]
    },
    {
      "cell_type": "markdown",
      "metadata": {
        "button": false,
        "deletable": true,
        "new_sheet": false,
        "run_control": {
          "read_only": false
        },
        "id": "VRl9JSGHkOjq",
        "colab_type": "text"
      },
      "source": [
        "-------"
      ]
    },
    {
      "cell_type": "markdown",
      "metadata": {
        "button": false,
        "deletable": true,
        "new_sheet": false,
        "run_control": {
          "read_only": false
        },
        "id": "623Mk6dHkOjq",
        "colab_type": "text"
      },
      "source": [
        "This is the end of the <b>Applying Recurrent Neural Networks to Text Processing</b> notebook. Hopefully you now have a better understanding of Recurrent Neural Networks and how to implement one utilizing TensorFlow. Thank you for reading this notebook, and good luck on your studies."
      ]
    },
    {
      "cell_type": "markdown",
      "metadata": {
        "button": false,
        "deletable": true,
        "new_sheet": false,
        "run_control": {
          "read_only": false
        },
        "id": "1_FpK6WSkOjr",
        "colab_type": "text"
      },
      "source": [
        "## Want to learn more?\n",
        "\n",
        "Running deep learning programs usually needs a high performance platform. __PowerAI__ speeds up deep learning and AI. Built on IBM’s Power Systems, __PowerAI__ is a scalable software platform that accelerates deep learning and AI with blazing performance for individual users or enterprises. The __PowerAI__ platform supports popular machine learning libraries and dependencies including TensorFlow, Caffe, Torch, and Theano. You can use [PowerAI on IMB Cloud](https://cocl.us/ML0120EN_PAI).\n",
        "\n",
        "Also, you can use __Watson Studio__ to run these notebooks faster with bigger datasets.__Watson Studio__ is IBM’s leading cloud solution for data scientists, built by data scientists. With Jupyter notebooks, RStudio, Apache Spark and popular libraries pre-packaged in the cloud, __Watson Studio__ enables data scientists to collaborate on their projects without having to install anything. Join the fast-growing community of __Watson Studio__ users today with a free account at [Watson Studio](https://cocl.us/ML0120EN_DSX).This is the end of this lesson. Thank you for reading this notebook, and good luck on your studies."
      ]
    },
    {
      "cell_type": "markdown",
      "metadata": {
        "button": false,
        "deletable": true,
        "new_sheet": false,
        "run_control": {
          "read_only": false
        },
        "id": "2IZhgSE5kOjs",
        "colab_type": "text"
      },
      "source": [
        "### Thanks for completing this lesson!\n",
        "\n",
        "Notebook created by <a href=\"https://br.linkedin.com/in/walter-gomes-de-amorim-junior-624726121\">Walter Gomes de Amorim Junior</a>, <a href = \"https://linkedin.com/in/saeedaghabozorgi\"> Saeed Aghabozorgi </a></h4>"
      ]
    },
    {
      "cell_type": "markdown",
      "metadata": {
        "button": false,
        "deletable": true,
        "new_sheet": false,
        "run_control": {
          "read_only": false
        },
        "id": "yx0DIkntkOjs",
        "colab_type": "text"
      },
      "source": [
        "<hr>\n",
        "\n",
        "Copyright &copy; 2018 [Cognitive Class](https://cocl.us/DX0108EN_CC). This notebook and its source code are released under the terms of the [MIT License](https://bigdatauniversity.com/mit-license/)."
      ]
    }
  ]
}