{
  "nbformat": 4,
  "nbformat_minor": 0,
  "metadata": {
    "kernelspec": {
      "display_name": "Python",
      "language": "python",
      "name": "conda-env-python-py"
    },
    "language_info": {
      "codemirror_mode": {
        "name": "ipython",
        "version": 3
      },
      "file_extension": ".py",
      "mimetype": "text/x-python",
      "name": "python",
      "nbconvert_exporter": "python",
      "pygments_lexer": "ipython3",
      "version": "3.6.7"
    },
    "colab": {
      "name": "4.1.multiple_linear_regression_prediction_v2.ipynb",
      "provenance": [],
      "collapsed_sections": []
    }
  },
  "cells": [
    {
      "cell_type": "markdown",
      "metadata": {
        "id": "haXQKpcIoF5u",
        "colab_type": "text"
      },
      "source": [
        "<a href=\"http://cocl.us/pytorch_link_top\">\n",
        "    <img src=\"https://s3-api.us-geo.objectstorage.softlayer.net/cf-courses-data/CognitiveClass/DL0110EN/notebook_images%20/Pytochtop.png\" width=\"750\" alt=\"IBM Product \" />\n",
        "</a> "
      ]
    },
    {
      "cell_type": "markdown",
      "metadata": {
        "id": "MxJZQB0foF5w",
        "colab_type": "text"
      },
      "source": [
        "<img src=\"https://s3-api.us-geo.objectstorage.softlayer.net/cf-courses-data/CognitiveClass/DL0110EN/notebook_images%20/cc-logo-square.png\" width=\"200\" alt=\"cognitiveclass.ai logo\" />"
      ]
    },
    {
      "cell_type": "markdown",
      "metadata": {
        "id": "QeRAJeyKoF50",
        "colab_type": "text"
      },
      "source": [
        "<h1>Multiple Linear Regression</h1>"
      ]
    },
    {
      "cell_type": "markdown",
      "metadata": {
        "id": "Op_H8Pg-oF52",
        "colab_type": "text"
      },
      "source": [
        "<h2>Table of Contents</h2>\n",
        "<p>In this lab, you will review how to make a prediction in several different ways by using PyTorch.</p>\n",
        "\n",
        "<ul>\n",
        "    <li><a href=\"#Prediction\">Prediction</a></li>\n",
        "    <li><a href=\"#Linear\">Class Linear</a></li>\n",
        "    <li><a href=\"#Cust\">Build Custom Modules</a></li>\n",
        "</ul>\n",
        "\n",
        "<p>Estimated Time Needed: <strong>15 min</strong></p>\n",
        "\n",
        "<hr>"
      ]
    },
    {
      "cell_type": "markdown",
      "metadata": {
        "id": "-z-SRI7XoF53",
        "colab_type": "text"
      },
      "source": [
        "<h2>Preparation</h2>"
      ]
    },
    {
      "cell_type": "markdown",
      "metadata": {
        "id": "gzQIhTOIoF53",
        "colab_type": "text"
      },
      "source": [
        "Import the libraries and set the random seed."
      ]
    },
    {
      "cell_type": "code",
      "metadata": {
        "id": "GpLkYt9EoF54",
        "colab_type": "code",
        "colab": {
          "base_uri": "https://localhost:8080/",
          "height": 35
        },
        "outputId": "6b75ac6f-9956-4de0-c633-66c553e9d1ba"
      },
      "source": [
        "# Import the libraries and set the random seed\n",
        "\n",
        "from torch import nn\n",
        "import torch\n",
        "torch.manual_seed(1)"
      ],
      "execution_count": 17,
      "outputs": [
        {
          "output_type": "execute_result",
          "data": {
            "text/plain": [
              "<torch._C.Generator at 0x7f3b3e6478f0>"
            ]
          },
          "metadata": {
            "tags": []
          },
          "execution_count": 17
        }
      ]
    },
    {
      "cell_type": "markdown",
      "metadata": {
        "id": "S_P7p5x_oF6B",
        "colab_type": "text"
      },
      "source": [
        "<!--Empty Space for separating topics-->"
      ]
    },
    {
      "cell_type": "markdown",
      "metadata": {
        "id": "TVFiJ3fdoF6H",
        "colab_type": "text"
      },
      "source": [
        "<h2 id=\"Prediction\">Prediction</h2>"
      ]
    },
    {
      "cell_type": "markdown",
      "metadata": {
        "id": "omzu0_ksoF6J",
        "colab_type": "text"
      },
      "source": [
        "Set weight and bias."
      ]
    },
    {
      "cell_type": "code",
      "metadata": {
        "id": "A61eB3rsoF6L",
        "colab_type": "code",
        "colab": {}
      },
      "source": [
        "# Set the weight and bias\n",
        "\n",
        "w = torch.tensor([[2.0], [3.0]], requires_grad=True)\n",
        "b = torch.tensor([[1.0]], requires_grad=True)"
      ],
      "execution_count": 0,
      "outputs": []
    },
    {
      "cell_type": "markdown",
      "metadata": {
        "id": "yM9aFltToF6U",
        "colab_type": "text"
      },
      "source": [
        "Define the parameters. <code>torch.mm</code> uses matrix multiplication instead of scaler multiplication."
      ]
    },
    {
      "cell_type": "code",
      "metadata": {
        "id": "M3DutZlioF6W",
        "colab_type": "code",
        "colab": {}
      },
      "source": [
        "# Define Prediction Function\n",
        "\n",
        "def forward(x):\n",
        "    yhat = torch.mm(x, w) + b\n",
        "    return yhat"
      ],
      "execution_count": 0,
      "outputs": []
    },
    {
      "cell_type": "markdown",
      "metadata": {
        "id": "mGxIApbmoF6b",
        "colab_type": "text"
      },
      "source": [
        "The function <code>forward</code> implements the following equation:"
      ]
    },
    {
      "cell_type": "markdown",
      "metadata": {
        "id": "006gqf3doF6c",
        "colab_type": "text"
      },
      "source": [
        "<img src=\"https://s3-api.us-geo.objectstorage.softlayer.net/cf-courses-data/CognitiveClass/DL0110EN/notebook_images%20/chapter2/2.6.1_matrix_eq.png\" width=\"600\" alt=\"Matrix Linear Regression\"/>"
      ]
    },
    {
      "cell_type": "markdown",
      "metadata": {
        "id": "xpDzhfC9oF6d",
        "colab_type": "text"
      },
      "source": [
        "If we input a <i>1x2</i> tensor, because we have a <i>2x1</i> tensor as <code>w</code>, we will get a <i>1x1</i> tensor: "
      ]
    },
    {
      "cell_type": "code",
      "metadata": {
        "id": "TPSNNJbuoF6d",
        "colab_type": "code",
        "colab": {
          "base_uri": "https://localhost:8080/",
          "height": 35
        },
        "outputId": "bb2028ba-3d3a-488e-926c-5a21f036d0b0"
      },
      "source": [
        "# Calculate yhat\n",
        "\n",
        "x = torch.tensor([[1.0, 2.0]])\n",
        "yhat = forward(x)\n",
        "print(\"The result: \", yhat)"
      ],
      "execution_count": 20,
      "outputs": [
        {
          "output_type": "stream",
          "text": [
            "The result:  tensor([[9.]], grad_fn=<AddBackward0>)\n"
          ],
          "name": "stdout"
        }
      ]
    },
    {
      "cell_type": "markdown",
      "metadata": {
        "id": "vXbcrXAloF6o",
        "colab_type": "text"
      },
      "source": [
        "<img src = \"https://s3-api.us-geo.objectstorage.softlayer.net/cf-courses-data/CognitiveClass/DL0110EN/notebook_images%20/chapter2/2.6.1example.png\" width = \"300\" alt=\"Linear Regression Matrix Sample One\" />"
      ]
    },
    {
      "cell_type": "markdown",
      "metadata": {
        "id": "Fwh90WwFoF6q",
        "colab_type": "text"
      },
      "source": [
        "# Each row of the following tensor represents a sample:"
      ]
    },
    {
      "cell_type": "code",
      "metadata": {
        "id": "L7zFBm4doF6q",
        "colab_type": "code",
        "colab": {}
      },
      "source": [
        "# Sample tensor X\n",
        "\n",
        "X = torch.tensor([[1.0, 1.0], [1.0, 2.0], [1.0, 3.0]])"
      ],
      "execution_count": 0,
      "outputs": []
    },
    {
      "cell_type": "code",
      "metadata": {
        "id": "ip6sGBOKoF6z",
        "colab_type": "code",
        "colab": {
          "base_uri": "https://localhost:8080/",
          "height": 69
        },
        "outputId": "42989b90-45de-4762-82b1-57f75393d1c6"
      },
      "source": [
        "# Make the prediction of X \n",
        "\n",
        "yhat = forward(X)\n",
        "print(\"The result: \", yhat)"
      ],
      "execution_count": 22,
      "outputs": [
        {
          "output_type": "stream",
          "text": [
            "The result:  tensor([[ 6.],\n",
            "        [ 9.],\n",
            "        [12.]], grad_fn=<AddBackward0>)\n"
          ],
          "name": "stdout"
        }
      ]
    },
    {
      "cell_type": "markdown",
      "metadata": {
        "id": "h-fg7yePoF68",
        "colab_type": "text"
      },
      "source": [
        "<!--Empty Space for separating topics-->"
      ]
    },
    {
      "cell_type": "markdown",
      "metadata": {
        "id": "Ak2l8F47oF69",
        "colab_type": "text"
      },
      "source": [
        "<h2 id=\"Linear\">Class Linear</h2>"
      ]
    },
    {
      "cell_type": "markdown",
      "metadata": {
        "id": "qdx9deA7oF6-",
        "colab_type": "text"
      },
      "source": [
        "We can use the linear class to make a prediction. You'll also use the linear class to build more complex models."
      ]
    },
    {
      "cell_type": "markdown",
      "metadata": {
        "id": "COlRkzWAoF7A",
        "colab_type": "text"
      },
      "source": [
        "Let us create a model."
      ]
    },
    {
      "cell_type": "code",
      "metadata": {
        "id": "LlPNlVkGoF7B",
        "colab_type": "code",
        "colab": {}
      },
      "source": [
        "# Make a linear regression model using build-in function\n",
        "\n",
        "model = nn.Linear(2, 1)"
      ],
      "execution_count": 0,
      "outputs": []
    },
    {
      "cell_type": "markdown",
      "metadata": {
        "id": "jQQVrFB3oF7G",
        "colab_type": "text"
      },
      "source": [
        "Make a prediction with the first sample:"
      ]
    },
    {
      "cell_type": "code",
      "metadata": {
        "id": "0rhlviatoF7H",
        "colab_type": "code",
        "colab": {
          "base_uri": "https://localhost:8080/",
          "height": 35
        },
        "outputId": "ce362ae9-44c2-4bcf-cf8d-49eef7f37d45"
      },
      "source": [
        "# Make a prediction of x\n",
        "\n",
        "yhat = model(x)\n",
        "print(\"The result: \", yhat)"
      ],
      "execution_count": 24,
      "outputs": [
        {
          "output_type": "stream",
          "text": [
            "The result:  tensor([[-0.3969]], grad_fn=<AddmmBackward>)\n"
          ],
          "name": "stdout"
        }
      ]
    },
    {
      "cell_type": "markdown",
      "metadata": {
        "id": "5WjgEh2goF7N",
        "colab_type": "text"
      },
      "source": [
        "Predict with multiple samples <code>X</code>: "
      ]
    },
    {
      "cell_type": "code",
      "metadata": {
        "id": "N1f4CTd7oF7O",
        "colab_type": "code",
        "colab": {
          "base_uri": "https://localhost:8080/",
          "height": 69
        },
        "outputId": "3883ad5c-a8f2-4c3e-e4bd-4ac70890ae03"
      },
      "source": [
        "# Make a prediction of X\n",
        "\n",
        "yhat = model(X)\n",
        "print(\"The result: \", yhat)"
      ],
      "execution_count": 25,
      "outputs": [
        {
          "output_type": "stream",
          "text": [
            "The result:  tensor([[-0.0848],\n",
            "        [-0.3969],\n",
            "        [-0.7090]], grad_fn=<AddmmBackward>)\n"
          ],
          "name": "stdout"
        }
      ]
    },
    {
      "cell_type": "markdown",
      "metadata": {
        "id": "CD22JRKqoF7W",
        "colab_type": "text"
      },
      "source": [
        "The function performs matrix multiplication as shown in this image:"
      ]
    },
    {
      "cell_type": "markdown",
      "metadata": {
        "id": "c2nWzDyPoF7Y",
        "colab_type": "text"
      },
      "source": [
        "<img src = \"https://s3-api.us-geo.objectstorage.softlayer.net/cf-courses-data/CognitiveClass/DL0110EN/notebook_images%20/chapter2/2.6.1multi_sample_example.png\" width = \"600\" alt=\"Linear Regression Matrix Sample One\" />"
      ]
    },
    {
      "cell_type": "markdown",
      "metadata": {
        "id": "aBaL1Uo0oF7Z",
        "colab_type": "text"
      },
      "source": [
        "<!--Empty Space for separating topics-->"
      ]
    },
    {
      "cell_type": "markdown",
      "metadata": {
        "id": "45v4G-p4oF7a",
        "colab_type": "text"
      },
      "source": [
        "<h2 id=\"Cust\">Build Custom Modules </h2>"
      ]
    },
    {
      "cell_type": "markdown",
      "metadata": {
        "id": "WGOyMZdboF7a",
        "colab_type": "text"
      },
      "source": [
        "Now, you'll build a custom module. You can make more complex models by using this method later. "
      ]
    },
    {
      "cell_type": "code",
      "metadata": {
        "id": "-woNoYIjoF7b",
        "colab_type": "code",
        "colab": {}
      },
      "source": [
        "# Create linear_regression Class\n",
        "\n",
        "class linear_regression(nn.Module):\n",
        "    \n",
        "    # Constructor\n",
        "    def __init__(self, input_size, output_size):\n",
        "        super(linear_regression, self).__init__()\n",
        "        self.linear = nn.Linear(input_size, output_size)\n",
        "    \n",
        "    # Prediction function\n",
        "    def forward(self, x):\n",
        "        yhat = self.linear(x)\n",
        "        return yhat"
      ],
      "execution_count": 0,
      "outputs": []
    },
    {
      "cell_type": "markdown",
      "metadata": {
        "id": "D3Gbac-QoF7f",
        "colab_type": "text"
      },
      "source": [
        "Build a linear regression object. The input feature size is two. "
      ]
    },
    {
      "cell_type": "code",
      "metadata": {
        "id": "AEWOauecoF7f",
        "colab_type": "code",
        "colab": {}
      },
      "source": [
        "model = linear_regression(2, 1)"
      ],
      "execution_count": 0,
      "outputs": []
    },
    {
      "cell_type": "markdown",
      "metadata": {
        "id": "C-JzhlDLoF7k",
        "colab_type": "text"
      },
      "source": [
        "This will input the following equation:"
      ]
    },
    {
      "cell_type": "markdown",
      "metadata": {
        "id": "_TkLJAjfoF7l",
        "colab_type": "text"
      },
      "source": [
        "<img src=\"https://s3-api.us-geo.objectstorage.softlayer.net/cf-courses-data/CognitiveClass/DL0110EN/notebook_images%20/chapter2/2.6.1_matrix_eq.png\" width=\"600\" alt=\"Matrix Linear Regression\" />"
      ]
    },
    {
      "cell_type": "markdown",
      "metadata": {
        "id": "Hh8-Kqu5oF7l",
        "colab_type": "text"
      },
      "source": [
        "You can see the randomly initialized parameters by using the <code>parameters()</code> method:"
      ]
    },
    {
      "cell_type": "code",
      "metadata": {
        "id": "XkEjhSNnoF7m",
        "colab_type": "code",
        "colab": {
          "base_uri": "https://localhost:8080/",
          "height": 69
        },
        "outputId": "fd1e7ac3-a199-43dd-c123-9e5e021d5875"
      },
      "source": [
        "# Print model parameters\n",
        "\n",
        "print(\"The parameters: \", list(model.parameters()))"
      ],
      "execution_count": 28,
      "outputs": [
        {
          "output_type": "stream",
          "text": [
            "The parameters:  [Parameter containing:\n",
            "tensor([[ 0.3319, -0.6657]], requires_grad=True), Parameter containing:\n",
            "tensor([0.4241], requires_grad=True)]\n"
          ],
          "name": "stdout"
        }
      ]
    },
    {
      "cell_type": "markdown",
      "metadata": {
        "id": "aI0J66y9oF7q",
        "colab_type": "text"
      },
      "source": [
        "You can also see the parameters by using the <code>state_dict()</code> method:"
      ]
    },
    {
      "cell_type": "code",
      "metadata": {
        "id": "P2FtgAekoF7r",
        "colab_type": "code",
        "colab": {
          "base_uri": "https://localhost:8080/",
          "height": 35
        },
        "outputId": "dc49f93b-ac00-4467-87b3-e7608d4d6f78"
      },
      "source": [
        "# Print model parameters\n",
        "\n",
        "print(\"The parameters: \", model.state_dict())"
      ],
      "execution_count": 29,
      "outputs": [
        {
          "output_type": "stream",
          "text": [
            "The parameters:  OrderedDict([('linear.weight', tensor([[ 0.3319, -0.6657]])), ('linear.bias', tensor([0.4241]))])\n"
          ],
          "name": "stdout"
        }
      ]
    },
    {
      "cell_type": "markdown",
      "metadata": {
        "id": "Lv1_Zb8WoF7v",
        "colab_type": "text"
      },
      "source": [
        "Now we input a 1x2 tensor, and we will get a 1x1 tensor."
      ]
    },
    {
      "cell_type": "code",
      "metadata": {
        "id": "3MGfuvvgoF7v",
        "colab_type": "code",
        "colab": {
          "base_uri": "https://localhost:8080/",
          "height": 35
        },
        "outputId": "72019b1c-06d3-4bfa-9ad9-0a7a8c8a231d"
      },
      "source": [
        "# Make a prediction of x\n",
        "\n",
        "yhat = model(x)\n",
        "print(\"The result: \", yhat)"
      ],
      "execution_count": 30,
      "outputs": [
        {
          "output_type": "stream",
          "text": [
            "The result:  tensor([[-0.5754]], grad_fn=<AddmmBackward>)\n"
          ],
          "name": "stdout"
        }
      ]
    },
    {
      "cell_type": "markdown",
      "metadata": {
        "id": "9q-PRMTloF7z",
        "colab_type": "text"
      },
      "source": [
        "The shape of the output is shown in the following image: "
      ]
    },
    {
      "cell_type": "markdown",
      "metadata": {
        "id": "5bGi_U2ZoF71",
        "colab_type": "text"
      },
      "source": [
        "<img src=\"https://s3-api.us-geo.objectstorage.softlayer.net/cf-courses-data/CognitiveClass/DL0110EN/notebook_images%20/chapter2/2.6.1_matrix_eq.png\" width=\"600\" alt=\"Matrix Linear Regression\" />"
      ]
    },
    {
      "cell_type": "markdown",
      "metadata": {
        "id": "6NsD3GkAoF72",
        "colab_type": "text"
      },
      "source": [
        "Make a prediction for multiple samples:"
      ]
    },
    {
      "cell_type": "code",
      "metadata": {
        "id": "ovaC9EQ8oF73",
        "colab_type": "code",
        "colab": {
          "base_uri": "https://localhost:8080/",
          "height": 69
        },
        "outputId": "f65dea10-7242-4277-b757-e5ea7e3d962f"
      },
      "source": [
        "# Make a prediction of X\n",
        "\n",
        "yhat = model(X)\n",
        "print(\"The result: \", yhat)"
      ],
      "execution_count": 31,
      "outputs": [
        {
          "output_type": "stream",
          "text": [
            "The result:  tensor([[ 0.0903],\n",
            "        [-0.5754],\n",
            "        [-1.2411]], grad_fn=<AddmmBackward>)\n"
          ],
          "name": "stdout"
        }
      ]
    },
    {
      "cell_type": "markdown",
      "metadata": {
        "id": "d8AkdBFtoF77",
        "colab_type": "text"
      },
      "source": [
        "The shape is shown in the following image: \n"
      ]
    },
    {
      "cell_type": "markdown",
      "metadata": {
        "id": "h0oWGavvoF77",
        "colab_type": "text"
      },
      "source": [
        "<img src=\"https://s3-api.us-geo.objectstorage.softlayer.net/cf-courses-data/CognitiveClass/DL0110EN/notebook_images%20/chapter2/2.6.1Multi_sample.png\" width=\"600\" alt=\"Multiple Samples Linear Regression\" />"
      ]
    },
    {
      "cell_type": "markdown",
      "metadata": {
        "id": "QokqAJE5oF78",
        "colab_type": "text"
      },
      "source": [
        "<!--Empty Space for separating topics-->"
      ]
    },
    {
      "cell_type": "markdown",
      "metadata": {
        "id": "80OGcooaoF78",
        "colab_type": "text"
      },
      "source": [
        "<h3>Practice</h3>"
      ]
    },
    {
      "cell_type": "markdown",
      "metadata": {
        "id": "cZqOn_iioF79",
        "colab_type": "text"
      },
      "source": [
        "Build a model or object of type <code>linear_regression</code>. Using the <code>linear_regression</code> object will predict the following tensor: "
      ]
    },
    {
      "cell_type": "code",
      "metadata": {
        "id": "creTfhv5oF79",
        "colab_type": "code",
        "colab": {
          "base_uri": "https://localhost:8080/",
          "height": 52
        },
        "outputId": "ef01b3d4-794d-456e-eec7-ace216dd065e"
      },
      "source": [
        "# Practice: Build a model to predict the follow tensor.\n",
        "\n",
        "X = torch.tensor([[11.0, 12.0, 13, 14], [11, 12, 13, 14]])\n",
        "\n",
        "model = linear_regression(4, 1)\n",
        "yhat = model(X)\n",
        "print(\"The result: \", yhat)"
      ],
      "execution_count": 32,
      "outputs": [
        {
          "output_type": "stream",
          "text": [
            "The result:  tensor([[2.1062],\n",
            "        [2.1062]], grad_fn=<AddmmBackward>)\n"
          ],
          "name": "stdout"
        }
      ]
    },
    {
      "cell_type": "markdown",
      "metadata": {
        "id": "dC0xZEkroF8L",
        "colab_type": "text"
      },
      "source": [
        "Double-click <b>here</b> for the solution.\n",
        "<!-- Your answer is below:\n",
        "model = linear_regression(4, 1)\n",
        "yhat = model(X)\n",
        "print(\"The result: \", yhat)\n",
        "-->"
      ]
    },
    {
      "cell_type": "markdown",
      "metadata": {
        "id": "rVqme6hvoF8M",
        "colab_type": "text"
      },
      "source": [
        "<!--Empty Space for separating topics-->"
      ]
    },
    {
      "cell_type": "markdown",
      "metadata": {
        "id": "ai3CQSUBoF8N",
        "colab_type": "text"
      },
      "source": [
        "<a href=\"http://cocl.us/pytorch_link_bottom\">\n",
        "    <img src=\"https://s3-api.us-geo.objectstorage.softlayer.net/cf-courses-data/CognitiveClass/DL0110EN/notebook_images%20/notebook_bottom%20.png\" width=\"750\" alt=\"PyTorch Bottom\" />\n",
        "</a>"
      ]
    },
    {
      "cell_type": "markdown",
      "metadata": {
        "id": "OBy2a1MZoF8N",
        "colab_type": "text"
      },
      "source": [
        "<h2>About the Authors:</h2> \n",
        "\n",
        "<a href=\"https://www.linkedin.com/in/joseph-s-50398b136/\">Joseph Santarcangelo</a> has a PhD in Electrical Engineering, his research focused on using machine learning, signal processing, and computer vision to determine how videos impact human cognition. Joseph has been working for IBM since he completed his PhD."
      ]
    },
    {
      "cell_type": "markdown",
      "metadata": {
        "id": "dJ_7sO-9oF8O",
        "colab_type": "text"
      },
      "source": [
        "Other contributors: <a href=\"https://www.linkedin.com/in/michelleccarey/\">Michelle Carey</a>, <a href=\"www.linkedin.com/in/jiahui-mavis-zhou-a4537814a\">Mavis Zhou</a>"
      ]
    },
    {
      "cell_type": "markdown",
      "metadata": {
        "id": "8C3HUK0qoF8O",
        "colab_type": "text"
      },
      "source": [
        "<hr>"
      ]
    },
    {
      "cell_type": "markdown",
      "metadata": {
        "id": "bjwXyEL7oF8P",
        "colab_type": "text"
      },
      "source": [
        "Copyright &copy; 2018 <a href=\"cognitiveclass.ai?utm_source=bducopyrightlink&utm_medium=dswb&utm_campaign=bdu\">cognitiveclass.ai</a>. This notebook and its source code are released under the terms of the <a href=\"https://bigdatauniversity.com/mit-license/\">MIT License</a>."
      ]
    }
  ]
}