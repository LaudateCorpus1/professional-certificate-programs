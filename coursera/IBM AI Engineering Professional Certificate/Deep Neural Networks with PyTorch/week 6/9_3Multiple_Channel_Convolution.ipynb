{
  "nbformat": 4,
  "nbformat_minor": 0,
  "metadata": {
    "kernelspec": {
      "display_name": "Python 3",
      "language": "python",
      "name": "python3"
    },
    "language_info": {
      "codemirror_mode": {
        "name": "ipython",
        "version": 3
      },
      "file_extension": ".py",
      "mimetype": "text/x-python",
      "name": "python",
      "nbconvert_exporter": "python",
      "pygments_lexer": "ipython3",
      "version": "3.6.8"
    },
    "colab": {
      "name": "9.3Multiple Channel Convolution.ipynb",
      "provenance": [],
      "collapsed_sections": [
        "VXkZCMBACcs8"
      ]
    }
  },
  "cells": [
    {
      "cell_type": "markdown",
      "metadata": {
        "id": "E2YCz-jACcp1",
        "colab_type": "text"
      },
      "source": [
        "<a href=\"http://cocl.us/pytorch_link_top\">\n",
        "    <img src=\"https://s3-api.us-geo.objectstorage.softlayer.net/cf-courses-data/CognitiveClass/DL0110EN/notebook_images%20/Pytochtop.png\" width=\"750\" alt=\"IBM Product \" />\n",
        "</a> "
      ]
    },
    {
      "cell_type": "markdown",
      "metadata": {
        "id": "18wa-QUcCcp5",
        "colab_type": "text"
      },
      "source": [
        "<img src=\"https://s3-api.us-geo.objectstorage.softlayer.net/cf-courses-data/CognitiveClass/DL0110EN/notebook_images%20/cc-logo-square.png\" width=\"200\" alt=\"cognitiveclass.ai logo\" />"
      ]
    },
    {
      "cell_type": "markdown",
      "metadata": {
        "id": "JGH9wGTGCcp7",
        "colab_type": "text"
      },
      "source": [
        "\n",
        "# Table of Contents\n",
        "In this lab, you will study convolution and review how the different operations change the relationship between input and output.\n",
        "\n",
        "<div class=\"alert alert-block alert-info\" style=\"margin-top: 20px\">\n",
        "<li><a href=\"#ref0\">Multiple Output Channels </a></li>\n",
        "\n",
        "<li><a href=\"#ref1\">Multiple Inputs</a></li>\n",
        "<li><a href=\"#ref2\">Multiple Input and Multiple Output Channels </a></li>\n",
        "<li><a href=\"#ref3\">Practice Questions </a></li>\n",
        "\n",
        "<br>\n",
        "<p></p>\n",
        "Estimated Time Needed: <strong>25 min</strong>\n",
        "</div>\n",
        "\n",
        "<hr>"
      ]
    },
    {
      "cell_type": "markdown",
      "metadata": {
        "id": "Ksblu39qCcp8",
        "colab_type": "text"
      },
      "source": [
        "Import the following libraries:"
      ]
    },
    {
      "cell_type": "code",
      "metadata": {
        "id": "qDjn05S7Ccp9",
        "colab_type": "code",
        "colab": {}
      },
      "source": [
        "import torch \n",
        "import torch.nn as nn\n",
        "import matplotlib.pyplot as plt\n",
        "import numpy as np\n",
        "from scipy import ndimage, misc"
      ],
      "execution_count": 0,
      "outputs": []
    },
    {
      "cell_type": "markdown",
      "metadata": {
        "id": "gBx6LnhCCcqG",
        "colab_type": "text"
      },
      "source": [
        ""
      ]
    },
    {
      "cell_type": "markdown",
      "metadata": {
        "id": "tzK8oC5ECcqH",
        "colab_type": "text"
      },
      "source": [
        "<a id=\"ref0\"></a>\n",
        "<h2 align=center>Multiple Output Channels </h2>"
      ]
    },
    {
      "cell_type": "markdown",
      "metadata": {
        "id": "GMH18K0RCcqJ",
        "colab_type": "text"
      },
      "source": [
        "In Pytroch, you can create a <code>Conv2d</code> object with multiple outputs. For each channel, a kernel is created, and each kernel performs a convolution independently. As a result, the number of outputs is equal to the number of channels. This is demonstrated in the following figure. The number 9 is convolved with three kernels: each of a different color. There are three different activation maps represented by the different colors."
      ]
    },
    {
      "cell_type": "markdown",
      "metadata": {
        "id": "1sq4_KMFCcqK",
        "colab_type": "text"
      },
      "source": [
        "<img src = \"https://s3-api.us-geo.objectstorage.softlayer.net/cf-courses-data/CognitiveClass/DL0110EN/notebook_images%20/chapter%206/6.1.2activationmaps.png\" width = 750, align = \"center\">"
      ]
    },
    {
      "cell_type": "markdown",
      "metadata": {
        "id": "Ywuvi5ElCcqM",
        "colab_type": "text"
      },
      "source": [
        "Symbolically, this can be represented as follows:"
      ]
    },
    {
      "cell_type": "markdown",
      "metadata": {
        "id": "p3zJ0VCvCcqN",
        "colab_type": "text"
      },
      "source": [
        "<img src = \"https://s3-api.us-geo.objectstorage.softlayer.net/cf-courses-data/CognitiveClass/DL0110EN/notebook_images%20/chapter%206/6.1.2activationmap2.png\" width = 500, align = \"center\">"
      ]
    },
    {
      "cell_type": "markdown",
      "metadata": {
        "id": "Mqp99gq2CcqO",
        "colab_type": "text"
      },
      "source": [
        "Create a <code>Conv2d</code> with three channels:"
      ]
    },
    {
      "cell_type": "code",
      "metadata": {
        "id": "KxhFFOokCcqQ",
        "colab_type": "code",
        "colab": {}
      },
      "source": [
        "conv1 = nn.Conv2d(in_channels=1, out_channels=3,kernel_size=3)"
      ],
      "execution_count": 0,
      "outputs": []
    },
    {
      "cell_type": "markdown",
      "metadata": {
        "id": "y5VzxM--CcqX",
        "colab_type": "text"
      },
      "source": [
        "Pytorch randomly assigns values to each kernel. However, use kernels that have  been developed to detect edges:"
      ]
    },
    {
      "cell_type": "code",
      "metadata": {
        "id": "rHXK3AW4CcqY",
        "colab_type": "code",
        "colab": {}
      },
      "source": [
        "Gx=torch.tensor([[1.0,0,-1.0],[2.0,0,-2.0],[1.0,0.0,-1.0]])\n",
        "Gy=torch.tensor([[1.0,2.0,1.0],[0.0,0.0,0.0],[-1.0,-2.0,-1.0]])\n",
        "\n",
        "conv1.state_dict()['weight'][0][0]=Gx\n",
        "conv1.state_dict()['weight'][1][0]=Gy\n",
        "conv1.state_dict()['weight'][2][0]=torch.ones(3,3)"
      ],
      "execution_count": 0,
      "outputs": []
    },
    {
      "cell_type": "markdown",
      "metadata": {
        "id": "LyGOuypHCcqf",
        "colab_type": "text"
      },
      "source": [
        "Each kernel has its own bias, so set them all to zero:"
      ]
    },
    {
      "cell_type": "code",
      "metadata": {
        "id": "gyYjdN1VCcqh",
        "colab_type": "code",
        "colab": {
          "base_uri": "https://localhost:8080/",
          "height": 35
        },
        "outputId": "c0619546-74fb-4132-e71b-81a72df72fe8"
      },
      "source": [
        "conv1.state_dict()['bias'][:]=torch.tensor([0.0,0.0,0.0])\n",
        "conv1.state_dict()['bias']"
      ],
      "execution_count": 4,
      "outputs": [
        {
          "output_type": "execute_result",
          "data": {
            "text/plain": [
              "tensor([0., 0., 0.])"
            ]
          },
          "metadata": {
            "tags": []
          },
          "execution_count": 4
        }
      ]
    },
    {
      "cell_type": "markdown",
      "metadata": {
        "id": "sw_UxdcWCcqn",
        "colab_type": "text"
      },
      "source": [
        "Print out each kernel: "
      ]
    },
    {
      "cell_type": "code",
      "metadata": {
        "id": "YQwo6jDzCcqp",
        "colab_type": "code",
        "colab": {
          "base_uri": "https://localhost:8080/",
          "height": 173
        },
        "outputId": "37fb6141-e82b-4417-c9ea-eaac2fd1614d"
      },
      "source": [
        "for x in conv1.state_dict()['weight']:\n",
        "    print(x)"
      ],
      "execution_count": 5,
      "outputs": [
        {
          "output_type": "stream",
          "text": [
            "tensor([[[ 1.,  0., -1.],\n",
            "         [ 2.,  0., -2.],\n",
            "         [ 1.,  0., -1.]]])\n",
            "tensor([[[ 1.,  2.,  1.],\n",
            "         [ 0.,  0.,  0.],\n",
            "         [-1., -2., -1.]]])\n",
            "tensor([[[1., 1., 1.],\n",
            "         [1., 1., 1.],\n",
            "         [1., 1., 1.]]])\n"
          ],
          "name": "stdout"
        }
      ]
    },
    {
      "cell_type": "markdown",
      "metadata": {
        "id": "8QkUSF0lCcqu",
        "colab_type": "text"
      },
      "source": [
        "Create an input <code>image</code> to represent the input X:"
      ]
    },
    {
      "cell_type": "code",
      "metadata": {
        "id": "rcPASqCbCcqv",
        "colab_type": "code",
        "colab": {
          "base_uri": "https://localhost:8080/",
          "height": 104
        },
        "outputId": "1631e5e5-8bcd-47a3-b443-22ef04dc37f0"
      },
      "source": [
        "image=torch.zeros(1,1,5,5)\n",
        "image[0,0,:,2]=1\n",
        "image"
      ],
      "execution_count": 6,
      "outputs": [
        {
          "output_type": "execute_result",
          "data": {
            "text/plain": [
              "tensor([[[[0., 0., 1., 0., 0.],\n",
              "          [0., 0., 1., 0., 0.],\n",
              "          [0., 0., 1., 0., 0.],\n",
              "          [0., 0., 1., 0., 0.],\n",
              "          [0., 0., 1., 0., 0.]]]])"
            ]
          },
          "metadata": {
            "tags": []
          },
          "execution_count": 6
        }
      ]
    },
    {
      "cell_type": "markdown",
      "metadata": {
        "id": "VM8z-HsTCcqz",
        "colab_type": "text"
      },
      "source": [
        "Plot it as an image: "
      ]
    },
    {
      "cell_type": "code",
      "metadata": {
        "id": "lk6wR9XfCcq0",
        "colab_type": "code",
        "colab": {
          "base_uri": "https://localhost:8080/",
          "height": 269
        },
        "outputId": "ad01aeb3-f63d-4b6c-f4df-0a54e31d42b3"
      },
      "source": [
        "plt.imshow(image[0,0,:,:].numpy(), interpolation='nearest', cmap=plt.cm.gray)\n",
        "plt.colorbar()\n",
        "plt.show()"
      ],
      "execution_count": 7,
      "outputs": [
        {
          "output_type": "display_data",
          "data": {
            "image/png": "[encoded data removed]",
            "text/plain": [
              "<Figure size 432x288 with 2 Axes>"
            ]
          },
          "metadata": {
            "tags": []
          }
        }
      ]
    },
    {
      "cell_type": "markdown",
      "metadata": {
        "id": "D2Hpd_bvCcq-",
        "colab_type": "text"
      },
      "source": [
        "Perform convolution using each channel: "
      ]
    },
    {
      "cell_type": "code",
      "metadata": {
        "id": "jRmDY-YjCcq_",
        "colab_type": "code",
        "colab": {}
      },
      "source": [
        "out=conv1(image)"
      ],
      "execution_count": 0,
      "outputs": []
    },
    {
      "cell_type": "markdown",
      "metadata": {
        "id": "KURJJSbfCcrH",
        "colab_type": "text"
      },
      "source": [
        "The result is a 1x3x3x3 tensor. This represents one sample with three channels, and each channel contains a 3x3 image.  The same rules that govern the shape of each image were discussed in the last section."
      ]
    },
    {
      "cell_type": "code",
      "metadata": {
        "id": "-B_2t3uWCcrI",
        "colab_type": "code",
        "colab": {
          "base_uri": "https://localhost:8080/",
          "height": 35
        },
        "outputId": "3c61beb5-c558-41be-b917-abd5c7797679"
      },
      "source": [
        "out.shape"
      ],
      "execution_count": 9,
      "outputs": [
        {
          "output_type": "execute_result",
          "data": {
            "text/plain": [
              "torch.Size([1, 3, 3, 3])"
            ]
          },
          "metadata": {
            "tags": []
          },
          "execution_count": 9
        }
      ]
    },
    {
      "cell_type": "markdown",
      "metadata": {
        "id": "F7QYsMA1CcrN",
        "colab_type": "text"
      },
      "source": [
        "Print out each channel as a tensor or an image: "
      ]
    },
    {
      "cell_type": "code",
      "metadata": {
        "id": "L1e5GdlUCcrN",
        "colab_type": "code",
        "colab": {
          "base_uri": "https://localhost:8080/",
          "height": 965
        },
        "outputId": "69f2de06-5509-458c-967c-e32b6b591fc5"
      },
      "source": [
        "for channel,image in enumerate(out[0]):\n",
        "    plt.imshow(image.detach().numpy(), interpolation='nearest', cmap=plt.cm.gray)\n",
        "    print(image)\n",
        "    plt.title(\"channel {}\".format(channel))\n",
        "    plt.colorbar()\n",
        "    plt.show()"
      ],
      "execution_count": 10,
      "outputs": [
        {
          "output_type": "stream",
          "text": [
            "tensor([[-4.,  0.,  4.],\n",
            "        [-4.,  0.,  4.],\n",
            "        [-4.,  0.,  4.]], grad_fn=<SelectBackward>)\n"
          ],
          "name": "stdout"
        },
        {
          "output_type": "display_data",
          "data": {
            "image/png": "[encoded data removed]",
            "text/plain": [
              "<Figure size 432x288 with 2 Axes>"
            ]
          },
          "metadata": {
            "tags": []
          }
        },
        {
          "output_type": "stream",
          "text": [
            "tensor([[0., 0., 0.],\n",
            "        [0., 0., 0.],\n",
            "        [0., 0., 0.]], grad_fn=<SelectBackward>)\n"
          ],
          "name": "stdout"
        },
        {
          "output_type": "display_data",
          "data": {
            "image/png": "[encoded data removed]",
            "text/plain": [
              "<Figure size 432x288 with 2 Axes>"
            ]
          },
          "metadata": {
            "tags": []
          }
        },
        {
          "output_type": "stream",
          "text": [
            "tensor([[3., 3., 3.],\n",
            "        [3., 3., 3.],\n",
            "        [3., 3., 3.]], grad_fn=<SelectBackward>)\n"
          ],
          "name": "stdout"
        },
        {
          "output_type": "display_data",
          "data": {
            "image/png": "[encoded data removed]",
            "text/plain": [
              "<Figure size 432x288 with 2 Axes>"
            ]
          },
          "metadata": {
            "tags": []
          }
        }
      ]
    },
    {
      "cell_type": "markdown",
      "metadata": {
        "id": "OtBSEuJxCcrR",
        "colab_type": "text"
      },
      "source": [
        "Different kernels can be used to detect various features in an image. You can see that the first channel fluctuates, and the second two channels produce a constant value. The following figure summarizes the process:"
      ]
    },
    {
      "cell_type": "markdown",
      "metadata": {
        "id": "0C4TWlhTCcrR",
        "colab_type": "text"
      },
      "source": [
        "<img src = \"https://s3-api.us-geo.objectstorage.softlayer.net/cf-courses-data/CognitiveClass/DL0110EN/notebook_images%20/chapter%206/6.1.2outputsgray.png\" width = 750, align = \"center\">"
      ]
    },
    {
      "cell_type": "markdown",
      "metadata": {
        "id": "wlwCn9QcCcrS",
        "colab_type": "text"
      },
      "source": [
        "If you use a different image, the result will be different: "
      ]
    },
    {
      "cell_type": "code",
      "metadata": {
        "id": "1C8GDhZqCcrT",
        "colab_type": "code",
        "colab": {
          "base_uri": "https://localhost:8080/",
          "height": 352
        },
        "outputId": "dd703a03-8363-4218-fc5b-80f2a629ff5f"
      },
      "source": [
        "image1=torch.zeros(1,1,5,5)\n",
        "image1[0,0,2,:]=1\n",
        "print(image1)\n",
        "plt.imshow(image1[0,0,:,:].detach().numpy(), interpolation='nearest', cmap=plt.cm.gray)\n",
        "plt.show()"
      ],
      "execution_count": 11,
      "outputs": [
        {
          "output_type": "stream",
          "text": [
            "tensor([[[[0., 0., 0., 0., 0.],\n",
            "          [0., 0., 0., 0., 0.],\n",
            "          [1., 1., 1., 1., 1.],\n",
            "          [0., 0., 0., 0., 0.],\n",
            "          [0., 0., 0., 0., 0.]]]])\n"
          ],
          "name": "stdout"
        },
        {
          "output_type": "display_data",
          "data": {
            "image/png": "[encoded data removed]",
            "text/plain": [
              "<Figure size 432x288 with 1 Axes>"
            ]
          },
          "metadata": {
            "tags": []
          }
        }
      ]
    },
    {
      "cell_type": "markdown",
      "metadata": {
        "id": "d-nXbrIrCcrW",
        "colab_type": "text"
      },
      "source": [
        "In this case, the second channel fluctuates, and the first and the third channels produce a constant value."
      ]
    },
    {
      "cell_type": "code",
      "metadata": {
        "id": "XRhdOsxOCcrX",
        "colab_type": "code",
        "colab": {
          "base_uri": "https://localhost:8080/",
          "height": 965
        },
        "outputId": "b455f3bc-59f8-425b-d34c-5f5931e28ee0"
      },
      "source": [
        "out1=conv1(image1)\n",
        "for channel,image in enumerate(out1[0]):\n",
        "    plt.imshow(image.detach().numpy(), interpolation='nearest', cmap=plt.cm.gray)\n",
        "    print(image)\n",
        "    plt.title(\"channel {}\".format(channel))\n",
        "    plt.colorbar()\n",
        "    plt.show()"
      ],
      "execution_count": 12,
      "outputs": [
        {
          "output_type": "stream",
          "text": [
            "tensor([[0., 0., 0.],\n",
            "        [0., 0., 0.],\n",
            "        [0., 0., 0.]], grad_fn=<SelectBackward>)\n"
          ],
          "name": "stdout"
        },
        {
          "output_type": "display_data",
          "data": {
            "image/png": "[encoded data removed]",
            "text/plain": [
              "<Figure size 432x288 with 2 Axes>"
            ]
          },
          "metadata": {
            "tags": []
          }
        },
        {
          "output_type": "stream",
          "text": [
            "tensor([[-4., -4., -4.],\n",
            "        [ 0.,  0.,  0.],\n",
            "        [ 4.,  4.,  4.]], grad_fn=<SelectBackward>)\n"
          ],
          "name": "stdout"
        },
        {
          "output_type": "display_data",
          "data": {
            "image/png": "[encoded data removed]",
            "text/plain": [
              "<Figure size 432x288 with 2 Axes>"
            ]
          },
          "metadata": {
            "tags": []
          }
        },
        {
          "output_type": "stream",
          "text": [
            "tensor([[3., 3., 3.],\n",
            "        [3., 3., 3.],\n",
            "        [3., 3., 3.]], grad_fn=<SelectBackward>)\n"
          ],
          "name": "stdout"
        },
        {
          "output_type": "display_data",
          "data": {
            "image/png": "[encoded data removed]",
            "text/plain": [
              "<Figure size 432x288 with 2 Axes>"
            ]
          },
          "metadata": {
            "tags": []
          }
        }
      ]
    },
    {
      "cell_type": "markdown",
      "metadata": {
        "id": "Iq4-WaK3Ccrj",
        "colab_type": "text"
      },
      "source": [
        "The following figure summarizes the process:"
      ]
    },
    {
      "cell_type": "markdown",
      "metadata": {
        "id": "cZMAbiQZCcrk",
        "colab_type": "text"
      },
      "source": [
        "<img src = \"https://s3-api.us-geo.objectstorage.softlayer.net/cf-courses-data/CognitiveClass/DL0110EN/notebook_images%20/chapter%206/6.1.2ouputsgray2.png\" width = 750, align = \"center\">"
      ]
    },
    {
      "cell_type": "markdown",
      "metadata": {
        "id": "KuFYRuPlCcrl",
        "colab_type": "text"
      },
      "source": [
        "<a id=\"ref1\"></a>\n",
        "<h2 align=center>Multiple Input Channels </h2>"
      ]
    },
    {
      "cell_type": "markdown",
      "metadata": {
        "id": "zAFZPkxZCcrm",
        "colab_type": "text"
      },
      "source": [
        "For two inputs, you can create two kernels. Each kernel performs a convolution on its associated input channel. The resulting output is added together as shown:  "
      ]
    },
    {
      "cell_type": "markdown",
      "metadata": {
        "id": "OZBNxihaCcrn",
        "colab_type": "text"
      },
      "source": [
        "<img src = \"https://s3-api.us-geo.objectstorage.softlayer.net/cf-courses-data/CognitiveClass/DL0110EN/notebook_images%20/chapter%206/6.1.22chanalsinput.png\" width = 750, align = \"center\">"
      ]
    },
    {
      "cell_type": "markdown",
      "metadata": {
        "id": "nnwzZtqGCcrp",
        "colab_type": "text"
      },
      "source": [
        "Create an input with two channels:"
      ]
    },
    {
      "cell_type": "code",
      "metadata": {
        "id": "ORW1moOZCcrq",
        "colab_type": "code",
        "colab": {
          "base_uri": "https://localhost:8080/",
          "height": 208
        },
        "outputId": "9cad8191-589e-4158-b192-02eb3b30b386"
      },
      "source": [
        "image2=torch.zeros(1,2,5,5)\n",
        "image2[0,0,2,:]=-2\n",
        "image2[0,1,2,:]=1\n",
        "image2"
      ],
      "execution_count": 13,
      "outputs": [
        {
          "output_type": "execute_result",
          "data": {
            "text/plain": [
              "tensor([[[[ 0.,  0.,  0.,  0.,  0.],\n",
              "          [ 0.,  0.,  0.,  0.,  0.],\n",
              "          [-2., -2., -2., -2., -2.],\n",
              "          [ 0.,  0.,  0.,  0.,  0.],\n",
              "          [ 0.,  0.,  0.,  0.,  0.]],\n",
              "\n",
              "         [[ 0.,  0.,  0.,  0.,  0.],\n",
              "          [ 0.,  0.,  0.,  0.,  0.],\n",
              "          [ 1.,  1.,  1.,  1.,  1.],\n",
              "          [ 0.,  0.,  0.,  0.,  0.],\n",
              "          [ 0.,  0.,  0.,  0.,  0.]]]])"
            ]
          },
          "metadata": {
            "tags": []
          },
          "execution_count": 13
        }
      ]
    },
    {
      "cell_type": "markdown",
      "metadata": {
        "id": "p6pZGEFICcrx",
        "colab_type": "text"
      },
      "source": [
        "Plot out each image: "
      ]
    },
    {
      "cell_type": "code",
      "metadata": {
        "id": "vFQGXB1NCcrz",
        "colab_type": "code",
        "colab": {
          "base_uri": "https://localhost:8080/",
          "height": 719
        },
        "outputId": "1bb003d1-4272-47ee-b013-d360ebd42ea8"
      },
      "source": [
        "for channel,image in enumerate(image2[0]):\n",
        "    plt.imshow(image.detach().numpy(), interpolation='nearest', cmap=plt.cm.gray)\n",
        "    print(image)\n",
        "    plt.title(\"channel {}\".format(channel))\n",
        "    plt.colorbar()\n",
        "    plt.show()"
      ],
      "execution_count": 14,
      "outputs": [
        {
          "output_type": "stream",
          "text": [
            "tensor([[ 0.,  0.,  0.,  0.,  0.],\n",
            "        [ 0.,  0.,  0.,  0.,  0.],\n",
            "        [-2., -2., -2., -2., -2.],\n",
            "        [ 0.,  0.,  0.,  0.,  0.],\n",
            "        [ 0.,  0.,  0.,  0.,  0.]])\n"
          ],
          "name": "stdout"
        },
        {
          "output_type": "display_data",
          "data": {
            "image/png": "[encoded data removed]",
            "text/plain": [
              "<Figure size 432x288 with 2 Axes>"
            ]
          },
          "metadata": {
            "tags": []
          }
        },
        {
          "output_type": "stream",
          "text": [
            "tensor([[0., 0., 0., 0., 0.],\n",
            "        [0., 0., 0., 0., 0.],\n",
            "        [1., 1., 1., 1., 1.],\n",
            "        [0., 0., 0., 0., 0.],\n",
            "        [0., 0., 0., 0., 0.]])\n"
          ],
          "name": "stdout"
        },
        {
          "output_type": "display_data",
          "data": {
            "image/png": "[encoded data removed]",
            "text/plain": [
              "<Figure size 432x288 with 2 Axes>"
            ]
          },
          "metadata": {
            "tags": []
          }
        }
      ]
    },
    {
      "cell_type": "markdown",
      "metadata": {
        "id": "9jPSbrK4Ccr4",
        "colab_type": "text"
      },
      "source": [
        "Create a <code>Conv2d</code> object with two inputs:"
      ]
    },
    {
      "cell_type": "code",
      "metadata": {
        "id": "6T0kBKOwCcr6",
        "colab_type": "code",
        "colab": {}
      },
      "source": [
        "conv3 = nn.Conv2d(in_channels=2, out_channels=1,kernel_size=3)"
      ],
      "execution_count": 0,
      "outputs": []
    },
    {
      "cell_type": "markdown",
      "metadata": {
        "id": "vUEF9m-BCcsD",
        "colab_type": "text"
      },
      "source": [
        "Assign kernel values to make the math a little easier: "
      ]
    },
    {
      "cell_type": "code",
      "metadata": {
        "id": "HpkU2ZvaCcsE",
        "colab_type": "code",
        "colab": {}
      },
      "source": [
        "Gx1=torch.tensor([[0.0,0.0,0.0],[0,1.0,0],[0.0,0.0,0.0]])\n",
        "conv3.state_dict()['weight'][0][0]=1*Gx1\n",
        "conv3.state_dict()['weight'][0][1]=-2*Gx1\n",
        "conv3.state_dict()['bias'][:]=torch.tensor([0.0])"
      ],
      "execution_count": 0,
      "outputs": []
    },
    {
      "cell_type": "code",
      "metadata": {
        "id": "yYJlSsrbCcsI",
        "colab_type": "code",
        "colab": {
          "base_uri": "https://localhost:8080/",
          "height": 139
        },
        "outputId": "7323d8d3-8cee-4a7f-a8a3-7242dd245d34"
      },
      "source": [
        "conv3.state_dict()['weight']"
      ],
      "execution_count": 17,
      "outputs": [
        {
          "output_type": "execute_result",
          "data": {
            "text/plain": [
              "tensor([[[[ 0.,  0.,  0.],\n",
              "          [ 0.,  1.,  0.],\n",
              "          [ 0.,  0.,  0.]],\n",
              "\n",
              "         [[-0., -0., -0.],\n",
              "          [-0., -2., -0.],\n",
              "          [-0., -0., -0.]]]])"
            ]
          },
          "metadata": {
            "tags": []
          },
          "execution_count": 17
        }
      ]
    },
    {
      "cell_type": "markdown",
      "metadata": {
        "id": "_UPn70DWCcsM",
        "colab_type": "text"
      },
      "source": [
        "Perform the convolution:"
      ]
    },
    {
      "cell_type": "code",
      "metadata": {
        "id": "6vttihhoCcsN",
        "colab_type": "code",
        "colab": {
          "base_uri": "https://localhost:8080/",
          "height": 69
        },
        "outputId": "697ec6f4-a676-45ea-b66d-daf075a45c41"
      },
      "source": [
        "conv3(image2)"
      ],
      "execution_count": 18,
      "outputs": [
        {
          "output_type": "execute_result",
          "data": {
            "text/plain": [
              "tensor([[[[ 0.,  0.,  0.],\n",
              "          [-4., -4., -4.],\n",
              "          [ 0.,  0.,  0.]]]], grad_fn=<MkldnnConvolutionBackward>)"
            ]
          },
          "metadata": {
            "tags": []
          },
          "execution_count": 18
        }
      ]
    },
    {
      "cell_type": "markdown",
      "metadata": {
        "id": "goRfTW4ZCcsT",
        "colab_type": "text"
      },
      "source": [
        "The following images summarize the process. The object performs Convolution."
      ]
    },
    {
      "cell_type": "markdown",
      "metadata": {
        "id": "XkcdNylfCcsU",
        "colab_type": "text"
      },
      "source": [
        "<img src = \"https://s3-api.us-geo.objectstorage.softlayer.net/cf-courses-data/CognitiveClass/DL0110EN/notebook_images%20/chapter%206/6.1.2_two_channal_example.png\" width = 750, align = \"center\">"
      ]
    },
    {
      "cell_type": "markdown",
      "metadata": {
        "id": "bNkpjl8ICcsV",
        "colab_type": "text"
      },
      "source": [
        "Then, it adds the result: "
      ]
    },
    {
      "cell_type": "markdown",
      "metadata": {
        "id": "_AZJlI8ICcsV",
        "colab_type": "text"
      },
      "source": [
        "<img src = \"https://s3-api.us-geo.objectstorage.softlayer.net/cf-courses-data/CognitiveClass/DL0110EN/notebook_images%20/chapter%206/6.1.2_two_channal_example2.png\" width = 750, align = \"center\">"
      ]
    },
    {
      "cell_type": "markdown",
      "metadata": {
        "id": "S1uk5bo9CcsW",
        "colab_type": "text"
      },
      "source": [
        "<a id=\"ref2\"></a>\n",
        "\n",
        "<h2>Multiple Input and Multiple Output Channels</h2>\n"
      ]
    },
    {
      "cell_type": "markdown",
      "metadata": {
        "id": "qi2a4RhVCcsX",
        "colab_type": "text"
      },
      "source": [
        "When using multiple inputs and outputs, a kernel is created for each input, and the process is repeated for each output. The process is summarized in the following image. \n",
        "\n",
        "There are two input channels and 3 output channels. For each channel, the input in red and purple is convolved with an individual kernel that is colored differently. As a result, there are three outputs. "
      ]
    },
    {
      "cell_type": "markdown",
      "metadata": {
        "id": "1pfs0yEhCcsY",
        "colab_type": "text"
      },
      "source": [
        "<img src = \"https://s3-api.us-geo.objectstorage.softlayer.net/cf-courses-data/CognitiveClass/DL0110EN/notebook_images%20/chapter%206/6.1.2mulit_input_output.png\" width = 750, align = \"center\">"
      ]
    },
    {
      "cell_type": "markdown",
      "metadata": {
        "id": "bbAodyGLCcsY",
        "colab_type": "text"
      },
      "source": [
        "Create an example with two inputs and three outputs and assign the kernel values to make the math a little easier: "
      ]
    },
    {
      "cell_type": "code",
      "metadata": {
        "id": "d_ytJDiACcsZ",
        "colab_type": "code",
        "colab": {}
      },
      "source": [
        "conv4 = nn.Conv2d(in_channels=2, out_channels=3,kernel_size=3)\n",
        "conv4.state_dict()['weight'][0][0]=torch.tensor([[0.0,0.0,0.0],[0,0.5,0],[0.0,0.0,0.0]])\n",
        "conv4.state_dict()['weight'][0][1]=torch.tensor([[0.0,0.0,0.0],[0,0.5,0],[0.0,0.0,0.0]])\n",
        "\n",
        "\n",
        "conv4.state_dict()['weight'][1][0]=torch.tensor([[0.0,0.0,0.0],[0,1,0],[0.0,0.0,0.0]])\n",
        "conv4.state_dict()['weight'][1][1]=torch.tensor([[0.0,0.0,0.0],[0,-1,0],[0.0,0.0,0.0]])\n",
        "\n",
        "conv4.state_dict()['weight'][2][0]=torch.tensor([[1.0,0,-1.0],[2.0,0,-2.0],[1.0,0.0,-1.0]])\n",
        "conv4.state_dict()['weight'][2][1]=torch.tensor([[1.0,2.0,1.0],[0.0,0.0,0.0],[-1.0,-2.0,-1.0]])"
      ],
      "execution_count": 0,
      "outputs": []
    },
    {
      "cell_type": "markdown",
      "metadata": {
        "id": "rLA4oFFpCcsf",
        "colab_type": "text"
      },
      "source": [
        "For each output, there is a bias, so set them all to zero: "
      ]
    },
    {
      "cell_type": "code",
      "metadata": {
        "id": "NiXNOTIiCcsh",
        "colab_type": "code",
        "colab": {}
      },
      "source": [
        "conv4.state_dict()['bias'][:]=torch.tensor([0.0,0.0,0.0])"
      ],
      "execution_count": 0,
      "outputs": []
    },
    {
      "cell_type": "markdown",
      "metadata": {
        "id": "TbYtwTkUCcsl",
        "colab_type": "text"
      },
      "source": [
        "Create a two-channel image and plot the results: "
      ]
    },
    {
      "cell_type": "code",
      "metadata": {
        "id": "33MvIn1OCcsl",
        "colab_type": "code",
        "colab": {
          "base_uri": "https://localhost:8080/",
          "height": 719
        },
        "outputId": "fb234dc6-39b4-4cdc-a87e-7b19f767e964"
      },
      "source": [
        "image4=torch.zeros(1,2,5,5)\n",
        "image4[0][0]=torch.ones(5,5)\n",
        "image4[0][1][2][2]=1\n",
        "for channel,image in enumerate(image4[0]):\n",
        "    plt.imshow(image.detach().numpy(), interpolation='nearest', cmap=plt.cm.gray)\n",
        "    print(image)\n",
        "    plt.title(\"channel {}\".format(channel))\n",
        "    plt.colorbar()\n",
        "    plt.show()"
      ],
      "execution_count": 21,
      "outputs": [
        {
          "output_type": "stream",
          "text": [
            "tensor([[1., 1., 1., 1., 1.],\n",
            "        [1., 1., 1., 1., 1.],\n",
            "        [1., 1., 1., 1., 1.],\n",
            "        [1., 1., 1., 1., 1.],\n",
            "        [1., 1., 1., 1., 1.]])\n"
          ],
          "name": "stdout"
        },
        {
          "output_type": "display_data",
          "data": {
            "image/png": "[encoded data removed]",
            "text/plain": [
              "<Figure size 432x288 with 2 Axes>"
            ]
          },
          "metadata": {
            "tags": []
          }
        },
        {
          "output_type": "stream",
          "text": [
            "tensor([[0., 0., 0., 0., 0.],\n",
            "        [0., 0., 0., 0., 0.],\n",
            "        [0., 0., 1., 0., 0.],\n",
            "        [0., 0., 0., 0., 0.],\n",
            "        [0., 0., 0., 0., 0.]])\n"
          ],
          "name": "stdout"
        },
        {
          "output_type": "display_data",
          "data": {
            "image/png": "[encoded data removed]",
            "text/plain": [
              "<Figure size 432x288 with 2 Axes>"
            ]
          },
          "metadata": {
            "tags": []
          }
        }
      ]
    },
    {
      "cell_type": "markdown",
      "metadata": {
        "id": "XS9DmpkVCcsq",
        "colab_type": "text"
      },
      "source": [
        "Perform the convolution:"
      ]
    },
    {
      "cell_type": "code",
      "metadata": {
        "id": "SRQJuajMCcsr",
        "colab_type": "code",
        "colab": {
          "base_uri": "https://localhost:8080/",
          "height": 208
        },
        "outputId": "577e9c59-096b-4108-c419-60df4701a09c"
      },
      "source": [
        "z=conv4(image4)\n",
        "z"
      ],
      "execution_count": 22,
      "outputs": [
        {
          "output_type": "execute_result",
          "data": {
            "text/plain": [
              "tensor([[[[ 0.5000,  0.5000,  0.5000],\n",
              "          [ 0.5000,  1.0000,  0.5000],\n",
              "          [ 0.5000,  0.5000,  0.5000]],\n",
              "\n",
              "         [[ 1.0000,  1.0000,  1.0000],\n",
              "          [ 1.0000,  0.0000,  1.0000],\n",
              "          [ 1.0000,  1.0000,  1.0000]],\n",
              "\n",
              "         [[-1.0000, -2.0000, -1.0000],\n",
              "          [ 0.0000,  0.0000,  0.0000],\n",
              "          [ 1.0000,  2.0000,  1.0000]]]], grad_fn=<MkldnnConvolutionBackward>)"
            ]
          },
          "metadata": {
            "tags": []
          },
          "execution_count": 22
        }
      ]
    },
    {
      "cell_type": "markdown",
      "metadata": {
        "id": "rddwxD7BCcsw",
        "colab_type": "text"
      },
      "source": [
        "The output of the first channel is given by: "
      ]
    },
    {
      "cell_type": "markdown",
      "metadata": {
        "id": "PnlTnlKACcsx",
        "colab_type": "text"
      },
      "source": [
        "<img src = \"https://s3-api.us-geo.objectstorage.softlayer.net/cf-courses-data/CognitiveClass/DL0110EN/notebook_images%20/chapter%206/6.1.2_%20multi_channel_1.png\" width = 750, align = \"center\">"
      ]
    },
    {
      "cell_type": "markdown",
      "metadata": {
        "id": "fcsi6cC0Ccsy",
        "colab_type": "text"
      },
      "source": [
        "The output of the second channel is given by:"
      ]
    },
    {
      "cell_type": "markdown",
      "metadata": {
        "id": "nBfs-D39Ccsz",
        "colab_type": "text"
      },
      "source": [
        "<img src = \"https://s3-api.us-geo.objectstorage.softlayer.net/cf-courses-data/CognitiveClass/DL0110EN/notebook_images%20/chapter%206/6.1.2_%20multi_channel_2.png\" width = 750, align = \"center\">"
      ]
    },
    {
      "cell_type": "markdown",
      "metadata": {
        "id": "MgVbNX-DCcsz",
        "colab_type": "text"
      },
      "source": [
        "The output of the third channel is given by: "
      ]
    },
    {
      "cell_type": "markdown",
      "metadata": {
        "id": "av5d8uPnCcs0",
        "colab_type": "text"
      },
      "source": [
        "<img src = \"https://s3-api.us-geo.objectstorage.softlayer.net/cf-courses-data/CognitiveClass/DL0110EN/notebook_images%20/chapter%206/6.1.2_%20multi_channel_3.png\" width = 750, align = \"center\">"
      ]
    },
    {
      "cell_type": "markdown",
      "metadata": {
        "id": "H1AkUxDYCcs0",
        "colab_type": "text"
      },
      "source": [
        "<a id=\"ref3\"></a>\n",
        "\n",
        "<h2>Practice Questions </h2>"
      ]
    },
    {
      "cell_type": "markdown",
      "metadata": {
        "id": "1Jk2c8I6Ccs1",
        "colab_type": "text"
      },
      "source": [
        "Use the following two convolution objects to produce the same result as two input channel convolution on imageA and imageB as shown in the following image:"
      ]
    },
    {
      "cell_type": "code",
      "metadata": {
        "id": "NlqIkgcvCcs1",
        "colab_type": "code",
        "colab": {}
      },
      "source": [
        "imageA=torch.zeros(1,1,5,5)\n",
        "imageB=torch.zeros(1,1,5,5)\n",
        "imageA[0,0,2,:]=-2\n",
        "imageB[0,0,2,:]=1\n",
        "\n",
        "\n",
        "conv5 = nn.Conv2d(in_channels=1, out_channels=1,kernel_size=3)\n",
        "conv6 = nn.Conv2d(in_channels=1, out_channels=1,kernel_size=3)\n",
        "\n",
        "\n",
        "Gx1=torch.tensor([[0.0,0.0,0.0],[0,1.0,0],[0.0,0.0,0.0]])\n",
        "conv5.state_dict()['weight'][0][0]=1*Gx1\n",
        "conv6.state_dict()['weight'][0][0]=-2*Gx1\n",
        "conv5.state_dict()['bias'][:]=torch.tensor([0.0])\n",
        "conv6.state_dict()['bias'][:]=torch.tensor([0.0])"
      ],
      "execution_count": 0,
      "outputs": []
    },
    {
      "cell_type": "markdown",
      "metadata": {
        "id": "IjpSRDVnCcs4",
        "colab_type": "text"
      },
      "source": [
        "<img src = \"https://s3-api.us-geo.objectstorage.softlayer.net/cf-courses-data/CognitiveClass/DL0110EN/notebook_images%20/chapter%206/6.1.2Practice%20Questions_1.png\" width = 750, align = \"center\">"
      ]
    },
    {
      "cell_type": "markdown",
      "metadata": {
        "id": "_CPiXcq_Ccs5",
        "colab_type": "text"
      },
      "source": [
        "<img src = \"https://s3-api.us-geo.objectstorage.softlayer.net/cf-courses-data/CognitiveClass/DL0110EN/notebook_images%20/chapter%206/6.1.2Practice%20Questions_2.png\" width = 750, align = \"center\">"
      ]
    },
    {
      "cell_type": "code",
      "metadata": {
        "id": "x_G1JOZZNkb9",
        "colab_type": "code",
        "colab": {
          "base_uri": "https://localhost:8080/",
          "height": 69
        },
        "outputId": "d0245b0e-1041-4c73-c526-3eff1aac5670"
      },
      "source": [
        "conv5(imageA)+conv6(imageB)"
      ],
      "execution_count": 24,
      "outputs": [
        {
          "output_type": "execute_result",
          "data": {
            "text/plain": [
              "tensor([[[[ 0.,  0.,  0.],\n",
              "          [-4., -4., -4.],\n",
              "          [ 0.,  0.,  0.]]]], grad_fn=<AddBackward0>)"
            ]
          },
          "metadata": {
            "tags": []
          },
          "execution_count": 24
        }
      ]
    },
    {
      "cell_type": "markdown",
      "metadata": {
        "id": "q2s7GbZmCcs5",
        "colab_type": "text"
      },
      "source": [
        "Double-click __here__ for the solution.\n",
        "\n",
        "<!-- Your answer is below:\n",
        "conv5(imageA)+conv6(imageB)\n",
        "-->\n",
        "\n",
        "\n"
      ]
    },
    {
      "cell_type": "markdown",
      "metadata": {
        "id": "asINqflOCcs6",
        "colab_type": "text"
      },
      "source": [
        "<a href=\"http://cocl.us/pytorch_link_bottom\">\n",
        "    <img src=\"https://s3-api.us-geo.objectstorage.softlayer.net/cf-courses-data/CognitiveClass/DL0110EN/notebook_images%20/notebook_bottom%20.png\" width=\"750\" alt=\"PyTorch Bottom\" />\n",
        "</a>"
      ]
    },
    {
      "cell_type": "markdown",
      "metadata": {
        "id": "VXkZCMBACcs8",
        "colab_type": "text"
      },
      "source": [
        "### About the Authors:  \n",
        "[Joseph Santarcangelo]( https://www.linkedin.com/in/joseph-s-50398b136/) has a PhD in Electrical Engineering. His research focused on using machine learning, signal processing, and computer vision to determine how videos impact human cognition. \n",
        "\n",
        "Other contributors: [Michelle Carey](  https://www.linkedin.com/in/michelleccarey/), [Mavis Zhou](  https://www.linkedin.com/in/jiahui-mavis-zhou-a4537814a/) "
      ]
    },
    {
      "cell_type": "markdown",
      "metadata": {
        "id": "aGGIH7RTCcs8",
        "colab_type": "text"
      },
      "source": [
        "<hr>"
      ]
    },
    {
      "cell_type": "markdown",
      "metadata": {
        "id": "09GCyT_4Ccs_",
        "colab_type": "text"
      },
      "source": [
        "Copyright &copy; 2018 [cognitiveclass.ai](cognitiveclass.ai?utm_source=bducopyrightlink&utm_medium=dswb&utm_campaign=bdu). This notebook and its source code are released under the terms of the [MIT License](https://bigdatauniversity.com/mit-license/)."
      ]
    }
  ]
}