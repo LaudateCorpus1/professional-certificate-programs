{
  "nbformat": 4,
  "nbformat_minor": 0,
  "metadata": {
    "kernelspec": {
      "display_name": "Python 3",
      "language": "python",
      "name": "python3"
    },
    "language_info": {
      "codemirror_mode": {
        "name": "ipython",
        "version": 3
      },
      "file_extension": ".py",
      "mimetype": "text/x-python",
      "name": "python",
      "nbconvert_exporter": "python",
      "pygments_lexer": "ipython3",
      "version": "3.6.8"
    },
    "colab": {
      "name": "9.4.1ConvolutionalNeralNetworkSimple example.ipynb",
      "provenance": [],
      "collapsed_sections": []
    }
  },
  "cells": [
    {
      "cell_type": "markdown",
      "metadata": {
        "id": "ZYfJrMnAODkm",
        "colab_type": "text"
      },
      "source": [
        "<div class=\"alert alert-block alert-info\" style=\"margin-top: 20px\">\n",
        " <a href=\"http://cocl.us/pytorch_link_top\"><img src = \"http://cocl.us/Pytorch_top\" width = 950, align = \"center\">"
      ]
    },
    {
      "cell_type": "markdown",
      "metadata": {
        "id": "uoELLK6_ODkp",
        "colab_type": "text"
      },
      "source": [
        "<img src = \"https://ibm.box.com/shared/static/ugcqz6ohbvff804xp84y4kqnvvk3bq1g.png\" width = 200, align = \"center\">\n",
        "\n",
        "\n",
        "<h1 align=center><font size = 5>Convolutional Neral Network Simple example </font></h1> "
      ]
    },
    {
      "cell_type": "markdown",
      "metadata": {
        "id": "4ql76oG_ODkq",
        "colab_type": "text"
      },
      "source": [
        "\n",
        "# Table of Contents\n",
        "In this lab, we will use a Convolutional Neral Networks to classify horizontal an vertical Lines \n",
        "\n",
        "<div class=\"alert alert-block alert-info\" style=\"margin-top: 20px\">\n",
        "<li><a href=\"#ref0\">Helper functions </a></li>\n",
        "\n",
        "<li><a href=\"#ref1\"> Prepare Data </a></li>\n",
        "<li><a href=\"#ref2\">Convolutional Neral Network </a></li>\n",
        "<li><a href=\"#ref3\">Define Softmax , Criterion function, Optimizer and Train the  Model</a></li>\n",
        "<li><a href=\"#ref4\">Analyse Results</a></li>\n",
        "\n",
        "<br>\n",
        "<p></p>\n",
        "Estimated Time Needed: <strong>25 min</strong>\n",
        "</div>\n",
        "\n",
        "<hr>"
      ]
    },
    {
      "cell_type": "markdown",
      "metadata": {
        "id": "5KDq4TvbODkr",
        "colab_type": "text"
      },
      "source": [
        "<a id=\"ref0\"></a>\n",
        "<h2 align=center>Helper functions </h2>"
      ]
    },
    {
      "cell_type": "code",
      "metadata": {
        "id": "RYkZ-FztODks",
        "colab_type": "code",
        "colab": {}
      },
      "source": [
        "import torch \n",
        "import torch.nn as nn\n",
        "import torchvision.transforms as transforms\n",
        "import torchvision.datasets as dsets\n",
        "import matplotlib.pylab as plt\n",
        "import numpy as np\n",
        "import pandas as pd"
      ],
      "execution_count": 0,
      "outputs": []
    },
    {
      "cell_type": "code",
      "metadata": {
        "id": "6zh4PCRkODkz",
        "colab_type": "code",
        "colab": {
          "base_uri": "https://localhost:8080/",
          "height": 35
        },
        "outputId": "69135037-21fa-4457-8510-af5a0dddbd15"
      },
      "source": [
        "torch.manual_seed(4)"
      ],
      "execution_count": 2,
      "outputs": [
        {
          "output_type": "execute_result",
          "data": {
            "text/plain": [
              "<torch._C.Generator at 0x7fe1c1c0d5b0>"
            ]
          },
          "metadata": {
            "tags": []
          },
          "execution_count": 2
        }
      ]
    },
    {
      "cell_type": "markdown",
      "metadata": {
        "id": "NhfoTjQqODk5",
        "colab_type": "text"
      },
      "source": [
        "function to plot out the parameters of the Convolutional layers  "
      ]
    },
    {
      "cell_type": "code",
      "metadata": {
        "id": "cWhs-4W2ODk6",
        "colab_type": "code",
        "colab": {}
      },
      "source": [
        "def plot_channels(W):\n",
        "    #number of output channels \n",
        "    n_out=W.shape[0]\n",
        "    #number of input channels \n",
        "    n_in=W.shape[1]\n",
        "    w_min=W.min().item()\n",
        "    w_max=W.max().item()\n",
        "    fig, axes = plt.subplots(n_out,n_in)\n",
        "    fig.subplots_adjust(hspace = 0.1)\n",
        "    out_index=0\n",
        "    in_index=0\n",
        "    #plot outputs as rows inputs as columns \n",
        "    for ax in axes.flat:\n",
        "    \n",
        "        if in_index>n_in-1:\n",
        "            out_index=out_index+1\n",
        "            in_index=0\n",
        "              \n",
        "        ax.imshow(W[out_index,in_index,:,:], vmin=w_min, vmax=w_max, cmap='seismic')\n",
        "        ax.set_yticklabels([])\n",
        "        ax.set_xticklabels([])\n",
        "        in_index=in_index+1\n",
        "\n",
        "    plt.show()"
      ],
      "execution_count": 0,
      "outputs": []
    },
    {
      "cell_type": "markdown",
      "metadata": {
        "id": "UJZDu21GODlA",
        "colab_type": "text"
      },
      "source": [
        "<code>show_data</code>: plot out data sample"
      ]
    },
    {
      "cell_type": "code",
      "metadata": {
        "id": "t7--UD4bODlC",
        "colab_type": "code",
        "colab": {}
      },
      "source": [
        "def show_data(dataset,sample):\n",
        "\n",
        "    plt.imshow(dataset.x[sample,0,:,:].numpy(),cmap='gray')\n",
        "    plt.title('y='+str(dataset.y[sample].item()))\n",
        "    plt.show()"
      ],
      "execution_count": 0,
      "outputs": []
    },
    {
      "cell_type": "markdown",
      "metadata": {
        "id": "IRmgecRsODlG",
        "colab_type": "text"
      },
      "source": [
        "create some toy data "
      ]
    },
    {
      "cell_type": "code",
      "metadata": {
        "id": "1SRdPC2VODlG",
        "colab_type": "code",
        "colab": {}
      },
      "source": [
        "from torch.utils.data import Dataset, DataLoader\n",
        "class Data(Dataset):\n",
        "    def __init__(self,N_images=100,offset=0,p=0.9, train=False):\n",
        "        \"\"\"\n",
        "        p:portability that pixel is wight  \n",
        "        N_images:number of images \n",
        "        offset:set a random vertical and horizontal offset images by a sample should be less than 3 \n",
        "        \"\"\"\n",
        "        if train==True:\n",
        "            np.random.seed(1)  \n",
        "        \n",
        "        #make images multiple of 3 \n",
        "        N_images=2*(N_images//2)\n",
        "        images=np.zeros((N_images,1,11,11))\n",
        "        start1=3\n",
        "        start2=1\n",
        "        self.y=torch.zeros(N_images).type(torch.long)\n",
        "\n",
        "        for n in range(N_images):\n",
        "            if offset>0:\n",
        "        \n",
        "                low=int(np.random.randint(low=start1, high=start1+offset, size=1))\n",
        "                high=int(np.random.randint(low=start2, high=start2+offset, size=1))\n",
        "            else:\n",
        "                low=4\n",
        "                high=1\n",
        "        \n",
        "            if n<=N_images//2:\n",
        "                self.y[n]=0\n",
        "                images[n,0,high:high+9,low:low+3]= np.random.binomial(1, p, (9,3))\n",
        "            elif  n>N_images//2:\n",
        "                self.y[n]=1\n",
        "                images[n,0,low:low+3,high:high+9] = np.random.binomial(1, p, (3,9))\n",
        "           \n",
        "        \n",
        "        \n",
        "        self.x=torch.from_numpy(images).type(torch.FloatTensor)\n",
        "        self.len=self.x.shape[0]\n",
        "        del(images)\n",
        "        np.random.seed(0)\n",
        "    def __getitem__(self,index):      \n",
        "        return self.x[index],self.y[index]\n",
        "    def __len__(self):\n",
        "        return self.len"
      ],
      "execution_count": 0,
      "outputs": []
    },
    {
      "cell_type": "markdown",
      "metadata": {
        "id": "TtnQH-bgODlL",
        "colab_type": "text"
      },
      "source": [
        "<code>plot_activation</code>: plot out the activations of the Convolutional layers  "
      ]
    },
    {
      "cell_type": "code",
      "metadata": {
        "id": "GFZPFPmJODlM",
        "colab_type": "code",
        "colab": {}
      },
      "source": [
        "def plot_activations(A,number_rows= 1,name=\"\"):\n",
        "    A=A[0,:,:,:].detach().numpy()\n",
        "    n_activations=A.shape[0]\n",
        "    \n",
        "    \n",
        "    print(n_activations)\n",
        "    A_min=A.min().item()\n",
        "    A_max=A.max().item()\n",
        "\n",
        "    if n_activations==1:\n",
        "\n",
        "        # Plot the image.\n",
        "        plt.imshow(A[0,:], vmin=A_min, vmax=A_max, cmap='seismic')\n",
        "\n",
        "    else:\n",
        "        fig, axes = plt.subplots(number_rows, n_activations//number_rows)\n",
        "        fig.subplots_adjust(hspace = 0.4)\n",
        "        for i,ax in enumerate(axes.flat):\n",
        "            if i< n_activations:\n",
        "                # Set the label for the sub-plot.\n",
        "                ax.set_xlabel( \"activation:{0}\".format(i+1))\n",
        "\n",
        "                # Plot the image.\n",
        "                ax.imshow(A[i,:], vmin=A_min, vmax=A_max, cmap='seismic')\n",
        "                ax.set_xticks([])\n",
        "                ax.set_yticks([])\n",
        "    plt.show()"
      ],
      "execution_count": 0,
      "outputs": []
    },
    {
      "cell_type": "markdown",
      "metadata": {
        "id": "8FtXCX6pODlP",
        "colab_type": "text"
      },
      "source": [
        "\n",
        "Utility function for computing output of convolutions\n",
        "takes a tuple of (h,w) and returns a tuple of (h,w)"
      ]
    },
    {
      "cell_type": "code",
      "metadata": {
        "id": "cBflfJVuODlQ",
        "colab_type": "code",
        "colab": {}
      },
      "source": [
        "\n",
        "def conv_output_shape(h_w, kernel_size=1, stride=1, pad=0, dilation=1):\n",
        "    #by Duane Nielsen\n",
        "    from math import floor\n",
        "    if type(kernel_size) is not tuple:\n",
        "        kernel_size = (kernel_size, kernel_size)\n",
        "    h = floor( ((h_w[0] + (2 * pad) - ( dilation * (kernel_size[0] - 1) ) - 1 )/ stride) + 1)\n",
        "    w = floor( ((h_w[1] + (2 * pad) - ( dilation * (kernel_size[1] - 1) ) - 1 )/ stride) + 1)\n",
        "    return h, w"
      ],
      "execution_count": 0,
      "outputs": []
    },
    {
      "cell_type": "markdown",
      "metadata": {
        "id": "93Gm2wZaODlS",
        "colab_type": "text"
      },
      "source": [
        "<a id=\"ref1\"></a>\n",
        "<h2 align=center>Prepare Data </h2> "
      ]
    },
    {
      "cell_type": "markdown",
      "metadata": {
        "id": "sZskmUbsODlT",
        "colab_type": "text"
      },
      "source": [
        "Load the training dataset with 10000 samples "
      ]
    },
    {
      "cell_type": "code",
      "metadata": {
        "id": "SYX9p1n2ODlU",
        "colab_type": "code",
        "colab": {}
      },
      "source": [
        "N_images=10000\n",
        "train_dataset=Data(N_images=N_images)"
      ],
      "execution_count": 0,
      "outputs": []
    },
    {
      "cell_type": "markdown",
      "metadata": {
        "id": "SXIB2dfBODlW",
        "colab_type": "text"
      },
      "source": [
        "Load the testing dataset"
      ]
    },
    {
      "cell_type": "code",
      "metadata": {
        "id": "0i2Bkg_MODlY",
        "colab_type": "code",
        "colab": {
          "base_uri": "https://localhost:8080/",
          "height": 35
        },
        "outputId": "b58a6800-9809-43f6-9e17-f59f91054b4b"
      },
      "source": [
        "validation_dataset=Data(N_images=1000,train=False)\n",
        "validation_dataset"
      ],
      "execution_count": 9,
      "outputs": [
        {
          "output_type": "execute_result",
          "data": {
            "text/plain": [
              "<__main__.Data at 0x7fe1c0ed1400>"
            ]
          },
          "metadata": {
            "tags": []
          },
          "execution_count": 9
        }
      ]
    },
    {
      "cell_type": "markdown",
      "metadata": {
        "id": "mb5w7gRFODle",
        "colab_type": "text"
      },
      "source": [
        "we can see the data type is long "
      ]
    },
    {
      "cell_type": "markdown",
      "metadata": {
        "id": "Ai260EjdODlf",
        "colab_type": "text"
      },
      "source": [
        "### Data Visualization "
      ]
    },
    {
      "cell_type": "markdown",
      "metadata": {
        "id": "8opjbhkAODlf",
        "colab_type": "text"
      },
      "source": [
        "Each element in the rectangular  tensor corresponds to a number representing a pixel intensity  as demonstrated by  the following image."
      ]
    },
    {
      "cell_type": "markdown",
      "metadata": {
        "id": "QMiBMDZcODlg",
        "colab_type": "text"
      },
      "source": [
        "We can print out the third label "
      ]
    },
    {
      "cell_type": "code",
      "metadata": {
        "id": "ZvaVzVSJODlg",
        "colab_type": "code",
        "colab": {
          "base_uri": "https://localhost:8080/",
          "height": 281
        },
        "outputId": "f73b3863-2db5-4f7a-fc5c-576465539d7d"
      },
      "source": [
        "show_data(train_dataset,0)"
      ],
      "execution_count": 10,
      "outputs": [
        {
          "output_type": "display_data",
          "data": {
            "image/png": "[encoded data removed]",
            "text/plain": [
              "<Figure size 432x288 with 1 Axes>"
            ]
          },
          "metadata": {
            "tags": []
          }
        }
      ]
    },
    {
      "cell_type": "code",
      "metadata": {
        "id": "5kCPudAvODlj",
        "colab_type": "code",
        "colab": {
          "base_uri": "https://localhost:8080/",
          "height": 281
        },
        "outputId": "9bc8f49c-89ba-494c-ba2a-5b059c8af19b"
      },
      "source": [
        "show_data(train_dataset,N_images//2+2)"
      ],
      "execution_count": 11,
      "outputs": [
        {
          "output_type": "display_data",
          "data": {
            "image/png": "[encoded data removed]",
            "text/plain": [
              "<Figure size 432x288 with 1 Axes>"
            ]
          },
          "metadata": {
            "tags": []
          }
        }
      ]
    },
    {
      "cell_type": "markdown",
      "metadata": {
        "id": "BANbs4uJODll",
        "colab_type": "text"
      },
      "source": [
        "we can plot the 3rd  sample "
      ]
    },
    {
      "cell_type": "markdown",
      "metadata": {
        "id": "N0Zpc7HPODll",
        "colab_type": "text"
      },
      "source": [
        "<a id=\"ref3\"></a>\n",
        "### Build a Convolutional Neral Network Class "
      ]
    },
    {
      "cell_type": "markdown",
      "metadata": {
        "id": "jXDZhd52ODlm",
        "colab_type": "text"
      },
      "source": [
        "The input image is 11 x11, the following will change the size of the activations:\n",
        "<ul>\n",
        "<il>convolutional layer</il> \n",
        "</ul>\n",
        "<ul>\n",
        "<il>max pooling layer</il> \n",
        "</ul>\n",
        "<ul>\n",
        "<il>convolutional layer </il>\n",
        "</ul>\n",
        "<ul>\n",
        "<il>max pooling layer </il>\n",
        "</ul>\n",
        "\n",
        "with the following parameters <code>kernel_size</code>, <code>stride</code> and <code> pad</code>.\n",
        "We use the following  lines of code to change the image before we get tot he fully connected layer "
      ]
    },
    {
      "cell_type": "code",
      "metadata": {
        "id": "z5--TQYqODlm",
        "colab_type": "code",
        "colab": {
          "base_uri": "https://localhost:8080/",
          "height": 87
        },
        "outputId": "70f5b9b0-010c-4777-b0fa-a66abb0dc770"
      },
      "source": [
        "out=conv_output_shape((11,11), kernel_size=2, stride=1, pad=0, dilation=1)\n",
        "print(out)\n",
        "out1=conv_output_shape(out, kernel_size=2, stride=1, pad=0, dilation=1)\n",
        "print(out1)\n",
        "out2=conv_output_shape(out1, kernel_size=2, stride=1, pad=0, dilation=1)\n",
        "print(out2)\n",
        "\n",
        "out3=conv_output_shape(out2, kernel_size=2, stride=1, pad=0, dilation=1)\n",
        "print(out3)"
      ],
      "execution_count": 12,
      "outputs": [
        {
          "output_type": "stream",
          "text": [
            "(10, 10)\n",
            "(9, 9)\n",
            "(8, 8)\n",
            "(7, 7)\n"
          ],
          "name": "stdout"
        }
      ]
    },
    {
      "cell_type": "markdown",
      "metadata": {
        "id": "aUknRlIhODlq",
        "colab_type": "text"
      },
      "source": [
        "Build a Convolutional Network class with two Convolutional layers and one fully connected layer. Pre-determine the size of the final output matrix. The parameters in the constructor are the number of output channels for the first and second layer."
      ]
    },
    {
      "cell_type": "code",
      "metadata": {
        "id": "73u86T4LODls",
        "colab_type": "code",
        "colab": {}
      },
      "source": [
        "class CNN(nn.Module):\n",
        "    def __init__(self,out_1=2,out_2=1):\n",
        "        \n",
        "        super(CNN,self).__init__()\n",
        "        #first Convolutional layers \n",
        "        self.cnn1=nn.Conv2d(in_channels=1,out_channels=out_1,kernel_size=2,padding=0)\n",
        "        self.maxpool1=nn.MaxPool2d(kernel_size=2 ,stride=1)\n",
        "\n",
        "        #second Convolutional layers\n",
        "        self.cnn2=nn.Conv2d(in_channels=out_1,out_channels=out_2,kernel_size=2,stride=1,padding=0)\n",
        "        self.maxpool2=nn.MaxPool2d(kernel_size=2 ,stride=1)\n",
        "        #max pooling \n",
        "\n",
        "        #fully connected layer \n",
        "        self.fc1=nn.Linear(out_2*7*7,2)\n",
        "        \n",
        "    def forward(self,x):\n",
        "        #first Convolutional layers\n",
        "        x=self.cnn1(x)\n",
        "        #activation function \n",
        "        x=torch.relu(x)\n",
        "        #max pooling \n",
        "        x=self.maxpool1(x)\n",
        "        #first Convolutional layers\n",
        "        x=self.cnn2(x)\n",
        "        #activation function\n",
        "        x=torch.relu(x)\n",
        "        #max pooling\n",
        "        x=self.maxpool2(x)\n",
        "        #flatten output \n",
        "        x=x.view(x.size(0),-1)\n",
        "        #fully connected layer\n",
        "        x=self.fc1(x)\n",
        "        return x\n",
        "    \n",
        "    def activations(self,x):\n",
        "        #outputs activation this is not necessary just for fun \n",
        "        z1=self.cnn1(x)\n",
        "        a1=torch.relu(z1)\n",
        "        out=self.maxpool1(a1)\n",
        "        \n",
        "        z2=self.cnn2(out)\n",
        "        a2=torch.relu(z2)\n",
        "        out=self.maxpool2(a2)\n",
        "        out=out.view(out.size(0),-1)\n",
        "        return z1,a1,z2,a2,out        "
      ],
      "execution_count": 0,
      "outputs": []
    },
    {
      "cell_type": "markdown",
      "metadata": {
        "id": "NHJl3A44ODlv",
        "colab_type": "text"
      },
      "source": [
        "<a id=\"ref3\"></a>\n",
        "<h2> Define the Convolutional Neral Network Classifier , Criterion function, Optimizer and Train the  Model  </h2> "
      ]
    },
    {
      "cell_type": "markdown",
      "metadata": {
        "id": "5Mt0ilzNODlv",
        "colab_type": "text"
      },
      "source": [
        "There are 2 output channels for the first layer, and 1 outputs channel for the second layer "
      ]
    },
    {
      "cell_type": "code",
      "metadata": {
        "id": "PcQ6g5pOODlv",
        "colab_type": "code",
        "colab": {}
      },
      "source": [
        "model=CNN(2,1)"
      ],
      "execution_count": 0,
      "outputs": []
    },
    {
      "cell_type": "markdown",
      "metadata": {
        "id": "Hsm9bQq-ODly",
        "colab_type": "text"
      },
      "source": [
        "we can see the model parameters with the object "
      ]
    },
    {
      "cell_type": "code",
      "metadata": {
        "id": "ep_32VJMODlz",
        "colab_type": "code",
        "colab": {
          "base_uri": "https://localhost:8080/",
          "height": 139
        },
        "outputId": "d6cdcbb1-c522-4c0c-c678-ce5652322966"
      },
      "source": [
        "model"
      ],
      "execution_count": 15,
      "outputs": [
        {
          "output_type": "execute_result",
          "data": {
            "text/plain": [
              "CNN(\n",
              "  (cnn1): Conv2d(1, 2, kernel_size=(2, 2), stride=(1, 1))\n",
              "  (maxpool1): MaxPool2d(kernel_size=2, stride=1, padding=0, dilation=1, ceil_mode=False)\n",
              "  (cnn2): Conv2d(2, 1, kernel_size=(2, 2), stride=(1, 1))\n",
              "  (maxpool2): MaxPool2d(kernel_size=2, stride=1, padding=0, dilation=1, ceil_mode=False)\n",
              "  (fc1): Linear(in_features=49, out_features=2, bias=True)\n",
              ")"
            ]
          },
          "metadata": {
            "tags": []
          },
          "execution_count": 15
        }
      ]
    },
    {
      "cell_type": "markdown",
      "metadata": {
        "id": "9QHPhjSiODl2",
        "colab_type": "text"
      },
      "source": [
        "Plot the model parameters for the kernels before training the kernels. The kernels are initialized randomly."
      ]
    },
    {
      "cell_type": "code",
      "metadata": {
        "id": "nuHNR-EfODl2",
        "colab_type": "code",
        "colab": {
          "base_uri": "https://localhost:8080/",
          "height": 252
        },
        "outputId": "33bb6d25-567f-437f-f551-ee3a040e7bc5"
      },
      "source": [
        "\n",
        "plot_channels(model.state_dict()['cnn1.weight'])\n"
      ],
      "execution_count": 16,
      "outputs": [
        {
          "output_type": "display_data",
          "data": {
            "image/png": "[encoded data removed]",
            "text/plain": [
              "<Figure size 432x288 with 2 Axes>"
            ]
          },
          "metadata": {
            "tags": []
          }
        }
      ]
    },
    {
      "cell_type": "markdown",
      "metadata": {
        "id": "WS-agr8JODl7",
        "colab_type": "text"
      },
      "source": [
        "Loss function "
      ]
    },
    {
      "cell_type": "code",
      "metadata": {
        "id": "UbzF4yzLODl8",
        "colab_type": "code",
        "colab": {
          "base_uri": "https://localhost:8080/",
          "height": 187
        },
        "outputId": "fb9d51fb-2ff9-4790-a615-b3eb16ff9a37"
      },
      "source": [
        "plot_channels(model.state_dict()['cnn2.weight'])"
      ],
      "execution_count": 17,
      "outputs": [
        {
          "output_type": "display_data",
          "data": {
            "image/png": "[encoded data removed]",
            "text/plain": [
              "<Figure size 432x288 with 2 Axes>"
            ]
          },
          "metadata": {
            "tags": []
          }
        }
      ]
    },
    {
      "cell_type": "markdown",
      "metadata": {
        "id": "sIKuIkmWODl-",
        "colab_type": "text"
      },
      "source": [
        "Define the loss function "
      ]
    },
    {
      "cell_type": "code",
      "metadata": {
        "id": "sJGE94NjODl_",
        "colab_type": "code",
        "colab": {}
      },
      "source": [
        "criterion=nn.CrossEntropyLoss()"
      ],
      "execution_count": 0,
      "outputs": []
    },
    {
      "cell_type": "markdown",
      "metadata": {
        "id": "1lAl7fJ1ODmB",
        "colab_type": "text"
      },
      "source": [
        " optimizer class "
      ]
    },
    {
      "cell_type": "code",
      "metadata": {
        "id": "GA8yjkuGODmB",
        "colab_type": "code",
        "colab": {}
      },
      "source": [
        "learning_rate=0.001\n",
        "\n",
        "optimizer = torch.optim.Adam(model.parameters(), lr=learning_rate)"
      ],
      "execution_count": 0,
      "outputs": []
    },
    {
      "cell_type": "markdown",
      "metadata": {
        "id": "0_xn8IDEODmF",
        "colab_type": "text"
      },
      "source": [
        "Define the optimizer class "
      ]
    },
    {
      "cell_type": "code",
      "metadata": {
        "id": "BB88ZxMSODmG",
        "colab_type": "code",
        "colab": {}
      },
      "source": [
        "\n",
        "train_loader=torch.utils.data.DataLoader(dataset=train_dataset,batch_size=10)\n",
        "validation_loader=torch.utils.data.DataLoader(dataset=validation_dataset,batch_size=20)"
      ],
      "execution_count": 0,
      "outputs": []
    },
    {
      "cell_type": "markdown",
      "metadata": {
        "id": "2oVKU_yEODmJ",
        "colab_type": "text"
      },
      "source": [
        "Train the model and determine validation accuracy technically test accuracy **(This may take a long time)**"
      ]
    },
    {
      "cell_type": "code",
      "metadata": {
        "id": "LgYL9aEkODmK",
        "colab_type": "code",
        "colab": {}
      },
      "source": [
        "n_epochs=10\n",
        "cost_list=[]\n",
        "accuracy_list=[]\n",
        "N_test=len(validation_dataset)\n",
        "cost=0\n",
        "#n_epochs\n",
        "for epoch in range(n_epochs):\n",
        "    cost=0    \n",
        "    for x, y in train_loader:\n",
        "      \n",
        "\n",
        "        #clear gradient \n",
        "        optimizer.zero_grad()\n",
        "        #make a prediction \n",
        "        z=model(x)\n",
        "        # calculate loss \n",
        "        loss=criterion(z,y)\n",
        "        # calculate gradients of parameters \n",
        "        loss.backward()\n",
        "        # update parameters \n",
        "        optimizer.step()\n",
        "        cost+=loss.item()\n",
        "    cost_list.append(cost)\n",
        "        \n",
        "        \n",
        "    correct=0\n",
        "    #perform a prediction on the validation  data  \n",
        "    for x_test, y_test in validation_loader:\n",
        "\n",
        "        z=model(x_test)\n",
        "        _,yhat=torch.max(z.data,1)\n",
        "\n",
        "        correct+=(yhat==y_test).sum().item()\n",
        "        \n",
        "\n",
        "    accuracy=correct/N_test\n",
        "\n",
        "    accuracy_list.append(accuracy)\n",
        "    \n",
        "\n"
      ],
      "execution_count": 0,
      "outputs": []
    },
    {
      "cell_type": "markdown",
      "metadata": {
        "id": "CJyk5h2ZODmN",
        "colab_type": "text"
      },
      "source": [
        "#### <a id=\"ref3\"></a>\n",
        "<h2 align=center>Analyse Results</h2> "
      ]
    },
    {
      "cell_type": "markdown",
      "metadata": {
        "id": "t85hpZSrODmN",
        "colab_type": "text"
      },
      "source": [
        "Plot the loss and accuracy on the validation data:"
      ]
    },
    {
      "cell_type": "code",
      "metadata": {
        "id": "B3B6EUyUODmO",
        "colab_type": "code",
        "colab": {
          "base_uri": "https://localhost:8080/",
          "height": 297
        },
        "outputId": "a1cba8b7-7860-4451-aa02-09d872cd02b9"
      },
      "source": [
        "fig, ax1 = plt.subplots()\n",
        "color = 'tab:red'\n",
        "ax1.plot(cost_list,color=color)\n",
        "ax1.set_xlabel('epoch',color=color)\n",
        "ax1.set_ylabel('total loss',color=color)\n",
        "ax1.tick_params(axis='y', color=color)\n",
        "    \n",
        "ax2 = ax1.twinx()  \n",
        "color = 'tab:blue'\n",
        "ax2.set_ylabel('accuracy', color=color)  \n",
        "ax2.plot( accuracy_list, color=color)\n",
        "ax2.tick_params(axis='y', labelcolor=color)\n",
        "fig.tight_layout()"
      ],
      "execution_count": 22,
      "outputs": [
        {
          "output_type": "display_data",
          "data": {
            "image/png": "[encoded data removed]",
            "text/plain": [
              "<Figure size 432x288 with 2 Axes>"
            ]
          },
          "metadata": {
            "tags": []
          }
        }
      ]
    },
    {
      "cell_type": "markdown",
      "metadata": {
        "id": "ukzTwdSzODmQ",
        "colab_type": "text"
      },
      "source": [
        "View the results of the parameters for the Convolutional layers "
      ]
    },
    {
      "cell_type": "code",
      "metadata": {
        "id": "jWb42IOzODmS",
        "colab_type": "code",
        "colab": {
          "base_uri": "https://localhost:8080/",
          "height": 121
        },
        "outputId": "904cbccf-f227-4727-8410-3456001f202b"
      },
      "source": [
        "model.state_dict()['cnn1.weight']"
      ],
      "execution_count": 23,
      "outputs": [
        {
          "output_type": "execute_result",
          "data": {
            "text/plain": [
              "tensor([[[[ 0.3800,  0.4887],\n",
              "          [-0.1100, -0.1105]]],\n",
              "\n",
              "\n",
              "        [[[-0.4179, -0.2708],\n",
              "          [ 0.9303,  0.8628]]]])"
            ]
          },
          "metadata": {
            "tags": []
          },
          "execution_count": 23
        }
      ]
    },
    {
      "cell_type": "code",
      "metadata": {
        "id": "vnKb1Lz0ODmV",
        "colab_type": "code",
        "colab": {
          "base_uri": "https://localhost:8080/",
          "height": 252
        },
        "outputId": "30e178a5-def0-4864-8bfa-755c996c2a83"
      },
      "source": [
        "plot_channels(model.state_dict()['cnn1.weight'])"
      ],
      "execution_count": 24,
      "outputs": [
        {
          "output_type": "display_data",
          "data": {
            "image/png": "[encoded data removed]",
            "text/plain": [
              "<Figure size 432x288 with 2 Axes>"
            ]
          },
          "metadata": {
            "tags": []
          }
        }
      ]
    },
    {
      "cell_type": "code",
      "metadata": {
        "id": "TrW1lEZEODmY",
        "colab_type": "code",
        "colab": {
          "base_uri": "https://localhost:8080/",
          "height": 121
        },
        "outputId": "d4c16581-e3a0-4a85-db63-93a7fb74e829"
      },
      "source": [
        "model.state_dict()['cnn1.weight']"
      ],
      "execution_count": 25,
      "outputs": [
        {
          "output_type": "execute_result",
          "data": {
            "text/plain": [
              "tensor([[[[ 0.3800,  0.4887],\n",
              "          [-0.1100, -0.1105]]],\n",
              "\n",
              "\n",
              "        [[[-0.4179, -0.2708],\n",
              "          [ 0.9303,  0.8628]]]])"
            ]
          },
          "metadata": {
            "tags": []
          },
          "execution_count": 25
        }
      ]
    },
    {
      "cell_type": "code",
      "metadata": {
        "id": "5vYzHXifODmb",
        "colab_type": "code",
        "colab": {
          "base_uri": "https://localhost:8080/",
          "height": 187
        },
        "outputId": "fab852db-5f00-4d3d-e7d4-34e30c7a7b30"
      },
      "source": [
        "plot_channels(model.state_dict()['cnn2.weight'])"
      ],
      "execution_count": 26,
      "outputs": [
        {
          "output_type": "display_data",
          "data": {
            "image/png": "[encoded data removed]",
            "text/plain": [
              "<Figure size 432x288 with 2 Axes>"
            ]
          },
          "metadata": {
            "tags": []
          }
        }
      ]
    },
    {
      "cell_type": "markdown",
      "metadata": {
        "id": "7BctaZLmODmh",
        "colab_type": "text"
      },
      "source": [
        "Consider the following sample "
      ]
    },
    {
      "cell_type": "code",
      "metadata": {
        "id": "MdKaVWnqODmh",
        "colab_type": "code",
        "colab": {
          "base_uri": "https://localhost:8080/",
          "height": 281
        },
        "outputId": "323858d5-3aeb-42e2-f1c0-35be98476bd2"
      },
      "source": [
        "show_data(train_dataset,N_images//2+2)"
      ],
      "execution_count": 27,
      "outputs": [
        {
          "output_type": "display_data",
          "data": {
            "image/png": "[encoded data removed]",
            "text/plain": [
              "<Figure size 432x288 with 1 Axes>"
            ]
          },
          "metadata": {
            "tags": []
          }
        }
      ]
    },
    {
      "cell_type": "markdown",
      "metadata": {
        "id": "kkX3Rg_0ODmk",
        "colab_type": "text"
      },
      "source": [
        "Determine the activations "
      ]
    },
    {
      "cell_type": "code",
      "metadata": {
        "id": "G2unM7agODml",
        "colab_type": "code",
        "colab": {}
      },
      "source": [
        "out=model.activations(train_dataset[N_images//2+2][0].view(1,1,11,11))\n",
        "out=model.activations(train_dataset[0][0].view(1,1,11,11))"
      ],
      "execution_count": 0,
      "outputs": []
    },
    {
      "cell_type": "markdown",
      "metadata": {
        "id": "Pgp5Q9k9ODmo",
        "colab_type": "text"
      },
      "source": [
        "Plot them out"
      ]
    },
    {
      "cell_type": "code",
      "metadata": {
        "id": "4WvdvIlLODmp",
        "colab_type": "code",
        "colab": {
          "base_uri": "https://localhost:8080/",
          "height": 215
        },
        "outputId": "917ec5a5-29e4-416c-df8b-eafd2a644a3f"
      },
      "source": [
        "plot_activations(out[0],number_rows=1,name=\" feature map\")\n",
        "plt.show()\n"
      ],
      "execution_count": 29,
      "outputs": [
        {
          "output_type": "stream",
          "text": [
            "2\n"
          ],
          "name": "stdout"
        },
        {
          "output_type": "display_data",
          "data": {
            "image/png": "[encoded data removed]",
            "text/plain": [
              "<Figure size 432x288 with 2 Axes>"
            ]
          },
          "metadata": {
            "tags": []
          }
        }
      ]
    },
    {
      "cell_type": "code",
      "metadata": {
        "id": "Eknl1D5HODmu",
        "colab_type": "code",
        "colab": {
          "base_uri": "https://localhost:8080/",
          "height": 283
        },
        "outputId": "06538533-b5f4-4f39-de46-7d352a95fb89"
      },
      "source": [
        "plot_activations(out[2],number_rows=1,name=\"2nd feature map\")\n",
        "plt.show()"
      ],
      "execution_count": 30,
      "outputs": [
        {
          "output_type": "stream",
          "text": [
            "1\n"
          ],
          "name": "stdout"
        },
        {
          "output_type": "display_data",
          "data": {
            "image/png": "[encoded data removed]",
            "text/plain": [
              "<Figure size 432x288 with 1 Axes>"
            ]
          },
          "metadata": {
            "tags": []
          }
        }
      ]
    },
    {
      "cell_type": "code",
      "metadata": {
        "id": "JR--OHXpODm2",
        "colab_type": "code",
        "colab": {
          "base_uri": "https://localhost:8080/",
          "height": 283
        },
        "outputId": "65a0704a-6135-454c-ca0a-62332cab4222"
      },
      "source": [
        "plot_activations(out[3],number_rows=1,name=\"first feature map\")\n",
        "plt.show()"
      ],
      "execution_count": 31,
      "outputs": [
        {
          "output_type": "stream",
          "text": [
            "1\n"
          ],
          "name": "stdout"
        },
        {
          "output_type": "display_data",
          "data": {
            "image/png": "[encoded data removed]",
            "text/plain": [
              "<Figure size 432x288 with 1 Axes>"
            ]
          },
          "metadata": {
            "tags": []
          }
        }
      ]
    },
    {
      "cell_type": "markdown",
      "metadata": {
        "id": "TqxXyIoTODm-",
        "colab_type": "text"
      },
      "source": [
        "we save the output of the activation after flattening  "
      ]
    },
    {
      "cell_type": "code",
      "metadata": {
        "id": "vsENJOfuODm_",
        "colab_type": "code",
        "colab": {}
      },
      "source": [
        "out1=out[4][0].detach().numpy()"
      ],
      "execution_count": 0,
      "outputs": []
    },
    {
      "cell_type": "markdown",
      "metadata": {
        "id": "qOhQJxLTODnE",
        "colab_type": "text"
      },
      "source": [
        "we can do the same for a sample  where y=0 "
      ]
    },
    {
      "cell_type": "code",
      "metadata": {
        "id": "HfwX-AHbODnG",
        "colab_type": "code",
        "colab": {
          "base_uri": "https://localhost:8080/",
          "height": 191
        },
        "outputId": "d00ed13e-65f7-4d6e-e7f5-39551323f19c"
      },
      "source": [
        "out0=model.activations(train_dataset[100][0].view(1,1,11,11))[4][0].detach().numpy()\n",
        "out0"
      ],
      "execution_count": 33,
      "outputs": [
        {
          "output_type": "execute_result",
          "data": {
            "text/plain": [
              "array([0.7378644 , 1.7620605 , 2.4630911 , 2.4993262 , 2.4993262 ,\n",
              "       2.1849864 , 0.97355354, 0.6217835 , 1.5435553 , 2.2027073 ,\n",
              "       2.3137112 , 2.3137112 , 1.8119963 , 0.81421834, 0.683069  ,\n",
              "       1.641935  , 2.2027073 , 2.3137112 , 2.3137112 , 1.7167606 ,\n",
              "       0.81421834, 0.7378644 , 1.658794  , 2.1797092 , 2.1797092 ,\n",
              "       2.0439565 , 1.5574254 , 0.81421834, 0.7378644 , 1.658794  ,\n",
              "       2.1602798 , 2.1602798 , 1.9487208 , 1.5574254 , 0.81421834,\n",
              "       0.60079294, 1.344     , 1.7893857 , 1.7893857 , 1.7893857 ,\n",
              "       1.5574254 , 0.81421834, 0.6217835 , 1.4443334 , 1.947915  ,\n",
              "       1.947915  , 1.947915  , 1.6949642 , 0.87241405], dtype=float32)"
            ]
          },
          "metadata": {
            "tags": []
          },
          "execution_count": 33
        }
      ]
    },
    {
      "cell_type": "code",
      "metadata": {
        "id": "Xg8SohNdODnJ",
        "colab_type": "code",
        "colab": {
          "base_uri": "https://localhost:8080/",
          "height": 313
        },
        "outputId": "9fd2cff6-f3b9-4018-fb8d-0bb579db4eea"
      },
      "source": [
        "plt.subplot(2, 1, 1)\n",
        "plt.plot( out1, 'b')\n",
        "plt.title('Flatted Activation Values  ')\n",
        "plt.ylabel('Activation')\n",
        "plt.xlabel('index')\n",
        "plt.subplot(2, 1, 2)\n",
        "plt.plot(out0, 'r')\n",
        "plt.xlabel('index')\n",
        "plt.ylabel('Activation')"
      ],
      "execution_count": 34,
      "outputs": [
        {
          "output_type": "execute_result",
          "data": {
            "text/plain": [
              "Text(0, 0.5, 'Activation')"
            ]
          },
          "metadata": {
            "tags": []
          },
          "execution_count": 34
        },
        {
          "output_type": "display_data",
          "data": {
            "image/png": "[encoded data removed]",
            "text/plain": [
              "<Figure size 432x288 with 2 Axes>"
            ]
          },
          "metadata": {
            "tags": []
          }
        }
      ]
    },
    {
      "cell_type": "markdown",
      "metadata": {
        "id": "Mdu2DNQCODnQ",
        "colab_type": "text"
      },
      "source": [
        "### About the Authors:  \n",
        "[Joseph Santarcangelo]( https://www.linkedin.com/in/joseph-s-50398b136/) has a PhD in Electrical Engineering. His research focused on using machine learning, signal processing, and computer vision to determine how videos impact human cognition. \n",
        "\n",
        "Other contributors: [Michelle Carey](  https://www.linkedin.com/in/michelleccarey/) "
      ]
    },
    {
      "cell_type": "markdown",
      "metadata": {
        "id": "E7PziIs7ODnR",
        "colab_type": "text"
      },
      "source": [
        "  <hr>\n",
        "Copyright &copy; 2018 [cognitiveclass.ai](cognitiveclass.ai?utm_source=bducopyrightlink&utm_medium=dswb&utm_campaign=bdu). This notebook and its source code are released under the terms of the [MIT License](https://bigdatauniversity.com/mit-license/)."
      ]
    },
    {
      "cell_type": "code",
      "metadata": {
        "id": "auP6ClxFODnS",
        "colab_type": "code",
        "colab": {}
      },
      "source": [
        ""
      ],
      "execution_count": 0,
      "outputs": []
    }
  ]
}