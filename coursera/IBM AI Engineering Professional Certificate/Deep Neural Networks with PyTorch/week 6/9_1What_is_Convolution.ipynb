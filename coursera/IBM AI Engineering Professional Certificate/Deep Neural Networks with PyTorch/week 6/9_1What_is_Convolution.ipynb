{
  "nbformat": 4,
  "nbformat_minor": 0,
  "metadata": {
    "kernelspec": {
      "display_name": "Python 3",
      "language": "python",
      "name": "python3"
    },
    "language_info": {
      "codemirror_mode": {
        "name": "ipython",
        "version": 3
      },
      "file_extension": ".py",
      "mimetype": "text/x-python",
      "name": "python",
      "nbconvert_exporter": "python",
      "pygments_lexer": "ipython3",
      "version": "3.6.8"
    },
    "colab": {
      "name": "9.1What_is_Convolution.ipynb",
      "provenance": [],
      "collapsed_sections": [
        "MiqMxfhc7E4e"
      ]
    }
  },
  "cells": [
    {
      "cell_type": "markdown",
      "metadata": {
        "id": "f-_94Ils7E2s",
        "colab_type": "text"
      },
      "source": [
        "<a href=\"http://cocl.us/pytorch_link_top\">\n",
        "    <img src=\"https://s3-api.us-geo.objectstorage.softlayer.net/cf-courses-data/CognitiveClass/DL0110EN/notebook_images%20/Pytochtop.png\" width=\"750\" alt=\"IBM Product \" />\n",
        "</a> "
      ]
    },
    {
      "cell_type": "markdown",
      "metadata": {
        "id": "5wCmRrbU7E2t",
        "colab_type": "text"
      },
      "source": [
        "<img src=\"https://s3-api.us-geo.objectstorage.softlayer.net/cf-courses-data/CognitiveClass/DL0110EN/notebook_images%20/cc-logo-square.png\" width=\"200\" alt=\"cognitiveclass.ai logo\" />\n",
        "\n",
        "<h1 align=center><font size = 5>What's Convolution </h1 >"
      ]
    },
    {
      "cell_type": "markdown",
      "metadata": {
        "id": "tJo_JwZB7E2u",
        "colab_type": "text"
      },
      "source": [
        "\n",
        "# Table of Contents\n",
        "In this lab, you will study convolution and review how the different operations change the relationship between input and output.\n",
        "\n",
        "<div class=\"alert alert-block alert-info\" style=\"margin-top: 20px\">\n",
        "<li><a href=\"#ref0\">What is Convolution  </a></li>\n",
        "\n",
        "<li><a href=\"#ref1\">Determining  the Size of Output</a></li>\n",
        "<li><a href=\"#ref2\">Stride</a></li>\n",
        "<li><a href=\"#ref3\">Zero Padding </a></li>\n",
        "<li><a href=\"#ref4\">Practice Questions </a></li>\n",
        "\n",
        "<br>\n",
        "<p></p>\n",
        "Estimated Time Needed: <strong>25 min</strong>\n",
        "</div>\n",
        "\n",
        "<hr>"
      ]
    },
    {
      "cell_type": "markdown",
      "metadata": {
        "id": "I0KjPgvw7E2v",
        "colab_type": "text"
      },
      "source": [
        "Import the following libraries: "
      ]
    },
    {
      "cell_type": "code",
      "metadata": {
        "id": "pCtAjdBt7E2w",
        "colab_type": "code",
        "colab": {}
      },
      "source": [
        "import torch \n",
        "import torch.nn as nn\n",
        "import matplotlib.pyplot as plt\n",
        "import numpy as np\n",
        "from scipy import ndimage, misc"
      ],
      "execution_count": 0,
      "outputs": []
    },
    {
      "cell_type": "markdown",
      "metadata": {
        "id": "aojKVNiG7E20",
        "colab_type": "text"
      },
      "source": [
        "<a id=\"ref0\"></a>\n",
        "<h2 align=center>What is Convolution?</h2>"
      ]
    },
    {
      "cell_type": "markdown",
      "metadata": {
        "id": "Yop8RVRu7E21",
        "colab_type": "text"
      },
      "source": [
        "Convolution is a linear operation similar to a linear equation, dot product, or matrix multiplication. Convolution has several advantages for analyzing images. As discussed in the video, convolution preserves the relationship between elements, and it requires fewer parameters than other methods.  "
      ]
    },
    {
      "cell_type": "markdown",
      "metadata": {
        "id": "lDeOGDJq7E21",
        "colab_type": "text"
      },
      "source": [
        "You can see the relationship between the different methods that you learned:\n",
        "\n",
        "$$linear \\ equation :y=wx+b$$\n",
        "$$linear\\ equation\\ with\\ multiple \\ variables \\ where \\ \\mathbf{x} \\ is \\ a \\ vector \\ \\mathbf{y}=\\mathbf{wx}+b$$\n",
        "$$ \\ matrix\\ multiplication \\ where \\ \\mathbf{X} \\ in \\ a \\ matrix \\ \\mathbf{y}=\\mathbf{wX}+\\mathbf{b} $$\n",
        "$$\\ convolution \\ where \\ \\mathbf{X} \\ and \\ \\mathbf{Y} \\ is \\ a \\ tensor \\  \\mathbf{Y}=\\mathbf{w}*\\mathbf{X}+\\mathbf{b}$$"
      ]
    },
    {
      "cell_type": "markdown",
      "metadata": {
        "id": "M9Ny_q6v7E22",
        "colab_type": "text"
      },
      "source": [
        "In convolution, the parameter <b>w</b> is called a kernel. You can perform convolution on images where you let the variable image denote the variable X and w denote the parameter."
      ]
    },
    {
      "cell_type": "markdown",
      "metadata": {
        "id": "efXH4HxF7E23",
        "colab_type": "text"
      },
      "source": [
        "<img src = \"https://s3-api.us-geo.objectstorage.softlayer.net/cf-courses-data/CognitiveClass/DL0110EN/notebook_images%20/chapter%206/6.1.1xw.png\" width = 500, align = \"center\">"
      ]
    },
    {
      "cell_type": "markdown",
      "metadata": {
        "id": "AHEhAj2i7E24",
        "colab_type": "text"
      },
      "source": [
        "Create a two-dimensional convolution object by using the constructor Conv2d, the parameter <code>in_channels</code> and <code>out_channels</code> will be used for this section, and the parameter kernel_size will be three.\n"
      ]
    },
    {
      "cell_type": "code",
      "metadata": {
        "id": "LstYetAm7E25",
        "colab_type": "code",
        "colab": {
          "base_uri": "https://localhost:8080/",
          "height": 35
        },
        "outputId": "5b17eac8-6261-40f9-c82b-25cef18e998f"
      },
      "source": [
        "conv = nn.Conv2d(in_channels=1, out_channels=1,kernel_size=3)\n",
        "conv"
      ],
      "execution_count": 2,
      "outputs": [
        {
          "output_type": "execute_result",
          "data": {
            "text/plain": [
              "Conv2d(1, 1, kernel_size=(3, 3), stride=(1, 1))"
            ]
          },
          "metadata": {
            "tags": []
          },
          "execution_count": 2
        }
      ]
    },
    {
      "cell_type": "markdown",
      "metadata": {
        "id": "NyZZ94l07E29",
        "colab_type": "text"
      },
      "source": [
        "Because the parameters in <code>nn.Conv2d</code> are randomly initialized and learned through training, give them some values."
      ]
    },
    {
      "cell_type": "code",
      "metadata": {
        "id": "OD6AMCFg7E2-",
        "colab_type": "code",
        "colab": {
          "base_uri": "https://localhost:8080/",
          "height": 69
        },
        "outputId": "7f13c7f5-12c9-4e34-f2c5-bbc32f0a9246"
      },
      "source": [
        "conv.state_dict()['weight'][0][0]=torch.tensor([[1.0,0,-1.0],[2.0,0,-2.0],[1.0,0.0,-1.0]])\n",
        "conv.state_dict()['bias'][0]=0.0\n",
        "conv.state_dict()"
      ],
      "execution_count": 3,
      "outputs": [
        {
          "output_type": "execute_result",
          "data": {
            "text/plain": [
              "OrderedDict([('weight', tensor([[[[ 1.,  0., -1.],\n",
              "                        [ 2.,  0., -2.],\n",
              "                        [ 1.,  0., -1.]]]])), ('bias', tensor([0.]))])"
            ]
          },
          "metadata": {
            "tags": []
          },
          "execution_count": 3
        }
      ]
    },
    {
      "cell_type": "markdown",
      "metadata": {
        "id": "o6zkECT-7E3C",
        "colab_type": "text"
      },
      "source": [
        "Create a dummy tensor to represent an image. The shape of the image is (1,1,5,5) where:\n",
        "\n",
        "(number of inputs, number of channels, number of rows, number of columns ) \n",
        "\n",
        "Set the third column to 1:"
      ]
    },
    {
      "cell_type": "code",
      "metadata": {
        "id": "aPRC72ZC7E3E",
        "colab_type": "code",
        "colab": {
          "base_uri": "https://localhost:8080/",
          "height": 104
        },
        "outputId": "0b1e0d7d-fa42-4749-aa12-195bf403a495"
      },
      "source": [
        "image=torch.zeros(1,1,5,5)\n",
        "image[0,0,:,2]=1\n",
        "image"
      ],
      "execution_count": 4,
      "outputs": [
        {
          "output_type": "execute_result",
          "data": {
            "text/plain": [
              "tensor([[[[0., 0., 1., 0., 0.],\n",
              "          [0., 0., 1., 0., 0.],\n",
              "          [0., 0., 1., 0., 0.],\n",
              "          [0., 0., 1., 0., 0.],\n",
              "          [0., 0., 1., 0., 0.]]]])"
            ]
          },
          "metadata": {
            "tags": []
          },
          "execution_count": 4
        }
      ]
    },
    {
      "cell_type": "markdown",
      "metadata": {
        "id": "aJJKO5R-7E3I",
        "colab_type": "text"
      },
      "source": [
        "Call the object <code>conv</code> on the tensor <code>image</code> as an input to perform the convolution and assign the result to the tensor <code>z</code>. "
      ]
    },
    {
      "cell_type": "code",
      "metadata": {
        "id": "Y7BULDu47E3J",
        "colab_type": "code",
        "colab": {
          "base_uri": "https://localhost:8080/",
          "height": 69
        },
        "outputId": "e2e71c93-98db-4613-e7ef-de57cdc22241"
      },
      "source": [
        "z=conv(image)\n",
        "z"
      ],
      "execution_count": 5,
      "outputs": [
        {
          "output_type": "execute_result",
          "data": {
            "text/plain": [
              "tensor([[[[-4.,  0.,  4.],\n",
              "          [-4.,  0.,  4.],\n",
              "          [-4.,  0.,  4.]]]], grad_fn=<MkldnnConvolutionBackward>)"
            ]
          },
          "metadata": {
            "tags": []
          },
          "execution_count": 5
        }
      ]
    },
    {
      "cell_type": "markdown",
      "metadata": {
        "id": "ZKiDEDsq7E3N",
        "colab_type": "text"
      },
      "source": [
        "The following animation illustrates the process, the kernel performs at the element-level multiplication on every element in the image in the corresponding region. The values are then added together. The kernel is then shifted and the process is repeated. "
      ]
    },
    {
      "cell_type": "markdown",
      "metadata": {
        "id": "-lKyErxr7E3O",
        "colab_type": "text"
      },
      "source": [
        "<img src = \"https://s3-api.us-geo.objectstorage.softlayer.net/cf-courses-data/CognitiveClass/DL0110EN/notebook_images%20/chapter%206/6.1.1convltuon.gif\" width = 500, align = \"center\">"
      ]
    },
    {
      "cell_type": "markdown",
      "metadata": {
        "id": "P5eEkS0j7E3P",
        "colab_type": "text"
      },
      "source": [
        "\n",
        "<a id=\"ref1\"></a>\n",
        "<h2 align=center>Determining  the Size of the Output</h2>"
      ]
    },
    {
      "cell_type": "markdown",
      "metadata": {
        "id": "EvPVBhFu7E3Q",
        "colab_type": "text"
      },
      "source": [
        "The size of the output is an important parameter. In this lab, you will assume square images. For rectangular images, the same formula can be used in for each dimension independently.  \n",
        "\n",
        "Let M be the size of the input and K be the size of the kernel. The size of the output is given by the following formula:"
      ]
    },
    {
      "cell_type": "markdown",
      "metadata": {
        "id": "nwGyH-3X7E3Q",
        "colab_type": "text"
      },
      "source": [
        "$$M_{new}=M-K+1$$"
      ]
    },
    {
      "cell_type": "markdown",
      "metadata": {
        "id": "nsckPTwd7E3R",
        "colab_type": "text"
      },
      "source": [
        "Create a kernel of size 2:"
      ]
    },
    {
      "cell_type": "code",
      "metadata": {
        "id": "ao1wOrOU7E3R",
        "colab_type": "code",
        "colab": {
          "base_uri": "https://localhost:8080/",
          "height": 35
        },
        "outputId": "89f75873-41aa-4401-cee7-04264a676f12"
      },
      "source": [
        "K=2\n",
        "conv1 = nn.Conv2d(in_channels=1, out_channels=1,kernel_size=K)\n",
        "conv1.state_dict()['weight'][0][0]=torch.tensor([[1.0,1.0],[1.0,1.0]])\n",
        "conv1.state_dict()['bias'][0]=0.0\n",
        "conv1.state_dict()\n",
        "conv1"
      ],
      "execution_count": 6,
      "outputs": [
        {
          "output_type": "execute_result",
          "data": {
            "text/plain": [
              "Conv2d(1, 1, kernel_size=(2, 2), stride=(1, 1))"
            ]
          },
          "metadata": {
            "tags": []
          },
          "execution_count": 6
        }
      ]
    },
    {
      "cell_type": "markdown",
      "metadata": {
        "id": "igSC7Yn-7E3V",
        "colab_type": "text"
      },
      "source": [
        "Create an image of size 2:"
      ]
    },
    {
      "cell_type": "code",
      "metadata": {
        "id": "u5wZXGbc7E3W",
        "colab_type": "code",
        "colab": {}
      },
      "source": [
        "M=4\n",
        "image1=torch.ones(1,1,M,M)"
      ],
      "execution_count": 0,
      "outputs": []
    },
    {
      "cell_type": "markdown",
      "metadata": {
        "id": "lkglQ8Qu7E3b",
        "colab_type": "text"
      },
      "source": [
        "<img src = \"https://s3-api.us-geo.objectstorage.softlayer.net/cf-courses-data/CognitiveClass/DL0110EN/notebook_images%20/chapter%206/6.1.1kernal2.png\" width = 500, align = \"center\">"
      ]
    },
    {
      "cell_type": "markdown",
      "metadata": {
        "id": "n902JGmR7E3b",
        "colab_type": "text"
      },
      "source": [
        "The following equation provides the output:"
      ]
    },
    {
      "cell_type": "markdown",
      "metadata": {
        "id": "-1f4tkYB7E3c",
        "colab_type": "text"
      },
      "source": [
        "$$M_{new}=M-K+1$$\n",
        "$$M_{new}=4-2+1$$\n",
        "$$M_{new}=3$$"
      ]
    },
    {
      "cell_type": "markdown",
      "metadata": {
        "id": "L31i1Yz37E3d",
        "colab_type": "text"
      },
      "source": [
        "The following animation illustrates the process: The first iteration of the kernel overlay of the images produces one output. As the kernel is of size K, there are M-K  elements for the kernel to move in the horizontal direction. The same logic applies to the vertical direction.  "
      ]
    },
    {
      "cell_type": "markdown",
      "metadata": {
        "id": "1BC5oOh27E3d",
        "colab_type": "text"
      },
      "source": [
        "<img src = \"https://s3-api.us-geo.objectstorage.softlayer.net/cf-courses-data/CognitiveClass/DL0110EN/notebook_images%20/chapter%206/6.1.1outsize.gif\" width = 500, align = \"center\">"
      ]
    },
    {
      "cell_type": "markdown",
      "metadata": {
        "id": "FYJ6Jq4r7E3e",
        "colab_type": "text"
      },
      "source": [
        "Perform the convolution and verify the size is correct:"
      ]
    },
    {
      "cell_type": "code",
      "metadata": {
        "id": "T5JsIceg7E3e",
        "colab_type": "code",
        "colab": {
          "base_uri": "https://localhost:8080/",
          "height": 87
        },
        "outputId": "9fd5b52c-2448-4fd5-ad16-31286f475f24"
      },
      "source": [
        "z1=conv1(image1)\n",
        "print(\"z1:\",z1)\n",
        "print(\"shape:\",z1.shape[2:4])"
      ],
      "execution_count": 8,
      "outputs": [
        {
          "output_type": "stream",
          "text": [
            "z1: tensor([[[[4., 4., 4.],\n",
            "          [4., 4., 4.],\n",
            "          [4., 4., 4.]]]], grad_fn=<MkldnnConvolutionBackward>)\n",
            "shape: torch.Size([3, 3])\n"
          ],
          "name": "stdout"
        }
      ]
    },
    {
      "cell_type": "markdown",
      "metadata": {
        "id": "EqX9CDwf7E3h",
        "colab_type": "text"
      },
      "source": [
        "<a id=\"ref2\"></a>\n",
        "<h2 align=center>Stride parameter</h2>"
      ]
    },
    {
      "cell_type": "markdown",
      "metadata": {
        "id": "MDxn1wn07E3i",
        "colab_type": "text"
      },
      "source": [
        "The parameter stride changes the number of shifts the kernel moves per iteration. As a result, the output size also changes and is given by the following formula:"
      ]
    },
    {
      "cell_type": "markdown",
      "metadata": {
        "id": "WWj-jvaJ7E3j",
        "colab_type": "text"
      },
      "source": [
        "$$M_{new}=\\dfrac{M-K}{stride}+1$$\n"
      ]
    },
    {
      "cell_type": "markdown",
      "metadata": {
        "id": "FH_ypdb-7E3j",
        "colab_type": "text"
      },
      "source": [
        "Create a convolution object with a stride of 2:"
      ]
    },
    {
      "cell_type": "code",
      "metadata": {
        "id": "7xFLX0m87E3k",
        "colab_type": "code",
        "colab": {
          "base_uri": "https://localhost:8080/",
          "height": 52
        },
        "outputId": "8a080427-afc5-49c3-86b5-21be83bc66cf"
      },
      "source": [
        "conv3 = nn.Conv2d(in_channels=1, out_channels=1,kernel_size=2,stride=2)\n",
        "\n",
        "conv3.state_dict()['weight'][0][0]=torch.tensor([[1.0,1.0],[1.0,1.0]])\n",
        "conv3.state_dict()['bias'][0]=0.0\n",
        "conv3.state_dict()"
      ],
      "execution_count": 9,
      "outputs": [
        {
          "output_type": "execute_result",
          "data": {
            "text/plain": [
              "OrderedDict([('weight', tensor([[[[1., 1.],\n",
              "                        [1., 1.]]]])), ('bias', tensor([0.]))])"
            ]
          },
          "metadata": {
            "tags": []
          },
          "execution_count": 9
        }
      ]
    },
    {
      "cell_type": "markdown",
      "metadata": {
        "id": "ydaxUM3d7E3o",
        "colab_type": "text"
      },
      "source": [
        "For an image with a size of 4, calculate the output size:"
      ]
    },
    {
      "cell_type": "markdown",
      "metadata": {
        "id": "4wvmRDnH7E3p",
        "colab_type": "text"
      },
      "source": [
        "$$M_{new}=\\dfrac{M-K}{stride}+1$$\n",
        "$$M_{new}=\\dfrac{4-2}{2}+1$$\n",
        "$$M_{new}=2$$"
      ]
    },
    {
      "cell_type": "markdown",
      "metadata": {
        "id": "-0HUGnkM7E3q",
        "colab_type": "text"
      },
      "source": [
        "The following animation illustrates the process: The first iteration of the kernel overlay of the images produces one output. Because the kernel is of size K, there are M-K=2 elements. The stride is 2 because it will move 2 elements at a time. As a result, you divide M-K by the stride value 2:\n"
      ]
    },
    {
      "cell_type": "markdown",
      "metadata": {
        "id": "BeqOEAg87E3r",
        "colab_type": "text"
      },
      "source": [
        "<img src = \"https://s3-api.us-geo.objectstorage.softlayer.net/cf-courses-data/CognitiveClass/DL0110EN/notebook_images%20/chapter%206/6.1.1stride2.gif\" width = 500, align = \"center\">"
      ]
    },
    {
      "cell_type": "markdown",
      "metadata": {
        "id": "hX68LJun7E3s",
        "colab_type": "text"
      },
      "source": [
        "Perform the convolution and verify the size is correct: "
      ]
    },
    {
      "cell_type": "code",
      "metadata": {
        "id": "swUWL2FY7E3t",
        "colab_type": "code",
        "colab": {
          "base_uri": "https://localhost:8080/",
          "height": 69
        },
        "outputId": "07e2c99f-5d3f-4001-fdb3-f4ca8c5e6aaf"
      },
      "source": [
        "z3=conv3(image1)\n",
        "\n",
        "print(\"z3:\",z3)\n",
        "print(\"shape:\",z3.shape[2:4])"
      ],
      "execution_count": 10,
      "outputs": [
        {
          "output_type": "stream",
          "text": [
            "z3: tensor([[[[4., 4.],\n",
            "          [4., 4.]]]], grad_fn=<MkldnnConvolutionBackward>)\n",
            "shape: torch.Size([2, 2])\n"
          ],
          "name": "stdout"
        }
      ]
    },
    {
      "cell_type": "markdown",
      "metadata": {
        "id": "QHJ7JTua7E3x",
        "colab_type": "text"
      },
      "source": [
        "<a id='ref3'></a>\n",
        "<h2 align=center>Zero Padding </h2>\n"
      ]
    },
    {
      "cell_type": "markdown",
      "metadata": {
        "id": "sMRaoc-D7E3y",
        "colab_type": "text"
      },
      "source": [
        "As you apply successive convolutions, the image will shrink. You can apply zero padding to keep the image at a reasonable size, which also holds information at the borders."
      ]
    },
    {
      "cell_type": "markdown",
      "metadata": {
        "id": "zyEslkkX7E3y",
        "colab_type": "text"
      },
      "source": [
        "In addition, you might not get integer values for the size of the kernel. Consider the following image:"
      ]
    },
    {
      "cell_type": "code",
      "metadata": {
        "id": "jqpSCAHe7E3z",
        "colab_type": "code",
        "colab": {
          "base_uri": "https://localhost:8080/",
          "height": 87
        },
        "outputId": "ff5cf6cc-afe8-494c-89e6-7fb9432358a6"
      },
      "source": [
        "image1"
      ],
      "execution_count": 11,
      "outputs": [
        {
          "output_type": "execute_result",
          "data": {
            "text/plain": [
              "tensor([[[[1., 1., 1., 1.],\n",
              "          [1., 1., 1., 1.],\n",
              "          [1., 1., 1., 1.],\n",
              "          [1., 1., 1., 1.]]]])"
            ]
          },
          "metadata": {
            "tags": []
          },
          "execution_count": 11
        }
      ]
    },
    {
      "cell_type": "markdown",
      "metadata": {
        "id": "xJpf6r7e7E32",
        "colab_type": "text"
      },
      "source": [
        "Try performing convolutions with the <code>kernel_size=2</code> and a <code>stride=3</code>. Use these values:\n",
        "\n",
        "$$M_{new}=\\dfrac{M-K}{stride}+1$$\n",
        "$$M_{new}=\\dfrac{4-2}{3}+1$$\n",
        "$$M_{new}=1.666$$"
      ]
    },
    {
      "cell_type": "code",
      "metadata": {
        "id": "6d1qJdLO7E33",
        "colab_type": "code",
        "colab": {
          "base_uri": "https://localhost:8080/",
          "height": 52
        },
        "outputId": "983b650e-d762-469f-be9f-366941420e78"
      },
      "source": [
        "conv4 = nn.Conv2d(in_channels=1, out_channels=1,kernel_size=2,stride=3)\n",
        "conv4.state_dict()['weight'][0][0]=torch.tensor([[1.0,1.0],[1.0,1.0]])\n",
        "conv4.state_dict()['bias'][0]=0.0\n",
        "conv4.state_dict()\n",
        "z4=conv4(image1)\n",
        "print(\"z4:\",z4)\n",
        "print(\"z4:\",z4.shape[2:4])"
      ],
      "execution_count": 12,
      "outputs": [
        {
          "output_type": "stream",
          "text": [
            "z4: tensor([[[[4.]]]], grad_fn=<MkldnnConvolutionBackward>)\n",
            "z4: torch.Size([1, 1])\n"
          ],
          "name": "stdout"
        }
      ]
    },
    {
      "cell_type": "markdown",
      "metadata": {
        "id": "Kqz9rUN07E37",
        "colab_type": "text"
      },
      "source": [
        "You can add rows and columns of zeros around the image. This is called padding. In the constructor <code>Conv2d</code>, you specify the number of rows or columns of zeros that you want to add with the parameter padding. \n",
        "\n",
        "For a square image, you merely pad an extra column of zeros to the first column and the last column. Repeat the process for the rows. As a result, for a square image, the width and height is the original size plus 2 x the number of padding elements specified. You can then determine the size of the output after subsequent operations accordingly as shown in the following equation where you determine the size of an image after padding and then applying a convolutions kernel of size K."
      ]
    },
    {
      "cell_type": "markdown",
      "metadata": {
        "id": "sXiWFwa47E38",
        "colab_type": "text"
      },
      "source": [
        "$$M'=M+2 \\times padding$$\n",
        "$$M_{new}=M'-K+1$$"
      ]
    },
    {
      "cell_type": "markdown",
      "metadata": {
        "id": "lnhBU_EW7E39",
        "colab_type": "text"
      },
      "source": [
        "Consider the following example:"
      ]
    },
    {
      "cell_type": "code",
      "metadata": {
        "id": "nexgbCgB7E3-",
        "colab_type": "code",
        "colab": {
          "base_uri": "https://localhost:8080/",
          "height": 69
        },
        "outputId": "aedda100-a503-4818-a00d-5de1d07feaa7"
      },
      "source": [
        "conv5 = nn.Conv2d(in_channels=1, out_channels=1,kernel_size=2,stride=3,padding=1)\n",
        "\n",
        "conv5.state_dict()['weight'][0][0]=torch.tensor([[1.0,1.0],[1.0,1.0]])\n",
        "conv5.state_dict()['bias'][0]=0.0\n",
        "conv5.state_dict()\n",
        "z5=conv5(image1)\n",
        "print(\"z5:\",z5)\n",
        "print(\"z5:\",z4.shape[2:4])"
      ],
      "execution_count": 13,
      "outputs": [
        {
          "output_type": "stream",
          "text": [
            "z5: tensor([[[[1., 2.],\n",
            "          [2., 4.]]]], grad_fn=<MkldnnConvolutionBackward>)\n",
            "z5: torch.Size([1, 1])\n"
          ],
          "name": "stdout"
        }
      ]
    },
    {
      "cell_type": "code",
      "metadata": {
        "id": "unZZ-2cv7E4B",
        "colab_type": "code",
        "colab": {}
      },
      "source": [
        ""
      ],
      "execution_count": 0,
      "outputs": []
    },
    {
      "cell_type": "markdown",
      "metadata": {
        "id": "aEUf3Qs07E4E",
        "colab_type": "text"
      },
      "source": [
        "The process is summarized in the following  animation: "
      ]
    },
    {
      "cell_type": "markdown",
      "metadata": {
        "id": "8kuz10YR7E4F",
        "colab_type": "text"
      },
      "source": [
        "<img src = \"https://s3-api.us-geo.objectstorage.softlayer.net/cf-courses-data/CognitiveClass/DL0110EN/notebook_images%20/chapter%206/6.1.1zeropad.gif\" width = 500, align = \"center\">"
      ]
    },
    {
      "cell_type": "markdown",
      "metadata": {
        "id": "CcpLOozF7E4G",
        "colab_type": "text"
      },
      "source": [
        "<a id='ref4'></a>\n",
        "<h2 align=center>Practice Question </h2>"
      ]
    },
    {
      "cell_type": "markdown",
      "metadata": {
        "id": "qtVQKXDb7E4G",
        "colab_type": "text"
      },
      "source": [
        " A kernel of zeros with a kernel size=3  is applied to the following image: "
      ]
    },
    {
      "cell_type": "code",
      "metadata": {
        "id": "SwfezjGD7E4H",
        "colab_type": "code",
        "colab": {
          "base_uri": "https://localhost:8080/",
          "height": 87
        },
        "outputId": "714572cc-d4ef-4779-dc8b-53be46e8b3fa"
      },
      "source": [
        "Image=torch.randn((1,1,4,4))\n",
        "Image"
      ],
      "execution_count": 14,
      "outputs": [
        {
          "output_type": "execute_result",
          "data": {
            "text/plain": [
              "tensor([[[[ 1.4349, -1.2353, -0.6742, -1.2534],\n",
              "          [ 0.0299,  1.0810,  0.3318,  1.6838],\n",
              "          [-0.5337, -0.7822,  0.2584,  0.8989],\n",
              "          [-0.1520,  2.1929,  0.4848,  1.0166]]]])"
            ]
          },
          "metadata": {
            "tags": []
          },
          "execution_count": 14
        }
      ]
    },
    {
      "cell_type": "markdown",
      "metadata": {
        "id": "Xnr_i33g7E4Q",
        "colab_type": "text"
      },
      "source": [
        "Question: Without using the function, determine what the outputs values are as each element:"
      ]
    },
    {
      "cell_type": "markdown",
      "metadata": {
        "id": "YCG-ciqJAStb",
        "colab_type": "text"
      },
      "source": [
        "Ans: Zero.\n",
        "As each element of the kernel is zero, and for every  output, the image is multiplied  by the  kernel, the result is always zero."
      ]
    },
    {
      "cell_type": "markdown",
      "metadata": {
        "id": "mDWIRHIu7E4Q",
        "colab_type": "text"
      },
      "source": [
        "Double-click __here__ for the solution.\n",
        "\n",
        "<!-- Your answer is below:\n",
        "As each element of the kernel is zero, and for every  output, the image is multiplied  by the  kernel, the result is always zero \n",
        "\n",
        "-->"
      ]
    },
    {
      "cell_type": "markdown",
      "metadata": {
        "id": "m-yQ8cBW7E4R",
        "colab_type": "text"
      },
      "source": [
        "Question: Use the following convolution object to perform convolution on the tensor   <code>Image</code>:"
      ]
    },
    {
      "cell_type": "code",
      "metadata": {
        "id": "by5xN4yP7E4R",
        "colab_type": "code",
        "colab": {}
      },
      "source": [
        "conv = nn.Conv2d(in_channels=1, out_channels=1,kernel_size=3)\n",
        "conv.state_dict()['weight'][0][0]=torch.tensor([[0,0,0],[0,0,0],[0,0.0,0]])\n",
        "conv.state_dict()['bias'][0]=0.0"
      ],
      "execution_count": 0,
      "outputs": []
    },
    {
      "cell_type": "code",
      "metadata": {
        "id": "qJTLtir3AmmO",
        "colab_type": "code",
        "colab": {
          "base_uri": "https://localhost:8080/",
          "height": 52
        },
        "outputId": "383661dd-78af-4f9f-c665-11b222a276d7"
      },
      "source": [
        "conv(Image)"
      ],
      "execution_count": 16,
      "outputs": [
        {
          "output_type": "execute_result",
          "data": {
            "text/plain": [
              "tensor([[[[0., 0.],\n",
              "          [0., 0.]]]], grad_fn=<MkldnnConvolutionBackward>)"
            ]
          },
          "metadata": {
            "tags": []
          },
          "execution_count": 16
        }
      ]
    },
    {
      "cell_type": "markdown",
      "metadata": {
        "id": "poeGTOq-7E4W",
        "colab_type": "text"
      },
      "source": [
        "Double-click __here__ for the solution.\n",
        "<!-- Your answer is below:\n",
        "conv(Image)\n",
        "-->"
      ]
    },
    {
      "cell_type": "markdown",
      "metadata": {
        "id": "jVY2nhoN7E4X",
        "colab_type": "text"
      },
      "source": [
        "Question: You have an image of size 4. The parameters are as follows  kernel_size=2,stride=2. What is the size of the output?"
      ]
    },
    {
      "cell_type": "markdown",
      "metadata": {
        "id": "LHHvFlvlA1oR",
        "colab_type": "text"
      },
      "source": [
        "Ans: (M-K)/stride +1\n",
        "(4-2)/2 +1\n",
        "2"
      ]
    },
    {
      "cell_type": "markdown",
      "metadata": {
        "id": "E6DU8cb07E4b",
        "colab_type": "text"
      },
      "source": [
        "Double-click __here__ for the solution.\n",
        "\n",
        "<!-- Your answer is below:\n",
        "(M-K)/stride +1\n",
        "(4-2)/2 +1\n",
        "2\n",
        "-->"
      ]
    },
    {
      "cell_type": "markdown",
      "metadata": {
        "id": "XGsAf_OO7E4c",
        "colab_type": "text"
      },
      "source": [
        "<a href=\"http://cocl.us/pytorch_link_bottom\">\n",
        "    <img src=\"https://s3-api.us-geo.objectstorage.softlayer.net/cf-courses-data/CognitiveClass/DL0110EN/notebook_images%20/notebook_bottom%20.png\" width=\"750\" alt=\"PyTorch Bottom\" />\n",
        "</a>"
      ]
    },
    {
      "cell_type": "markdown",
      "metadata": {
        "id": "MiqMxfhc7E4e",
        "colab_type": "text"
      },
      "source": [
        "### About the Authors:  \n",
        "[Joseph Santarcangelo]( https://www.linkedin.com/in/joseph-s-50398b136/) has a PhD in Electrical Engineering. His research focused on using machine learning, signal processing, and computer vision to determine how videos impact human cognition. \n",
        "\n",
        "Other contributors: [Michelle Carey](  https://www.linkedin.com/in/michelleccarey/), [Mavis Zhou](  https://www.linkedin.com/in/jiahui-mavis-zhou-a4537814a/) "
      ]
    },
    {
      "cell_type": "markdown",
      "metadata": {
        "id": "c-0wlR7y7E4f",
        "colab_type": "text"
      },
      "source": [
        "<hr>"
      ]
    },
    {
      "cell_type": "markdown",
      "metadata": {
        "id": "qH-OKsIk7E4g",
        "colab_type": "text"
      },
      "source": [
        "Copyright &copy; 2018 [cognitiveclass.ai](cognitiveclass.ai?utm_source=bducopyrightlink&utm_medium=dswb&utm_campaign=bdu). This notebook and its source code are released under the terms of the [MIT License](https://bigdatauniversity.com/mit-license/)."
      ]
    },
    {
      "cell_type": "code",
      "metadata": {
        "id": "VZiYIdMw7E4i",
        "colab_type": "code",
        "colab": {}
      },
      "source": [
        ""
      ],
      "execution_count": 0,
      "outputs": []
    }
  ]
}