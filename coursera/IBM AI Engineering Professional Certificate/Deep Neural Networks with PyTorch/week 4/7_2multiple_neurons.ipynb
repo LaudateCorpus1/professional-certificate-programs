{
  "nbformat": 4,
  "nbformat_minor": 0,
  "metadata": {
    "kernelspec": {
      "display_name": "Python",
      "language": "python",
      "name": "conda-env-python-py"
    },
    "language_info": {
      "codemirror_mode": {
        "name": "ipython",
        "version": 3
      },
      "file_extension": ".py",
      "mimetype": "text/x-python",
      "name": "python",
      "nbconvert_exporter": "python",
      "pygments_lexer": "ipython3",
      "version": "3.6.7"
    },
    "colab": {
      "name": "7.2multiple_neurons.ipynb",
      "provenance": [],
      "collapsed_sections": []
    }
  },
  "cells": [
    {
      "cell_type": "markdown",
      "metadata": {
        "id": "5xA2kCSZ3jU4",
        "colab_type": "text"
      },
      "source": [
        "<a href=\"http://cocl.us/pytorch_link_top\">\n",
        "    <img src=\"https://s3-api.us-geo.objectstorage.softlayer.net/cf-courses-data/CognitiveClass/DL0110EN/notebook_images%20/Pytochtop.png\" width=\"750\" alt=\"IBM Product \" />\n",
        "</a> "
      ]
    },
    {
      "cell_type": "markdown",
      "metadata": {
        "id": "SPm5fkgA3jU-",
        "colab_type": "text"
      },
      "source": [
        "<img src=\"https://s3-api.us-geo.objectstorage.softlayer.net/cf-courses-data/CognitiveClass/DL0110EN/notebook_images%20/cc-logo-square.png\" width=\"200\" alt=\"cognitiveclass.ai logo\" />"
      ]
    },
    {
      "cell_type": "markdown",
      "metadata": {
        "id": "VG9EXuM83jVB",
        "colab_type": "text"
      },
      "source": [
        "<h1>Neural Networks More Hidden Neutrons</h1>"
      ]
    },
    {
      "cell_type": "markdown",
      "metadata": {
        "id": "gIuDlhTb3jVD",
        "colab_type": "text"
      },
      "source": [
        "<h2>Table of Contents</h2>\n",
        "\n",
        "<ul>\n",
        "    <li><a href=\"#Prep\">Preperation</a></li>\n",
        "    <li><a href=\"#Data\">Get Our Data</a></li>\n",
        "    <li><a href=\"#Train\">Define the Neural Network, Optimizer, and Train the Model</a></li>\n",
        "</ul>\n",
        "<p>Estimated Time Needed: <strong>25 min</strong></p>\n",
        "\n",
        "<hr>"
      ]
    },
    {
      "cell_type": "markdown",
      "metadata": {
        "id": "fofbggJK3jVE",
        "colab_type": "text"
      },
      "source": [
        "<h2 id=\"Prep\">Preparation</h2>"
      ]
    },
    {
      "cell_type": "markdown",
      "metadata": {
        "id": "cBXRTCs_3jVF",
        "colab_type": "text"
      },
      "source": [
        "We'll need to import the following libraries for this lab."
      ]
    },
    {
      "cell_type": "code",
      "metadata": {
        "id": "tKk04c-q3jVH",
        "colab_type": "code",
        "colab": {}
      },
      "source": [
        "import torch\n",
        "import numpy as np\n",
        "import matplotlib.pyplot as plt \n",
        "%matplotlib inline\n",
        "import torch.nn as nn\n",
        "import torch.nn.functional as F\n",
        "from torch.utils.data import Dataset, DataLoader"
      ],
      "execution_count": 0,
      "outputs": []
    },
    {
      "cell_type": "markdown",
      "metadata": {
        "id": "zxTWWdjU3jVX",
        "colab_type": "text"
      },
      "source": [
        "Define the plotting functions."
      ]
    },
    {
      "cell_type": "code",
      "metadata": {
        "id": "5stwaRQr3jVY",
        "colab_type": "code",
        "colab": {}
      },
      "source": [
        "def get_hist(model,data_set):\n",
        "    activations=model.activation(data_set.x)\n",
        "    for i,activation in enumerate(activations):\n",
        "        plt.hist(activation.numpy(),4,density=True)\n",
        "        plt.title(\"Activation layer \" + str(i+1))\n",
        "        plt.xlabel(\"Activation\")\n",
        "        plt.xlabel(\"Activation\")\n",
        "        plt.legend()\n",
        "        plt.show()"
      ],
      "execution_count": 0,
      "outputs": []
    },
    {
      "cell_type": "code",
      "metadata": {
        "id": "Tljq5YUg3jVn",
        "colab_type": "code",
        "colab": {}
      },
      "source": [
        "def PlotStuff(X,Y,model=None,leg=False):\n",
        "    \n",
        "    plt.plot(X[Y==0].numpy(),Y[Y==0].numpy(),'or',label='training points y=0 ' )\n",
        "    plt.plot(X[Y==1].numpy(),Y[Y==1].numpy(),'ob',label='training points y=1 ' )\n",
        "\n",
        "    if model!=None:\n",
        "        plt.plot(X.numpy(),model(X).detach().numpy(),label='neral network ')\n",
        "\n",
        "    plt.legend()\n",
        "    plt.show()"
      ],
      "execution_count": 0,
      "outputs": []
    },
    {
      "cell_type": "markdown",
      "metadata": {
        "id": "QAR7NjRI3jVx",
        "colab_type": "text"
      },
      "source": [
        "<h2 id=\"Data\">Get Our Data</h2>"
      ]
    },
    {
      "cell_type": "markdown",
      "metadata": {
        "id": "mpSswlQP3jVz",
        "colab_type": "text"
      },
      "source": [
        "Define the class to get our dataset."
      ]
    },
    {
      "cell_type": "code",
      "metadata": {
        "id": "y7xzYQrO3jV0",
        "colab_type": "code",
        "colab": {}
      },
      "source": [
        "class Data(Dataset):\n",
        "    def __init__(self):\n",
        "        self.x=torch.linspace(-20, 20, 100).view(-1,1)\n",
        "  \n",
        "        self.y=torch.zeros(self.x.shape[0])\n",
        "        self.y[(self.x[:,0]>-10)& (self.x[:,0]<-5)]=1\n",
        "        self.y[(self.x[:,0]>5)& (self.x[:,0]<10)]=1\n",
        "        self.y=self.y.view(-1,1)\n",
        "        self.len=self.x.shape[0]\n",
        "    def __getitem__(self,index):    \n",
        "            \n",
        "        return self.x[index],self.y[index]\n",
        "    def __len__(self):\n",
        "        return self.len\n",
        "\n"
      ],
      "execution_count": 0,
      "outputs": []
    },
    {
      "cell_type": "markdown",
      "metadata": {
        "id": "Rg3bgIk13jV-",
        "colab_type": "text"
      },
      "source": [
        "<h2 id=\"Train\">Define the Neural Network, Optimizer and Train the Model</h2>"
      ]
    },
    {
      "cell_type": "markdown",
      "metadata": {
        "id": "yU4TvOo03jWA",
        "colab_type": "text"
      },
      "source": [
        "Define the class for creating our model."
      ]
    },
    {
      "cell_type": "code",
      "metadata": {
        "id": "lK8XdOKY3jWC",
        "colab_type": "code",
        "colab": {}
      },
      "source": [
        "class Net(nn.Module):\n",
        "    def __init__(self,D_in,H,D_out):\n",
        "        super(Net,self).__init__()\n",
        "        self.linear1=nn.Linear(D_in,H)\n",
        "        self.linear2=nn.Linear(H,D_out)\n",
        "\n",
        "        \n",
        "    def forward(self,x):\n",
        "        x=torch.sigmoid(self.linear1(x))  \n",
        "        x=torch.sigmoid(self.linear2(x))\n",
        "        return x"
      ],
      "execution_count": 0,
      "outputs": []
    },
    {
      "cell_type": "markdown",
      "metadata": {
        "id": "n_NMe9rI3jWK",
        "colab_type": "text"
      },
      "source": [
        "Create the function to train our model, which accumulate lost for each iteration to obtain the cost."
      ]
    },
    {
      "cell_type": "code",
      "metadata": {
        "id": "QbPiMEpT3jWM",
        "colab_type": "code",
        "colab": {}
      },
      "source": [
        " def train(data_set,model,criterion, train_loader, optimizer, epochs=5,plot_number=10):\n",
        "    cost=[]\n",
        "    \n",
        "    for epoch in range(epochs):\n",
        "        total=0\n",
        "        \n",
        "        for x,y in train_loader:\n",
        "            optimizer.zero_grad()\n",
        "            \n",
        "            yhat=model(x)\n",
        "            loss=criterion(yhat,y)\n",
        "            optimizer.zero_grad()\n",
        "            loss.backward()\n",
        "            optimizer.step()\n",
        "            total+=loss.item()\n",
        "            \n",
        "        if epoch%plot_number==0:\n",
        "            PlotStuff(data_set.x,data_set.y,model)\n",
        "        \n",
        "        cost.append(total)\n",
        "    plt.figure()\n",
        "    plt.plot(cost)\n",
        "    plt.xlabel('epoch')\n",
        "    plt.ylabel('cost')\n",
        "    plt.show()\n",
        "    return cost"
      ],
      "execution_count": 0,
      "outputs": []
    },
    {
      "cell_type": "code",
      "metadata": {
        "id": "8YuN2pzp3jWS",
        "colab_type": "code",
        "colab": {}
      },
      "source": [
        "data_set=Data()"
      ],
      "execution_count": 0,
      "outputs": []
    },
    {
      "cell_type": "code",
      "metadata": {
        "id": "mPYHXK0N3jWW",
        "colab_type": "code",
        "colab": {
          "base_uri": "https://localhost:8080/",
          "height": 265
        },
        "outputId": "14a1e797-7814-4f07-f619-9de9d849989b"
      },
      "source": [
        "PlotStuff(data_set.x,data_set.y,leg=False)"
      ],
      "execution_count": 8,
      "outputs": [
        {
          "output_type": "display_data",
          "data": {
            "image/png": "[encoded data removed]",
            "text/plain": [
              "<Figure size 432x288 with 1 Axes>"
            ]
          },
          "metadata": {
            "tags": []
          }
        }
      ]
    },
    {
      "cell_type": "markdown",
      "metadata": {
        "id": "9rMxQ3Gg3jWb",
        "colab_type": "text"
      },
      "source": [
        "Create our model with 9\n",
        "neurons in the hidden layer. And then create a BCE loss and an Adam optimizer."
      ]
    },
    {
      "cell_type": "code",
      "metadata": {
        "id": "M5gwDcpA3jWc",
        "colab_type": "code",
        "colab": {
          "base_uri": "https://localhost:8080/",
          "height": 1000
        },
        "outputId": "0d71b880-4cf1-411f-d4ee-c64bae1949dd"
      },
      "source": [
        "torch.manual_seed(0)\n",
        "model=Net(1,9,1)\n",
        "learning_rate=0.1\n",
        "criterion=nn.BCELoss()\n",
        "optimizer=torch.optim.Adam(model.parameters(), lr=learning_rate)\n",
        "train_loader=DataLoader(dataset=data_set,batch_size=100)\n",
        "COST=train(data_set,model,criterion, train_loader, optimizer, epochs=600,plot_number=200)"
      ],
      "execution_count": 9,
      "outputs": [
        {
          "output_type": "display_data",
          "data": {
            "image/png": "[encoded data removed]",
            "text/plain": [
              "<Figure size 432x288 with 1 Axes>"
            ]
          },
          "metadata": {
            "tags": []
          }
        },
        {
          "output_type": "display_data",
          "data": {
            "image/png": "[encoded data removed]",
            "text/plain": [
              "<Figure size 432x288 with 1 Axes>"
            ]
          },
          "metadata": {
            "tags": []
          }
        },
        {
          "output_type": "display_data",
          "data": {
            "image/png": "[encoded data removed]",
            "text/plain": [
              "<Figure size 432x288 with 1 Axes>"
            ]
          },
          "metadata": {
            "tags": []
          }
        },
        {
          "output_type": "display_data",
          "data": {
            "image/png": "[encoded data removed]",
            "text/plain": [
              "<Figure size 432x288 with 1 Axes>"
            ]
          },
          "metadata": {
            "tags": []
          }
        }
      ]
    },
    {
      "cell_type": "markdown",
      "metadata": {
        "id": "BHI1UgPL3jWg",
        "colab_type": "raw"
      },
      "source": [
        "# this is for exercises\n",
        "model= torch.nn.Sequential(\n",
        "    torch.nn.Linear(1, 6), \n",
        "    torch.nn.Sigmoid(),\n",
        "    torch.nn.Linear(6,1),\n",
        "    torch.nn.Sigmoid()\n",
        "\n",
        ")"
      ]
    },
    {
      "cell_type": "code",
      "metadata": {
        "id": "NjuORKm73jWh",
        "colab_type": "code",
        "colab": {
          "base_uri": "https://localhost:8080/",
          "height": 283
        },
        "outputId": "41717811-3bf5-4d9c-93a5-8ed38ad84a41"
      },
      "source": [
        "plt.plot(COST)"
      ],
      "execution_count": 10,
      "outputs": [
        {
          "output_type": "execute_result",
          "data": {
            "text/plain": [
              "[<matplotlib.lines.Line2D at 0x7f7aab5f3b38>]"
            ]
          },
          "metadata": {
            "tags": []
          },
          "execution_count": 10
        },
        {
          "output_type": "display_data",
          "data": {
            "image/png": "[encoded data removed]",
            "text/plain": [
              "<Figure size 432x288 with 1 Axes>"
            ]
          },
          "metadata": {
            "tags": []
          }
        }
      ]
    },
    {
      "cell_type": "markdown",
      "metadata": {
        "id": "wNG974JG3jWn",
        "colab_type": "text"
      },
      "source": [
        "<a href=\"http://cocl.us/pytorch_link_bottom\">\n",
        "    <img src=\"https://s3-api.us-geo.objectstorage.softlayer.net/cf-courses-data/CognitiveClass/DL0110EN/notebook_images%20/notebook_bottom%20.png\" width=\"750\" alt=\"PyTorch Bottom\" />\n",
        "</a>"
      ]
    },
    {
      "cell_type": "markdown",
      "metadata": {
        "id": "Q_IpgCKE3jWo",
        "colab_type": "text"
      },
      "source": [
        "<h2>About the Authors:</h2> \n",
        "\n",
        "<a href=\"https://www.linkedin.com/in/joseph-s-50398b136/\">Joseph Santarcangelo</a> has a PhD in Electrical Engineering, his research focused on using machine learning, signal processing, and computer vision to determine how videos impact human cognition. Joseph has been working for IBM since he completed his PhD. "
      ]
    },
    {
      "cell_type": "markdown",
      "metadata": {
        "id": "tTeFKSbb3jWp",
        "colab_type": "text"
      },
      "source": [
        "Other contributors: <a href=\"https://www.linkedin.com/in/michelleccarey/\">Michelle Carey</a>, <a href=\"www.linkedin.com/in/jiahui-mavis-zhou-a4537814a\">Mavis Zhou</a>, <a href=\"https://www.linkedin.com/in/fanjiang0619/\">Fan Jiang</a>, <a href=\"https://www.linkedin.com/in/yi-leng-yao-84451275/\">Yi Leng Yao</a>, <a href=\"https://www.linkedin.com/in/sacchitchadha/\">Sacchit Chadha</a>"
      ]
    },
    {
      "cell_type": "markdown",
      "metadata": {
        "id": "1sdklbZi3jWq",
        "colab_type": "text"
      },
      "source": [
        "Copyright &copy; 2018 <a href=\"cognitiveclass.ai?utm_source=bducopyrightlink&utm_medium=dswb&utm_campaign=bdu\">cognitiveclass.ai</a>. This notebook and its source code are released under the terms of the <a href=\"https://bigdatauniversity.com/mit-license/\">MIT License</a>."
      ]
    }
  ]
}