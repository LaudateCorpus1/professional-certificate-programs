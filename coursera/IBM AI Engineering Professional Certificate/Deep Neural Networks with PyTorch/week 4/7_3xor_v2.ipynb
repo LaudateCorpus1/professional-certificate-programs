{
  "nbformat": 4,
  "nbformat_minor": 0,
  "metadata": {
    "kernelspec": {
      "display_name": "Python 3",
      "language": "python",
      "name": "python3"
    },
    "language_info": {
      "codemirror_mode": {
        "name": "ipython",
        "version": 3
      },
      "file_extension": ".py",
      "mimetype": "text/x-python",
      "name": "python",
      "nbconvert_exporter": "python",
      "pygments_lexer": "ipython3",
      "version": "3.6.8"
    },
    "colab": {
      "name": "7.3xor_v2.ipynb",
      "provenance": [],
      "collapsed_sections": []
    }
  },
  "cells": [
    {
      "cell_type": "markdown",
      "metadata": {
        "id": "Ejj3eHJn4Cy1",
        "colab_type": "text"
      },
      "source": [
        "<a href=\"http://cocl.us/pytorch_link_top\">\n",
        "    <img src=\"https://s3-api.us-geo.objectstorage.softlayer.net/cf-courses-data/CognitiveClass/DL0110EN/notebook_images%20/Pytochtop.png\" width=\"750\" alt=\"IBM Product \" />\n",
        "</a> "
      ]
    },
    {
      "cell_type": "markdown",
      "metadata": {
        "id": "sOOwEy1W4Cy4",
        "colab_type": "text"
      },
      "source": [
        "<img src=\"https://s3-api.us-geo.objectstorage.softlayer.net/cf-courses-data/CognitiveClass/DL0110EN/notebook_images%20/cc-logo-square.png\" width=\"200\" alt=\"cognitiveclass.ai logo\" />"
      ]
    },
    {
      "cell_type": "markdown",
      "metadata": {
        "id": "IQr8qRvi4Cy5",
        "colab_type": "text"
      },
      "source": [
        "<h1>Practice: Neural Networks with One Hidden Layer: Noisy XOR</h1>"
      ]
    },
    {
      "cell_type": "markdown",
      "metadata": {
        "id": "Sii5oHH14Cy7",
        "colab_type": "text"
      },
      "source": [
        "<h2>Table of Contents</h2>\n",
        "<p>In this lab, you will see how many neurons it takes to classify noisy XOR data with one hidden layer neural network.</p>\n",
        "\n",
        "<ul>\n",
        "    <li><a href=\"#Model\">Neural Network Module and Training Function</a></li>\n",
        "    <li><a href=\"#Makeup_Data\">Make Some Data</a></li>\n",
        "    <li><a href=\"#One\">One Neuron</a></li>\n",
        "    <li><a href=\"#Two\">Two Neurons</a></li>\n",
        "    <li><a href=\"#Three\">Three Neurons</a></li>\n",
        "</ul>\n",
        "<p>Estimated Time Needed: <strong>25 min</strong></p>\n",
        "<hr>"
      ]
    },
    {
      "cell_type": "markdown",
      "metadata": {
        "id": "tsb2zY0Z4Cy8",
        "colab_type": "text"
      },
      "source": [
        "<h2>Preparation</h2>"
      ]
    },
    {
      "cell_type": "markdown",
      "metadata": {
        "id": "ExKA432c4Cy-",
        "colab_type": "text"
      },
      "source": [
        "We'll need the following libraries"
      ]
    },
    {
      "cell_type": "code",
      "metadata": {
        "id": "iYtraZYZ4Cy_",
        "colab_type": "code",
        "colab": {}
      },
      "source": [
        "# Import the libraries we need for this lab\n",
        "\n",
        "\n",
        "\n",
        "import numpy as np\n",
        "import torch\n",
        "import torch.nn as nn\n",
        "import torch.nn.functional as F\n",
        "import matplotlib.pyplot as plt \n",
        "from matplotlib.colors import ListedColormap\n",
        "from torch.utils.data import Dataset, DataLoader"
      ],
      "execution_count": 0,
      "outputs": []
    },
    {
      "cell_type": "markdown",
      "metadata": {
        "id": "yi-cc-t94CzJ",
        "colab_type": "text"
      },
      "source": [
        "Use the following function to plot the data: "
      ]
    },
    {
      "cell_type": "code",
      "metadata": {
        "id": "0_8SzIQZ4CzK",
        "colab_type": "code",
        "colab": {}
      },
      "source": [
        "# Plot the data\n",
        "\n",
        "def plot_decision_regions_2class(model,data_set):\n",
        "    cmap_light = ListedColormap(['#FFAAAA', '#AAFFAA', '#00AAFF'])\n",
        "    cmap_bold = ListedColormap(['#FF0000', '#00FF00', '#00AAFF'])\n",
        "    X = data_set.x.numpy()\n",
        "    y = data_set.y.numpy()\n",
        "    h = .02\n",
        "    x_min, x_max = X[:, 0].min() - 0.1 , X[:, 0].max() + 0.1 \n",
        "    y_min, y_max = X[:, 1].min() - 0.1 , X[:, 1].max() + 0.1 \n",
        "    xx, yy = np.meshgrid(np.arange(x_min, x_max, h),np.arange(y_min, y_max, h))\n",
        "    XX = torch.Tensor(np.c_[xx.ravel(), yy.ravel()])\n",
        "\n",
        "    yhat = np.logical_not((model(XX)[:, 0] > 0.5).numpy()).reshape(xx.shape)\n",
        "    plt.pcolormesh(xx, yy, yhat, cmap=cmap_light)\n",
        "    plt.plot(X[y[:, 0] == 0, 0], X[y[:, 0] == 0, 1], 'o', label='y=0')\n",
        "    plt.plot(X[y[:, 0] == 1, 0], X[y[:, 0] == 1, 1], 'ro', label='y=1')\n",
        "    plt.title(\"decision region\")\n",
        "    plt.legend()"
      ],
      "execution_count": 0,
      "outputs": []
    },
    {
      "cell_type": "markdown",
      "metadata": {
        "id": "-ZNXF_Xq4CzO",
        "colab_type": "text"
      },
      "source": [
        "Use the following function to calculate accuracy: "
      ]
    },
    {
      "cell_type": "code",
      "metadata": {
        "id": "vaTPJO-74CzQ",
        "colab_type": "code",
        "colab": {}
      },
      "source": [
        "# Calculate the accuracy\n",
        "\n",
        "def accuracy(model, data_set):\n",
        "    return np.mean(data_set.y.view(-1).numpy() == (model(data_set.x)[:, 0] > 0.5).numpy())"
      ],
      "execution_count": 0,
      "outputs": []
    },
    {
      "cell_type": "markdown",
      "metadata": {
        "id": "Eseczjwr4CzU",
        "colab_type": "text"
      },
      "source": [
        "<!--Empty Space for separating topics-->"
      ]
    },
    {
      "cell_type": "markdown",
      "metadata": {
        "id": "dtQrtg6U4CzV",
        "colab_type": "text"
      },
      "source": [
        "<h2 id=\"Model\">Neural Network Module and Training Function</h2> "
      ]
    },
    {
      "cell_type": "markdown",
      "metadata": {
        "id": "sKsP438x4CzV",
        "colab_type": "text"
      },
      "source": [
        "Define the neural network module or class: "
      ]
    },
    {
      "cell_type": "code",
      "metadata": {
        "id": "fwfQrR314CzW",
        "colab_type": "code",
        "colab": {}
      },
      "source": [
        "# Define the class Net with one hidden layer \n",
        "\n",
        "class Net(nn.Module):\n",
        "    \n",
        "    # Constructor\n",
        "    def __init__(self, D_in, H, D_out):\n",
        "        super(Net, self).__init__()\n",
        "        #hidden layer \n",
        "        self.linear1 = nn.Linear(D_in, H)\n",
        "        #output layer \n",
        "        self.linear2 = nn.Linear(H, D_out)\n",
        "\n",
        "    # Prediction    \n",
        "    def forward(self, x):\n",
        "        x = torch.sigmoid(self.linear1(x))  \n",
        "        x = torch.sigmoid(self.linear2(x))\n",
        "        return x"
      ],
      "execution_count": 0,
      "outputs": []
    },
    {
      "cell_type": "markdown",
      "metadata": {
        "id": "7jrMwmXf4Czd",
        "colab_type": "text"
      },
      "source": [
        "Define a function to train the model: "
      ]
    },
    {
      "cell_type": "code",
      "metadata": {
        "id": "ayKlWQOj4Cze",
        "colab_type": "code",
        "colab": {}
      },
      "source": [
        "# Define the train model\n",
        "\n",
        "def train(data_set, model, criterion, train_loader, optimizer, epochs=5):\n",
        "    COST = []\n",
        "    ACC = []\n",
        "    for epoch in range(epochs):\n",
        "        total=0\n",
        "        for x, y in train_loader:\n",
        "            optimizer.zero_grad()\n",
        "            yhat = model(x)\n",
        "            loss = criterion(yhat, y)\n",
        "            optimizer.zero_grad()\n",
        "            loss.backward()\n",
        "            optimizer.step()\n",
        "            #cumulative loss \n",
        "            total+=loss.item()\n",
        "        ACC.append(accuracy(model, data_set))\n",
        "        COST.append(total)\n",
        "        \n",
        "    fig, ax1 = plt.subplots()\n",
        "    color = 'tab:red'\n",
        "    ax1.plot(COST, color=color)\n",
        "    ax1.set_xlabel('epoch', color=color)\n",
        "    ax1.set_ylabel('total loss', color=color)\n",
        "    ax1.tick_params(axis='y', color=color)\n",
        "    \n",
        "    ax2 = ax1.twinx()  \n",
        "    color = 'tab:blue'\n",
        "    ax2.set_ylabel('accuracy', color=color)  # we already handled the x-label with ax1\n",
        "    ax2.plot(ACC, color=color)\n",
        "    ax2.tick_params(axis='y', color=color)\n",
        "    fig.tight_layout()  # otherwise the right y-label is slightly clipped\n",
        "    \n",
        "    plt.show()\n",
        "\n",
        "    return COST"
      ],
      "execution_count": 0,
      "outputs": []
    },
    {
      "cell_type": "markdown",
      "metadata": {
        "id": "SqeqxDHO4Czq",
        "colab_type": "text"
      },
      "source": [
        "<!--Empty Space for separating topics-->"
      ]
    },
    {
      "cell_type": "markdown",
      "metadata": {
        "id": "srRqcfV44Czq",
        "colab_type": "text"
      },
      "source": [
        "<h2 id=\"Makeup_Data\">Make Some Data</h2> "
      ]
    },
    {
      "cell_type": "markdown",
      "metadata": {
        "id": "Fi1PKadZ4Czr",
        "colab_type": "text"
      },
      "source": [
        "Dataset class:"
      ]
    },
    {
      "cell_type": "code",
      "metadata": {
        "id": "gO_ilepW4Czr",
        "colab_type": "code",
        "colab": {}
      },
      "source": [
        "# Define the class XOR_Data\n",
        "\n",
        "class XOR_Data(Dataset):\n",
        "    \n",
        "    # Constructor\n",
        "    def __init__(self, N_s=100):\n",
        "        self.x = torch.zeros((N_s, 2))\n",
        "        self.y = torch.zeros((N_s, 1))\n",
        "        for i in range(N_s // 4):\n",
        "            self.x[i, :] = torch.Tensor([0.0, 0.0]) \n",
        "            self.y[i, 0] = torch.Tensor([0.0])\n",
        "\n",
        "            self.x[i + N_s // 4, :] = torch.Tensor([0.0, 1.0])\n",
        "            self.y[i + N_s // 4, 0] = torch.Tensor([1.0])\n",
        "    \n",
        "            self.x[i + N_s // 2, :] = torch.Tensor([1.0, 0.0])\n",
        "            self.y[i + N_s // 2, 0] = torch.Tensor([1.0])\n",
        "    \n",
        "            self.x[i + 3 * N_s // 4, :] = torch.Tensor([1.0, 1.0])\n",
        "            self.y[i + 3 * N_s // 4, 0] = torch.Tensor([0.0])\n",
        "\n",
        "            self.x = self.x + 0.01 * torch.randn((N_s, 2))\n",
        "        self.len = N_s\n",
        "\n",
        "    # Getter\n",
        "    def __getitem__(self, index):    \n",
        "        return self.x[index],self.y[index]\n",
        "    \n",
        "    # Get Length\n",
        "    def __len__(self):\n",
        "        return self.len\n",
        "    \n",
        "    # Plot the data\n",
        "    def plot_stuff(self):\n",
        "        plt.plot(self.x[self.y[:, 0] == 0, 0].numpy(), self.x[self.y[:, 0] == 0, 1].numpy(), 'o', label=\"y=0\")\n",
        "        plt.plot(self.x[self.y[:, 0] == 1, 0].numpy(), self.x[self.y[:, 0] == 1, 1].numpy(), 'ro', label=\"y=1\")\n",
        "        plt.legend()"
      ],
      "execution_count": 0,
      "outputs": []
    },
    {
      "cell_type": "markdown",
      "metadata": {
        "id": "tNciwQDB4Czv",
        "colab_type": "text"
      },
      "source": [
        "Dataset object:"
      ]
    },
    {
      "cell_type": "code",
      "metadata": {
        "id": "lCg0nQqj4Czx",
        "colab_type": "code",
        "colab": {
          "base_uri": "https://localhost:8080/",
          "height": 265
        },
        "outputId": "07188380-d2f0-46f1-dc06-924dd410f289"
      },
      "source": [
        "# Create dataset object\n",
        "\n",
        "data_set = XOR_Data()\n",
        "data_set.plot_stuff()"
      ],
      "execution_count": 7,
      "outputs": [
        {
          "output_type": "display_data",
          "data": {
            "image/png": "[encoded data removed]",
            "text/plain": [
              "<Figure size 432x288 with 1 Axes>"
            ]
          },
          "metadata": {
            "tags": []
          }
        }
      ]
    },
    {
      "cell_type": "markdown",
      "metadata": {
        "id": "ctTsPMXD4Cz3",
        "colab_type": "text"
      },
      "source": [
        "<!--Empty Space for separating topics-->"
      ]
    },
    {
      "cell_type": "markdown",
      "metadata": {
        "id": "EtPnqO8r4Cz3",
        "colab_type": "text"
      },
      "source": [
        "<h2 id=\"One\">One Neuron</h2> "
      ]
    },
    {
      "cell_type": "markdown",
      "metadata": {
        "id": "8z6qxDQ04Cz4",
        "colab_type": "text"
      },
      "source": [
        "<h3>Try</h3>"
      ]
    },
    {
      "cell_type": "markdown",
      "metadata": {
        "id": "VwprDa0h4Cz6",
        "colab_type": "text"
      },
      "source": [
        "Create a neural network <code>model</code> with one neuron. Then, use the following code to train it:"
      ]
    },
    {
      "cell_type": "code",
      "metadata": {
        "id": "LlJjEfxb4Cz7",
        "colab_type": "code",
        "colab": {}
      },
      "source": [
        "# Practice: create a model with one neuron\n",
        "\n",
        "model = Net(2, 1, 1)"
      ],
      "execution_count": 0,
      "outputs": []
    },
    {
      "cell_type": "markdown",
      "metadata": {
        "id": "r3u3GwpN4C0F",
        "colab_type": "text"
      },
      "source": [
        "Double-click <b>here</b> for the solution.\n",
        "\n",
        "<!-- \n",
        "model = Net(2, 1, 1)\n",
        "-->"
      ]
    },
    {
      "cell_type": "code",
      "metadata": {
        "id": "MO8dNmTO4C0H",
        "colab_type": "code",
        "colab": {
          "base_uri": "https://localhost:8080/",
          "height": 561
        },
        "outputId": "177b8efa-702a-4804-d0ae-15fd33e97437"
      },
      "source": [
        "# Train the model\n",
        "\n",
        "learning_rate = 0.001\n",
        "criterion = nn.BCELoss()\n",
        "optimizer = torch.optim.SGD(model.parameters(), lr=learning_rate)\n",
        "train_loader = DataLoader(dataset=data_set, batch_size=1)\n",
        "LOSS12 = train(data_set, model, criterion, train_loader, optimizer, epochs=500)\n",
        "plot_decision_regions_2class(model, data_set)"
      ],
      "execution_count": 9,
      "outputs": [
        {
          "output_type": "display_data",
          "data": {
            "image/png": "[encoded data removed]",
            "text/plain": [
              "<Figure size 432x288 with 2 Axes>"
            ]
          },
          "metadata": {
            "tags": []
          }
        },
        {
          "output_type": "display_data",
          "data": {
            "image/png": "[encoded data removed]",
            "text/plain": [
              "<Figure size 432x288 with 1 Axes>"
            ]
          },
          "metadata": {
            "tags": []
          }
        }
      ]
    },
    {
      "cell_type": "markdown",
      "metadata": {
        "id": "ZeZV3VYZ4C0K",
        "colab_type": "text"
      },
      "source": [
        "<!--Empty Space for separating topics-->"
      ]
    },
    {
      "cell_type": "markdown",
      "metadata": {
        "id": "19tLu3Fp4C0L",
        "colab_type": "text"
      },
      "source": [
        "<h2 id=\"Two\">Two Neurons</h2> "
      ]
    },
    {
      "cell_type": "markdown",
      "metadata": {
        "id": "sDyiyc-P4C0M",
        "colab_type": "text"
      },
      "source": [
        "<h3>Try</h3>"
      ]
    },
    {
      "cell_type": "markdown",
      "metadata": {
        "id": "QN8wIeUU4C0M",
        "colab_type": "text"
      },
      "source": [
        "Create a neural network <code>model</code> with two neurons. Then, use the following code to train it:"
      ]
    },
    {
      "cell_type": "code",
      "metadata": {
        "id": "5MGZ2RoO4C0N",
        "colab_type": "code",
        "colab": {}
      },
      "source": [
        "# Practice: create a model with two neuron\n",
        "\n",
        "model = Net(2, 2, 1)"
      ],
      "execution_count": 0,
      "outputs": []
    },
    {
      "cell_type": "markdown",
      "metadata": {
        "id": "3_EdC_DN4C0Q",
        "colab_type": "text"
      },
      "source": [
        "Double-click <b>here</b> for the solution.\n",
        "\n",
        "<!-- \n",
        "model = Net(2, 2, 1)\n",
        "-->"
      ]
    },
    {
      "cell_type": "code",
      "metadata": {
        "id": "qWAaE2cP4C0Q",
        "colab_type": "code",
        "colab": {
          "base_uri": "https://localhost:8080/",
          "height": 561
        },
        "outputId": "80f202d6-1ec7-4150-b1fa-b9587f8ada19"
      },
      "source": [
        "# Train the model\n",
        "\n",
        "learning_rate = 0.1\n",
        "criterion = nn.BCELoss()\n",
        "optimizer = torch.optim.SGD(model.parameters(), lr=learning_rate)\n",
        "train_loader = DataLoader(dataset=data_set, batch_size=1)\n",
        "LOSS12 = train(data_set, model, criterion, train_loader, optimizer, epochs=500)\n",
        "plot_decision_regions_2class(model, data_set)"
      ],
      "execution_count": 11,
      "outputs": [
        {
          "output_type": "display_data",
          "data": {
            "image/png": "[encoded data removed]",
            "text/plain": [
              "<Figure size 432x288 with 2 Axes>"
            ]
          },
          "metadata": {
            "tags": []
          }
        },
        {
          "output_type": "display_data",
          "data": {
            "image/png": "[encoded data removed]",
            "text/plain": [
              "<Figure size 432x288 with 1 Axes>"
            ]
          },
          "metadata": {
            "tags": []
          }
        }
      ]
    },
    {
      "cell_type": "markdown",
      "metadata": {
        "id": "heJ6bgH94C0U",
        "colab_type": "text"
      },
      "source": [
        "<!--Empty Space for separating topics-->"
      ]
    },
    {
      "cell_type": "markdown",
      "metadata": {
        "id": "UOJHo9wW4C0U",
        "colab_type": "text"
      },
      "source": [
        "<h2 id=\"Three\">Three Neurons</h2> "
      ]
    },
    {
      "cell_type": "markdown",
      "metadata": {
        "id": "JVLsLhot4C0V",
        "colab_type": "text"
      },
      "source": [
        "<h3>Try</h3>"
      ]
    },
    {
      "cell_type": "markdown",
      "metadata": {
        "id": "APTAt81p4C0W",
        "colab_type": "text"
      },
      "source": [
        "Create a neural network <code>model</code> with three neurons. Then, use the following code to train it:"
      ]
    },
    {
      "cell_type": "code",
      "metadata": {
        "id": "AUMThs-h4C0W",
        "colab_type": "code",
        "colab": {}
      },
      "source": [
        "# Practice: create a model with two neuron\n",
        "model = Net(2, 4, 1)\n"
      ],
      "execution_count": 0,
      "outputs": []
    },
    {
      "cell_type": "markdown",
      "metadata": {
        "id": "GiMUrb9X4C0Z",
        "colab_type": "text"
      },
      "source": [
        "Double-click <b>here</b> for the solution.\n",
        "\n",
        "<!-- \n",
        "model = Net(2, 4, 1)\n",
        "-->"
      ]
    },
    {
      "cell_type": "code",
      "metadata": {
        "id": "2_IQ8uSD4C0a",
        "colab_type": "code",
        "colab": {
          "base_uri": "https://localhost:8080/",
          "height": 561
        },
        "outputId": "599f1666-4379-4cc6-8591-dd85c053f660"
      },
      "source": [
        "# Train the model\n",
        "\n",
        "learning_rate = 0.1\n",
        "criterion = nn.BCELoss()\n",
        "optimizer = torch.optim.SGD(model.parameters(), lr=learning_rate)\n",
        "train_loader = DataLoader(dataset=data_set, batch_size=1)\n",
        "LOSS12 = train(data_set, model, criterion, train_loader, optimizer, epochs=500)\n",
        "plot_decision_regions_2class(model, data_set)\n"
      ],
      "execution_count": 13,
      "outputs": [
        {
          "output_type": "display_data",
          "data": {
            "image/png": "[encoded data removed]",
            "text/plain": [
              "<Figure size 432x288 with 2 Axes>"
            ]
          },
          "metadata": {
            "tags": []
          }
        },
        {
          "output_type": "display_data",
          "data": {
            "image/png": "[encoded data removed]",
            "text/plain": [
              "<Figure size 432x288 with 1 Axes>"
            ]
          },
          "metadata": {
            "tags": []
          }
        }
      ]
    },
    {
      "cell_type": "markdown",
      "metadata": {
        "id": "EgyKdI1N4C0e",
        "colab_type": "text"
      },
      "source": [
        "<!--Empty Space for separating topics-->"
      ]
    },
    {
      "cell_type": "markdown",
      "metadata": {
        "id": "_lIWgNEv4C0f",
        "colab_type": "text"
      },
      "source": [
        "<a href=\"http://cocl.us/pytorch_link_bottom\">\n",
        "    <img src=\"https://s3-api.us-geo.objectstorage.softlayer.net/cf-courses-data/CognitiveClass/DL0110EN/notebook_images%20/notebook_bottom%20.png\" width=\"750\" alt=\"PyTorch Bottom\" />\n",
        "</a>"
      ]
    },
    {
      "cell_type": "markdown",
      "metadata": {
        "id": "BY263uBU4C0g",
        "colab_type": "text"
      },
      "source": [
        "<h2>About the Authors:</h2> \n",
        "\n",
        "<a href=\"https://www.linkedin.com/in/joseph-s-50398b136/\">Joseph Santarcangelo</a> has a PhD in Electrical Engineering, his research focused on using machine learning, signal processing, and computer vision to determine how videos impact human cognition. Joseph has been working for IBM since he completed his PhD. "
      ]
    },
    {
      "cell_type": "markdown",
      "metadata": {
        "id": "tpSQxays4C0h",
        "colab_type": "text"
      },
      "source": [
        "Other contributors: <a href=\"https://www.linkedin.com/in/michelleccarey/\">Michelle Carey</a>, <a href=\"www.linkedin.com/in/jiahui-mavis-zhou-a4537814a\">Mavis Zhou</a>"
      ]
    },
    {
      "cell_type": "markdown",
      "metadata": {
        "id": "Y4Ka9qsE4C0i",
        "colab_type": "text"
      },
      "source": [
        "<hr>"
      ]
    },
    {
      "cell_type": "markdown",
      "metadata": {
        "id": "3DOagl7J4C0k",
        "colab_type": "text"
      },
      "source": [
        "Copyright &copy; 2018 <a href=\"cognitiveclass.ai?utm_source=bducopyrightlink&utm_medium=dswb&utm_campaign=bdu\">cognitiveclass.ai</a>. This notebook and its source code are released under the terms of the <a href=\"https://bigdatauniversity.com/mit-license/\">MIT License</a>."
      ]
    }
  ]
}